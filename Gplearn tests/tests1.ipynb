{
 "cells": [
  {
   "cell_type": "code",
   "execution_count": 3,
   "id": "4fa7e060-3710-4574-b5cc-b4b27ebdd920",
   "metadata": {},
   "outputs": [
    {
     "name": "stdout",
     "output_type": "stream",
     "text": [
      "Requirement already satisfied: gplearn in d:\\users\\lreis\\anaconda3\\lib\\site-packages (0.4.2)\n",
      "Requirement already satisfied: scikit-learn>=1.0.2 in d:\\users\\lreis\\anaconda3\\lib\\site-packages (from gplearn) (1.0.2)\n",
      "Requirement already satisfied: joblib>=1.0.0 in d:\\users\\lreis\\anaconda3\\lib\\site-packages (from gplearn) (1.3.2)\n",
      "Requirement already satisfied: threadpoolctl>=2.0.0 in d:\\users\\lreis\\anaconda3\\lib\\site-packages (from scikit-learn>=1.0.2->gplearn) (2.2.0)\n",
      "Requirement already satisfied: scipy>=1.1.0 in d:\\users\\lreis\\anaconda3\\lib\\site-packages (from scikit-learn>=1.0.2->gplearn) (1.9.1)\n",
      "Requirement already satisfied: numpy>=1.14.6 in d:\\users\\lreis\\anaconda3\\lib\\site-packages (from scikit-learn>=1.0.2->gplearn) (1.21.5)\n"
     ]
    }
   ],
   "source": [
    "!pip install gplearn"
   ]
  },
  {
   "cell_type": "code",
   "execution_count": 4,
   "id": "e3970aae-d911-4347-bdfc-d38c8bb5fc70",
   "metadata": {},
   "outputs": [],
   "source": [
    "import numpy as np\n",
    "from gplearn.genetic import SymbolicRegressor"
   ]
  },
  {
   "cell_type": "code",
   "execution_count": 5,
   "id": "103c53b4-908e-4fe4-a4d1-e296f801550d",
   "metadata": {},
   "outputs": [],
   "source": [
    "X = np.linspace(-10, 10, 1000)\n",
    "y = X**2 + 3*X"
   ]
  },
  {
   "cell_type": "code",
   "execution_count": 6,
   "id": "3e31495f-167b-4bdf-9aef-6e828f67c838",
   "metadata": {},
   "outputs": [
    {
     "name": "stdout",
     "output_type": "stream",
     "text": [
      "    |   Population Average    |             Best Individual              |\n",
      "---- ------------------------- ------------------------------------------ ----------\n",
      " Gen   Length          Fitness   Length          Fitness      OOB Fitness  Time Left\n",
      "   0    48.21      3.57156e+07       31         0.590457         0.590457      1.79m\n",
      "   1    26.49           111.72       13        0.0265267        0.0265267      1.21m\n",
      "   2    23.41          139.619       17       0.00999078       0.00999078      1.02m\n"
     ]
    },
    {
     "data": {
      "text/plain": [
       "SymbolicRegressor(max_samples=0.9, p_crossover=0.7, p_hoist_mutation=0.05,\n",
       "                  p_point_mutation=0.1, p_subtree_mutation=0.1,\n",
       "                  parsimony_coefficient=0.01, population_size=5000,\n",
       "                  random_state=42, stopping_criteria=0.01, verbose=1)"
      ]
     },
     "execution_count": 6,
     "metadata": {},
     "output_type": "execute_result"
    }
   ],
   "source": [
    "est_gp = SymbolicRegressor(population_size=5000,\n",
    "                           generations=20, stopping_criteria=0.01,\n",
    "                           p_crossover=0.7, p_subtree_mutation=0.1,\n",
    "                           p_hoist_mutation=0.05, p_point_mutation=0.1,\n",
    "                           max_samples=0.9, verbose=1,\n",
    "                           parsimony_coefficient=0.01, random_state=42)\n",
    "\n",
    "est_gp.fit(np.c_[X], y)"
   ]
  },
  {
   "cell_type": "code",
   "execution_count": 7,
   "id": "e8316666-de4b-4cc0-915a-4cae571109f7",
   "metadata": {},
   "outputs": [
    {
     "name": "stdout",
     "output_type": "stream",
     "text": [
      "add(add(add(0.610, X0), sub(X0, -0.863)), add(-0.799, add(mul(X0, X0), add(X0, -0.684))))\n"
     ]
    }
   ],
   "source": [
    "a = print(est_gp._program)"
   ]
  },
  {
   "cell_type": "code",
   "execution_count": null,
   "id": "44b57463-75e8-4e32-9c0f-b44073b2dd9e",
   "metadata": {},
   "outputs": [
    {
     "data": {
      "text/latex": [
       "$\\displaystyle x^{2} + 3 x - 0.0100000000000002$"
      ],
      "text/plain": [
       "x**2 + 3*x - 0.0100000000000002"
      ]
     },
     "execution_count": 13,
     "metadata": {},
     "output_type": "execute_result"
    }
   ],
   "source": [
    "# add(add(add(0.610, X0), sub(X0, -0.863)), add(-0.799, add(mul(X0, X0), add(X0, -0.684))))\n",
    "import sympy as smp\n",
    "x = smp.symbols(\"x\")\n",
    "\n",
    "eq = ((0.610 + x) + (x + 0.863)) + ((x**2) + (x - 0.684) - 0.799)\n",
    "eq.simplify()"
   ]
  },
  {
   "cell_type": "markdown",
   "id": "8f094138-5bdb-4e26-a1fb-1400fa1020e5",
   "metadata": {},
   "source": [
    "# Example 2"
   ]
  },
  {
   "cell_type": "code",
   "execution_count": 31,
   "id": "8d0658ec-e032-4944-a874-76f2b9b85663",
   "metadata": {},
   "outputs": [],
   "source": [
    "X = np.linspace(1, 10, 1000)\n",
    "y = np.sqrt(3*X) + np.log(X**2)"
   ]
  },
  {
   "cell_type": "code",
   "execution_count": 52,
   "id": "5295b375-4eed-4954-a44d-2470c261790f",
   "metadata": {},
   "outputs": [
    {
     "name": "stdout",
     "output_type": "stream",
     "text": [
      "    |   Population Average    |             Best Individual              |\n",
      "---- ------------------------- ------------------------------------------ ----------\n",
      " Gen   Length          Fitness   Length          Fitness      OOB Fitness  Time Left\n",
      "   0    22.87          139.192       12         0.270852          0.25661      1.23m\n",
      "   1    18.59          145.929       20          0.14601         0.169213      1.10m\n",
      "   2    15.25          14.2691       23        0.0671153        0.0827209     58.66s\n",
      "   3    13.99          22.9679       19        0.0595569        0.0690087     51.80s\n",
      "   4    15.70          16.7575       34        0.0429347        0.0421898     56.44s\n",
      "   5    15.21          18.7064       34        0.0429198        0.0423241      1.01m\n",
      "   6    14.68          6.08119       27        0.0437731        0.0407995     55.88s\n",
      "   7    14.68           4.8775       25        0.0428666        0.0512093     49.36s\n",
      "   8    14.07          4.92367       16        0.0438208        0.0807682     42.85s\n",
      "   9    12.95          5.13495       18        0.0380951        0.0340043     36.52s\n",
      "  10    11.80          5.52625       16        0.0448964        0.0710879     32.56s\n",
      "  11    10.93          5.38348       12        0.0652304        0.0990805     30.37s\n",
      "  12    10.25          5.51411       11        0.0646418         0.132952     29.75s\n",
      "  13     9.27          5.40804       14        0.0570729        0.0588757     22.09s\n",
      "  14     8.93          5.59539       12        0.0650029        0.0783309     17.49s\n",
      "  15     9.07          5.66785       19        0.0672671        0.0694205     14.70s\n",
      "  16     8.96          5.53746       14        0.0588686        0.0601249      9.77s\n",
      "  17     8.91          5.58764       11        0.0703263        0.0757523      7.26s\n",
      "  18     8.93          5.51576       15        0.0629579        0.0630907      3.47s\n",
      "  19     8.99          5.35124       11        0.0670622        0.0744168      0.00s\n"
     ]
    },
    {
     "data": {
      "text/plain": [
       "SymbolicRegressor(function_set=('add', 'sub', 'mul', 'div', 'log', 'sqrt'),\n",
       "                  max_samples=0.9, p_crossover=0.7, p_hoist_mutation=0.05,\n",
       "                  p_point_mutation=0.1, p_subtree_mutation=0.1,\n",
       "                  parsimony_coefficient=0.01, population_size=5000,\n",
       "                  random_state=42, stopping_criteria=0.01, verbose=1)"
      ]
     },
     "execution_count": 52,
     "metadata": {},
     "output_type": "execute_result"
    }
   ],
   "source": [
    "est_gp = SymbolicRegressor(population_size=5000,\n",
    "                           generations=20, stopping_criteria=0.01,\n",
    "                           p_crossover=0.7, p_subtree_mutation=0.1,\n",
    "                           p_hoist_mutation=0.05, p_point_mutation=0.1,\n",
    "                           max_samples=0.9, verbose=1,\n",
    "                           parsimony_coefficient=0.01, random_state=42,\n",
    "                           function_set = (\"add\", \"sub\", \"mul\", \"div\", \"log\", \"sqrt\"))\n",
    "\n",
    "est_gp.fit(np.c_[X], y)"
   ]
  },
  {
   "cell_type": "code",
   "execution_count": 53,
   "id": "385347fc-1a74-4db4-a701-e69aa8ca8c08",
   "metadata": {},
   "outputs": [
    {
     "name": "stdout",
     "output_type": "stream",
     "text": [
      "sqrt(add(div(sub(0.605, X0), -0.093), log(sub(0.630, X0))))\n"
     ]
    }
   ],
   "source": [
    "a = print(est_gp._program)"
   ]
  },
  {
   "cell_type": "code",
   "execution_count": 50,
   "id": "07ac7105-0b2f-434e-b561-b8cd17ea7f98",
   "metadata": {},
   "outputs": [
    {
     "data": {
      "text/latex": [
       "$\\displaystyle 3.27912917891976 \\sqrt{x + 0.093 \\log{\\left(x - 0.63 \\right)} - 0.605}$"
      ],
      "text/plain": [
       "3.27912917891976*sqrt(x + 0.093*log(x - 0.63) - 0.605)"
      ]
     },
     "execution_count": 50,
     "metadata": {},
     "output_type": "execute_result"
    }
   ],
   "source": [
    "# sqrt(add(div(sub(0.605, X0), -0.093), log(sub(0.630, X0))))\n",
    "\n",
    "import sympy as smp\n",
    "x = smp.symbols(\"x\")\n",
    "\n",
    "eq = smp.sqrt((0.605 - x)/(-0.093) + smp.log(x-0.630))\n",
    "eq.simplify()"
   ]
  },
  {
   "cell_type": "code",
   "execution_count": 55,
   "id": "4cc15adc-2899-4e6b-a260-c7d3f0c17816",
   "metadata": {},
   "outputs": [
    {
     "data": {
      "image/png": "[encoded data removed]",
      "text/plain": [
       "<Figure size 640x480 with 1 Axes>"
      ]
     },
     "metadata": {},
     "output_type": "display_data"
    }
   ],
   "source": [
    "from sympy.utilities.lambdify import lambdify\n",
    "from matplotlib import pyplot as plt\n",
    "\n",
    "f = lambdify([x], eq)\n",
    "y_new = f(X)\n",
    "\n",
    "plt.plot(X, y, alpha=0.5, label=\"real\")\n",
    "plt.plot(X, y_new, c=\"red\", alpha=0.5, label=\"predicted\")\n",
    "plt.legend()\n",
    "plt.show()"
   ]
  }
 ],
 "metadata": {
  "kernelspec": {
   "display_name": "Python 3 (ipykernel)",
   "language": "python",
   "name": "python3"
  },
  "language_info": {
   "codemirror_mode": {
    "name": "ipython",
    "version": 3
   },
   "file_extension": ".py",
   "mimetype": "text/x-python",
   "name": "python",
   "nbconvert_exporter": "python",
   "pygments_lexer": "ipython3",
   "version": "3.9.13"
  },
  "widgets": {
   "application/vnd.jupyter.widget-state+json": {
    "state": {},
    "version_major": 2,
    "version_minor": 0
   }
  }
 },
 "nbformat": 4,
 "nbformat_minor": 5
}
