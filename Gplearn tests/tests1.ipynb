{
 "cells": [
  {
   "cell_type": "code",
   "execution_count": 1,
   "id": "4fa7e060-3710-4574-b5cc-b4b27ebdd920",
   "metadata": {},
   "outputs": [
    {
     "name": "stdout",
     "output_type": "stream",
     "text": [
      "Collecting gplearn\n",
      "  Downloading gplearn-0.4.2-py3-none-any.whl (25 kB)\n",
      "Requirement already satisfied: joblib>=1.0.0 in d:\\users\\lreis\\anaconda3\\lib\\site-packages (from gplearn) (1.3.2)\n",
      "Requirement already satisfied: scikit-learn>=1.0.2 in d:\\users\\lreis\\anaconda3\\lib\\site-packages (from gplearn) (1.0.2)\n",
      "Requirement already satisfied: numpy>=1.14.6 in d:\\users\\lreis\\anaconda3\\lib\\site-packages (from scikit-learn>=1.0.2->gplearn) (1.21.5)\n",
      "Requirement already satisfied: threadpoolctl>=2.0.0 in d:\\users\\lreis\\anaconda3\\lib\\site-packages (from scikit-learn>=1.0.2->gplearn) (2.2.0)\n",
      "Requirement already satisfied: scipy>=1.1.0 in d:\\users\\lreis\\anaconda3\\lib\\site-packages (from scikit-learn>=1.0.2->gplearn) (1.9.1)\n",
      "Installing collected packages: gplearn\n",
      "Successfully installed gplearn-0.4.2\n"
     ]
    }
   ],
   "source": [
    "!pip install gplearn"
   ]
  },
  {
   "cell_type": "code",
   "execution_count": 2,
   "id": "e3970aae-d911-4347-bdfc-d38c8bb5fc70",
   "metadata": {},
   "outputs": [],
   "source": [
    "import numpy as np\n",
    "from gplearn.genetic import SymbolicRegressor"
   ]
  },
  {
   "cell_type": "code",
   "execution_count": 4,
   "id": "103c53b4-908e-4fe4-a4d1-e296f801550d",
   "metadata": {},
   "outputs": [],
   "source": [
    "X = np.linspace(-10, 10, 1000)\n",
    "y = X**2 + 3*X"
   ]
  },
  {
   "cell_type": "code",
   "execution_count": 8,
   "id": "3e31495f-167b-4bdf-9aef-6e828f67c838",
   "metadata": {},
   "outputs": [
    {
     "name": "stdout",
     "output_type": "stream",
     "text": [
      "    |   Population Average    |             Best Individual              |\n",
      "---- ------------------------- ------------------------------------------ ----------\n",
      " Gen   Length          Fitness   Length          Fitness      OOB Fitness  Time Left\n",
      "   0    48.21      3.57156e+07       31         0.590457         0.590457      1.74m\n",
      "   1    26.49           111.72       13        0.0265267        0.0265267      1.10m\n",
      "   2    23.41          139.619       17       0.00999078       0.00999078     58.83s\n"
     ]
    },
    {
     "data": {
      "text/plain": [
       "SymbolicRegressor(max_samples=0.9, p_crossover=0.7, p_hoist_mutation=0.05,\n",
       "                  p_point_mutation=0.1, p_subtree_mutation=0.1,\n",
       "                  parsimony_coefficient=0.01, population_size=5000,\n",
       "                  random_state=42, stopping_criteria=0.01, verbose=1)"
      ]
     },
     "execution_count": 8,
     "metadata": {},
     "output_type": "execute_result"
    }
   ],
   "source": [
    "est_gp = SymbolicRegressor(population_size=5000,\n",
    "                           generations=20, stopping_criteria=0.01,\n",
    "                           p_crossover=0.7, p_subtree_mutation=0.1,\n",
    "                           p_hoist_mutation=0.05, p_point_mutation=0.1,\n",
    "                           max_samples=0.9, verbose=1,\n",
    "                           parsimony_coefficient=0.01, random_state=42)\n",
    "\n",
    "est_gp.fit(np.c_[X], y)"
   ]
  },
  {
   "cell_type": "code",
   "execution_count": 14,
   "id": "e8316666-de4b-4cc0-915a-4cae571109f7",
   "metadata": {},
   "outputs": [
    {
     "name": "stdout",
     "output_type": "stream",
     "text": [
      "add(add(add(0.610, X0), sub(X0, -0.863)), add(-0.799, add(mul(X0, X0), add(X0, -0.684))))\n"
     ]
    }
   ],
   "source": [
    "print(est_gp._program)"
   ]
  }
 ],
 "metadata": {
  "kernelspec": {
   "display_name": "Python 3 (ipykernel)",
   "language": "python",
   "name": "python3"
  },
  "language_info": {
   "codemirror_mode": {
    "name": "ipython",
    "version": 3
   },
   "file_extension": ".py",
   "mimetype": "text/x-python",
   "name": "python",
   "nbconvert_exporter": "python",
   "pygments_lexer": "ipython3",
   "version": "3.9.13"
  },
  "widgets": {
   "application/vnd.jupyter.widget-state+json": {
    "state": {},
    "version_major": 2,
    "version_minor": 0
   }
  }
 },
 "nbformat": 4,
 "nbformat_minor": 5
}
