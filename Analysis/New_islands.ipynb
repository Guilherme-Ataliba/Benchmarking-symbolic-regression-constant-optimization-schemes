{
 "cells": [
  {
   "cell_type": "code",
   "execution_count": 4,
   "id": "ebe33de7-e6df-40eb-8b2e-93e0bea55a35",
   "metadata": {},
   "outputs": [],
   "source": [
    "import sys\n",
    "sys.path.append('../algorithms/')\n",
    "\n",
    "from CSOWP_SR import *\n",
    "from ExpressionTree import *\n",
    "from trainAlgorithm import *"
   ]
  },
  {
   "cell_type": "markdown",
   "id": "c6d63516-c505-4830-9584-67af17edc2ef",
   "metadata": {},
   "source": [
    "# Base Test - General Basis Functions"
   ]
  },
  {
   "cell_type": "code",
   "execution_count": 5,
   "id": "f21caf45-b82d-4905-86c0-e617d40a7cd9",
   "metadata": {},
   "outputs": [],
   "source": [
    "operators_op = {\"+\": lambda a,b: np.add(a,b), \"*\": lambda a,b: np.multiply(a,b)}\n",
    "functions_op = {\"exp-\": lambda a: np.exp(-a), \"exp\": lambda a: np.exp(a),\n",
    "               \"ln\": lambda a: np.log(a), \"tanh\": lambda a: np.tanh(a)}\n",
    "weights = {\"exp\": 4, \"exp-\": 4, \"ln\" : 4, \"tanh\": 4}"
   ]
  },
  {
   "cell_type": "code",
   "execution_count": 6,
   "id": "61d53785-58d8-4679-8b85-fe152d7d1466",
   "metadata": {},
   "outputs": [
    {
     "name": "stdout",
     "output_type": "stream",
     "text": [
      "-=-=-=-=-=-=-=-= Training for population 5000 and generation 5 - base_test_general =-=-=-=-=-=-=-=-\n"
     ]
    },
    {
     "ename": "AttributeError",
     "evalue": "island_interval",
     "output_type": "error",
     "traceback": [
      "\u001b[1;31m---------------------------------------------------------------------------\u001b[0m",
      "\u001b[1;31mAttributeError\u001b[0m                            Traceback (most recent call last)",
      "\u001b[1;32m~\\AppData\\Local\\Temp\\ipykernel_12144\\3753866973.py\u001b[0m in \u001b[0;36m<module>\u001b[1;34m\u001b[0m\n\u001b[0;32m     19\u001b[0m \u001b[0mreal_func_string\u001b[0m \u001b[1;33m=\u001b[0m \u001b[1;34mr\"10e^{-0.5e^{-0.5x+2}}\"\u001b[0m\u001b[1;33m\u001b[0m\u001b[1;33m\u001b[0m\u001b[0m\n\u001b[0;32m     20\u001b[0m \u001b[1;33m\u001b[0m\u001b[0m\n\u001b[1;32m---> 21\u001b[1;33m X, y, operators, functions = testAlgorithm(func, x_range, n_points, dir_path, population, generations,\n\u001b[0m\u001b[0;32m     22\u001b[0m                                           \u001b[0mmax_expression_size\u001b[0m\u001b[1;33m,\u001b[0m \u001b[0mnormalize\u001b[0m\u001b[1;33m=\u001b[0m\u001b[1;32mTrue\u001b[0m\u001b[1;33m,\u001b[0m \u001b[0mconst_range\u001b[0m\u001b[1;33m=\u001b[0m\u001b[0mconst_range\u001b[0m\u001b[1;33m,\u001b[0m\u001b[1;33m\u001b[0m\u001b[1;33m\u001b[0m\u001b[0m\n\u001b[0;32m     23\u001b[0m                                           \u001b[0mignore_warning\u001b[0m\u001b[1;33m=\u001b[0m\u001b[1;32mTrue\u001b[0m\u001b[1;33m,\u001b[0m \u001b[0moverwrite\u001b[0m\u001b[1;33m=\u001b[0m\u001b[1;32mFalse\u001b[0m\u001b[1;33m,\u001b[0m \u001b[0mn_runs\u001b[0m\u001b[1;33m=\u001b[0m\u001b[0mn_runs\u001b[0m\u001b[1;33m,\u001b[0m\u001b[1;33m\u001b[0m\u001b[1;33m\u001b[0m\u001b[0m\n",
      "\u001b[1;32mD:\\Documents\\Coding\\Repositorios\\MyRepositories\\Symbolic-Regression\\CSOWP_SR\\Analysis\\../algorithms\\trainAlgorithm.py\u001b[0m in \u001b[0;36mtestAlgorithm\u001b[1;34m(func, x_range, n_points, dir_path, population, generations, max_expression_size, normalize, const_range, normalize_range, ignore_warning, overwrite, n_runs, operators, functions, weights, island_interval)\u001b[0m\n\u001b[0;32m     53\u001b[0m \u001b[1;33m\u001b[0m\u001b[0m\n\u001b[0;32m     54\u001b[0m         \u001b[0mstart_time\u001b[0m \u001b[1;33m=\u001b[0m \u001b[0mtime\u001b[0m\u001b[1;33m(\u001b[0m\u001b[1;33m)\u001b[0m\u001b[1;33m\u001b[0m\u001b[1;33m\u001b[0m\u001b[0m\n\u001b[1;32m---> 55\u001b[1;33m         \u001b[0moutput_AEG\u001b[0m \u001b[1;33m=\u001b[0m \u001b[0mSR\u001b[0m\u001b[1;33m.\u001b[0m\u001b[0mpredict\u001b[0m\u001b[1;33m(\u001b[0m\u001b[1;33m)\u001b[0m\u001b[1;33m\u001b[0m\u001b[1;33m\u001b[0m\u001b[0m\n\u001b[0m\u001b[0;32m     56\u001b[0m         \u001b[0mend_time\u001b[0m \u001b[1;33m=\u001b[0m \u001b[0mtime\u001b[0m\u001b[1;33m(\u001b[0m\u001b[1;33m)\u001b[0m\u001b[1;33m\u001b[0m\u001b[1;33m\u001b[0m\u001b[0m\n\u001b[0;32m     57\u001b[0m         \u001b[0mdata\u001b[0m \u001b[1;33m=\u001b[0m \u001b[0mSR\u001b[0m\u001b[1;33m.\u001b[0m\u001b[0mevaluate_tree\u001b[0m\u001b[1;33m(\u001b[0m\u001b[0moutput_AEG\u001b[0m\u001b[1;33m.\u001b[0m\u001b[0msexp\u001b[0m\u001b[1;33m)\u001b[0m\u001b[1;33m\u001b[0m\u001b[1;33m\u001b[0m\u001b[0m\n",
      "\u001b[1;32mD:\\Documents\\Coding\\Repositorios\\MyRepositories\\Symbolic-Regression\\CSOWP_SR\\Analysis\\../algorithms\\CSOWP_SR.py\u001b[0m in \u001b[0;36mpredict\u001b[1;34m(self)\u001b[0m\n\u001b[0;32m    995\u001b[0m                 \u001b[1;31m# Cross over partner must be from the same island\u001b[0m\u001b[1;33m\u001b[0m\u001b[1;33m\u001b[0m\u001b[0m\n\u001b[0;32m    996\u001b[0m                 \u001b[0mK\u001b[0m \u001b[1;33m=\u001b[0m \u001b[0mdad\u001b[0m\u001b[1;33m.\u001b[0m\u001b[0msexp\u001b[0m\u001b[1;33m.\u001b[0m\u001b[0misland\u001b[0m\u001b[1;33m\u001b[0m\u001b[1;33m\u001b[0m\u001b[0m\n\u001b[1;32m--> 997\u001b[1;33m                 \u001b[0mK\u001b[0m \u001b[1;33m=\u001b[0m \u001b[0mnp\u001b[0m\u001b[1;33m.\u001b[0m\u001b[0mrandom\u001b[0m\u001b[1;33m.\u001b[0m\u001b[0mrandint\u001b[0m\u001b[1;33m(\u001b[0m\u001b[0mK\u001b[0m\u001b[1;33m-\u001b[0m\u001b[0mself\u001b[0m\u001b[1;33m.\u001b[0m\u001b[0misland_interval\u001b[0m\u001b[1;33m[\u001b[0m\u001b[1;36m0\u001b[0m\u001b[1;33m]\u001b[0m\u001b[1;33m,\u001b[0m \u001b[0mK\u001b[0m\u001b[1;33m+\u001b[0m\u001b[0mself\u001b[0m\u001b[1;33m.\u001b[0m\u001b[0misland_interval\u001b[0m\u001b[1;33m[\u001b[0m\u001b[1;36m1\u001b[0m\u001b[1;33m]\u001b[0m\u001b[1;33m+\u001b[0m\u001b[1;36m1\u001b[0m\u001b[1;33m)\u001b[0m\u001b[1;33m\u001b[0m\u001b[1;33m\u001b[0m\u001b[0m\n\u001b[0m\u001b[0;32m    998\u001b[0m                 \u001b[1;32mif\u001b[0m \u001b[0mK\u001b[0m \u001b[1;33m<\u001b[0m \u001b[1;36m0\u001b[0m\u001b[1;33m:\u001b[0m \u001b[0mK\u001b[0m\u001b[1;33m=\u001b[0m\u001b[1;36m0\u001b[0m\u001b[1;33m\u001b[0m\u001b[1;33m\u001b[0m\u001b[0m\n\u001b[0;32m    999\u001b[0m                 \u001b[1;32mif\u001b[0m \u001b[0mK\u001b[0m \u001b[1;33m>\u001b[0m \u001b[0mself\u001b[0m\u001b[1;33m.\u001b[0m\u001b[0mmax_island_count\u001b[0m\u001b[1;33m:\u001b[0m \u001b[0mK\u001b[0m \u001b[1;33m=\u001b[0m \u001b[0mself\u001b[0m\u001b[1;33m.\u001b[0m\u001b[0mmax_island_count\u001b[0m\u001b[1;33m-\u001b[0m\u001b[1;36m1\u001b[0m\u001b[1;33m\u001b[0m\u001b[1;33m\u001b[0m\u001b[0m\n",
      "\u001b[1;31mAttributeError\u001b[0m: island_interval"
     ]
    }
   ],
   "source": [
    "def func(x):\n",
    "    a=10\n",
    "    b=-0.5\n",
    "    c=-0.5\n",
    "    d=2\n",
    "    return a*np.exp(b*np.exp(c*x + d))\n",
    "\n",
    "X = np.linspace(0, 20, 1000)\n",
    "y = func(X)\n",
    "\n",
    "x_range = [-5, 15]\n",
    "n_points = 1000\n",
    "dir_path = \"Outputs/base_test_general\"\n",
    "const_range = (-10, 10)\n",
    "population = 5000\n",
    "generations = 5\n",
    "max_expression_size = 5\n",
    "n_runs = 1\n",
    "real_func_string = r\"10e^{-0.5e^{-0.5x+2}}\"\n",
    "\n",
    "X, y, operators, functions = testAlgorithm(func, x_range, n_points, dir_path, population, generations,\n",
    "                                          max_expression_size, normalize=True, const_range=const_range,\n",
    "                                          ignore_warning=True, overwrite=False, n_runs=n_runs, \n",
    "                                          functions=functions_op, operators = operators_op, weights = weights)"
   ]
  },
  {
   "cell_type": "markdown",
   "id": "7f7b210c-6c0a-4e6c-b45a-93f411c464df",
   "metadata": {},
   "source": [
    "# Base Test - Specific"
   ]
  },
  {
   "cell_type": "code",
   "execution_count": null,
   "id": "7cd2b4d5-1cf7-45ba-aa51-410f9d8da8e9",
   "metadata": {},
   "outputs": [],
   "source": [
    "operators_op = {\"+\": lambda a,b: np.add(a,b), \"*\": lambda a,b: np.multiply(a,b)}\n",
    "functions_op = {\"exp-\": lambda a: np.exp(-a), \"exp\": lambda a: np.exp(a)}\n",
    "weights = {\"exp\": 4, \"exp-\": 4}"
   ]
  },
  {
   "cell_type": "code",
   "execution_count": null,
   "id": "01318c9b-3495-47b6-ac29-cc8a1a584ed4",
   "metadata": {},
   "outputs": [],
   "source": [
    "def func(x):\n",
    "    a=10\n",
    "    b=-0.5\n",
    "    c=-0.5\n",
    "    d=2\n",
    "    return a*np.exp(b*np.exp(c*x + d))\n",
    "\n",
    "X = np.linspace(0, 20, 1000)\n",
    "y = func(X)\n",
    "\n",
    "x_range = [-5, 15]\n",
    "n_points = 1000\n",
    "dir_path = \"Outputs/base_test_specific\"\n",
    "const_range = (-10, 10)\n",
    "population = 5000\n",
    "generations = 5\n",
    "max_expression_size = 5\n",
    "n_runs = 1\n",
    "real_func_string = r\"10e^{-0.5e^{-0.5x+2}}\"\n",
    "\n",
    "X, y, operators, functions = testAlgorithm(func, x_range, n_points, dir_path, population, generations,\n",
    "                                          max_expression_size, normalize=True, const_range=const_range,\n",
    "                                          ignore_warning=True, overwrite=False, n_runs=n_runs, \n",
    "                                          functions=functions_op, operators = operators_op, weights = weights)"
   ]
  },
  {
   "cell_type": "markdown",
   "id": "f2301f67-ec74-45c6-9a84-478827914c28",
   "metadata": {
    "tags": []
   },
   "source": [
    "# Islands Tests "
   ]
  },
  {
   "cell_type": "code",
   "execution_count": null,
   "id": "1ffea406-d5f8-4ff7-ba64-8b39e4efe558",
   "metadata": {},
   "outputs": [],
   "source": [
    "operators_op = {\"+\": lambda a,b: np.add(a,b), \"*\": lambda a,b: np.multiply(a,b)}\n",
    "functions_op = {\"exp-\": lambda a: np.exp(-a), \"exp\": lambda a: np.exp(a),\n",
    "               \"ln\": lambda a: np.log(a), \"tanh\": lambda a: np.tanh(a)}\n",
    "weights = {\"exp\": 4, \"exp-\": 4, \"ln\" : 4, \"tanh\": 4}"
   ]
  },
  {
   "cell_type": "code",
   "execution_count": null,
   "id": "6b506b54-b795-4902-9b54-233ecef2b4c0",
   "metadata": {},
   "outputs": [],
   "source": [
    "def func(x):\n",
    "    a=10\n",
    "    b=-0.5\n",
    "    c=-0.5\n",
    "    d=2\n",
    "    return a*np.exp(b*np.exp(c*x + d))\n",
    "\n",
    "X = np.linspace(0, 20, 1000)\n",
    "y = func(X)\n",
    "\n",
    "x_range = [-5, 15]\n",
    "n_points = 1000\n",
    "dir_path = \"Outputs/base_test_10\"\n",
    "const_range = (-10, 10)\n",
    "population = 5000\n",
    "generations = 5\n",
    "max_expression_size = 5\n",
    "n_runs = 1\n",
    "real_func_string = r\"10e^{-0.5e^{-0.5x+2}}\"\n",
    "\n",
    "X, y, operators, functions = testAlgorithm(func, x_range, n_points, dir_path, population, generations,\n",
    "                                          max_expression_size, normalize=True, const_range=const_range,\n",
    "                                          ignore_warning=True, overwrite=False, n_runs=n_runs, \n",
    "                                          functions=functions_op, operators = operators_op, weights = weights)"
   ]
  },
  {
   "cell_type": "markdown",
   "id": "5a222fb4-17b1-4912-b629-09edb9c587e6",
   "metadata": {},
   "source": [
    "# Islands Tests (1,1)"
   ]
  },
  {
   "cell_type": "code",
   "execution_count": null,
   "id": "fe3be9ce-bc27-482e-84cb-8463c2ecb1d4",
   "metadata": {},
   "outputs": [],
   "source": [
    "operators_op = {\"+\": lambda a,b: np.add(a,b), \"*\": lambda a,b: np.multiply(a,b)}\n",
    "functions_op = {\"exp-\": lambda a: np.exp(-a), \"exp\": lambda a: np.exp(a),\n",
    "               \"ln\": lambda a: np.log(a), \"tanh\": lambda a: np.tanh(a)}\n",
    "weights = {\"exp\": 4, \"exp-\": 4, \"ln\" : 4, \"tanh\": 4}\n",
    "island_interval = (1,1)"
   ]
  },
  {
   "cell_type": "code",
   "execution_count": null,
   "id": "8c7d12ce-f5c6-4ced-b024-0db1f69f4164",
   "metadata": {},
   "outputs": [],
   "source": [
    "def func(x):\n",
    "    a=10\n",
    "    b=-0.5\n",
    "    c=-0.5\n",
    "    d=2\n",
    "    return a*np.exp(b*np.exp(c*x + d))\n",
    "\n",
    "X = np.linspace(0, 20, 1000)\n",
    "y = func(X)\n",
    "\n",
    "x_range = [-5, 15]\n",
    "n_points = 1000\n",
    "dir_path = \"Outputs/base_test_11\"\n",
    "const_range = (-10, 10)\n",
    "population = 5000\n",
    "generations = 5\n",
    "max_expression_size = 5\n",
    "n_runs = 1\n",
    "real_func_string = r\"10e^{-0.5e^{-0.5x+2}}\"\n",
    "\n",
    "X, y, operators, functions = testAlgorithm(func, x_range, n_points, dir_path, population, generations,\n",
    "                                          max_expression_size, normalize=True, const_range=const_range,\n",
    "                                          ignore_warning=True, overwrite=False, n_runs=n_runs, \n",
    "                                          functions=functions_op, operators = operators_op, weights = weights,\n",
    "                                          island_interval=island_interval)"
   ]
  },
  {
   "cell_type": "markdown",
   "id": "6bba22e2-2012-4a0a-841b-3685ef22bfac",
   "metadata": {},
   "source": [
    "# Islands Tests (2,1)"
   ]
  }
 ],
 "metadata": {
  "kernelspec": {
   "display_name": "Python 3 (ipykernel)",
   "language": "python",
   "name": "python3"
  },
  "language_info": {
   "codemirror_mode": {
    "name": "ipython",
    "version": 3
   },
   "file_extension": ".py",
   "mimetype": "text/x-python",
   "name": "python",
   "nbconvert_exporter": "python",
   "pygments_lexer": "ipython3",
   "version": "3.9.13"
  },
  "widgets": {
   "application/vnd.jupyter.widget-state+json": {
    "state": {},
    "version_major": 2,
    "version_minor": 0
   }
  }
 },
 "nbformat": 4,
 "nbformat_minor": 5
}
