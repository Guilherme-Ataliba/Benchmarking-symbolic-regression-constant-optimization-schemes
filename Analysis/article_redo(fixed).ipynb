{
 "cells": [
  {
   "cell_type": "code",
   "execution_count": 1,
   "metadata": {},
   "outputs": [],
   "source": [
    "import sys\n",
    "sys.path.append('../algorithms/')\n",
    "\n",
    "from CSOWP_SR import *\n",
    "from ExpressionTree import *\n",
    "from trainAlgorithm import *\n",
    "import matplotlib.pyplot as plt\n",
    "import numpy as np\n",
    "import os"
   ]
  },
  {
   "cell_type": "code",
   "execution_count": 2,
   "metadata": {},
   "outputs": [],
   "source": [
    "def f1(v):\n",
    "    return 1.57 + 24.3*v\n",
    "\n",
    "X1 = np.linspace(-2, 2, 1000)\n",
    "y1 = f1(X1)\n",
    "\n",
    "def f2(v, y, w):\n",
    "    return 0.23 + 14.2*(v+y)/(3*w)\n",
    "\n",
    "v2 = np.linspace(-2, 2, 1000)\n",
    "y2 = np.linspace(-2, 2, 1000)\n",
    "w2 = np.linspace(-2, 2, 1000)\n",
    "y2 = f2(v2, y2, w2)\n",
    "\n",
    "def f11(x):\n",
    "    return 6.87 + 11*np.cos(7.23*x**3)\n",
    "\n",
    "X11 = np.linspace(-2, 2, 1000)\n",
    "y11 = f11(X11)\n",
    "\n",
    "def f7(x):\n",
    "    return 213.809408*(1 - np.exp(-0.547237*x))\n",
    "\n",
    "X7 = np.linspace(-2, 2, 1000)\n",
    "y7 = f7(X7)"
   ]
  },
  {
   "cell_type": "code",
   "execution_count": 3,
   "metadata": {},
   "outputs": [],
   "source": [
    "n_runs = 3\n",
    "n_generations = 10\n",
    "pop_size = 2000\n",
    "random_const_range = (0, 15)\n",
    "SEED = 42"
   ]
  },
  {
   "cell_type": "code",
   "execution_count": 4,
   "metadata": {},
   "outputs": [],
   "source": [
    "operators_op = {\"+\": lambda a,b: np.add(a,b), \"*\": lambda a,b: np.multiply(a,b),\n",
    "                \"/\": lambda a,b: np.divide(a,b), \"-\": lambda a,b: np.subtract(a,b)}\n",
    "functions_op = {\"sin\": lambda a: np.sin(a), \"cos\": lambda a: np.cos(a),\n",
    "                \"square\": lambda a: a**2, \"exp-\": lambda a: np.exp(-a)}\n",
    "custom_functions_dict = {\"cube\": [\"(\", \")**3\"], \"square\": [\"(\", \")**2\"],\n",
    "                         \"exp-\": [\"np.exp(-\", \")\"]}\n",
    "weigths_op = {\"exp-\": 4}"
   ]
  },
  {
   "cell_type": "markdown",
   "metadata": {},
   "source": [
    "# F1"
   ]
  },
  {
   "cell_type": "code",
   "execution_count": 5,
   "metadata": {},
   "outputs": [],
   "source": [
    "optimization_kind = \"LS\"\n",
    "func = f1\n",
    "x_range = [-2,2]\n",
    "n_points = 1000\n",
    "population = 2000\n",
    "generations = 8\n",
    "const_range = (0,15)\n",
    "dir_path = \"Outputs/article_tests_new/F1_new\""
   ]
  },
  {
   "cell_type": "code",
   "execution_count": 6,
   "metadata": {},
   "outputs": [
    {
     "data": {
      "text/plain": [
       "['Outputs/article_tests_new/F1_new/PSO',\n",
       " 'Outputs/article_tests_new/F1_new/LS',\n",
       " 'Outputs/article_tests_new/F1_new/random_LS',\n",
       " 'Outputs/article_tests_new/F1_new/differential_evolution',\n",
       " 'Outputs/article_tests_new/F1_new/dual_annealing']"
      ]
     },
     "execution_count": 6,
     "metadata": {},
     "output_type": "execute_result"
    }
   ],
   "source": [
    "optimization_opts = [\"PSO\", \"LS\", \"random_LS\", \"differential_evolution\", \"dual_annealing\"]\n",
    "# optimization_opts = [\"random_LS\", \"differential_evolution\", \"dual_annealing\"]\n",
    "main_path = \"Outputs/article_tests_new/F1_new/\"\n",
    "paths = [main_path + i for i in optimization_opts]\n",
    "paths"
   ]
  },
  {
   "cell_type": "code",
   "execution_count": 7,
   "metadata": {},
   "outputs": [],
   "source": [
    "def create_dirs(path):\n",
    "    if not os.path.exists(path+\"/data\"):\n",
    "        os.makedirs(path+\"/data\")\n",
    "    if not os.path.exists(path+\"/trees\"):\n",
    "        os.makedirs(path+\"/trees\")\n",
    "\n",
    "for path in paths:\n",
    "    create_dirs(path)"
   ]
  },
  {
   "cell_type": "code",
   "execution_count": 8,
   "metadata": {},
   "outputs": [
    {
     "name": "stdout",
     "output_type": "stream",
     "text": [
      "-=-=-=-=-=-=-=-= Training for population 2000 and generation 8 - article_tests_new/F1_new/PSO =-=-=-=-=-=-=-=-\n",
      "iniciou\n",
      "iniciou\n",
      "iniciou\n",
      "iniciou\n",
      "iniciou\n",
      "iniciou\n",
      "iniciou\n",
      "iniciou\n",
      "-=-=-=-=-=-=-= Done training for population 2000 and generation 8 - article_tests_new/F1_new/PSO =-=-=-=-=-=-=-\n",
      "-=-=-=-=-=-=-=-= Training for population 2000 and generation 8 - article_tests_new/F1_new/PSO =-=-=-=-=-=-=-=-\n",
      "iniciou\n",
      "iniciou\n",
      "iniciou\n",
      "iniciou\n",
      "iniciou\n",
      "iniciou\n",
      "iniciou\n",
      "iniciou\n",
      "-=-=-=-=-=-=-= Done training for population 2000 and generation 8 - article_tests_new/F1_new/PSO =-=-=-=-=-=-=-\n",
      "-=-=-=-=-=-=-=-= Training for population 2000 and generation 8 - article_tests_new/F1_new/PSO =-=-=-=-=-=-=-=-\n",
      "iniciou\n",
      "iniciou\n",
      "iniciou\n",
      "iniciou\n",
      "iniciou\n",
      "iniciou\n",
      "iniciou\n",
      "iniciou\n",
      "-=-=-=-=-=-=-= Done training for population 2000 and generation 8 - article_tests_new/F1_new/PSO =-=-=-=-=-=-=-\n",
      "-=-=-=-=-=-=-=-= Training for population 2000 and generation 8 - article_tests_new/F1_new/LS =-=-=-=-=-=-=-=-\n",
      "iniciou\n",
      "iniciou\n",
      "iniciou\n",
      "iniciou\n",
      "iniciou\n",
      "iniciou\n",
      "iniciou\n",
      "iniciou\n",
      "-=-=-=-=-=-=-= Done training for population 2000 and generation 8 - article_tests_new/F1_new/LS =-=-=-=-=-=-=-\n",
      "-=-=-=-=-=-=-=-= Training for population 2000 and generation 8 - article_tests_new/F1_new/LS =-=-=-=-=-=-=-=-\n",
      "iniciou\n",
      "iniciou\n",
      "iniciou\n",
      "iniciou\n",
      "iniciou\n",
      "iniciou\n",
      "iniciou\n",
      "iniciou\n",
      "-=-=-=-=-=-=-= Done training for population 2000 and generation 8 - article_tests_new/F1_new/LS =-=-=-=-=-=-=-\n",
      "-=-=-=-=-=-=-=-= Training for population 2000 and generation 8 - article_tests_new/F1_new/LS =-=-=-=-=-=-=-=-\n",
      "iniciou\n",
      "iniciou\n",
      "iniciou\n",
      "iniciou\n",
      "iniciou\n",
      "iniciou\n",
      "iniciou\n",
      "iniciou\n",
      "-=-=-=-=-=-=-= Done training for population 2000 and generation 8 - article_tests_new/F1_new/LS =-=-=-=-=-=-=-\n",
      "-=-=-=-=-=-=-=-= Training for population 2000 and generation 8 - article_tests_new/F1_new/random_LS =-=-=-=-=-=-=-=-\n",
      "iniciou\n",
      "iniciou\n",
      "iniciou\n",
      "iniciou\n",
      "iniciou\n",
      "iniciou\n",
      "iniciou\n",
      "iniciou\n",
      "-=-=-=-=-=-=-= Done training for population 2000 and generation 8 - article_tests_new/F1_new/random_LS =-=-=-=-=-=-=-\n",
      "-=-=-=-=-=-=-=-= Training for population 2000 and generation 8 - article_tests_new/F1_new/random_LS =-=-=-=-=-=-=-=-\n",
      "iniciou\n",
      "iniciou\n",
      "iniciou\n",
      "iniciou\n",
      "iniciou\n",
      "iniciou\n",
      "iniciou\n",
      "iniciou\n",
      "-=-=-=-=-=-=-= Done training for population 2000 and generation 8 - article_tests_new/F1_new/random_LS =-=-=-=-=-=-=-\n",
      "-=-=-=-=-=-=-=-= Training for population 2000 and generation 8 - article_tests_new/F1_new/random_LS =-=-=-=-=-=-=-=-\n",
      "iniciou\n",
      "iniciou\n",
      "iniciou\n",
      "iniciou\n",
      "iniciou\n",
      "iniciou\n",
      "iniciou\n",
      "iniciou\n",
      "-=-=-=-=-=-=-= Done training for population 2000 and generation 8 - article_tests_new/F1_new/random_LS =-=-=-=-=-=-=-\n",
      "-=-=-=-=-=-=-=-= Training for population 2000 and generation 8 - article_tests_new/F1_new/differential_evolution =-=-=-=-=-=-=-=-\n",
      "iniciou\n",
      "iniciou\n",
      "iniciou\n",
      "iniciou\n",
      "iniciou\n",
      "iniciou\n",
      "iniciou\n",
      "iniciou\n",
      "-=-=-=-=-=-=-= Done training for population 2000 and generation 8 - article_tests_new/F1_new/differential_evolution =-=-=-=-=-=-=-\n",
      "-=-=-=-=-=-=-=-= Training for population 2000 and generation 8 - article_tests_new/F1_new/differential_evolution =-=-=-=-=-=-=-=-\n",
      "iniciou\n",
      "iniciou\n",
      "iniciou\n",
      "iniciou\n",
      "iniciou\n",
      "iniciou\n",
      "iniciou\n",
      "iniciou\n",
      "-=-=-=-=-=-=-= Done training for population 2000 and generation 8 - article_tests_new/F1_new/differential_evolution =-=-=-=-=-=-=-\n",
      "-=-=-=-=-=-=-=-= Training for population 2000 and generation 8 - article_tests_new/F1_new/differential_evolution =-=-=-=-=-=-=-=-\n",
      "iniciou\n",
      "iniciou\n",
      "iniciou\n",
      "iniciou\n",
      "iniciou\n",
      "iniciou\n",
      "iniciou\n",
      "iniciou\n",
      "-=-=-=-=-=-=-= Done training for population 2000 and generation 8 - article_tests_new/F1_new/differential_evolution =-=-=-=-=-=-=-\n",
      "-=-=-=-=-=-=-=-= Training for population 2000 and generation 8 - article_tests_new/F1_new/dual_annealing =-=-=-=-=-=-=-=-\n",
      "iniciou\n",
      "iniciou\n",
      "iniciou\n",
      "iniciou\n",
      "iniciou\n",
      "iniciou\n",
      "iniciou\n",
      "iniciou\n",
      "-=-=-=-=-=-=-= Done training for population 2000 and generation 8 - article_tests_new/F1_new/dual_annealing =-=-=-=-=-=-=-\n",
      "-=-=-=-=-=-=-=-= Training for population 2000 and generation 8 - article_tests_new/F1_new/dual_annealing =-=-=-=-=-=-=-=-\n",
      "iniciou\n",
      "iniciou\n",
      "iniciou\n",
      "iniciou\n",
      "iniciou\n",
      "iniciou\n",
      "iniciou\n",
      "iniciou\n",
      "-=-=-=-=-=-=-= Done training for population 2000 and generation 8 - article_tests_new/F1_new/dual_annealing =-=-=-=-=-=-=-\n",
      "-=-=-=-=-=-=-=-= Training for population 2000 and generation 8 - article_tests_new/F1_new/dual_annealing =-=-=-=-=-=-=-=-\n",
      "iniciou\n",
      "iniciou\n",
      "iniciou\n",
      "iniciou\n",
      "iniciou\n",
      "iniciou\n",
      "iniciou\n",
      "iniciou\n",
      "-=-=-=-=-=-=-= Done training for population 2000 and generation 8 - article_tests_new/F1_new/dual_annealing =-=-=-=-=-=-=-\n"
     ]
    }
   ],
   "source": [
    "for optimization_kind in optimization_opts:\n",
    "    dir_path = main_path + optimization_kind\n",
    "    X, y, operators, functions = testAlgorithm(func, x_range, n_points, dir_path, population, generations,\n",
    "                                          normalize=False, const_range=const_range,\n",
    "                                          ignore_warning=True, overwrite=True, n_runs=n_runs, \n",
    "                                          functions=functions_op, operators = operators_op, weights=weigths_op,\n",
    "                                          optimization_kind=optimization_kind, custom_functions_dict=custom_functions_dict,\n",
    "                                          SEED=SEED)"
   ]
  },
  {
   "cell_type": "code",
   "execution_count": 9,
   "metadata": {},
   "outputs": [],
   "source": [
    "from sklearn.preprocessing import MinMaxScaler\n",
    "\n",
    "scaler = MinMaxScaler()\n",
    "\n",
    "x = smp.symbols(\"x\")\n",
    "SR = SymbolicRegression(10, functions=functions_op, operators=operators_op, custom_functions_dict=custom_functions_dict)\n",
    "SR.fit(np.c_[X1],y1, feature_names=[\"x\"])"
   ]
  },
  {
   "cell_type": "code",
   "execution_count": 10,
   "metadata": {},
   "outputs": [
    {
     "data": {
      "image/svg+xml": [
       "<?xml version=\"1.0\" encoding=\"UTF-8\" standalone=\"no\"?>\n",
       "<!DOCTYPE svg PUBLIC \"-//W3C//DTD SVG 1.1//EN\"\n",
       " \"http://www.w3.org/Graphics/SVG/1.1/DTD/svg11.dtd\">\n",
       "<!-- Generated by graphviz version 2.50.0 (0)\n",
       " -->\n",
       "<!-- Pages: 1 -->\n",
       "<svg width=\"69pt\" height=\"44pt\"\n",
       " viewBox=\"0.00 0.00 69.09 44.00\" xmlns=\"http://www.w3.org/2000/svg\" xmlns:xlink=\"http://www.w3.org/1999/xlink\">\n",
       "<g id=\"graph0\" class=\"graph\" transform=\"scale(1 1) rotate(0) translate(4 40)\">\n",
       "<polygon fill=\"white\" stroke=\"transparent\" points=\"-4,4 -4,-40 65.09,-40 65.09,4 -4,4\"/>\n",
       "<!-- 0 -->\n",
       "<g id=\"node1\" class=\"node\">\n",
       "<title>0</title>\n",
       "<ellipse fill=\"none\" stroke=\"black\" cx=\"30.55\" cy=\"-18\" rx=\"30.59\" ry=\"18\"/>\n",
       "<text text-anchor=\"middle\" x=\"30.55\" y=\"-14.3\" font-family=\"Times New Roman,serif\" font-size=\"14.00\">0.634</text>\n",
       "</g>\n",
       "</g>\n",
       "</svg>\n"
      ],
      "text/plain": [
       "<graphviz.graphs.Digraph at 0x14639079f70>"
      ]
     },
     "metadata": {},
     "output_type": "display_data"
    },
    {
     "data": {
      "text/plain": [
       "1"
      ]
     },
     "execution_count": 10,
     "metadata": {},
     "output_type": "execute_result"
    }
   ],
   "source": [
    "tree = SR.generate_expr(0)\n",
    "display(tree.visualize_tree())\n",
    "len(tree)"
   ]
  },
  {
   "cell_type": "code",
   "execution_count": 83,
   "metadata": {},
   "outputs": [
    {
     "data": {
      "image/svg+xml": [
       "<?xml version=\"1.0\" encoding=\"UTF-8\" standalone=\"no\"?>\n",
       "<!DOCTYPE svg PUBLIC \"-//W3C//DTD SVG 1.1//EN\"\n",
       " \"http://www.w3.org/Graphics/SVG/1.1/DTD/svg11.dtd\">\n",
       "<!-- Generated by graphviz version 2.50.0 (0)\n",
       " -->\n",
       "<!-- Pages: 1 -->\n",
       "<svg width=\"183pt\" height=\"188pt\"\n",
       " viewBox=\"0.00 0.00 183.09 188.00\" xmlns=\"http://www.w3.org/2000/svg\" xmlns:xlink=\"http://www.w3.org/1999/xlink\">\n",
       "<g id=\"graph0\" class=\"graph\" transform=\"scale(1 1) rotate(0) translate(4 184)\">\n",
       "<polygon fill=\"white\" stroke=\"transparent\" points=\"-4,4 -4,-184 179.09,-184 179.09,4 -4,4\"/>\n",
       "<!-- 0 -->\n",
       "<g id=\"node1\" class=\"node\">\n",
       "<title>0</title>\n",
       "<ellipse fill=\"none\" stroke=\"black\" cx=\"106.55\" cy=\"-162\" rx=\"27\" ry=\"18\"/>\n",
       "<text text-anchor=\"middle\" x=\"106.55\" y=\"-158.3\" font-family=\"Times New Roman,serif\" font-size=\"14.00\">+</text>\n",
       "</g>\n",
       "<!-- 1 -->\n",
       "<g id=\"node2\" class=\"node\">\n",
       "<title>1</title>\n",
       "<ellipse fill=\"none\" stroke=\"black\" cx=\"68.55\" cy=\"-90\" rx=\"27\" ry=\"18\"/>\n",
       "<text text-anchor=\"middle\" x=\"68.55\" y=\"-86.3\" font-family=\"Times New Roman,serif\" font-size=\"14.00\">*</text>\n",
       "</g>\n",
       "<!-- 0&#45;&gt;1 -->\n",
       "<g id=\"edge1\" class=\"edge\">\n",
       "<title>0&#45;&gt;1</title>\n",
       "<path fill=\"none\" stroke=\"black\" d=\"M97.73,-144.76C93.13,-136.28 87.39,-125.71 82.23,-116.2\"/>\n",
       "<polygon fill=\"black\" stroke=\"black\" points=\"85.16,-114.27 77.31,-107.15 79.01,-117.61 85.16,-114.27\"/>\n",
       "</g>\n",
       "<!-- 4 -->\n",
       "<g id=\"node3\" class=\"node\">\n",
       "<title>4</title>\n",
       "<ellipse fill=\"none\" stroke=\"black\" cx=\"144.55\" cy=\"-90\" rx=\"30.59\" ry=\"18\"/>\n",
       "<text text-anchor=\"middle\" x=\"144.55\" y=\"-86.3\" font-family=\"Times New Roman,serif\" font-size=\"14.00\">0.423</text>\n",
       "</g>\n",
       "<!-- 0&#45;&gt;4 -->\n",
       "<g id=\"edge2\" class=\"edge\">\n",
       "<title>0&#45;&gt;4</title>\n",
       "<path fill=\"none\" stroke=\"black\" d=\"M115.36,-144.76C119.9,-136.4 125.54,-126.02 130.65,-116.61\"/>\n",
       "<polygon fill=\"black\" stroke=\"black\" points=\"133.82,-118.09 135.52,-107.63 127.67,-114.75 133.82,-118.09\"/>\n",
       "</g>\n",
       "<!-- 2 -->\n",
       "<g id=\"node4\" class=\"node\">\n",
       "<title>2</title>\n",
       "<ellipse fill=\"none\" stroke=\"black\" cx=\"30.55\" cy=\"-18\" rx=\"30.59\" ry=\"18\"/>\n",
       "<text text-anchor=\"middle\" x=\"30.55\" y=\"-14.3\" font-family=\"Times New Roman,serif\" font-size=\"14.00\">0.212</text>\n",
       "</g>\n",
       "<!-- 1&#45;&gt;2 -->\n",
       "<g id=\"edge3\" class=\"edge\">\n",
       "<title>1&#45;&gt;2</title>\n",
       "<path fill=\"none\" stroke=\"black\" d=\"M59.73,-72.76C55.2,-64.4 49.56,-54.02 44.45,-44.61\"/>\n",
       "<polygon fill=\"black\" stroke=\"black\" points=\"47.42,-42.75 39.58,-35.63 41.27,-46.09 47.42,-42.75\"/>\n",
       "</g>\n",
       "<!-- 3 -->\n",
       "<g id=\"node5\" class=\"node\">\n",
       "<title>3</title>\n",
       "<ellipse fill=\"none\" stroke=\"black\" cx=\"106.55\" cy=\"-18\" rx=\"27\" ry=\"18\"/>\n",
       "<text text-anchor=\"middle\" x=\"106.55\" y=\"-14.3\" font-family=\"Times New Roman,serif\" font-size=\"14.00\">x</text>\n",
       "</g>\n",
       "<!-- 1&#45;&gt;3 -->\n",
       "<g id=\"edge4\" class=\"edge\">\n",
       "<title>1&#45;&gt;3</title>\n",
       "<path fill=\"none\" stroke=\"black\" d=\"M77.36,-72.76C81.97,-64.28 87.7,-53.71 92.87,-44.2\"/>\n",
       "<polygon fill=\"black\" stroke=\"black\" points=\"96.09,-45.61 97.78,-35.15 89.93,-42.27 96.09,-45.61\"/>\n",
       "</g>\n",
       "</g>\n",
       "</svg>\n"
      ],
      "text/plain": [
       "<graphviz.graphs.Digraph at 0x173e5ac18e0>"
      ]
     },
     "execution_count": 83,
     "metadata": {},
     "output_type": "execute_result"
    }
   ],
   "source": [
    "new_AEG = SR.mutateSExp(SR._convert_to_AEG(tree))\n",
    "new_AEG.sexp.visualize_tree()"
   ]
  },
  {
   "cell_type": "code",
   "execution_count": 17,
   "metadata": {},
   "outputs": [
    {
     "data": {
      "text/latex": [
       "$\\displaystyle 1.0892300677974442 \\cos{\\left(1.5601282743888281 e^{- 1.313517411881826 x} \\right)}$"
      ],
      "text/plain": [
       "1.0892300677974442*cos(1.5601282743888281*exp(-1.313517411881826*x))"
      ]
     },
     "metadata": {},
     "output_type": "display_data"
    },
    {
     "data": {
      "image/svg+xml": [
       "<?xml version=\"1.0\" encoding=\"UTF-8\" standalone=\"no\"?>\n",
       "<!DOCTYPE svg PUBLIC \"-//W3C//DTD SVG 1.1//EN\"\n",
       " \"http://www.w3.org/Graphics/SVG/1.1/DTD/svg11.dtd\">\n",
       "<!-- Generated by graphviz version 2.50.0 (0)\n",
       " -->\n",
       "<!-- Pages: 1 -->\n",
       "<svg width=\"666pt\" height=\"404pt\"\n",
       " viewBox=\"0.00 0.00 666.49 404.00\" xmlns=\"http://www.w3.org/2000/svg\" xmlns:xlink=\"http://www.w3.org/1999/xlink\">\n",
       "<g id=\"graph0\" class=\"graph\" transform=\"scale(1 1) rotate(0) translate(4 400)\">\n",
       "<polygon fill=\"white\" stroke=\"transparent\" points=\"-4,4 -4,-400 662.49,-400 662.49,4 -4,4\"/>\n",
       "<!-- 0 -->\n",
       "<g id=\"node1\" class=\"node\">\n",
       "<title>0</title>\n",
       "<ellipse fill=\"none\" stroke=\"black\" cx=\"387.19\" cy=\"-378\" rx=\"27\" ry=\"18\"/>\n",
       "<text text-anchor=\"middle\" x=\"387.19\" y=\"-374.3\" font-family=\"Times New Roman,serif\" font-size=\"14.00\">*</text>\n",
       "</g>\n",
       "<!-- 1 -->\n",
       "<g id=\"node2\" class=\"node\">\n",
       "<title>1</title>\n",
       "<ellipse fill=\"none\" stroke=\"black\" cx=\"351.19\" cy=\"-306\" rx=\"27\" ry=\"18\"/>\n",
       "<text text-anchor=\"middle\" x=\"351.19\" y=\"-302.3\" font-family=\"Times New Roman,serif\" font-size=\"14.00\">cos</text>\n",
       "</g>\n",
       "<!-- 0&#45;&gt;1 -->\n",
       "<g id=\"edge1\" class=\"edge\">\n",
       "<title>0&#45;&gt;1</title>\n",
       "<path fill=\"none\" stroke=\"black\" d=\"M378.84,-360.76C374.48,-352.28 369.05,-341.71 364.15,-332.2\"/>\n",
       "<polygon fill=\"black\" stroke=\"black\" points=\"367.18,-330.44 359.5,-323.15 360.96,-333.64 367.18,-330.44\"/>\n",
       "</g>\n",
       "<!-- 8 -->\n",
       "<g id=\"node3\" class=\"node\">\n",
       "<title>8</title>\n",
       "<ellipse fill=\"none\" stroke=\"black\" cx=\"423.19\" cy=\"-306\" rx=\"27\" ry=\"18\"/>\n",
       "<text text-anchor=\"middle\" x=\"423.19\" y=\"-302.3\" font-family=\"Times New Roman,serif\" font-size=\"14.00\">exp&#45;</text>\n",
       "</g>\n",
       "<!-- 0&#45;&gt;8 -->\n",
       "<g id=\"edge2\" class=\"edge\">\n",
       "<title>0&#45;&gt;8</title>\n",
       "<path fill=\"none\" stroke=\"black\" d=\"M395.54,-360.76C399.9,-352.28 405.34,-341.71 410.23,-332.2\"/>\n",
       "<polygon fill=\"black\" stroke=\"black\" points=\"413.43,-333.64 414.89,-323.15 407.2,-330.44 413.43,-333.64\"/>\n",
       "</g>\n",
       "<!-- 2 -->\n",
       "<g id=\"node4\" class=\"node\">\n",
       "<title>2</title>\n",
       "<ellipse fill=\"none\" stroke=\"black\" cx=\"351.19\" cy=\"-234\" rx=\"27\" ry=\"18\"/>\n",
       "<text text-anchor=\"middle\" x=\"351.19\" y=\"-230.3\" font-family=\"Times New Roman,serif\" font-size=\"14.00\">exp&#45;</text>\n",
       "</g>\n",
       "<!-- 1&#45;&gt;2 -->\n",
       "<g id=\"edge3\" class=\"edge\">\n",
       "<title>1&#45;&gt;2</title>\n",
       "<path fill=\"none\" stroke=\"black\" d=\"M351.19,-287.7C351.19,-279.98 351.19,-270.71 351.19,-262.11\"/>\n",
       "<polygon fill=\"black\" stroke=\"black\" points=\"354.69,-262.1 351.19,-252.1 347.69,-262.1 354.69,-262.1\"/>\n",
       "</g>\n",
       "<!-- 9 -->\n",
       "<g id=\"node10\" class=\"node\">\n",
       "<title>9</title>\n",
       "<ellipse fill=\"none\" stroke=\"black\" cx=\"455.19\" cy=\"-234\" rx=\"27\" ry=\"18\"/>\n",
       "<text text-anchor=\"middle\" x=\"455.19\" y=\"-230.3\" font-family=\"Times New Roman,serif\" font-size=\"14.00\">/</text>\n",
       "</g>\n",
       "<!-- 8&#45;&gt;9 -->\n",
       "<g id=\"edge9\" class=\"edge\">\n",
       "<title>8&#45;&gt;9</title>\n",
       "<path fill=\"none\" stroke=\"black\" d=\"M430.78,-288.41C434.56,-280.13 439.23,-269.92 443.46,-260.66\"/>\n",
       "<polygon fill=\"black\" stroke=\"black\" points=\"446.69,-262.02 447.66,-251.47 440.32,-259.11 446.69,-262.02\"/>\n",
       "</g>\n",
       "<!-- 3 -->\n",
       "<g id=\"node5\" class=\"node\">\n",
       "<title>3</title>\n",
       "<ellipse fill=\"none\" stroke=\"black\" cx=\"287.19\" cy=\"-162\" rx=\"27\" ry=\"18\"/>\n",
       "<text text-anchor=\"middle\" x=\"287.19\" y=\"-158.3\" font-family=\"Times New Roman,serif\" font-size=\"14.00\">+</text>\n",
       "</g>\n",
       "<!-- 2&#45;&gt;3 -->\n",
       "<g id=\"edge4\" class=\"edge\">\n",
       "<title>2&#45;&gt;3</title>\n",
       "<path fill=\"none\" stroke=\"black\" d=\"M337.62,-218.15C328.88,-208.6 317.36,-195.99 307.53,-185.25\"/>\n",
       "<polygon fill=\"black\" stroke=\"black\" points=\"310.08,-182.84 300.75,-177.82 304.91,-187.57 310.08,-182.84\"/>\n",
       "</g>\n",
       "<!-- 4 -->\n",
       "<g id=\"node6\" class=\"node\">\n",
       "<title>4</title>\n",
       "<ellipse fill=\"none\" stroke=\"black\" cx=\"147.19\" cy=\"-90\" rx=\"27\" ry=\"18\"/>\n",
       "<text text-anchor=\"middle\" x=\"147.19\" y=\"-86.3\" font-family=\"Times New Roman,serif\" font-size=\"14.00\">*</text>\n",
       "</g>\n",
       "<!-- 3&#45;&gt;4 -->\n",
       "<g id=\"edge5\" class=\"edge\">\n",
       "<title>3&#45;&gt;4</title>\n",
       "<path fill=\"none\" stroke=\"black\" d=\"M266.23,-150.52C242.62,-138.72 204.06,-119.43 177.25,-106.03\"/>\n",
       "<polygon fill=\"black\" stroke=\"black\" points=\"178.8,-102.89 168.3,-101.55 175.67,-109.15 178.8,-102.89\"/>\n",
       "</g>\n",
       "<!-- 7 -->\n",
       "<g id=\"node7\" class=\"node\">\n",
       "<title>7</title>\n",
       "<ellipse fill=\"none\" stroke=\"black\" cx=\"287.19\" cy=\"-90\" rx=\"94.78\" ry=\"18\"/>\n",
       "<text text-anchor=\"middle\" x=\"287.19\" y=\"-86.3\" font-family=\"Times New Roman,serif\" font-size=\"14.00\">&#45;0.44476804505330275</text>\n",
       "</g>\n",
       "<!-- 3&#45;&gt;7 -->\n",
       "<g id=\"edge6\" class=\"edge\">\n",
       "<title>3&#45;&gt;7</title>\n",
       "<path fill=\"none\" stroke=\"black\" d=\"M287.19,-143.7C287.19,-135.98 287.19,-126.71 287.19,-118.11\"/>\n",
       "<polygon fill=\"black\" stroke=\"black\" points=\"290.69,-118.1 287.19,-108.1 283.69,-118.1 290.69,-118.1\"/>\n",
       "</g>\n",
       "<!-- 5 -->\n",
       "<g id=\"node8\" class=\"node\">\n",
       "<title>5</title>\n",
       "<ellipse fill=\"none\" stroke=\"black\" cx=\"83.19\" cy=\"-18\" rx=\"83.39\" ry=\"18\"/>\n",
       "<text text-anchor=\"middle\" x=\"83.19\" y=\"-14.3\" font-family=\"Times New Roman,serif\" font-size=\"14.00\">1.313517411881826</text>\n",
       "</g>\n",
       "<!-- 4&#45;&gt;5 -->\n",
       "<g id=\"edge7\" class=\"edge\">\n",
       "<title>4&#45;&gt;5</title>\n",
       "<path fill=\"none\" stroke=\"black\" d=\"M133.62,-74.15C125.43,-65.2 114.8,-53.58 105.42,-43.31\"/>\n",
       "<polygon fill=\"black\" stroke=\"black\" points=\"107.87,-40.81 98.54,-35.79 102.71,-45.53 107.87,-40.81\"/>\n",
       "</g>\n",
       "<!-- 6 -->\n",
       "<g id=\"node9\" class=\"node\">\n",
       "<title>6</title>\n",
       "<ellipse fill=\"none\" stroke=\"black\" cx=\"211.19\" cy=\"-18\" rx=\"27\" ry=\"18\"/>\n",
       "<text text-anchor=\"middle\" x=\"211.19\" y=\"-14.3\" font-family=\"Times New Roman,serif\" font-size=\"14.00\">x</text>\n",
       "</g>\n",
       "<!-- 4&#45;&gt;6 -->\n",
       "<g id=\"edge8\" class=\"edge\">\n",
       "<title>4&#45;&gt;6</title>\n",
       "<path fill=\"none\" stroke=\"black\" d=\"M160.77,-74.15C169.51,-64.6 181.03,-51.99 190.85,-41.25\"/>\n",
       "<polygon fill=\"black\" stroke=\"black\" points=\"193.47,-43.57 197.64,-33.82 188.31,-38.84 193.47,-43.57\"/>\n",
       "</g>\n",
       "<!-- 10 -->\n",
       "<g id=\"node11\" class=\"node\">\n",
       "<title>10</title>\n",
       "<ellipse fill=\"none\" stroke=\"black\" cx=\"455.19\" cy=\"-162\" rx=\"27\" ry=\"18\"/>\n",
       "<text text-anchor=\"middle\" x=\"455.19\" y=\"-158.3\" font-family=\"Times New Roman,serif\" font-size=\"14.00\">cos</text>\n",
       "</g>\n",
       "<!-- 9&#45;&gt;10 -->\n",
       "<g id=\"edge10\" class=\"edge\">\n",
       "<title>9&#45;&gt;10</title>\n",
       "<path fill=\"none\" stroke=\"black\" d=\"M455.19,-215.7C455.19,-207.98 455.19,-198.71 455.19,-190.11\"/>\n",
       "<polygon fill=\"black\" stroke=\"black\" points=\"458.69,-190.1 455.19,-180.1 451.69,-190.1 458.69,-190.1\"/>\n",
       "</g>\n",
       "<!-- 12 -->\n",
       "<g id=\"node12\" class=\"node\">\n",
       "<title>12</title>\n",
       "<ellipse fill=\"none\" stroke=\"black\" cx=\"579.19\" cy=\"-162\" rx=\"79.09\" ry=\"18\"/>\n",
       "<text text-anchor=\"middle\" x=\"579.19\" y=\"-158.3\" font-family=\"Times New Roman,serif\" font-size=\"14.00\">4.01195261359531</text>\n",
       "</g>\n",
       "<!-- 9&#45;&gt;12 -->\n",
       "<g id=\"edge11\" class=\"edge\">\n",
       "<title>9&#45;&gt;12</title>\n",
       "<path fill=\"none\" stroke=\"black\" d=\"M475.12,-221.75C493.17,-211.56 520.23,-196.29 542.23,-183.87\"/>\n",
       "<polygon fill=\"black\" stroke=\"black\" points=\"544.01,-186.88 551,-178.91 540.57,-180.78 544.01,-186.88\"/>\n",
       "</g>\n",
       "<!-- 11 -->\n",
       "<g id=\"node13\" class=\"node\">\n",
       "<title>11</title>\n",
       "<ellipse fill=\"none\" stroke=\"black\" cx=\"488.19\" cy=\"-90\" rx=\"87.99\" ry=\"18\"/>\n",
       "<text text-anchor=\"middle\" x=\"488.19\" y=\"-86.3\" font-family=\"Times New Roman,serif\" font-size=\"14.00\">10.645565619266776</text>\n",
       "</g>\n",
       "<!-- 10&#45;&gt;11 -->\n",
       "<g id=\"edge12\" class=\"edge\">\n",
       "<title>10&#45;&gt;11</title>\n",
       "<path fill=\"none\" stroke=\"black\" d=\"M463.01,-144.41C466.86,-136.25 471.59,-126.22 475.9,-117.07\"/>\n",
       "<polygon fill=\"black\" stroke=\"black\" points=\"479.1,-118.49 480.2,-107.96 472.77,-115.51 479.1,-118.49\"/>\n",
       "</g>\n",
       "</g>\n",
       "</svg>\n"
      ],
      "text/plain": [
       "<graphviz.graphs.Digraph at 0x1463c99c580>"
      ]
     },
     "metadata": {},
     "output_type": "display_data"
    },
    {
     "data": {
      "text/plain": [
       "765.6247750999993"
      ]
     },
     "metadata": {},
     "output_type": "display_data"
    },
    {
     "data": {
      "image/png": "[encoded data removed]",
      "text/plain": [
       "<Figure size 640x480 with 1 Axes>"
      ]
     },
     "metadata": {},
     "output_type": "display_data"
    }
   ],
   "source": [
    "with open(\"Outputs/article_tests_new/F7/random_LS/trees/tree-2000-8-0\", \"rb\") as file:\n",
    "    tree = pickle.load(file)\n",
    "    smp_expr = tree.toSmpExpr(SR._operators, SR._functions, SR.custom_functions_dict)\n",
    "    display(smp_expr)\n",
    "    \n",
    "display(tree.visualize_tree())\n",
    "display(SR.fitness_score(tree))\n",
    "\n",
    "# ======================\n",
    "smp_func, _ = tree.toFunc(SR._operators, SR._functions, SR.custom_functions_dict)\n",
    "\n",
    "\n",
    "# smp_expr = smp_expr.subs(x, (x - X1.min())/(X1.max() - X1.min()))\n",
    "# smp_expr = smp_expr.subs(x, (X1.max() - X1.min())*x + X1.min() )\n",
    "# smp_expr = (y1.max() - y1.min())*smp_expr + y1.min()\n",
    "# smp_expr = (y1_max - y1_min)*smp_expr + y1_min\n",
    "# smp_expr = (smp_expr - y1.min())/(y1.max() - y1.min())\n",
    "# display(smp_expr)\n",
    "\n",
    "smp_func = SR.toFunc(tree)\n",
    "\n",
    "X = np.linspace(-2, 2, 1000)\n",
    "y = smp_func(X)\n",
    "\n",
    "plt.plot(X7, y7, label=\"F1\")\n",
    "plt.plot(X, y, label=\"Predicted\")\n",
    "plt.legend()\n",
    "plt.show()\n",
    "# plt.plot(scaler.fit_transform(np.c_[X1]), scaler.fit_transform(np.c_[y1]), label=\"F1\")\n",
    "# plt.plot(scaler.fit_transform(np.c_[X]), scaler.fit_transform(np.c_[y]), label=\"predicted\")\n",
    "# plt.legend()\n"
   ]
  },
  {
   "cell_type": "code",
   "execution_count": null,
   "metadata": {},
   "outputs": [],
   "source": [
    "SR.fitness_score(tree)"
   ]
  },
  {
   "cell_type": "code",
   "execution_count": null,
   "metadata": {},
   "outputs": [],
   "source": [
    "AEG = SR._convert_to_AEG(tree)\n",
    "display(AEG.sexp.visualize_tree())\n",
    "SR.optimization_kind = \"LS\""
   ]
  },
  {
   "cell_type": "code",
   "execution_count": null,
   "metadata": {},
   "outputs": [],
   "source": [
    "new_AEG.pool"
   ]
  },
  {
   "cell_type": "code",
   "execution_count": null,
   "metadata": {},
   "outputs": [],
   "source": [
    "new_AEG, _ = SR.optimizeConstants(AEG, 0, 0, check_pool=False)\n",
    "display(new_AEG.sexp.visualize_tree())\n",
    "\n",
    "func = SR.toFunc(new_AEG.sexp)\n",
    "\n",
    "X = np.linspace(-2, 2, 1000)\n",
    "y = func(X)\n",
    "\n",
    "plt.plot(X1, y1, label=\"F1\")\n",
    "plt.plot(X, y, label=\"Predicted\")\n",
    "plt.legend()\n",
    "plt.show()\n",
    "\n",
    "SR.fitness_score(new_AEG)"
   ]
  },
  {
   "cell_type": "code",
   "execution_count": null,
   "metadata": {},
   "outputs": [],
   "source": [
    "from scipy.optimize import curve_fit\n",
    "\n",
    "def func(x, a, b, c, d, e):\n",
    "    return a*b*x*(c+d/e)\n",
    "\n",
    "params, _ = curve_fit(SR.toFunc(AEG), X1, y1, [0.345, 3.644, 11.683, 10.874, 2.344])\n",
    "print(params)\n",
    "\n",
    "X = np.linspace(-2, 2, 1000)\n",
    "y = func(X, *params)\n",
    "\n",
    "plt.plot(X1, y1, label=\"F1\")\n",
    "plt.plot(X, y, label=\"Predicted\")\n",
    "plt.legend()\n",
    "plt.show()\n",
    "\n",
    "np.mean((y1-y)**2)"
   ]
  },
  {
   "cell_type": "markdown",
   "metadata": {},
   "source": [
    "# F7"
   ]
  },
  {
   "cell_type": "code",
   "execution_count": null,
   "metadata": {},
   "outputs": [],
   "source": [
    "optimization_kind = \"LS\"\n",
    "func = f7\n",
    "x_range = [-2,2]\n",
    "n_points = 1000\n",
    "population = 4000\n",
    "generations = 10\n",
    "const_range = (0,15)\n",
    "dir_path = \"Outputs/article_tests_new/F7\""
   ]
  },
  {
   "cell_type": "code",
   "execution_count": null,
   "metadata": {},
   "outputs": [],
   "source": [
    "optimization_opts = [\"PSO\", \"LS\", \"random_LS\", \"differential_evolution\", \"dual_annealing\"]\n",
    "main_path = \"Outputs/article_tests_new/F7/\"\n",
    "paths = [main_path + i for i in optimization_opts]\n",
    "paths"
   ]
  },
  {
   "cell_type": "code",
   "execution_count": null,
   "metadata": {},
   "outputs": [],
   "source": [
    "def create_dirs(path):\n",
    "    if not os.path.exists(path+\"/data\"):\n",
    "        os.makedirs(path+\"/data\")\n",
    "    if not os.path.exists(path+\"/trees\"):\n",
    "        os.makedirs(path+\"/trees\")\n",
    "\n",
    "for path in paths:\n",
    "    create_dirs(path)"
   ]
  },
  {
   "cell_type": "code",
   "execution_count": null,
   "metadata": {},
   "outputs": [],
   "source": [
    "for optimization_kind in optimization_opts:\n",
    "    dir_path = main_path + optimization_kind\n",
    "    X, y, operators, functions = testAlgorithm(func, x_range, n_points, dir_path, population, generations,\n",
    "                                          normalize=True, const_range=const_range,\n",
    "                                          ignore_warning=True, overwrite=True, n_runs=n_runs, \n",
    "                                          functions=functions_op, operators = operators_op,\n",
    "                                          optimization_kind=optimization_kind, custom_functions_dict=custom_functions_dict,\n",
    "                                          SEED=SEED)"
   ]
  },
  {
   "cell_type": "markdown",
   "metadata": {},
   "source": [
    "# F11"
   ]
  },
  {
   "cell_type": "code",
   "execution_count": null,
   "metadata": {},
   "outputs": [],
   "source": [
    "optimization_kind = \"LS\"\n",
    "func = f11\n",
    "x_range = [-2,2]\n",
    "n_points = 1000\n",
    "population = 4000\n",
    "generations = 10\n",
    "const_range = (0,15)\n",
    "dir_path = \"Outputs/article_tests_new/F11\""
   ]
  },
  {
   "cell_type": "code",
   "execution_count": null,
   "metadata": {},
   "outputs": [],
   "source": [
    "optimization_opts = [\"PSO\", \"LS\", \"random_LS\", \"differential_evolution\", \"dual_annealing\"]\n",
    "main_path = \"Outputs/article_tests_new/F11/\"\n",
    "paths = [main_path + i for i in optimization_opts]\n",
    "paths"
   ]
  },
  {
   "cell_type": "code",
   "execution_count": null,
   "metadata": {},
   "outputs": [],
   "source": [
    "def create_dirs(path):\n",
    "    if not os.path.exists(path+\"/data\"):\n",
    "        os.makedirs(path+\"/data\")\n",
    "    if not os.path.exists(path+\"/trees\"):\n",
    "        os.makedirs(path+\"/trees\")\n",
    "\n",
    "for path in paths:\n",
    "    create_dirs(path)"
   ]
  },
  {
   "cell_type": "code",
   "execution_count": null,
   "metadata": {},
   "outputs": [],
   "source": [
    "for optimization_kind in optimization_opts:\n",
    "    dir_path = main_path + optimization_kind\n",
    "    X, y, operators, functions = testAlgorithm(func, x_range, n_points, dir_path, population, generations,\n",
    "                                          normalize=True, const_range=const_range,\n",
    "                                          ignore_warning=True, overwrite=True, n_runs=n_runs, \n",
    "                                          functions=functions_op, operators = operators_op,\n",
    "                                          optimization_kind=optimization_kind, custom_functions_dict=custom_functions_dict,\n",
    "                                          SEED=SEED)"
   ]
  },
  {
   "cell_type": "markdown",
   "metadata": {},
   "source": [
    "# F2"
   ]
  },
  {
   "cell_type": "code",
   "execution_count": null,
   "metadata": {},
   "outputs": [],
   "source": [
    "n_runs = 3\n",
    "n_generations = 10\n",
    "pop_size = 40\n",
    "random_const_range = (0, 15)"
   ]
  },
  {
   "cell_type": "code",
   "execution_count": null,
   "metadata": {},
   "outputs": [],
   "source": [
    "operators_op = {\"+\": lambda a,b: np.add(a,b), \"*\": lambda a,b: np.multiply(a,b),\n",
    "                \"/\": lambda a,b: np.divide(a,b), \"-\": lambda a,b: np.subtract(a,b)}\n",
    "functions_op = {\"sin\": lambda a: np.sin(a), \"cos\": lambda a: np.cos(a),\n",
    "                \"square\": lambda a: a**2, \"cube\": lambda a: a**3}\n",
    "custom_functions_dict = {\"cube\": [\"(\", \")**3\"], \"square\": [\"(\", \")**2\"]}"
   ]
  },
  {
   "cell_type": "code",
   "execution_count": null,
   "metadata": {},
   "outputs": [],
   "source": [
    "from sklearn.preprocessing import MinMaxScaler\n",
    "\n",
    "scaler = MinMaxScaler()"
   ]
  },
  {
   "cell_type": "code",
   "execution_count": null,
   "metadata": {},
   "outputs": [],
   "source": [
    "def f2(v, y, w):\n",
    "    return 0.23 + 14.2*(v+y)/(3*w)\n",
    "\n",
    "v2 = np.linspace(-2, 2, 1000)\n",
    "v2 = scaler.fit_transform(np.c_[v2])\n",
    "y2 = np.linspace(-2, 2, 1000)\n",
    "y2 = scaler.fit_transform(np.c_[y2])\n",
    "w2 = np.linspace(-2, 2, 1000)\n",
    "w2 = scaler.fit_transform(np.c_[w2])\n",
    "Y2 = f2(v2, y2, w2)\n",
    "Y2 = scaler.fit_transform(np.c_[Y2]).reshape(-1)\n",
    "Y2[0] = 0.0"
   ]
  },
  {
   "cell_type": "code",
   "execution_count": null,
   "metadata": {},
   "outputs": [],
   "source": [
    "optimization_kind = \"LS\"\n",
    "# func = f11\n",
    "x_range = [-1,1]\n",
    "n_points = 1000\n",
    "population = 40\n",
    "generations = 10\n",
    "const_range = (0,15)\n",
    "n_runs = 3\n",
    "dir_path = \"Outputs/article_tests_new/F2\""
   ]
  },
  {
   "cell_type": "code",
   "execution_count": null,
   "metadata": {},
   "outputs": [],
   "source": [
    "optimization_opts = [\"PSO\", \"LS\", \"random_LS\", \"differential_evolution\", \"dual_annealing\"]\n",
    "main_path = \"Outputs/article_tests_new/F2/\"\n",
    "paths = [main_path + i for i in optimization_opts]\n",
    "paths"
   ]
  },
  {
   "cell_type": "code",
   "execution_count": null,
   "metadata": {},
   "outputs": [],
   "source": [
    "def create_dirs(path):\n",
    "    if not os.path.exists(path+\"/data\"):\n",
    "        os.makedirs(path+\"/data\")\n",
    "    if not os.path.exists(path+\"/trees\"):\n",
    "        os.makedirs(path+\"/trees\")\n",
    "\n",
    "for path in paths:\n",
    "    create_dirs(path)"
   ]
  },
  {
   "cell_type": "code",
   "execution_count": null,
   "metadata": {},
   "outputs": [],
   "source": [
    "for optimization_kind in optimization_opts:\n",
    "    dir_path = main_path + optimization_kind\n",
    "    for i in range(n_runs):\n",
    "            print(f\"-=-=-=-=-=-=-=-= Training for population {population} and generation {generations} - {dir_path[dir_path.find('/')+1:]} =-=-=-=-=-=-=-=-\")\n",
    "            SR = SymbolicRegression(generations, max_population_size=population,\n",
    "                                    max_island_count=int(population/10), random_const_range=const_range,\n",
    "                                    operators=operators_op, functions=functions_op,\n",
    "                                    optimization_kind=optimization_kind,\n",
    "                                    custom_functions_dict=custom_functions_dict)\n",
    "            SR.fit(np.c_[v2, y2, w2], Y2, feature_names=[\"v\", \"w\", \"y\"])    \n",
    "            \n",
    "            start_time = time()\n",
    "            output_AEG = SR.predict()\n",
    "            end_time = time()\n",
    "            data = SR.evaluate_tree(output_AEG.sexp)\n",
    "            \n",
    "            print(f\"-=-=-=-=-=-=-= Done training for population {population} and generation {generations} - {dir_path[dir_path.find('/')+1:]} =-=-=-=-=-=-=-\")\n",
    "\n",
    "            # Writing the data =================================\n",
    "\n",
    "            # In case the output is a constant function\n",
    "            if data.shape[0] == 1:\n",
    "                data = np.array([data[0] for i in range(0, 1000)])\n",
    "\n",
    "            # data = pd.DataFrame(np.c_[X, data], columns=[\"x\", \"y\"])\n",
    "            # data.to_csv(dir_path + f\"/data/data-{population}.csv\", sep=\",\", index=False)\n",
    "\n",
    "            # graph = output_AEG.sexp.visualize_tree()\n",
    "            # graph.render(dir_path + f\"/trees/tree-{population}\", format=\"svg\")\n",
    "\n",
    "            with open(dir_path + f\"/trees/tree-{population}-{generations}-{i}\", \"wb\") as file:\n",
    "                pickle.dump(output_AEG.sexp, file)\n",
    "\n",
    "            with open(dir_path + \"/results.csv\", \"a\") as file:\n",
    "                file.write(f\"{SR.fitness_score(output_AEG)},{population},{generations},{end_time - start_time},{i}\\n\")"
   ]
  },
  {
   "cell_type": "code",
   "execution_count": null,
   "metadata": {},
   "outputs": [],
   "source": [
    "with open(\"Outputs/article_tests/F2/PSO/trees/tree-40-10-2\", \"rb\") as file:\n",
    "    tree = pickle.load(file)\n",
    "    # print(SR.evaluate_tree(tree))\n",
    "    # print(SR.y)\n",
    "tree.visualize_tree()"
   ]
  }
 ],
 "metadata": {
  "kernelspec": {
   "display_name": "base",
   "language": "python",
   "name": "python3"
  },
  "language_info": {
   "codemirror_mode": {
    "name": "ipython",
    "version": 3
   },
   "file_extension": ".py",
   "mimetype": "text/x-python",
   "name": "python",
   "nbconvert_exporter": "python",
   "pygments_lexer": "ipython3",
   "version": "3.9.13"
  }
 },
 "nbformat": 4,
 "nbformat_minor": 2
}
