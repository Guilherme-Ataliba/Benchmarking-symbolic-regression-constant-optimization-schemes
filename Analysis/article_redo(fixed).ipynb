{
 "cells": [
  {
   "cell_type": "code",
   "execution_count": 1,
   "metadata": {},
   "outputs": [],
   "source": [
    "import sys\n",
    "sys.path.append('../algorithms/')\n",
    "\n",
    "from CSOWP_SR import *\n",
    "from ExpressionTree import *\n",
    "from trainAlgorithm import *\n",
    "import matplotlib.pyplot as plt\n",
    "import numpy as np\n",
    "import os"
   ]
  },
  {
   "cell_type": "code",
   "execution_count": 2,
   "metadata": {},
   "outputs": [],
   "source": [
    "def f1(v):\n",
    "    return 1.57 + 24.3*v\n",
    "\n",
    "X1 = np.linspace(-2, 2, 1000)\n",
    "y1 = f1(X1)\n",
    "\n",
    "def f2(v, y, w):\n",
    "    return 0.23 + 14.2*(v+y)/(3*w)\n",
    "\n",
    "v2 = np.linspace(-2, 2, 1000)\n",
    "y2 = np.linspace(-2, 2, 1000)\n",
    "w2 = np.linspace(-2, 2, 1000)\n",
    "y2 = f2(v2, y2, w2)\n",
    "\n",
    "def f11(x):\n",
    "    return 6.87 + 11*np.cos(7.23*x**3)\n",
    "\n",
    "X11 = np.linspace(-2, 2, 1000)\n",
    "y11 = f11(X11)\n",
    "\n",
    "def f7(x):\n",
    "    return 213.809408*(1 - np.exp(-0.547237*x))\n",
    "\n",
    "X7 = np.linspace(-2, 2, 1000)\n",
    "y7 = f7(X7)"
   ]
  },
  {
   "cell_type": "code",
   "execution_count": 3,
   "metadata": {},
   "outputs": [],
   "source": [
    "n_runs = 3\n",
    "n_generations = 10\n",
    "pop_size = 2000\n",
    "random_const_range = (0, 15)\n",
    "SEED = 42"
   ]
  },
  {
   "cell_type": "code",
   "execution_count": 4,
   "metadata": {},
   "outputs": [],
   "source": [
    "operators_op = {\"+\": lambda a,b: np.add(a,b), \"*\": lambda a,b: np.multiply(a,b),\n",
    "                \"/\": lambda a,b: np.divide(a,b), \"-\": lambda a,b: np.subtract(a,b)}\n",
    "functions_op = {\"sin\": lambda a: np.sin(a), \"cos\": lambda a: np.cos(a),\n",
    "                \"square\": lambda a: a**2, \"exp-\": lambda a: np.exp(-a)}\n",
    "custom_functions_dict = {\"cube\": [\"(\", \")**3\"], \"square\": [\"(\", \")**2\"],\n",
    "                         \"exp-\": [\"np.exp(-\", \")\"]}\n",
    "weigths_op = {\"exp-\": 4}"
   ]
  },
  {
   "cell_type": "markdown",
   "metadata": {},
   "source": [
    "# F1"
   ]
  },
  {
   "cell_type": "code",
   "execution_count": 5,
   "metadata": {},
   "outputs": [],
   "source": [
    "optimization_kind = \"LS\"\n",
    "func = f1\n",
    "x_range = [-2,2]\n",
    "n_points = 1000\n",
    "population = 2000\n",
    "generations = 8\n",
    "const_range = (0,15)\n",
    "dir_path = \"Outputs/article_tests_new/LS\""
   ]
  },
  {
   "cell_type": "code",
   "execution_count": 6,
   "metadata": {},
   "outputs": [
    {
     "data": {
      "text/plain": [
       "['Outputs/article_tests_new/PSO',\n",
       " 'Outputs/article_tests_new/LS',\n",
       " 'Outputs/article_tests_new/random_LS',\n",
       " 'Outputs/article_tests_new/differential_evolution',\n",
       " 'Outputs/article_tests_new/dual_annealing']"
      ]
     },
     "execution_count": 6,
     "metadata": {},
     "output_type": "execute_result"
    }
   ],
   "source": [
    "optimization_opts = [\"PSO\", \"LS\", \"random_LS\", \"differential_evolution\", \"dual_annealing\"]\n",
    "# optimization_opts = [\"random_LS\", \"differential_evolution\", \"dual_annealing\"]\n",
    "main_path = \"Outputs/article_tests_new/\"\n",
    "paths = [main_path + i for i in optimization_opts]\n",
    "paths"
   ]
  },
  {
   "cell_type": "code",
   "execution_count": 7,
   "metadata": {},
   "outputs": [],
   "source": [
    "def create_dirs(path):\n",
    "    if not os.path.exists(path+\"/data\"):\n",
    "        os.makedirs(path+\"/data\")\n",
    "    if not os.path.exists(path+\"/trees\"):\n",
    "        os.makedirs(path+\"/trees\")\n",
    "\n",
    "for path in paths:\n",
    "    create_dirs(path)"
   ]
  },
  {
   "cell_type": "code",
   "execution_count": 8,
   "metadata": {},
   "outputs": [
    {
     "name": "stdout",
     "output_type": "stream",
     "text": [
      "-=-=-=-=-=-=-=-= Training for population 2000 and generation 8 - article_tests_new/PSO =-=-=-=-=-=-=-=-\n",
      "iniciou\n",
      "iniciou\n",
      "iniciou\n",
      "iniciou\n",
      "iniciou\n",
      "iniciou\n",
      "iniciou\n",
      "iniciou\n",
      "-=-=-=-=-=-=-= Done training for population 2000 and generation 8 - article_tests_new/PSO =-=-=-=-=-=-=-\n",
      "-=-=-=-=-=-=-=-= Training for population 2000 and generation 8 - article_tests_new/PSO =-=-=-=-=-=-=-=-\n",
      "iniciou\n",
      "iniciou\n",
      "iniciou\n",
      "iniciou\n",
      "iniciou\n",
      "iniciou\n",
      "iniciou\n",
      "iniciou\n",
      "-=-=-=-=-=-=-= Done training for population 2000 and generation 8 - article_tests_new/PSO =-=-=-=-=-=-=-\n",
      "-=-=-=-=-=-=-=-= Training for population 2000 and generation 8 - article_tests_new/PSO =-=-=-=-=-=-=-=-\n",
      "iniciou\n",
      "iniciou\n",
      "iniciou\n",
      "iniciou\n",
      "iniciou\n",
      "iniciou\n",
      "iniciou\n",
      "iniciou\n",
      "-=-=-=-=-=-=-= Done training for population 2000 and generation 8 - article_tests_new/PSO =-=-=-=-=-=-=-\n",
      "-=-=-=-=-=-=-=-= Training for population 2000 and generation 8 - article_tests_new/LS =-=-=-=-=-=-=-=-\n",
      "iniciou\n",
      "iniciou\n",
      "iniciou\n",
      "iniciou\n",
      "iniciou\n",
      "iniciou\n",
      "iniciou\n",
      "iniciou\n",
      "-=-=-=-=-=-=-= Done training for population 2000 and generation 8 - article_tests_new/LS =-=-=-=-=-=-=-\n",
      "-=-=-=-=-=-=-=-= Training for population 2000 and generation 8 - article_tests_new/LS =-=-=-=-=-=-=-=-\n",
      "iniciou\n",
      "iniciou\n",
      "iniciou\n",
      "iniciou\n",
      "iniciou\n",
      "iniciou\n",
      "iniciou\n",
      "iniciou\n",
      "-=-=-=-=-=-=-= Done training for population 2000 and generation 8 - article_tests_new/LS =-=-=-=-=-=-=-\n",
      "-=-=-=-=-=-=-=-= Training for population 2000 and generation 8 - article_tests_new/LS =-=-=-=-=-=-=-=-\n",
      "iniciou\n",
      "iniciou\n",
      "iniciou\n",
      "iniciou\n",
      "iniciou\n",
      "iniciou\n",
      "iniciou\n",
      "iniciou\n",
      "-=-=-=-=-=-=-= Done training for population 2000 and generation 8 - article_tests_new/LS =-=-=-=-=-=-=-\n",
      "-=-=-=-=-=-=-=-= Training for population 2000 and generation 8 - article_tests_new/random_LS =-=-=-=-=-=-=-=-\n",
      "iniciou\n",
      "iniciou\n",
      "iniciou\n",
      "iniciou\n",
      "iniciou\n",
      "iniciou\n",
      "iniciou\n",
      "iniciou\n",
      "-=-=-=-=-=-=-= Done training for population 2000 and generation 8 - article_tests_new/random_LS =-=-=-=-=-=-=-\n",
      "-=-=-=-=-=-=-=-= Training for population 2000 and generation 8 - article_tests_new/random_LS =-=-=-=-=-=-=-=-\n",
      "iniciou\n",
      "iniciou\n",
      "iniciou\n",
      "iniciou\n",
      "iniciou\n",
      "iniciou\n",
      "iniciou\n",
      "iniciou\n",
      "-=-=-=-=-=-=-= Done training for population 2000 and generation 8 - article_tests_new/random_LS =-=-=-=-=-=-=-\n",
      "-=-=-=-=-=-=-=-= Training for population 2000 and generation 8 - article_tests_new/random_LS =-=-=-=-=-=-=-=-\n",
      "iniciou\n",
      "iniciou\n",
      "iniciou\n",
      "iniciou\n",
      "iniciou\n",
      "iniciou\n",
      "iniciou\n",
      "iniciou\n",
      "-=-=-=-=-=-=-= Done training for population 2000 and generation 8 - article_tests_new/random_LS =-=-=-=-=-=-=-\n",
      "-=-=-=-=-=-=-=-= Training for population 2000 and generation 8 - article_tests_new/differential_evolution =-=-=-=-=-=-=-=-\n",
      "iniciou\n",
      "iniciou\n",
      "iniciou\n",
      "iniciou\n",
      "iniciou\n",
      "iniciou\n",
      "iniciou\n",
      "iniciou\n",
      "-=-=-=-=-=-=-= Done training for population 2000 and generation 8 - article_tests_new/differential_evolution =-=-=-=-=-=-=-\n",
      "-=-=-=-=-=-=-=-= Training for population 2000 and generation 8 - article_tests_new/differential_evolution =-=-=-=-=-=-=-=-\n",
      "iniciou\n",
      "iniciou\n",
      "iniciou\n",
      "iniciou\n",
      "iniciou\n",
      "iniciou\n",
      "iniciou\n",
      "iniciou\n",
      "-=-=-=-=-=-=-= Done training for population 2000 and generation 8 - article_tests_new/differential_evolution =-=-=-=-=-=-=-\n",
      "-=-=-=-=-=-=-=-= Training for population 2000 and generation 8 - article_tests_new/differential_evolution =-=-=-=-=-=-=-=-\n",
      "iniciou\n",
      "iniciou\n",
      "iniciou\n",
      "iniciou\n",
      "iniciou\n",
      "iniciou\n",
      "iniciou\n",
      "iniciou\n",
      "-=-=-=-=-=-=-= Done training for population 2000 and generation 8 - article_tests_new/differential_evolution =-=-=-=-=-=-=-\n",
      "-=-=-=-=-=-=-=-= Training for population 2000 and generation 8 - article_tests_new/dual_annealing =-=-=-=-=-=-=-=-\n",
      "iniciou\n",
      "iniciou\n",
      "iniciou\n",
      "iniciou\n",
      "iniciou\n",
      "iniciou\n",
      "iniciou\n",
      "iniciou\n",
      "-=-=-=-=-=-=-= Done training for population 2000 and generation 8 - article_tests_new/dual_annealing =-=-=-=-=-=-=-\n",
      "-=-=-=-=-=-=-=-= Training for population 2000 and generation 8 - article_tests_new/dual_annealing =-=-=-=-=-=-=-=-\n",
      "iniciou\n",
      "iniciou\n",
      "iniciou\n",
      "iniciou\n",
      "iniciou\n",
      "iniciou\n",
      "iniciou\n",
      "iniciou\n",
      "-=-=-=-=-=-=-= Done training for population 2000 and generation 8 - article_tests_new/dual_annealing =-=-=-=-=-=-=-\n",
      "-=-=-=-=-=-=-=-= Training for population 2000 and generation 8 - article_tests_new/dual_annealing =-=-=-=-=-=-=-=-\n",
      "iniciou\n",
      "iniciou\n",
      "iniciou\n",
      "iniciou\n",
      "iniciou\n",
      "iniciou\n",
      "iniciou\n",
      "iniciou\n",
      "-=-=-=-=-=-=-= Done training for population 2000 and generation 8 - article_tests_new/dual_annealing =-=-=-=-=-=-=-\n"
     ]
    }
   ],
   "source": [
    "for optimization_kind in optimization_opts:\n",
    "    dir_path = main_path + optimization_kind\n",
    "    X, y, operators, functions = testAlgorithm(func, x_range, n_points, dir_path, population, generations,\n",
    "                                          normalize=False, const_range=const_range,\n",
    "                                          ignore_warning=True, overwrite=True, n_runs=n_runs, \n",
    "                                          functions=functions_op, operators = operators_op, weights=weigths_op,\n",
    "                                          optimization_kind=optimization_kind, custom_functions_dict=custom_functions_dict,\n",
    "                                          SEED=SEED)"
   ]
  },
  {
   "cell_type": "code",
   "execution_count": 8,
   "metadata": {},
   "outputs": [],
   "source": [
    "from sklearn.preprocessing import MinMaxScaler\n",
    "\n",
    "scaler = MinMaxScaler()\n",
    "\n",
    "x = smp.symbols(\"x\")\n",
    "SR = SymbolicRegression(10, functions=functions_op, operators=operators_op, custom_functions_dict=custom_functions_dict)\n",
    "SR.fit(np.c_[X1],y1, feature_names=[\"x\"])"
   ]
  },
  {
   "cell_type": "code",
   "execution_count": 24,
   "metadata": {},
   "outputs": [
    {
     "data": {
      "image/svg+xml": [
       "<?xml version=\"1.0\" encoding=\"UTF-8\" standalone=\"no\"?>\n",
       "<!DOCTYPE svg PUBLIC \"-//W3C//DTD SVG 1.1//EN\"\n",
       " \"http://www.w3.org/Graphics/SVG/1.1/DTD/svg11.dtd\">\n",
       "<!-- Generated by graphviz version 2.50.0 (0)\n",
       " -->\n",
       "<!-- Pages: 1 -->\n",
       "<svg width=\"62pt\" height=\"44pt\"\n",
       " viewBox=\"0.00 0.00 62.00 44.00\" xmlns=\"http://www.w3.org/2000/svg\" xmlns:xlink=\"http://www.w3.org/1999/xlink\">\n",
       "<g id=\"graph0\" class=\"graph\" transform=\"scale(1 1) rotate(0) translate(4 40)\">\n",
       "<polygon fill=\"white\" stroke=\"transparent\" points=\"-4,4 -4,-40 58,-40 58,4 -4,4\"/>\n",
       "<!-- 0 -->\n",
       "<g id=\"node1\" class=\"node\">\n",
       "<title>0</title>\n",
       "<ellipse fill=\"none\" stroke=\"black\" cx=\"27\" cy=\"-18\" rx=\"27\" ry=\"18\"/>\n",
       "<text text-anchor=\"middle\" x=\"27\" y=\"-14.3\" font-family=\"Times New Roman,serif\" font-size=\"14.00\">x</text>\n",
       "</g>\n",
       "</g>\n",
       "</svg>\n"
      ],
      "text/plain": [
       "<graphviz.graphs.Digraph at 0x173e5ac1e80>"
      ]
     },
     "metadata": {},
     "output_type": "display_data"
    },
    {
     "data": {
      "text/plain": [
       "1"
      ]
     },
     "execution_count": 24,
     "metadata": {},
     "output_type": "execute_result"
    }
   ],
   "source": [
    "tree = SR.generate_expr(0)\n",
    "display(tree.visualize_tree())\n",
    "len(tree)"
   ]
  },
  {
   "cell_type": "code",
   "execution_count": 83,
   "metadata": {},
   "outputs": [
    {
     "data": {
      "image/svg+xml": [
       "<?xml version=\"1.0\" encoding=\"UTF-8\" standalone=\"no\"?>\n",
       "<!DOCTYPE svg PUBLIC \"-//W3C//DTD SVG 1.1//EN\"\n",
       " \"http://www.w3.org/Graphics/SVG/1.1/DTD/svg11.dtd\">\n",
       "<!-- Generated by graphviz version 2.50.0 (0)\n",
       " -->\n",
       "<!-- Pages: 1 -->\n",
       "<svg width=\"183pt\" height=\"188pt\"\n",
       " viewBox=\"0.00 0.00 183.09 188.00\" xmlns=\"http://www.w3.org/2000/svg\" xmlns:xlink=\"http://www.w3.org/1999/xlink\">\n",
       "<g id=\"graph0\" class=\"graph\" transform=\"scale(1 1) rotate(0) translate(4 184)\">\n",
       "<polygon fill=\"white\" stroke=\"transparent\" points=\"-4,4 -4,-184 179.09,-184 179.09,4 -4,4\"/>\n",
       "<!-- 0 -->\n",
       "<g id=\"node1\" class=\"node\">\n",
       "<title>0</title>\n",
       "<ellipse fill=\"none\" stroke=\"black\" cx=\"106.55\" cy=\"-162\" rx=\"27\" ry=\"18\"/>\n",
       "<text text-anchor=\"middle\" x=\"106.55\" y=\"-158.3\" font-family=\"Times New Roman,serif\" font-size=\"14.00\">+</text>\n",
       "</g>\n",
       "<!-- 1 -->\n",
       "<g id=\"node2\" class=\"node\">\n",
       "<title>1</title>\n",
       "<ellipse fill=\"none\" stroke=\"black\" cx=\"68.55\" cy=\"-90\" rx=\"27\" ry=\"18\"/>\n",
       "<text text-anchor=\"middle\" x=\"68.55\" y=\"-86.3\" font-family=\"Times New Roman,serif\" font-size=\"14.00\">*</text>\n",
       "</g>\n",
       "<!-- 0&#45;&gt;1 -->\n",
       "<g id=\"edge1\" class=\"edge\">\n",
       "<title>0&#45;&gt;1</title>\n",
       "<path fill=\"none\" stroke=\"black\" d=\"M97.73,-144.76C93.13,-136.28 87.39,-125.71 82.23,-116.2\"/>\n",
       "<polygon fill=\"black\" stroke=\"black\" points=\"85.16,-114.27 77.31,-107.15 79.01,-117.61 85.16,-114.27\"/>\n",
       "</g>\n",
       "<!-- 4 -->\n",
       "<g id=\"node3\" class=\"node\">\n",
       "<title>4</title>\n",
       "<ellipse fill=\"none\" stroke=\"black\" cx=\"144.55\" cy=\"-90\" rx=\"30.59\" ry=\"18\"/>\n",
       "<text text-anchor=\"middle\" x=\"144.55\" y=\"-86.3\" font-family=\"Times New Roman,serif\" font-size=\"14.00\">0.423</text>\n",
       "</g>\n",
       "<!-- 0&#45;&gt;4 -->\n",
       "<g id=\"edge2\" class=\"edge\">\n",
       "<title>0&#45;&gt;4</title>\n",
       "<path fill=\"none\" stroke=\"black\" d=\"M115.36,-144.76C119.9,-136.4 125.54,-126.02 130.65,-116.61\"/>\n",
       "<polygon fill=\"black\" stroke=\"black\" points=\"133.82,-118.09 135.52,-107.63 127.67,-114.75 133.82,-118.09\"/>\n",
       "</g>\n",
       "<!-- 2 -->\n",
       "<g id=\"node4\" class=\"node\">\n",
       "<title>2</title>\n",
       "<ellipse fill=\"none\" stroke=\"black\" cx=\"30.55\" cy=\"-18\" rx=\"30.59\" ry=\"18\"/>\n",
       "<text text-anchor=\"middle\" x=\"30.55\" y=\"-14.3\" font-family=\"Times New Roman,serif\" font-size=\"14.00\">0.212</text>\n",
       "</g>\n",
       "<!-- 1&#45;&gt;2 -->\n",
       "<g id=\"edge3\" class=\"edge\">\n",
       "<title>1&#45;&gt;2</title>\n",
       "<path fill=\"none\" stroke=\"black\" d=\"M59.73,-72.76C55.2,-64.4 49.56,-54.02 44.45,-44.61\"/>\n",
       "<polygon fill=\"black\" stroke=\"black\" points=\"47.42,-42.75 39.58,-35.63 41.27,-46.09 47.42,-42.75\"/>\n",
       "</g>\n",
       "<!-- 3 -->\n",
       "<g id=\"node5\" class=\"node\">\n",
       "<title>3</title>\n",
       "<ellipse fill=\"none\" stroke=\"black\" cx=\"106.55\" cy=\"-18\" rx=\"27\" ry=\"18\"/>\n",
       "<text text-anchor=\"middle\" x=\"106.55\" y=\"-14.3\" font-family=\"Times New Roman,serif\" font-size=\"14.00\">x</text>\n",
       "</g>\n",
       "<!-- 1&#45;&gt;3 -->\n",
       "<g id=\"edge4\" class=\"edge\">\n",
       "<title>1&#45;&gt;3</title>\n",
       "<path fill=\"none\" stroke=\"black\" d=\"M77.36,-72.76C81.97,-64.28 87.7,-53.71 92.87,-44.2\"/>\n",
       "<polygon fill=\"black\" stroke=\"black\" points=\"96.09,-45.61 97.78,-35.15 89.93,-42.27 96.09,-45.61\"/>\n",
       "</g>\n",
       "</g>\n",
       "</svg>\n"
      ],
      "text/plain": [
       "<graphviz.graphs.Digraph at 0x173e5ac18e0>"
      ]
     },
     "execution_count": 83,
     "metadata": {},
     "output_type": "execute_result"
    }
   ],
   "source": [
    "new_AEG = SR.mutateSExp(SR._convert_to_AEG(tree))\n",
    "new_AEG.sexp.visualize_tree()"
   ]
  },
  {
   "cell_type": "code",
   "execution_count": 26,
   "metadata": {},
   "outputs": [
    {
     "data": {
      "text/latex": [
       "$\\displaystyle 24.300000000603684 x + 1.569999997931012$"
      ],
      "text/plain": [
       "24.300000000603684*x + 1.569999997931012"
      ]
     },
     "metadata": {},
     "output_type": "display_data"
    },
    {
     "data": {
      "image/svg+xml": [
       "<?xml version=\"1.0\" encoding=\"UTF-8\" standalone=\"no\"?>\n",
       "<!DOCTYPE svg PUBLIC \"-//W3C//DTD SVG 1.1//EN\"\n",
       " \"http://www.w3.org/Graphics/SVG/1.1/DTD/svg11.dtd\">\n",
       "<!-- Generated by graphviz version 2.50.0 (0)\n",
       " -->\n",
       "<!-- Pages: 1 -->\n",
       "<svg width=\"574pt\" height=\"332pt\"\n",
       " viewBox=\"0.00 0.00 574.19 332.00\" xmlns=\"http://www.w3.org/2000/svg\" xmlns:xlink=\"http://www.w3.org/1999/xlink\">\n",
       "<g id=\"graph0\" class=\"graph\" transform=\"scale(1 1) rotate(0) translate(4 328)\">\n",
       "<polygon fill=\"white\" stroke=\"transparent\" points=\"-4,4 -4,-328 570.19,-328 570.19,4 -4,4\"/>\n",
       "<!-- 0 -->\n",
       "<g id=\"node1\" class=\"node\">\n",
       "<title>0</title>\n",
       "<ellipse fill=\"none\" stroke=\"black\" cx=\"347.19\" cy=\"-306\" rx=\"27\" ry=\"18\"/>\n",
       "<text text-anchor=\"middle\" x=\"347.19\" y=\"-302.3\" font-family=\"Times New Roman,serif\" font-size=\"14.00\">+</text>\n",
       "</g>\n",
       "<!-- 1 -->\n",
       "<g id=\"node2\" class=\"node\">\n",
       "<title>1</title>\n",
       "<ellipse fill=\"none\" stroke=\"black\" cx=\"283.19\" cy=\"-234\" rx=\"27\" ry=\"18\"/>\n",
       "<text text-anchor=\"middle\" x=\"283.19\" y=\"-230.3\" font-family=\"Times New Roman,serif\" font-size=\"14.00\">+</text>\n",
       "</g>\n",
       "<!-- 0&#45;&gt;1 -->\n",
       "<g id=\"edge1\" class=\"edge\">\n",
       "<title>0&#45;&gt;1</title>\n",
       "<path fill=\"none\" stroke=\"black\" d=\"M333.62,-290.15C324.88,-280.6 313.36,-267.99 303.53,-257.25\"/>\n",
       "<polygon fill=\"black\" stroke=\"black\" points=\"306.08,-254.84 296.75,-249.82 300.91,-259.57 306.08,-254.84\"/>\n",
       "</g>\n",
       "<!-- 10 -->\n",
       "<g id=\"node3\" class=\"node\">\n",
       "<title>10</title>\n",
       "<ellipse fill=\"none\" stroke=\"black\" cx=\"411.19\" cy=\"-234\" rx=\"27\" ry=\"18\"/>\n",
       "<text text-anchor=\"middle\" x=\"411.19\" y=\"-230.3\" font-family=\"Times New Roman,serif\" font-size=\"14.00\">*</text>\n",
       "</g>\n",
       "<!-- 0&#45;&gt;10 -->\n",
       "<g id=\"edge2\" class=\"edge\">\n",
       "<title>0&#45;&gt;10</title>\n",
       "<path fill=\"none\" stroke=\"black\" d=\"M360.77,-290.15C369.51,-280.6 381.03,-267.99 390.85,-257.25\"/>\n",
       "<polygon fill=\"black\" stroke=\"black\" points=\"393.47,-259.57 397.64,-249.82 388.31,-254.84 393.47,-259.57\"/>\n",
       "</g>\n",
       "<!-- 2 -->\n",
       "<g id=\"node4\" class=\"node\">\n",
       "<title>2</title>\n",
       "<ellipse fill=\"none\" stroke=\"black\" cx=\"211.19\" cy=\"-162\" rx=\"27\" ry=\"18\"/>\n",
       "<text text-anchor=\"middle\" x=\"211.19\" y=\"-158.3\" font-family=\"Times New Roman,serif\" font-size=\"14.00\">&#45;</text>\n",
       "</g>\n",
       "<!-- 1&#45;&gt;2 -->\n",
       "<g id=\"edge3\" class=\"edge\">\n",
       "<title>1&#45;&gt;2</title>\n",
       "<path fill=\"none\" stroke=\"black\" d=\"M268.62,-218.83C258.44,-208.94 244.67,-195.55 233.16,-184.36\"/>\n",
       "<polygon fill=\"black\" stroke=\"black\" points=\"235.6,-181.85 225.99,-177.38 230.72,-186.87 235.6,-181.85\"/>\n",
       "</g>\n",
       "<!-- 5 -->\n",
       "<g id=\"node5\" class=\"node\">\n",
       "<title>5</title>\n",
       "<ellipse fill=\"none\" stroke=\"black\" cx=\"283.19\" cy=\"-162\" rx=\"27\" ry=\"18\"/>\n",
       "<text text-anchor=\"middle\" x=\"283.19\" y=\"-158.3\" font-family=\"Times New Roman,serif\" font-size=\"14.00\">*</text>\n",
       "</g>\n",
       "<!-- 1&#45;&gt;5 -->\n",
       "<g id=\"edge4\" class=\"edge\">\n",
       "<title>1&#45;&gt;5</title>\n",
       "<path fill=\"none\" stroke=\"black\" d=\"M283.19,-215.7C283.19,-207.98 283.19,-198.71 283.19,-190.11\"/>\n",
       "<polygon fill=\"black\" stroke=\"black\" points=\"286.69,-190.1 283.19,-180.1 279.69,-190.1 286.69,-190.1\"/>\n",
       "</g>\n",
       "<!-- 11 -->\n",
       "<g id=\"node12\" class=\"node\">\n",
       "<title>11</title>\n",
       "<ellipse fill=\"none\" stroke=\"black\" cx=\"411.19\" cy=\"-162\" rx=\"83.39\" ry=\"18\"/>\n",
       "<text text-anchor=\"middle\" x=\"411.19\" y=\"-158.3\" font-family=\"Times New Roman,serif\" font-size=\"14.00\">7.489075189386148</text>\n",
       "</g>\n",
       "<!-- 10&#45;&gt;11 -->\n",
       "<g id=\"edge11\" class=\"edge\">\n",
       "<title>10&#45;&gt;11</title>\n",
       "<path fill=\"none\" stroke=\"black\" d=\"M411.19,-215.7C411.19,-207.98 411.19,-198.71 411.19,-190.11\"/>\n",
       "<polygon fill=\"black\" stroke=\"black\" points=\"414.69,-190.1 411.19,-180.1 407.69,-190.1 414.69,-190.1\"/>\n",
       "</g>\n",
       "<!-- 12 -->\n",
       "<g id=\"node13\" class=\"node\">\n",
       "<title>12</title>\n",
       "<ellipse fill=\"none\" stroke=\"black\" cx=\"539.19\" cy=\"-162\" rx=\"27\" ry=\"18\"/>\n",
       "<text text-anchor=\"middle\" x=\"539.19\" y=\"-158.3\" font-family=\"Times New Roman,serif\" font-size=\"14.00\">x</text>\n",
       "</g>\n",
       "<!-- 10&#45;&gt;12 -->\n",
       "<g id=\"edge12\" class=\"edge\">\n",
       "<title>10&#45;&gt;12</title>\n",
       "<path fill=\"none\" stroke=\"black\" d=\"M431.47,-221.91C452.63,-210.34 486,-192.09 510,-178.97\"/>\n",
       "<polygon fill=\"black\" stroke=\"black\" points=\"511.91,-181.91 519.01,-174.04 508.55,-175.77 511.91,-181.91\"/>\n",
       "</g>\n",
       "<!-- 3 -->\n",
       "<g id=\"node6\" class=\"node\">\n",
       "<title>3</title>\n",
       "<ellipse fill=\"none\" stroke=\"black\" cx=\"83.19\" cy=\"-90\" rx=\"83.39\" ry=\"18\"/>\n",
       "<text text-anchor=\"middle\" x=\"83.19\" y=\"-86.3\" font-family=\"Times New Roman,serif\" font-size=\"14.00\">1.569999997931012</text>\n",
       "</g>\n",
       "<!-- 2&#45;&gt;3 -->\n",
       "<g id=\"edge5\" class=\"edge\">\n",
       "<title>2&#45;&gt;3</title>\n",
       "<path fill=\"none\" stroke=\"black\" d=\"M190.91,-149.91C172.24,-139.7 144.06,-124.29 121.21,-111.79\"/>\n",
       "<polygon fill=\"black\" stroke=\"black\" points=\"122.88,-108.71 112.43,-106.99 119.52,-114.86 122.88,-108.71\"/>\n",
       "</g>\n",
       "<!-- 4 -->\n",
       "<g id=\"node7\" class=\"node\">\n",
       "<title>4</title>\n",
       "<ellipse fill=\"none\" stroke=\"black\" cx=\"211.19\" cy=\"-90\" rx=\"27\" ry=\"18\"/>\n",
       "<text text-anchor=\"middle\" x=\"211.19\" y=\"-86.3\" font-family=\"Times New Roman,serif\" font-size=\"14.00\">x</text>\n",
       "</g>\n",
       "<!-- 2&#45;&gt;4 -->\n",
       "<g id=\"edge6\" class=\"edge\">\n",
       "<title>2&#45;&gt;4</title>\n",
       "<path fill=\"none\" stroke=\"black\" d=\"M211.19,-143.7C211.19,-135.98 211.19,-126.71 211.19,-118.11\"/>\n",
       "<polygon fill=\"black\" stroke=\"black\" points=\"214.69,-118.1 211.19,-108.1 207.69,-118.1 214.69,-118.1\"/>\n",
       "</g>\n",
       "<!-- 6 -->\n",
       "<g id=\"node8\" class=\"node\">\n",
       "<title>6</title>\n",
       "<ellipse fill=\"none\" stroke=\"black\" cx=\"283.19\" cy=\"-90\" rx=\"27\" ry=\"18\"/>\n",
       "<text text-anchor=\"middle\" x=\"283.19\" y=\"-86.3\" font-family=\"Times New Roman,serif\" font-size=\"14.00\">+</text>\n",
       "</g>\n",
       "<!-- 5&#45;&gt;6 -->\n",
       "<g id=\"edge7\" class=\"edge\">\n",
       "<title>5&#45;&gt;6</title>\n",
       "<path fill=\"none\" stroke=\"black\" d=\"M283.19,-143.7C283.19,-135.98 283.19,-126.71 283.19,-118.11\"/>\n",
       "<polygon fill=\"black\" stroke=\"black\" points=\"286.69,-118.1 283.19,-108.1 279.69,-118.1 286.69,-118.1\"/>\n",
       "</g>\n",
       "<!-- 9 -->\n",
       "<g id=\"node9\" class=\"node\">\n",
       "<title>9</title>\n",
       "<ellipse fill=\"none\" stroke=\"black\" cx=\"355.19\" cy=\"-90\" rx=\"27\" ry=\"18\"/>\n",
       "<text text-anchor=\"middle\" x=\"355.19\" y=\"-86.3\" font-family=\"Times New Roman,serif\" font-size=\"14.00\">x</text>\n",
       "</g>\n",
       "<!-- 5&#45;&gt;9 -->\n",
       "<g id=\"edge8\" class=\"edge\">\n",
       "<title>5&#45;&gt;9</title>\n",
       "<path fill=\"none\" stroke=\"black\" d=\"M297.76,-146.83C307.94,-136.94 321.72,-123.55 333.22,-112.36\"/>\n",
       "<polygon fill=\"black\" stroke=\"black\" points=\"335.67,-114.87 340.4,-105.38 330.79,-109.85 335.67,-114.87\"/>\n",
       "</g>\n",
       "<!-- 7 -->\n",
       "<g id=\"node10\" class=\"node\">\n",
       "<title>7</title>\n",
       "<ellipse fill=\"none\" stroke=\"black\" cx=\"188.19\" cy=\"-18\" rx=\"83.39\" ry=\"18\"/>\n",
       "<text text-anchor=\"middle\" x=\"188.19\" y=\"-14.3\" font-family=\"Times New Roman,serif\" font-size=\"14.00\">14.12397496747079</text>\n",
       "</g>\n",
       "<!-- 6&#45;&gt;7 -->\n",
       "<g id=\"edge9\" class=\"edge\">\n",
       "<title>6&#45;&gt;7</title>\n",
       "<path fill=\"none\" stroke=\"black\" d=\"M265.77,-76.16C252.66,-66.5 234.36,-53.02 218.83,-41.58\"/>\n",
       "<polygon fill=\"black\" stroke=\"black\" points=\"220.66,-38.58 210.54,-35.46 216.51,-44.21 220.66,-38.58\"/>\n",
       "</g>\n",
       "<!-- 8 -->\n",
       "<g id=\"node11\" class=\"node\">\n",
       "<title>8</title>\n",
       "<ellipse fill=\"none\" stroke=\"black\" cx=\"377.19\" cy=\"-18\" rx=\"87.99\" ry=\"18\"/>\n",
       "<text text-anchor=\"middle\" x=\"377.19\" y=\"-14.3\" font-family=\"Times New Roman,serif\" font-size=\"14.00\">3.6869498437467465</text>\n",
       "</g>\n",
       "<!-- 6&#45;&gt;8 -->\n",
       "<g id=\"edge10\" class=\"edge\">\n",
       "<title>6&#45;&gt;8</title>\n",
       "<path fill=\"none\" stroke=\"black\" d=\"M300.87,-75.83C313.8,-66.21 331.64,-52.92 346.83,-41.61\"/>\n",
       "<polygon fill=\"black\" stroke=\"black\" points=\"349.02,-44.35 354.95,-35.57 344.83,-38.73 349.02,-44.35\"/>\n",
       "</g>\n",
       "</g>\n",
       "</svg>\n"
      ],
      "text/plain": [
       "<graphviz.graphs.Digraph at 0x204ac116dc0>"
      ]
     },
     "metadata": {},
     "output_type": "display_data"
    },
    {
     "data": {
      "text/plain": [
       "4.76759676974552e-18"
      ]
     },
     "metadata": {},
     "output_type": "display_data"
    },
    {
     "data": {
      "image/png": "[encoded data removed]",
      "text/plain": [
       "<Figure size 640x480 with 1 Axes>"
      ]
     },
     "metadata": {},
     "output_type": "display_data"
    }
   ],
   "source": [
    "with open(\"Outputs/article_tests_new/dual_annealing/trees/tree-40-10-0\", \"rb\") as file:\n",
    "    tree = pickle.load(file)\n",
    "    smp_expr = tree.toSmpExpr(SR._operators, SR._functions, SR.custom_functions_dict)\n",
    "    display(smp_expr)\n",
    "    \n",
    "display(tree.visualize_tree())\n",
    "display(SR.fitness_score(tree))\n",
    "\n",
    "# ======================\n",
    "smp_func, _ = tree.toFunc(SR._operators, SR._functions, SR.custom_functions_dict)\n",
    "\n",
    "\n",
    "# smp_expr = smp_expr.subs(x, (x - X1.min())/(X1.max() - X1.min()))\n",
    "# smp_expr = smp_expr.subs(x, (X1.max() - X1.min())*x + X1.min() )\n",
    "# smp_expr = (y1.max() - y1.min())*smp_expr + y1.min()\n",
    "# smp_expr = (y1_max - y1_min)*smp_expr + y1_min\n",
    "# smp_expr = (smp_expr - y1.min())/(y1.max() - y1.min())\n",
    "# display(smp_expr)\n",
    "\n",
    "smp_func = SR.toFunc(tree)\n",
    "\n",
    "X = np.linspace(-2, 2, 1000)\n",
    "y = smp_func(X)\n",
    "\n",
    "plt.plot(X1, y1, label=\"F1\")\n",
    "plt.plot(X, y, label=\"Predicted\")\n",
    "plt.legend()\n",
    "plt.show()\n",
    "# plt.plot(scaler.fit_transform(np.c_[X1]), scaler.fit_transform(np.c_[y1]), label=\"F1\")\n",
    "# plt.plot(scaler.fit_transform(np.c_[X]), scaler.fit_transform(np.c_[y]), label=\"predicted\")\n",
    "# plt.legend()\n"
   ]
  },
  {
   "cell_type": "code",
   "execution_count": null,
   "metadata": {},
   "outputs": [],
   "source": [
    "SR.fitness_score(tree)"
   ]
  },
  {
   "cell_type": "code",
   "execution_count": null,
   "metadata": {},
   "outputs": [],
   "source": [
    "AEG = SR._convert_to_AEG(tree)\n",
    "display(AEG.sexp.visualize_tree())\n",
    "SR.optimization_kind = \"LS\""
   ]
  },
  {
   "cell_type": "code",
   "execution_count": null,
   "metadata": {},
   "outputs": [],
   "source": [
    "new_AEG.pool"
   ]
  },
  {
   "cell_type": "code",
   "execution_count": null,
   "metadata": {},
   "outputs": [],
   "source": [
    "new_AEG, _ = SR.optimizeConstants(AEG, 0, 0, check_pool=False)\n",
    "display(new_AEG.sexp.visualize_tree())\n",
    "\n",
    "func = SR.toFunc(new_AEG.sexp)\n",
    "\n",
    "X = np.linspace(-2, 2, 1000)\n",
    "y = func(X)\n",
    "\n",
    "plt.plot(X1, y1, label=\"F1\")\n",
    "plt.plot(X, y, label=\"Predicted\")\n",
    "plt.legend()\n",
    "plt.show()\n",
    "\n",
    "SR.fitness_score(new_AEG)"
   ]
  },
  {
   "cell_type": "code",
   "execution_count": null,
   "metadata": {},
   "outputs": [],
   "source": [
    "from scipy.optimize import curve_fit\n",
    "\n",
    "def func(x, a, b, c, d, e):\n",
    "    return a*b*x*(c+d/e)\n",
    "\n",
    "params, _ = curve_fit(SR.toFunc(AEG), X1, y1, [0.345, 3.644, 11.683, 10.874, 2.344])\n",
    "print(params)\n",
    "\n",
    "X = np.linspace(-2, 2, 1000)\n",
    "y = func(X, *params)\n",
    "\n",
    "plt.plot(X1, y1, label=\"F1\")\n",
    "plt.plot(X, y, label=\"Predicted\")\n",
    "plt.legend()\n",
    "plt.show()\n",
    "\n",
    "np.mean((y1-y)**2)"
   ]
  },
  {
   "cell_type": "markdown",
   "metadata": {},
   "source": [
    "# F7"
   ]
  },
  {
   "cell_type": "code",
   "execution_count": null,
   "metadata": {},
   "outputs": [],
   "source": [
    "optimization_kind = \"LS\"\n",
    "func = f7\n",
    "x_range = [-2,2]\n",
    "n_points = 1000\n",
    "population = 4000\n",
    "generations = 10\n",
    "const_range = (0,15)\n",
    "dir_path = \"Outputs/article_tests_new/F7\""
   ]
  },
  {
   "cell_type": "code",
   "execution_count": null,
   "metadata": {},
   "outputs": [],
   "source": [
    "optimization_opts = [\"PSO\", \"LS\", \"random_LS\", \"differential_evolution\", \"dual_annealing\"]\n",
    "main_path = \"Outputs/article_tests_new/F7/\"\n",
    "paths = [main_path + i for i in optimization_opts]\n",
    "paths"
   ]
  },
  {
   "cell_type": "code",
   "execution_count": null,
   "metadata": {},
   "outputs": [],
   "source": [
    "def create_dirs(path):\n",
    "    if not os.path.exists(path+\"/data\"):\n",
    "        os.makedirs(path+\"/data\")\n",
    "    if not os.path.exists(path+\"/trees\"):\n",
    "        os.makedirs(path+\"/trees\")\n",
    "\n",
    "for path in paths:\n",
    "    create_dirs(path)"
   ]
  },
  {
   "cell_type": "code",
   "execution_count": null,
   "metadata": {},
   "outputs": [],
   "source": [
    "for optimization_kind in optimization_opts:\n",
    "    dir_path = main_path + optimization_kind\n",
    "    X, y, operators, functions = testAlgorithm(func, x_range, n_points, dir_path, population, generations,\n",
    "                                          normalize=True, const_range=const_range,\n",
    "                                          ignore_warning=True, overwrite=True, n_runs=n_runs, \n",
    "                                          functions=functions_op, operators = operators_op,\n",
    "                                          optimization_kind=optimization_kind, custom_functions_dict=custom_functions_dict,\n",
    "                                          SEED=SEED)"
   ]
  },
  {
   "cell_type": "markdown",
   "metadata": {},
   "source": [
    "# F11"
   ]
  },
  {
   "cell_type": "code",
   "execution_count": null,
   "metadata": {},
   "outputs": [],
   "source": [
    "optimization_kind = \"LS\"\n",
    "func = f11\n",
    "x_range = [-2,2]\n",
    "n_points = 1000\n",
    "population = 4000\n",
    "generations = 10\n",
    "const_range = (0,15)\n",
    "dir_path = \"Outputs/article_tests_new/F11\""
   ]
  },
  {
   "cell_type": "code",
   "execution_count": null,
   "metadata": {},
   "outputs": [],
   "source": [
    "optimization_opts = [\"PSO\", \"LS\", \"random_LS\", \"differential_evolution\", \"dual_annealing\"]\n",
    "main_path = \"Outputs/article_tests_new/F11/\"\n",
    "paths = [main_path + i for i in optimization_opts]\n",
    "paths"
   ]
  },
  {
   "cell_type": "code",
   "execution_count": null,
   "metadata": {},
   "outputs": [],
   "source": [
    "def create_dirs(path):\n",
    "    if not os.path.exists(path+\"/data\"):\n",
    "        os.makedirs(path+\"/data\")\n",
    "    if not os.path.exists(path+\"/trees\"):\n",
    "        os.makedirs(path+\"/trees\")\n",
    "\n",
    "for path in paths:\n",
    "    create_dirs(path)"
   ]
  },
  {
   "cell_type": "code",
   "execution_count": null,
   "metadata": {},
   "outputs": [],
   "source": [
    "for optimization_kind in optimization_opts:\n",
    "    dir_path = main_path + optimization_kind\n",
    "    X, y, operators, functions = testAlgorithm(func, x_range, n_points, dir_path, population, generations,\n",
    "                                          normalize=True, const_range=const_range,\n",
    "                                          ignore_warning=True, overwrite=True, n_runs=n_runs, \n",
    "                                          functions=functions_op, operators = operators_op,\n",
    "                                          optimization_kind=optimization_kind, custom_functions_dict=custom_functions_dict,\n",
    "                                          SEED=SEED)"
   ]
  },
  {
   "cell_type": "markdown",
   "metadata": {},
   "source": [
    "# F2"
   ]
  },
  {
   "cell_type": "code",
   "execution_count": null,
   "metadata": {},
   "outputs": [],
   "source": [
    "n_runs = 3\n",
    "n_generations = 10\n",
    "pop_size = 40\n",
    "random_const_range = (0, 15)"
   ]
  },
  {
   "cell_type": "code",
   "execution_count": null,
   "metadata": {},
   "outputs": [],
   "source": [
    "operators_op = {\"+\": lambda a,b: np.add(a,b), \"*\": lambda a,b: np.multiply(a,b),\n",
    "                \"/\": lambda a,b: np.divide(a,b), \"-\": lambda a,b: np.subtract(a,b)}\n",
    "functions_op = {\"sin\": lambda a: np.sin(a), \"cos\": lambda a: np.cos(a),\n",
    "                \"square\": lambda a: a**2, \"cube\": lambda a: a**3}\n",
    "custom_functions_dict = {\"cube\": [\"(\", \")**3\"], \"square\": [\"(\", \")**2\"]}"
   ]
  },
  {
   "cell_type": "code",
   "execution_count": null,
   "metadata": {},
   "outputs": [],
   "source": [
    "from sklearn.preprocessing import MinMaxScaler\n",
    "\n",
    "scaler = MinMaxScaler()"
   ]
  },
  {
   "cell_type": "code",
   "execution_count": null,
   "metadata": {},
   "outputs": [],
   "source": [
    "def f2(v, y, w):\n",
    "    return 0.23 + 14.2*(v+y)/(3*w)\n",
    "\n",
    "v2 = np.linspace(-2, 2, 1000)\n",
    "v2 = scaler.fit_transform(np.c_[v2])\n",
    "y2 = np.linspace(-2, 2, 1000)\n",
    "y2 = scaler.fit_transform(np.c_[y2])\n",
    "w2 = np.linspace(-2, 2, 1000)\n",
    "w2 = scaler.fit_transform(np.c_[w2])\n",
    "Y2 = f2(v2, y2, w2)\n",
    "Y2 = scaler.fit_transform(np.c_[Y2]).reshape(-1)\n",
    "Y2[0] = 0.0"
   ]
  },
  {
   "cell_type": "code",
   "execution_count": null,
   "metadata": {},
   "outputs": [],
   "source": [
    "optimization_kind = \"LS\"\n",
    "# func = f11\n",
    "x_range = [-1,1]\n",
    "n_points = 1000\n",
    "population = 40\n",
    "generations = 10\n",
    "const_range = (0,15)\n",
    "n_runs = 3\n",
    "dir_path = \"Outputs/article_tests_new/F2\""
   ]
  },
  {
   "cell_type": "code",
   "execution_count": null,
   "metadata": {},
   "outputs": [],
   "source": [
    "optimization_opts = [\"PSO\", \"LS\", \"random_LS\", \"differential_evolution\", \"dual_annealing\"]\n",
    "main_path = \"Outputs/article_tests_new/F2/\"\n",
    "paths = [main_path + i for i in optimization_opts]\n",
    "paths"
   ]
  },
  {
   "cell_type": "code",
   "execution_count": null,
   "metadata": {},
   "outputs": [],
   "source": [
    "def create_dirs(path):\n",
    "    if not os.path.exists(path+\"/data\"):\n",
    "        os.makedirs(path+\"/data\")\n",
    "    if not os.path.exists(path+\"/trees\"):\n",
    "        os.makedirs(path+\"/trees\")\n",
    "\n",
    "for path in paths:\n",
    "    create_dirs(path)"
   ]
  },
  {
   "cell_type": "code",
   "execution_count": null,
   "metadata": {},
   "outputs": [],
   "source": [
    "for optimization_kind in optimization_opts:\n",
    "    dir_path = main_path + optimization_kind\n",
    "    for i in range(n_runs):\n",
    "            print(f\"-=-=-=-=-=-=-=-= Training for population {population} and generation {generations} - {dir_path[dir_path.find('/')+1:]} =-=-=-=-=-=-=-=-\")\n",
    "            SR = SymbolicRegression(generations, max_population_size=population,\n",
    "                                    max_island_count=int(population/10), random_const_range=const_range,\n",
    "                                    operators=operators_op, functions=functions_op,\n",
    "                                    optimization_kind=optimization_kind,\n",
    "                                    custom_functions_dict=custom_functions_dict)\n",
    "            SR.fit(np.c_[v2, y2, w2], Y2, feature_names=[\"v\", \"w\", \"y\"])    \n",
    "            \n",
    "            start_time = time()\n",
    "            output_AEG = SR.predict()\n",
    "            end_time = time()\n",
    "            data = SR.evaluate_tree(output_AEG.sexp)\n",
    "            \n",
    "            print(f\"-=-=-=-=-=-=-= Done training for population {population} and generation {generations} - {dir_path[dir_path.find('/')+1:]} =-=-=-=-=-=-=-\")\n",
    "\n",
    "            # Writing the data =================================\n",
    "\n",
    "            # In case the output is a constant function\n",
    "            if data.shape[0] == 1:\n",
    "                data = np.array([data[0] for i in range(0, 1000)])\n",
    "\n",
    "            # data = pd.DataFrame(np.c_[X, data], columns=[\"x\", \"y\"])\n",
    "            # data.to_csv(dir_path + f\"/data/data-{population}.csv\", sep=\",\", index=False)\n",
    "\n",
    "            # graph = output_AEG.sexp.visualize_tree()\n",
    "            # graph.render(dir_path + f\"/trees/tree-{population}\", format=\"svg\")\n",
    "\n",
    "            with open(dir_path + f\"/trees/tree-{population}-{generations}-{i}\", \"wb\") as file:\n",
    "                pickle.dump(output_AEG.sexp, file)\n",
    "\n",
    "            with open(dir_path + \"/results.csv\", \"a\") as file:\n",
    "                file.write(f\"{SR.fitness_score(output_AEG)},{population},{generations},{end_time - start_time},{i}\\n\")"
   ]
  },
  {
   "cell_type": "code",
   "execution_count": null,
   "metadata": {},
   "outputs": [],
   "source": [
    "with open(\"Outputs/article_tests/F2/PSO/trees/tree-40-10-2\", \"rb\") as file:\n",
    "    tree = pickle.load(file)\n",
    "    # print(SR.evaluate_tree(tree))\n",
    "    # print(SR.y)\n",
    "tree.visualize_tree()"
   ]
  }
 ],
 "metadata": {
  "kernelspec": {
   "display_name": "base",
   "language": "python",
   "name": "python3"
  },
  "language_info": {
   "codemirror_mode": {
    "name": "ipython",
    "version": 3
   },
   "file_extension": ".py",
   "mimetype": "text/x-python",
   "name": "python",
   "nbconvert_exporter": "python",
   "pygments_lexer": "ipython3",
   "version": "3.9.13"
  }
 },
 "nbformat": 4,
 "nbformat_minor": 2
}
