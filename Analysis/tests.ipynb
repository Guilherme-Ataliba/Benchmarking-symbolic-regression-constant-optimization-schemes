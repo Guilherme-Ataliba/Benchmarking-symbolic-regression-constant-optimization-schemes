{
 "cells": [
  {
   "cell_type": "code",
   "execution_count": 1,
   "metadata": {},
   "outputs": [],
   "source": [
    "import sys\n",
    "sys.path.append('../algorithms/')\n",
    "\n",
    "from CSOWP_SR import *\n",
    "from ExpressionTree import *\n",
    "from trainAlgorithm import *\n",
    "import matplotlib.pyplot as plt"
   ]
  },
  {
   "cell_type": "code",
   "execution_count": 2,
   "metadata": {},
   "outputs": [],
   "source": [
    "operators_op = {\"+\": lambda a,b: np.add(a,b), \"*\": lambda a,b: np.multiply(a,b)}\n",
    "functions_op = {\"exp\": lambda a: np.exp(a), \"tanh\": lambda a: np.tanh(a)}\n",
    "weights_op = {\"exp\": 4, \"tanh\": 4}"
   ]
  },
  {
   "cell_type": "markdown",
   "metadata": {},
   "source": [
    "# F1"
   ]
  },
  {
   "cell_type": "code",
   "execution_count": 3,
   "metadata": {},
   "outputs": [],
   "source": [
    "def f1(x):\n",
    "    return 1.57 + 24.38*x\n",
    "\n",
    "X = np.linspace(-1, 1, 1000)\n",
    "y = f1(X)"
   ]
  },
  {
   "cell_type": "code",
   "execution_count": 4,
   "metadata": {},
   "outputs": [],
   "source": [
    "# optimization_kind = \"LS\"\n",
    "func = f1\n",
    "x_range = [-1,1]\n",
    "n_points = 1000\n",
    "population = 40\n",
    "generations = 10\n",
    "const_range = (0,15)\n",
    "dir_path = \"Outputs/new_test/\"\n",
    "n_runs = 3\n",
    "max_expression_size = 5"
   ]
  },
  {
   "cell_type": "markdown",
   "metadata": {},
   "source": [
    "# Notes"
   ]
  },
  {
   "cell_type": "markdown",
   "metadata": {},
   "source": [
    "# Training the model ===============================\n",
    "for i in range(n_runs):\n",
    "    print(f\"-=-=-=-=-=-=-=-= Training for population {population} and generation {generations} - {dir_path[dir_path.find('/')+1:]} =-=-=-=-=-=-=-=-\")\n",
    "    SR = SymbolicRegression(generations, max_expression_size, max_population_size=population,\n",
    "                            max_island_count=int(population/10), random_const_range=const_range,\n",
    "                            operators=operators_op, functions=functions_op, weights=weights_op)\n",
    "    SR.fit(np.c_[X], y, feature_names=[\"x\"])\n",
    "\n",
    "    start_time = time()\n",
    "    output_AEG = SR.predict()\n",
    "    end_time = time()\n",
    "    data = SR.evaluate_tree(output_AEG.sexp)\n",
    "\n",
    "    print(f\"-=-=-=-=-=-=-= Done training for population {population} and generation {generations} - {dir_path[dir_path.find('/')+1:]} =-=-=-=-=-=-=-\")\n",
    "\n",
    "    # Writing the data =================================\n",
    "\n",
    "    # In case the output is a constant function\n",
    "    # if data.shape[0] == 1:\n",
    "    #     data = np.array([data[0] for i in range(0, 1000)])\n",
    "\n",
    "    # data = pd.DataFrame(np.c_[X, data], columns=[\"x\", \"y\"])\n",
    "    # data.to_csv(dir_path + f\"/data/data-{population}.csv\", sep=\",\", index=False)\n",
    "\n",
    "    # graph = output_AEG.sexp.visualize_tree()\n",
    "    # graph.render(dir_path + f\"/trees/tree-{population}\", format=\"svg\")\n",
    "\n",
    "    with open(dir_path + f\"/trees/tree-{population}-{generations}-{i}\", \"wb\") as file:\n",
    "        pickle.dump(output_AEG.sexp, file)\n",
    "\n",
    "    with open(dir_path + \"/results.csv\", \"a\") as file:\n",
    "        file.write(f\"{SR.fitness_score(output_AEG)},{population},{generations},{end_time - start_time},{i}\\n\")"
   ]
  },
  {
   "cell_type": "code",
   "execution_count": 19,
   "metadata": {},
   "outputs": [
    {
     "name": "stdout",
     "output_type": "stream",
     "text": [
      "-=-=-=-=-=-=-=-= Training for population 40 and generation 10 - new_test/ =-=-=-=-=-=-=-=-\n",
      "iniciou\n",
      "iniciou\n",
      "iniciou\n",
      "iniciou\n",
      "iniciou\n",
      "iniciou\n",
      "iniciou\n",
      "iniciou\n",
      "iniciou\n",
      "iniciou\n",
      "-=-=-=-=-=-=-= Done training for population 40 and generation 10 - new_test/ =-=-=-=-=-=-=-\n",
      "-=-=-=-=-=-=-=-= Training for population 40 and generation 10 - new_test/ =-=-=-=-=-=-=-=-\n",
      "iniciou\n",
      "iniciou\n",
      "iniciou\n",
      "iniciou\n",
      "iniciou\n",
      "iniciou\n",
      "iniciou\n",
      "iniciou\n",
      "iniciou\n",
      "iniciou\n",
      "-=-=-=-=-=-=-= Done training for population 40 and generation 10 - new_test/ =-=-=-=-=-=-=-\n",
      "-=-=-=-=-=-=-=-= Training for population 40 and generation 10 - new_test/ =-=-=-=-=-=-=-=-\n",
      "iniciou\n",
      "iniciou\n",
      "iniciou\n",
      "iniciou\n",
      "iniciou\n",
      "iniciou\n",
      "iniciou\n",
      "iniciou\n",
      "iniciou\n",
      "iniciou\n",
      "-=-=-=-=-=-=-= Done training for population 40 and generation 10 - new_test/ =-=-=-=-=-=-=-\n"
     ]
    }
   ],
   "source": [
    "X, y, operators, functions = testAlgorithm(func, x_range, n_points, dir_path, population, generations,\n",
    "                                          max_expression_size=max_expression_size, normalize=True, const_range=const_range,\n",
    "                                          ignore_warning=True, overwrite=True, n_runs=n_runs, \n",
    "                                          functions=functions_op, operators = operators_op)"
   ]
  },
  {
   "cell_type": "code",
   "execution_count": 21,
   "metadata": {},
   "outputs": [
    {
     "data": {
      "image/svg+xml": [
       "<?xml version=\"1.0\" encoding=\"UTF-8\" standalone=\"no\"?>\n",
       "<!DOCTYPE svg PUBLIC \"-//W3C//DTD SVG 1.1//EN\"\n",
       " \"http://www.w3.org/Graphics/SVG/1.1/DTD/svg11.dtd\">\n",
       "<!-- Generated by graphviz version 2.50.0 (0)\n",
       " -->\n",
       "<!-- Pages: 1 -->\n",
       "<svg width=\"182pt\" height=\"332pt\"\n",
       " viewBox=\"0.00 0.00 182.10 332.00\" xmlns=\"http://www.w3.org/2000/svg\" xmlns:xlink=\"http://www.w3.org/1999/xlink\">\n",
       "<g id=\"graph0\" class=\"graph\" transform=\"scale(1 1) rotate(0) translate(4 328)\">\n",
       "<polygon fill=\"white\" stroke=\"transparent\" points=\"-4,4 -4,-328 178.1,-328 178.1,4 -4,4\"/>\n",
       "<!-- 0 -->\n",
       "<g id=\"node1\" class=\"node\">\n",
       "<title>0</title>\n",
       "<ellipse fill=\"none\" stroke=\"black\" cx=\"63\" cy=\"-306\" rx=\"27\" ry=\"18\"/>\n",
       "<text text-anchor=\"middle\" x=\"63\" y=\"-302.3\" font-family=\"Times New Roman,serif\" font-size=\"14.00\">*</text>\n",
       "</g>\n",
       "<!-- 1 -->\n",
       "<g id=\"node2\" class=\"node\">\n",
       "<title>1</title>\n",
       "<ellipse fill=\"none\" stroke=\"black\" cx=\"27\" cy=\"-234\" rx=\"27\" ry=\"18\"/>\n",
       "<text text-anchor=\"middle\" x=\"27\" y=\"-230.3\" font-family=\"Times New Roman,serif\" font-size=\"14.00\">x</text>\n",
       "</g>\n",
       "<!-- 0&#45;&gt;1 -->\n",
       "<g id=\"edge1\" class=\"edge\">\n",
       "<title>0&#45;&gt;1</title>\n",
       "<path fill=\"none\" stroke=\"black\" d=\"M54.65,-288.76C50.29,-280.28 44.85,-269.71 39.96,-260.2\"/>\n",
       "<polygon fill=\"black\" stroke=\"black\" points=\"42.99,-258.44 35.3,-251.15 36.77,-261.64 42.99,-258.44\"/>\n",
       "</g>\n",
       "<!-- 2 -->\n",
       "<g id=\"node3\" class=\"node\">\n",
       "<title>2</title>\n",
       "<ellipse fill=\"none\" stroke=\"black\" cx=\"99\" cy=\"-234\" rx=\"27\" ry=\"18\"/>\n",
       "<text text-anchor=\"middle\" x=\"99\" y=\"-230.3\" font-family=\"Times New Roman,serif\" font-size=\"14.00\">tanh</text>\n",
       "</g>\n",
       "<!-- 0&#45;&gt;2 -->\n",
       "<g id=\"edge2\" class=\"edge\">\n",
       "<title>0&#45;&gt;2</title>\n",
       "<path fill=\"none\" stroke=\"black\" d=\"M71.35,-288.76C75.71,-280.28 81.15,-269.71 86.04,-260.2\"/>\n",
       "<polygon fill=\"black\" stroke=\"black\" points=\"89.23,-261.64 90.7,-251.15 83.01,-258.44 89.23,-261.64\"/>\n",
       "</g>\n",
       "<!-- 3 -->\n",
       "<g id=\"node4\" class=\"node\">\n",
       "<title>3</title>\n",
       "<ellipse fill=\"none\" stroke=\"black\" cx=\"99\" cy=\"-162\" rx=\"27\" ry=\"18\"/>\n",
       "<text text-anchor=\"middle\" x=\"99\" y=\"-158.3\" font-family=\"Times New Roman,serif\" font-size=\"14.00\">exp</text>\n",
       "</g>\n",
       "<!-- 2&#45;&gt;3 -->\n",
       "<g id=\"edge3\" class=\"edge\">\n",
       "<title>2&#45;&gt;3</title>\n",
       "<path fill=\"none\" stroke=\"black\" d=\"M99,-215.7C99,-207.98 99,-198.71 99,-190.11\"/>\n",
       "<polygon fill=\"black\" stroke=\"black\" points=\"102.5,-190.1 99,-180.1 95.5,-190.1 102.5,-190.1\"/>\n",
       "</g>\n",
       "<!-- 4 -->\n",
       "<g id=\"node5\" class=\"node\">\n",
       "<title>4</title>\n",
       "<ellipse fill=\"none\" stroke=\"black\" cx=\"99\" cy=\"-90\" rx=\"27\" ry=\"18\"/>\n",
       "<text text-anchor=\"middle\" x=\"99\" y=\"-86.3\" font-family=\"Times New Roman,serif\" font-size=\"14.00\">+</text>\n",
       "</g>\n",
       "<!-- 3&#45;&gt;4 -->\n",
       "<g id=\"edge4\" class=\"edge\">\n",
       "<title>3&#45;&gt;4</title>\n",
       "<path fill=\"none\" stroke=\"black\" d=\"M99,-143.7C99,-135.98 99,-126.71 99,-118.11\"/>\n",
       "<polygon fill=\"black\" stroke=\"black\" points=\"102.5,-118.1 99,-108.1 95.5,-118.1 102.5,-118.1\"/>\n",
       "</g>\n",
       "<!-- 5 -->\n",
       "<g id=\"node6\" class=\"node\">\n",
       "<title>5</title>\n",
       "<ellipse fill=\"none\" stroke=\"black\" cx=\"59\" cy=\"-18\" rx=\"27\" ry=\"18\"/>\n",
       "<text text-anchor=\"middle\" x=\"59\" y=\"-14.3\" font-family=\"Times New Roman,serif\" font-size=\"14.00\">x</text>\n",
       "</g>\n",
       "<!-- 4&#45;&gt;5 -->\n",
       "<g id=\"edge5\" class=\"edge\">\n",
       "<title>4&#45;&gt;5</title>\n",
       "<path fill=\"none\" stroke=\"black\" d=\"M89.72,-72.76C84.83,-64.19 78.71,-53.49 73.23,-43.9\"/>\n",
       "<polygon fill=\"black\" stroke=\"black\" points=\"76.23,-42.09 68.23,-35.15 70.15,-45.57 76.23,-42.09\"/>\n",
       "</g>\n",
       "<!-- 6 -->\n",
       "<g id=\"node7\" class=\"node\">\n",
       "<title>6</title>\n",
       "<ellipse fill=\"none\" stroke=\"black\" cx=\"139\" cy=\"-18\" rx=\"35.19\" ry=\"18\"/>\n",
       "<text text-anchor=\"middle\" x=\"139\" y=\"-14.3\" font-family=\"Times New Roman,serif\" font-size=\"14.00\">12.537</text>\n",
       "</g>\n",
       "<!-- 4&#45;&gt;6 -->\n",
       "<g id=\"edge6\" class=\"edge\">\n",
       "<title>4&#45;&gt;6</title>\n",
       "<path fill=\"none\" stroke=\"black\" d=\"M108.28,-72.76C113.05,-64.4 118.99,-54.02 124.37,-44.61\"/>\n",
       "<polygon fill=\"black\" stroke=\"black\" points=\"127.57,-46.05 129.5,-35.63 121.49,-42.58 127.57,-46.05\"/>\n",
       "</g>\n",
       "</g>\n",
       "</svg>\n"
      ],
      "text/plain": [
       "<graphviz.graphs.Digraph at 0x20affdec7f0>"
      ]
     },
     "execution_count": 21,
     "metadata": {},
     "output_type": "execute_result"
    }
   ],
   "source": [
    "with open(\"Outputs/new_test/trees/tree-40-10-2\", \"rb\") as file:\n",
    "    tree = pickle.load(file)\n",
    "\n",
    "    # smp_expr = tree.toSmpExpr(SR._operators, SR._functions, SR.custom_functions_dict)\n",
    "    # display(smp_expr)\n",
    "tree.visualize_tree()"
   ]
  },
  {
   "cell_type": "code",
   "execution_count": 27,
   "metadata": {},
   "outputs": [],
   "source": [
    "from sklearn.preprocessing import MinMaxScaler\n",
    "\n",
    "scaler = MinMaxScaler()\n",
    "\n",
    "SR.fit(scaler.fit_transform(np.c_[X]), scaler.fit_transform(np.c_[y]).reshape(-1), feature_names=[\"x\"])"
   ]
  },
  {
   "cell_type": "code",
   "execution_count": 29,
   "metadata": {},
   "outputs": [],
   "source": [
    "x = smp.symbols(\"x\")"
   ]
  },
  {
   "cell_type": "code",
   "execution_count": 38,
   "metadata": {},
   "outputs": [
    {
     "data": {
      "text/latex": [
       "$\\displaystyle x \\tanh{\\left(278451.729453361 e^{x} \\right)}$"
      ],
      "text/plain": [
       "x*tanh(278451.729453361*exp(x))"
      ]
     },
     "metadata": {},
     "output_type": "display_data"
    },
    {
     "data": {
      "image/svg+xml": [
       "<?xml version=\"1.0\" encoding=\"UTF-8\" standalone=\"no\"?>\n",
       "<!DOCTYPE svg PUBLIC \"-//W3C//DTD SVG 1.1//EN\"\n",
       " \"http://www.w3.org/Graphics/SVG/1.1/DTD/svg11.dtd\">\n",
       "<!-- Generated by graphviz version 2.50.0 (0)\n",
       " -->\n",
       "<!-- Pages: 1 -->\n",
       "<svg width=\"182pt\" height=\"332pt\"\n",
       " viewBox=\"0.00 0.00 182.10 332.00\" xmlns=\"http://www.w3.org/2000/svg\" xmlns:xlink=\"http://www.w3.org/1999/xlink\">\n",
       "<g id=\"graph0\" class=\"graph\" transform=\"scale(1 1) rotate(0) translate(4 328)\">\n",
       "<polygon fill=\"white\" stroke=\"transparent\" points=\"-4,4 -4,-328 178.1,-328 178.1,4 -4,4\"/>\n",
       "<!-- 0 -->\n",
       "<g id=\"node1\" class=\"node\">\n",
       "<title>0</title>\n",
       "<ellipse fill=\"none\" stroke=\"black\" cx=\"63\" cy=\"-306\" rx=\"27\" ry=\"18\"/>\n",
       "<text text-anchor=\"middle\" x=\"63\" y=\"-302.3\" font-family=\"Times New Roman,serif\" font-size=\"14.00\">*</text>\n",
       "</g>\n",
       "<!-- 1 -->\n",
       "<g id=\"node2\" class=\"node\">\n",
       "<title>1</title>\n",
       "<ellipse fill=\"none\" stroke=\"black\" cx=\"27\" cy=\"-234\" rx=\"27\" ry=\"18\"/>\n",
       "<text text-anchor=\"middle\" x=\"27\" y=\"-230.3\" font-family=\"Times New Roman,serif\" font-size=\"14.00\">x</text>\n",
       "</g>\n",
       "<!-- 0&#45;&gt;1 -->\n",
       "<g id=\"edge1\" class=\"edge\">\n",
       "<title>0&#45;&gt;1</title>\n",
       "<path fill=\"none\" stroke=\"black\" d=\"M54.65,-288.76C50.29,-280.28 44.85,-269.71 39.96,-260.2\"/>\n",
       "<polygon fill=\"black\" stroke=\"black\" points=\"42.99,-258.44 35.3,-251.15 36.77,-261.64 42.99,-258.44\"/>\n",
       "</g>\n",
       "<!-- 2 -->\n",
       "<g id=\"node3\" class=\"node\">\n",
       "<title>2</title>\n",
       "<ellipse fill=\"none\" stroke=\"black\" cx=\"99\" cy=\"-234\" rx=\"27\" ry=\"18\"/>\n",
       "<text text-anchor=\"middle\" x=\"99\" y=\"-230.3\" font-family=\"Times New Roman,serif\" font-size=\"14.00\">tanh</text>\n",
       "</g>\n",
       "<!-- 0&#45;&gt;2 -->\n",
       "<g id=\"edge2\" class=\"edge\">\n",
       "<title>0&#45;&gt;2</title>\n",
       "<path fill=\"none\" stroke=\"black\" d=\"M71.35,-288.76C75.71,-280.28 81.15,-269.71 86.04,-260.2\"/>\n",
       "<polygon fill=\"black\" stroke=\"black\" points=\"89.23,-261.64 90.7,-251.15 83.01,-258.44 89.23,-261.64\"/>\n",
       "</g>\n",
       "<!-- 3 -->\n",
       "<g id=\"node4\" class=\"node\">\n",
       "<title>3</title>\n",
       "<ellipse fill=\"none\" stroke=\"black\" cx=\"99\" cy=\"-162\" rx=\"27\" ry=\"18\"/>\n",
       "<text text-anchor=\"middle\" x=\"99\" y=\"-158.3\" font-family=\"Times New Roman,serif\" font-size=\"14.00\">exp</text>\n",
       "</g>\n",
       "<!-- 2&#45;&gt;3 -->\n",
       "<g id=\"edge3\" class=\"edge\">\n",
       "<title>2&#45;&gt;3</title>\n",
       "<path fill=\"none\" stroke=\"black\" d=\"M99,-215.7C99,-207.98 99,-198.71 99,-190.11\"/>\n",
       "<polygon fill=\"black\" stroke=\"black\" points=\"102.5,-190.1 99,-180.1 95.5,-190.1 102.5,-190.1\"/>\n",
       "</g>\n",
       "<!-- 4 -->\n",
       "<g id=\"node5\" class=\"node\">\n",
       "<title>4</title>\n",
       "<ellipse fill=\"none\" stroke=\"black\" cx=\"99\" cy=\"-90\" rx=\"27\" ry=\"18\"/>\n",
       "<text text-anchor=\"middle\" x=\"99\" y=\"-86.3\" font-family=\"Times New Roman,serif\" font-size=\"14.00\">+</text>\n",
       "</g>\n",
       "<!-- 3&#45;&gt;4 -->\n",
       "<g id=\"edge4\" class=\"edge\">\n",
       "<title>3&#45;&gt;4</title>\n",
       "<path fill=\"none\" stroke=\"black\" d=\"M99,-143.7C99,-135.98 99,-126.71 99,-118.11\"/>\n",
       "<polygon fill=\"black\" stroke=\"black\" points=\"102.5,-118.1 99,-108.1 95.5,-118.1 102.5,-118.1\"/>\n",
       "</g>\n",
       "<!-- 5 -->\n",
       "<g id=\"node6\" class=\"node\">\n",
       "<title>5</title>\n",
       "<ellipse fill=\"none\" stroke=\"black\" cx=\"59\" cy=\"-18\" rx=\"27\" ry=\"18\"/>\n",
       "<text text-anchor=\"middle\" x=\"59\" y=\"-14.3\" font-family=\"Times New Roman,serif\" font-size=\"14.00\">x</text>\n",
       "</g>\n",
       "<!-- 4&#45;&gt;5 -->\n",
       "<g id=\"edge5\" class=\"edge\">\n",
       "<title>4&#45;&gt;5</title>\n",
       "<path fill=\"none\" stroke=\"black\" d=\"M89.72,-72.76C84.83,-64.19 78.71,-53.49 73.23,-43.9\"/>\n",
       "<polygon fill=\"black\" stroke=\"black\" points=\"76.23,-42.09 68.23,-35.15 70.15,-45.57 76.23,-42.09\"/>\n",
       "</g>\n",
       "<!-- 6 -->\n",
       "<g id=\"node7\" class=\"node\">\n",
       "<title>6</title>\n",
       "<ellipse fill=\"none\" stroke=\"black\" cx=\"139\" cy=\"-18\" rx=\"35.19\" ry=\"18\"/>\n",
       "<text text-anchor=\"middle\" x=\"139\" y=\"-14.3\" font-family=\"Times New Roman,serif\" font-size=\"14.00\">12.537</text>\n",
       "</g>\n",
       "<!-- 4&#45;&gt;6 -->\n",
       "<g id=\"edge6\" class=\"edge\">\n",
       "<title>4&#45;&gt;6</title>\n",
       "<path fill=\"none\" stroke=\"black\" d=\"M108.28,-72.76C113.05,-64.4 118.99,-54.02 124.37,-44.61\"/>\n",
       "<polygon fill=\"black\" stroke=\"black\" points=\"127.57,-46.05 129.5,-35.63 121.49,-42.58 127.57,-46.05\"/>\n",
       "</g>\n",
       "</g>\n",
       "</svg>\n"
      ],
      "text/plain": [
       "<graphviz.graphs.Digraph at 0x20a84e90f40>"
      ]
     },
     "metadata": {},
     "output_type": "display_data"
    },
    {
     "data": {
      "text/plain": [
       "6.4249022944758185e-34"
      ]
     },
     "metadata": {},
     "output_type": "display_data"
    },
    {
     "data": {
      "text/latex": [
       "$\\displaystyle 48.76 \\left(0.5 x + 0.5\\right) \\tanh{\\left(459089.289212993 e^{0.5 x} \\right)} - 22.81$"
      ],
      "text/plain": [
       "48.76*(0.5*x + 0.5)*tanh(459089.289212993*exp(0.5*x)) - 22.81"
      ]
     },
     "metadata": {},
     "output_type": "display_data"
    },
    {
     "data": {
      "image/png": "[encoded data removed]",
      "text/plain": [
       "<Figure size 640x480 with 1 Axes>"
      ]
     },
     "metadata": {},
     "output_type": "display_data"
    },
    {
     "data": {
      "text/plain": [
       "<matplotlib.legend.Legend at 0x20a84ff4790>"
      ]
     },
     "execution_count": 38,
     "metadata": {},
     "output_type": "execute_result"
    },
    {
     "data": {
      "image/png": "[encoded data removed]",
      "text/plain": [
       "<Figure size 640x480 with 1 Axes>"
      ]
     },
     "metadata": {},
     "output_type": "display_data"
    }
   ],
   "source": [
    "with open(\"Outputs/new_test/trees/tree-40-10-2\", \"rb\") as file:\n",
    "    tree = pickle.load(file)\n",
    "    smp_expr = tree.toSmpExpr(SR._operators, SR._functions, SR.custom_functions_dict)\n",
    "    display(smp_expr)\n",
    "    \n",
    "display(tree.visualize_tree())\n",
    "display(SR.fitness_score(tree))\n",
    "\n",
    "# ======================\n",
    "smp_func, _ = tree.toFunc(SR._operators, SR._functions, SR.custom_functions_dict)\n",
    "\n",
    "\n",
    "smp_expr = smp_expr.subs(x, (x - X.min())/(X.max() - X.min()))\n",
    "# smp_expr = smp_expr.subs(x, (X1.max() - X1.min())*x + X1.min() )\n",
    "smp_expr = (y.max() - y.min())*smp_expr + y.min()\n",
    "# smp_expr = (y1_max - y1_min)*smp_expr + y1_min\n",
    "# smp_expr = (smp_expr - y1.min())/(y1.max() - y1.min())\n",
    "display(smp_expr)\n",
    "\n",
    "smp_func = smp.lambdify(x, smp_expr)\n",
    "\n",
    "Xr = np.linspace(-1, 1, 1000)\n",
    "yr = smp_func(X)\n",
    "\n",
    "plt.plot(Xr, yr, label=\"F1\")\n",
    "plt.plot(X, y, label=\"Predicted\")\n",
    "plt.legend()\n",
    "plt.show()\n",
    "plt.plot(scaler.fit_transform(np.c_[X]), scaler.fit_transform(np.c_[y]), label=\"F1\")\n",
    "plt.plot(scaler.fit_transform(np.c_[X]), scaler.fit_transform(np.c_[y]), label=\"predicted\")\n",
    "plt.legend()\n"
   ]
  },
  {
   "cell_type": "markdown",
   "metadata": {},
   "source": [
    "# Plot Test"
   ]
  },
  {
   "cell_type": "code",
   "execution_count": 5,
   "metadata": {},
   "outputs": [],
   "source": [
    "scaler = MinMaxScaler()"
   ]
  },
  {
   "cell_type": "code",
   "execution_count": 6,
   "metadata": {},
   "outputs": [],
   "source": [
    "def f1(v):\n",
    "    return 1.57 + 24.3*v\n",
    "\n",
    "X = np.linspace(-1, 1, 1000)\n",
    "y = f1(X)\n",
    "\n",
    "X_scaled = scaler.fit_transform(np.c_[X])\n",
    "y_scaled = scaler.fit_transform(np.c_[y]).reshape(-1)"
   ]
  },
  {
   "cell_type": "code",
   "execution_count": 7,
   "metadata": {},
   "outputs": [
    {
     "ename": "NameError",
     "evalue": "name 'y_pred' is not defined",
     "output_type": "error",
     "traceback": [
      "\u001b[1;31m---------------------------------------------------------------------------\u001b[0m",
      "\u001b[1;31mNameError\u001b[0m                                 Traceback (most recent call last)",
      "\u001b[1;32m~\\AppData\\Local\\Temp\\ipykernel_6880\\508422104.py\u001b[0m in \u001b[0;36m<module>\u001b[1;34m\u001b[0m\n\u001b[1;32m----> 1\u001b[1;33m \u001b[0mnp\u001b[0m\u001b[1;33m.\u001b[0m\u001b[0mmean\u001b[0m\u001b[1;33m(\u001b[0m\u001b[1;33m(\u001b[0m\u001b[0my_scaled\u001b[0m \u001b[1;33m-\u001b[0m \u001b[0mscaler\u001b[0m\u001b[1;33m.\u001b[0m\u001b[0mfit_transform\u001b[0m\u001b[1;33m(\u001b[0m\u001b[0mnp\u001b[0m\u001b[1;33m.\u001b[0m\u001b[0mc_\u001b[0m\u001b[1;33m[\u001b[0m\u001b[0my_pred\u001b[0m\u001b[1;33m]\u001b[0m\u001b[1;33m)\u001b[0m\u001b[1;33m.\u001b[0m\u001b[0mreshape\u001b[0m\u001b[1;33m(\u001b[0m\u001b[1;33m-\u001b[0m\u001b[1;36m1\u001b[0m\u001b[1;33m)\u001b[0m\u001b[1;33m)\u001b[0m\u001b[1;33m**\u001b[0m\u001b[1;36m2\u001b[0m\u001b[1;33m)\u001b[0m\u001b[1;33m\u001b[0m\u001b[1;33m\u001b[0m\u001b[0m\n\u001b[0m",
      "\u001b[1;31mNameError\u001b[0m: name 'y_pred' is not defined"
     ]
    }
   ],
   "source": [
    "np.mean((y_scaled - scaler.fit_transform(np.c_[y_pred]).reshape(-1))**2)"
   ]
  },
  {
   "cell_type": "code",
   "execution_count": 9,
   "metadata": {},
   "outputs": [
    {
     "data": {
      "text/plain": [
       "[<matplotlib.lines.Line2D at 0x2c0abdc9e50>]"
      ]
     },
     "execution_count": 9,
     "metadata": {},
     "output_type": "execute_result"
    },
    {
     "data": {
      "image/png": "[encoded data removed]",
      "text/plain": [
       "<Figure size 640x480 with 1 Axes>"
      ]
     },
     "metadata": {},
     "output_type": "display_data"
    }
   ],
   "source": [
    "def r_func(x):\n",
    "    return (x+7.722)**2\n",
    "\n",
    "X_test = np.linspace(0, 1, 1000)\n",
    "y_pred = r_func(X)\n",
    "\n",
    "plt.plot(X_scaled, y_scaled)\n",
    "plt.plot(X_test, scaler.fit_transform(np.c_[y_pred]))"
   ]
  },
  {
   "cell_type": "code",
   "execution_count": 10,
   "metadata": {},
   "outputs": [
    {
     "data": {
      "text/plain": [
       "[<matplotlib.lines.Line2D at 0x2c0abd52220>]"
      ]
     },
     "execution_count": 10,
     "metadata": {},
     "output_type": "execute_result"
    },
    {
     "data": {
      "image/png": "[encoded data removed]",
      "text/plain": [
       "<Figure size 640x480 with 1 Axes>"
      ]
     },
     "metadata": {},
     "output_type": "display_data"
    }
   ],
   "source": [
    "y_max = y_pred.max()\n",
    "y_min = y_pred.min()\n",
    "x_min = 0\n",
    "x_max = 1\n",
    "\n",
    "def nr_func(x):\n",
    "    return ((x+7.722)**2 - y_min)/(y_max - y_min)\n",
    "    # return (x+7.722)**2 * (y_max - y_min) + y_min\n",
    "\n",
    "X_test = np.linspace(0, 1, 1000)\n",
    "y_npred = nr_func(X)\n",
    "\n",
    "plt.plot(X_scaled, y_scaled)\n",
    "plt.plot(X_test, y_npred)"
   ]
  },
  {
   "cell_type": "code",
   "execution_count": 25,
   "metadata": {},
   "outputs": [
    {
     "data": {
      "text/plain": [
       "[<matplotlib.lines.Line2D at 0x2c0af53ffd0>]"
      ]
     },
     "execution_count": 25,
     "metadata": {},
     "output_type": "execute_result"
    },
    {
     "data": {
      "image/png": "[encoded data removed]",
      "text/plain": [
       "<Figure size 640x480 with 1 Axes>"
      ]
     },
     "metadata": {},
     "output_type": "display_data"
    }
   ],
   "source": [
    "X_test = np.linspace(-1, 1, 1000)\n",
    "\n",
    "# scaler.fit(np.c_[y])\n",
    "\n",
    "def ur_func(x):\n",
    "    return (((x+7.722)**2 - y_min)/(y_max - y_min))*(y.max()-y.min()) + y.min()\n",
    "\n",
    "plt.plot(X, y)\n",
    "plt.plot(X_test, ur_func(X_test))"
   ]
  },
  {
   "cell_type": "markdown",
   "metadata": {},
   "source": [
    "# Fitness Evaluation "
   ]
  },
  {
   "cell_type": "code",
   "execution_count": 30,
   "metadata": {},
   "outputs": [],
   "source": [
    "operators_op = {\"+\": lambda a,b: np.add(a,b), \"*\": lambda a,b: np.multiply(a,b),\n",
    "                \"/\": lambda a,b: np.divide(a,b), \"-\": lambda a,b: np.subtract(a,b)}\n",
    "functions_op = {\"sin\": lambda a: np.sin(a), \"cos\": lambda a: np.cos(a),\n",
    "                \"square\": lambda a: a**2, \"cube\": lambda a: a**3}\n",
    "custom_functions_dict = {\"cube\": [\"(\", \")**3\"], \"square\": [\"(\", \")**2\"]}"
   ]
  },
  {
   "cell_type": "code",
   "execution_count": 33,
   "metadata": {},
   "outputs": [],
   "source": [
    "def f1(v):\n",
    "    return 1.57 + 24.3*v\n",
    "\n",
    "X1 = np.linspace(-1, 1, 1000)\n",
    "y1 = f1(X1)"
   ]
  },
  {
   "cell_type": "code",
   "execution_count": 53,
   "metadata": {},
   "outputs": [],
   "source": [
    "SR = SymbolicRegression(10, functions=functions_op, operators=operators_op, custom_functions_dict=custom_functions_dict)\n",
    "\n",
    "SR.fit(scaler.fit_transform(np.c_[X1]), scaler.fit_transform(np.c_[y1]).reshape(-1), feature_names=[\"x\"])"
   ]
  },
  {
   "cell_type": "code",
   "execution_count": 38,
   "metadata": {},
   "outputs": [
    {
     "data": {
      "text/latex": [
       "$\\displaystyle \\left(x + 7.722\\right)^{2}$"
      ],
      "text/plain": [
       "(x + 7.722)**2"
      ]
     },
     "metadata": {},
     "output_type": "display_data"
    },
    {
     "data": {
      "image/svg+xml": [
       "<?xml version=\"1.0\" encoding=\"UTF-8\" standalone=\"no\"?>\n",
       "<!DOCTYPE svg PUBLIC \"-//W3C//DTD SVG 1.1//EN\"\n",
       " \"http://www.w3.org/Graphics/SVG/1.1/DTD/svg11.dtd\">\n",
       "<!-- Generated by graphviz version 2.50.0 (0)\n",
       " -->\n",
       "<!-- Pages: 1 -->\n",
       "<svg width=\"251pt\" height=\"260pt\"\n",
       " viewBox=\"0.00 0.00 250.55 260.00\" xmlns=\"http://www.w3.org/2000/svg\" xmlns:xlink=\"http://www.w3.org/1999/xlink\">\n",
       "<g id=\"graph0\" class=\"graph\" transform=\"scale(1 1) rotate(0) translate(4 256)\">\n",
       "<polygon fill=\"white\" stroke=\"transparent\" points=\"-4,4 -4,-256 246.55,-256 246.55,4 -4,4\"/>\n",
       "<!-- 0 -->\n",
       "<g id=\"node1\" class=\"node\">\n",
       "<title>0</title>\n",
       "<ellipse fill=\"none\" stroke=\"black\" cx=\"107.55\" cy=\"-234\" rx=\"27\" ry=\"18\"/>\n",
       "<text text-anchor=\"middle\" x=\"107.55\" y=\"-230.3\" font-family=\"Times New Roman,serif\" font-size=\"14.00\">+</text>\n",
       "</g>\n",
       "<!-- 1 -->\n",
       "<g id=\"node2\" class=\"node\">\n",
       "<title>1</title>\n",
       "<ellipse fill=\"none\" stroke=\"black\" cx=\"68.55\" cy=\"-162\" rx=\"33.6\" ry=\"18\"/>\n",
       "<text text-anchor=\"middle\" x=\"68.55\" y=\"-158.3\" font-family=\"Times New Roman,serif\" font-size=\"14.00\">square</text>\n",
       "</g>\n",
       "<!-- 0&#45;&gt;1 -->\n",
       "<g id=\"edge1\" class=\"edge\">\n",
       "<title>0&#45;&gt;1</title>\n",
       "<path fill=\"none\" stroke=\"black\" d=\"M98.5,-216.76C93.84,-208.4 88.06,-198.02 82.81,-188.61\"/>\n",
       "<polygon fill=\"black\" stroke=\"black\" points=\"85.74,-186.67 77.81,-179.63 79.62,-190.07 85.74,-186.67\"/>\n",
       "</g>\n",
       "<!-- 5 -->\n",
       "<g id=\"node3\" class=\"node\">\n",
       "<title>5</title>\n",
       "<ellipse fill=\"none\" stroke=\"black\" cx=\"147.55\" cy=\"-162\" rx=\"27\" ry=\"18\"/>\n",
       "<text text-anchor=\"middle\" x=\"147.55\" y=\"-158.3\" font-family=\"Times New Roman,serif\" font-size=\"14.00\">&#45;</text>\n",
       "</g>\n",
       "<!-- 0&#45;&gt;5 -->\n",
       "<g id=\"edge2\" class=\"edge\">\n",
       "<title>0&#45;&gt;5</title>\n",
       "<path fill=\"none\" stroke=\"black\" d=\"M116.82,-216.76C121.72,-208.19 127.84,-197.49 133.32,-187.9\"/>\n",
       "<polygon fill=\"black\" stroke=\"black\" points=\"136.4,-189.57 138.32,-179.15 130.32,-186.09 136.4,-189.57\"/>\n",
       "</g>\n",
       "<!-- 2 -->\n",
       "<g id=\"node4\" class=\"node\">\n",
       "<title>2</title>\n",
       "<ellipse fill=\"none\" stroke=\"black\" cx=\"68.55\" cy=\"-90\" rx=\"27\" ry=\"18\"/>\n",
       "<text text-anchor=\"middle\" x=\"68.55\" y=\"-86.3\" font-family=\"Times New Roman,serif\" font-size=\"14.00\">+</text>\n",
       "</g>\n",
       "<!-- 1&#45;&gt;2 -->\n",
       "<g id=\"edge3\" class=\"edge\">\n",
       "<title>1&#45;&gt;2</title>\n",
       "<path fill=\"none\" stroke=\"black\" d=\"M68.55,-143.7C68.55,-135.98 68.55,-126.71 68.55,-118.11\"/>\n",
       "<polygon fill=\"black\" stroke=\"black\" points=\"72.05,-118.1 68.55,-108.1 65.05,-118.1 72.05,-118.1\"/>\n",
       "</g>\n",
       "<!-- 6 -->\n",
       "<g id=\"node7\" class=\"node\">\n",
       "<title>6</title>\n",
       "<ellipse fill=\"none\" stroke=\"black\" cx=\"143.55\" cy=\"-90\" rx=\"27\" ry=\"18\"/>\n",
       "<text text-anchor=\"middle\" x=\"143.55\" y=\"-86.3\" font-family=\"Times New Roman,serif\" font-size=\"14.00\">x</text>\n",
       "</g>\n",
       "<!-- 5&#45;&gt;6 -->\n",
       "<g id=\"edge6\" class=\"edge\">\n",
       "<title>5&#45;&gt;6</title>\n",
       "<path fill=\"none\" stroke=\"black\" d=\"M146.56,-143.7C146.12,-135.98 145.59,-126.71 145.1,-118.11\"/>\n",
       "<polygon fill=\"black\" stroke=\"black\" points=\"148.59,-117.89 144.52,-108.1 141.6,-118.29 148.59,-117.89\"/>\n",
       "</g>\n",
       "<!-- 7 -->\n",
       "<g id=\"node8\" class=\"node\">\n",
       "<title>7</title>\n",
       "<ellipse fill=\"none\" stroke=\"black\" cx=\"215.55\" cy=\"-90\" rx=\"27\" ry=\"18\"/>\n",
       "<text text-anchor=\"middle\" x=\"215.55\" y=\"-86.3\" font-family=\"Times New Roman,serif\" font-size=\"14.00\">x</text>\n",
       "</g>\n",
       "<!-- 5&#45;&gt;7 -->\n",
       "<g id=\"edge7\" class=\"edge\">\n",
       "<title>5&#45;&gt;7</title>\n",
       "<path fill=\"none\" stroke=\"black\" d=\"M161.64,-146.5C171.12,-136.73 183.79,-123.69 194.47,-112.7\"/>\n",
       "<polygon fill=\"black\" stroke=\"black\" points=\"197.02,-115.1 201.48,-105.49 192,-110.22 197.02,-115.1\"/>\n",
       "</g>\n",
       "<!-- 3 -->\n",
       "<g id=\"node5\" class=\"node\">\n",
       "<title>3</title>\n",
       "<ellipse fill=\"none\" stroke=\"black\" cx=\"30.55\" cy=\"-18\" rx=\"30.59\" ry=\"18\"/>\n",
       "<text text-anchor=\"middle\" x=\"30.55\" y=\"-14.3\" font-family=\"Times New Roman,serif\" font-size=\"14.00\">7.722</text>\n",
       "</g>\n",
       "<!-- 2&#45;&gt;3 -->\n",
       "<g id=\"edge4\" class=\"edge\">\n",
       "<title>2&#45;&gt;3</title>\n",
       "<path fill=\"none\" stroke=\"black\" d=\"M59.73,-72.76C55.2,-64.4 49.56,-54.02 44.45,-44.61\"/>\n",
       "<polygon fill=\"black\" stroke=\"black\" points=\"47.42,-42.75 39.58,-35.63 41.27,-46.09 47.42,-42.75\"/>\n",
       "</g>\n",
       "<!-- 4 -->\n",
       "<g id=\"node6\" class=\"node\">\n",
       "<title>4</title>\n",
       "<ellipse fill=\"none\" stroke=\"black\" cx=\"106.55\" cy=\"-18\" rx=\"27\" ry=\"18\"/>\n",
       "<text text-anchor=\"middle\" x=\"106.55\" y=\"-14.3\" font-family=\"Times New Roman,serif\" font-size=\"14.00\">x</text>\n",
       "</g>\n",
       "<!-- 2&#45;&gt;4 -->\n",
       "<g id=\"edge5\" class=\"edge\">\n",
       "<title>2&#45;&gt;4</title>\n",
       "<path fill=\"none\" stroke=\"black\" d=\"M77.36,-72.76C81.97,-64.28 87.7,-53.71 92.87,-44.2\"/>\n",
       "<polygon fill=\"black\" stroke=\"black\" points=\"96.09,-45.61 97.78,-35.15 89.93,-42.27 96.09,-45.61\"/>\n",
       "</g>\n",
       "</g>\n",
       "</svg>\n"
      ],
      "text/plain": [
       "<graphviz.graphs.Digraph at 0x2c0af1d2a90>"
      ]
     },
     "execution_count": 38,
     "metadata": {},
     "output_type": "execute_result"
    }
   ],
   "source": [
    "with open(\"Outputs/article_tests/LS/trees/tree-4000-10-1\", \"rb\") as file:\n",
    "    tree = pickle.load(file)\n",
    "    smp_expr = tree.toSmpExpr(SR._operators, SR._functions, SR.custom_functions_dict)\n",
    "    display(smp_expr)\n",
    "tree.visualize_tree()"
   ]
  },
  {
   "cell_type": "code",
   "execution_count": 39,
   "metadata": {},
   "outputs": [
    {
     "data": {
      "text/plain": [
       "2.618494352388886e-33"
      ]
     },
     "execution_count": 39,
     "metadata": {},
     "output_type": "execute_result"
    }
   ],
   "source": [
    "SR.fitness_score(tree)"
   ]
  },
  {
   "cell_type": "code",
   "execution_count": 48,
   "metadata": {},
   "outputs": [
    {
     "data": {
      "image/svg+xml": [
       "<?xml version=\"1.0\" encoding=\"UTF-8\" standalone=\"no\"?>\n",
       "<!DOCTYPE svg PUBLIC \"-//W3C//DTD SVG 1.1//EN\"\n",
       " \"http://www.w3.org/Graphics/SVG/1.1/DTD/svg11.dtd\">\n",
       "<!-- Generated by graphviz version 2.50.0 (0)\n",
       " -->\n",
       "<!-- Pages: 1 -->\n",
       "<svg width=\"251pt\" height=\"260pt\"\n",
       " viewBox=\"0.00 0.00 250.55 260.00\" xmlns=\"http://www.w3.org/2000/svg\" xmlns:xlink=\"http://www.w3.org/1999/xlink\">\n",
       "<g id=\"graph0\" class=\"graph\" transform=\"scale(1 1) rotate(0) translate(4 256)\">\n",
       "<polygon fill=\"white\" stroke=\"transparent\" points=\"-4,4 -4,-256 246.55,-256 246.55,4 -4,4\"/>\n",
       "<!-- 0 -->\n",
       "<g id=\"node1\" class=\"node\">\n",
       "<title>0</title>\n",
       "<ellipse fill=\"none\" stroke=\"black\" cx=\"107.55\" cy=\"-234\" rx=\"27\" ry=\"18\"/>\n",
       "<text text-anchor=\"middle\" x=\"107.55\" y=\"-230.3\" font-family=\"Times New Roman,serif\" font-size=\"14.00\">+</text>\n",
       "</g>\n",
       "<!-- 1 -->\n",
       "<g id=\"node2\" class=\"node\">\n",
       "<title>1</title>\n",
       "<ellipse fill=\"none\" stroke=\"black\" cx=\"68.55\" cy=\"-162\" rx=\"33.6\" ry=\"18\"/>\n",
       "<text text-anchor=\"middle\" x=\"68.55\" y=\"-158.3\" font-family=\"Times New Roman,serif\" font-size=\"14.00\">square</text>\n",
       "</g>\n",
       "<!-- 0&#45;&gt;1 -->\n",
       "<g id=\"edge1\" class=\"edge\">\n",
       "<title>0&#45;&gt;1</title>\n",
       "<path fill=\"none\" stroke=\"black\" d=\"M98.5,-216.76C93.84,-208.4 88.06,-198.02 82.81,-188.61\"/>\n",
       "<polygon fill=\"black\" stroke=\"black\" points=\"85.74,-186.67 77.81,-179.63 79.62,-190.07 85.74,-186.67\"/>\n",
       "</g>\n",
       "<!-- 5 -->\n",
       "<g id=\"node3\" class=\"node\">\n",
       "<title>5</title>\n",
       "<ellipse fill=\"none\" stroke=\"black\" cx=\"147.55\" cy=\"-162\" rx=\"27\" ry=\"18\"/>\n",
       "<text text-anchor=\"middle\" x=\"147.55\" y=\"-158.3\" font-family=\"Times New Roman,serif\" font-size=\"14.00\">&#45;</text>\n",
       "</g>\n",
       "<!-- 0&#45;&gt;5 -->\n",
       "<g id=\"edge2\" class=\"edge\">\n",
       "<title>0&#45;&gt;5</title>\n",
       "<path fill=\"none\" stroke=\"black\" d=\"M116.82,-216.76C121.72,-208.19 127.84,-197.49 133.32,-187.9\"/>\n",
       "<polygon fill=\"black\" stroke=\"black\" points=\"136.4,-189.57 138.32,-179.15 130.32,-186.09 136.4,-189.57\"/>\n",
       "</g>\n",
       "<!-- 2 -->\n",
       "<g id=\"node4\" class=\"node\">\n",
       "<title>2</title>\n",
       "<ellipse fill=\"none\" stroke=\"black\" cx=\"68.55\" cy=\"-90\" rx=\"27\" ry=\"18\"/>\n",
       "<text text-anchor=\"middle\" x=\"68.55\" y=\"-86.3\" font-family=\"Times New Roman,serif\" font-size=\"14.00\">+</text>\n",
       "</g>\n",
       "<!-- 1&#45;&gt;2 -->\n",
       "<g id=\"edge3\" class=\"edge\">\n",
       "<title>1&#45;&gt;2</title>\n",
       "<path fill=\"none\" stroke=\"black\" d=\"M68.55,-143.7C68.55,-135.98 68.55,-126.71 68.55,-118.11\"/>\n",
       "<polygon fill=\"black\" stroke=\"black\" points=\"72.05,-118.1 68.55,-108.1 65.05,-118.1 72.05,-118.1\"/>\n",
       "</g>\n",
       "<!-- 6 -->\n",
       "<g id=\"node7\" class=\"node\">\n",
       "<title>6</title>\n",
       "<ellipse fill=\"none\" stroke=\"black\" cx=\"143.55\" cy=\"-90\" rx=\"27\" ry=\"18\"/>\n",
       "<text text-anchor=\"middle\" x=\"143.55\" y=\"-86.3\" font-family=\"Times New Roman,serif\" font-size=\"14.00\">x</text>\n",
       "</g>\n",
       "<!-- 5&#45;&gt;6 -->\n",
       "<g id=\"edge6\" class=\"edge\">\n",
       "<title>5&#45;&gt;6</title>\n",
       "<path fill=\"none\" stroke=\"black\" d=\"M146.56,-143.7C146.12,-135.98 145.59,-126.71 145.1,-118.11\"/>\n",
       "<polygon fill=\"black\" stroke=\"black\" points=\"148.59,-117.89 144.52,-108.1 141.6,-118.29 148.59,-117.89\"/>\n",
       "</g>\n",
       "<!-- 7 -->\n",
       "<g id=\"node8\" class=\"node\">\n",
       "<title>7</title>\n",
       "<ellipse fill=\"none\" stroke=\"black\" cx=\"215.55\" cy=\"-90\" rx=\"27\" ry=\"18\"/>\n",
       "<text text-anchor=\"middle\" x=\"215.55\" y=\"-86.3\" font-family=\"Times New Roman,serif\" font-size=\"14.00\">x</text>\n",
       "</g>\n",
       "<!-- 5&#45;&gt;7 -->\n",
       "<g id=\"edge7\" class=\"edge\">\n",
       "<title>5&#45;&gt;7</title>\n",
       "<path fill=\"none\" stroke=\"black\" d=\"M161.64,-146.5C171.12,-136.73 183.79,-123.69 194.47,-112.7\"/>\n",
       "<polygon fill=\"black\" stroke=\"black\" points=\"197.02,-115.1 201.48,-105.49 192,-110.22 197.02,-115.1\"/>\n",
       "</g>\n",
       "<!-- 3 -->\n",
       "<g id=\"node5\" class=\"node\">\n",
       "<title>3</title>\n",
       "<ellipse fill=\"none\" stroke=\"black\" cx=\"30.55\" cy=\"-18\" rx=\"30.59\" ry=\"18\"/>\n",
       "<text text-anchor=\"middle\" x=\"30.55\" y=\"-14.3\" font-family=\"Times New Roman,serif\" font-size=\"14.00\">7.722</text>\n",
       "</g>\n",
       "<!-- 2&#45;&gt;3 -->\n",
       "<g id=\"edge4\" class=\"edge\">\n",
       "<title>2&#45;&gt;3</title>\n",
       "<path fill=\"none\" stroke=\"black\" d=\"M59.73,-72.76C55.2,-64.4 49.56,-54.02 44.45,-44.61\"/>\n",
       "<polygon fill=\"black\" stroke=\"black\" points=\"47.42,-42.75 39.58,-35.63 41.27,-46.09 47.42,-42.75\"/>\n",
       "</g>\n",
       "<!-- 4 -->\n",
       "<g id=\"node6\" class=\"node\">\n",
       "<title>4</title>\n",
       "<ellipse fill=\"none\" stroke=\"black\" cx=\"106.55\" cy=\"-18\" rx=\"27\" ry=\"18\"/>\n",
       "<text text-anchor=\"middle\" x=\"106.55\" y=\"-14.3\" font-family=\"Times New Roman,serif\" font-size=\"14.00\">x</text>\n",
       "</g>\n",
       "<!-- 2&#45;&gt;4 -->\n",
       "<g id=\"edge5\" class=\"edge\">\n",
       "<title>2&#45;&gt;4</title>\n",
       "<path fill=\"none\" stroke=\"black\" d=\"M77.36,-72.76C81.97,-64.28 87.7,-53.71 92.87,-44.2\"/>\n",
       "<polygon fill=\"black\" stroke=\"black\" points=\"96.09,-45.61 97.78,-35.15 89.93,-42.27 96.09,-45.61\"/>\n",
       "</g>\n",
       "</g>\n",
       "</svg>\n"
      ],
      "text/plain": [
       "<graphviz.graphs.Digraph at 0x2c0af23cc40>"
      ]
     },
     "execution_count": 48,
     "metadata": {},
     "output_type": "execute_result"
    }
   ],
   "source": [
    "made_tree = ExpressionTree()\n",
    "p_root = made_tree.add_root(\"+\")\n",
    "p_r = made_tree.add_right(p_root, \"-\")\n",
    "made_tree.add_left(p_r, \"x\")\n",
    "made_tree.add_right(p_r, \"x\")\n",
    "p_l = made_tree.add_left(p_root, \"square\")\n",
    "p = made_tree.add_left(p_l, \"+\")\n",
    "made_tree.add_left(p, 7.722)\n",
    "made_tree.add_right(p, \"x\")\n",
    "\n",
    "made_tree.visualize_tree()"
   ]
  },
  {
   "cell_type": "code",
   "execution_count": 56,
   "metadata": {},
   "outputs": [
    {
     "data": {
      "text/plain": [
       "2.618494352388886e-33"
      ]
     },
     "execution_count": 56,
     "metadata": {},
     "output_type": "execute_result"
    }
   ],
   "source": [
    "SR.fit(scaler.fit_transform(np.c_[X1]), scaler.fit_transform(np.c_[y1]).reshape(-1), feature_names=[\"x\"])\n",
    "SR.fitness_score(made_tree)"
   ]
  },
  {
   "cell_type": "code",
   "execution_count": 55,
   "metadata": {},
   "outputs": [
    {
     "data": {
      "text/plain": [
       "array([0.        , 0.001001  , 0.002002  , 0.003003  , 0.004004  ,\n",
       "       0.00500501, 0.00600601, 0.00700701, 0.00800801, 0.00900901,\n",
       "       0.01001001, 0.01101101, 0.01201201, 0.01301301, 0.01401401,\n",
       "       0.01501502, 0.01601602, 0.01701702, 0.01801802, 0.01901902,\n",
       "       0.02002002, 0.02102102, 0.02202202, 0.02302302, 0.02402402,\n",
       "       0.02502503, 0.02602603, 0.02702703, 0.02802803, 0.02902903,\n",
       "       0.03003003, 0.03103103, 0.03203203, 0.03303303, 0.03403403,\n",
       "       0.03503504, 0.03603604, 0.03703704, 0.03803804, 0.03903904,\n",
       "       0.04004004, 0.04104104, 0.04204204, 0.04304304, 0.04404404,\n",
       "       0.04504505, 0.04604605, 0.04704705, 0.04804805, 0.04904905,\n",
       "       0.05005005, 0.05105105, 0.05205205, 0.05305305, 0.05405405,\n",
       "       0.05505506, 0.05605606, 0.05705706, 0.05805806, 0.05905906,\n",
       "       0.06006006, 0.06106106, 0.06206206, 0.06306306, 0.06406406,\n",
       "       0.06506507, 0.06606607, 0.06706707, 0.06806807, 0.06906907,\n",
       "       0.07007007, 0.07107107, 0.07207207, 0.07307307, 0.07407407,\n",
       "       0.07507508, 0.07607608, 0.07707708, 0.07807808, 0.07907908,\n",
       "       0.08008008, 0.08108108, 0.08208208, 0.08308308, 0.08408408,\n",
       "       0.08508509, 0.08608609, 0.08708709, 0.08808809, 0.08908909,\n",
       "       0.09009009, 0.09109109, 0.09209209, 0.09309309, 0.09409409,\n",
       "       0.0950951 , 0.0960961 , 0.0970971 , 0.0980981 , 0.0990991 ,\n",
       "       0.1001001 , 0.1011011 , 0.1021021 , 0.1031031 , 0.1041041 ,\n",
       "       0.10510511, 0.10610611, 0.10710711, 0.10810811, 0.10910911,\n",
       "       0.11011011, 0.11111111, 0.11211211, 0.11311311, 0.11411411,\n",
       "       0.11511512, 0.11611612, 0.11711712, 0.11811812, 0.11911912,\n",
       "       0.12012012, 0.12112112, 0.12212212, 0.12312312, 0.12412412,\n",
       "       0.12512513, 0.12612613, 0.12712713, 0.12812813, 0.12912913,\n",
       "       0.13013013, 0.13113113, 0.13213213, 0.13313313, 0.13413413,\n",
       "       0.13513514, 0.13613614, 0.13713714, 0.13813814, 0.13913914,\n",
       "       0.14014014, 0.14114114, 0.14214214, 0.14314314, 0.14414414,\n",
       "       0.14514515, 0.14614615, 0.14714715, 0.14814815, 0.14914915,\n",
       "       0.15015015, 0.15115115, 0.15215215, 0.15315315, 0.15415415,\n",
       "       0.15515516, 0.15615616, 0.15715716, 0.15815816, 0.15915916,\n",
       "       0.16016016, 0.16116116, 0.16216216, 0.16316316, 0.16416416,\n",
       "       0.16516517, 0.16616617, 0.16716717, 0.16816817, 0.16916917,\n",
       "       0.17017017, 0.17117117, 0.17217217, 0.17317317, 0.17417417,\n",
       "       0.17517518, 0.17617618, 0.17717718, 0.17817818, 0.17917918,\n",
       "       0.18018018, 0.18118118, 0.18218218, 0.18318318, 0.18418418,\n",
       "       0.18518519, 0.18618619, 0.18718719, 0.18818819, 0.18918919,\n",
       "       0.19019019, 0.19119119, 0.19219219, 0.19319319, 0.19419419,\n",
       "       0.1951952 , 0.1961962 , 0.1971972 , 0.1981982 , 0.1991992 ,\n",
       "       0.2002002 , 0.2012012 , 0.2022022 , 0.2032032 , 0.2042042 ,\n",
       "       0.20520521, 0.20620621, 0.20720721, 0.20820821, 0.20920921,\n",
       "       0.21021021, 0.21121121, 0.21221221, 0.21321321, 0.21421421,\n",
       "       0.21521522, 0.21621622, 0.21721722, 0.21821822, 0.21921922,\n",
       "       0.22022022, 0.22122122, 0.22222222, 0.22322322, 0.22422422,\n",
       "       0.22522523, 0.22622623, 0.22722723, 0.22822823, 0.22922923,\n",
       "       0.23023023, 0.23123123, 0.23223223, 0.23323323, 0.23423423,\n",
       "       0.23523524, 0.23623624, 0.23723724, 0.23823824, 0.23923924,\n",
       "       0.24024024, 0.24124124, 0.24224224, 0.24324324, 0.24424424,\n",
       "       0.24524525, 0.24624625, 0.24724725, 0.24824825, 0.24924925,\n",
       "       0.25025025, 0.25125125, 0.25225225, 0.25325325, 0.25425425,\n",
       "       0.25525526, 0.25625626, 0.25725726, 0.25825826, 0.25925926,\n",
       "       0.26026026, 0.26126126, 0.26226226, 0.26326326, 0.26426426,\n",
       "       0.26526527, 0.26626627, 0.26726727, 0.26826827, 0.26926927,\n",
       "       0.27027027, 0.27127127, 0.27227227, 0.27327327, 0.27427427,\n",
       "       0.27527528, 0.27627628, 0.27727728, 0.27827828, 0.27927928,\n",
       "       0.28028028, 0.28128128, 0.28228228, 0.28328328, 0.28428428,\n",
       "       0.28528529, 0.28628629, 0.28728729, 0.28828829, 0.28928929,\n",
       "       0.29029029, 0.29129129, 0.29229229, 0.29329329, 0.29429429,\n",
       "       0.2952953 , 0.2962963 , 0.2972973 , 0.2982983 , 0.2992993 ,\n",
       "       0.3003003 , 0.3013013 , 0.3023023 , 0.3033033 , 0.3043043 ,\n",
       "       0.30530531, 0.30630631, 0.30730731, 0.30830831, 0.30930931,\n",
       "       0.31031031, 0.31131131, 0.31231231, 0.31331331, 0.31431431,\n",
       "       0.31531532, 0.31631632, 0.31731732, 0.31831832, 0.31931932,\n",
       "       0.32032032, 0.32132132, 0.32232232, 0.32332332, 0.32432432,\n",
       "       0.32532533, 0.32632633, 0.32732733, 0.32832833, 0.32932933,\n",
       "       0.33033033, 0.33133133, 0.33233233, 0.33333333, 0.33433433,\n",
       "       0.33533534, 0.33633634, 0.33733734, 0.33833834, 0.33933934,\n",
       "       0.34034034, 0.34134134, 0.34234234, 0.34334334, 0.34434434,\n",
       "       0.34534535, 0.34634635, 0.34734735, 0.34834835, 0.34934935,\n",
       "       0.35035035, 0.35135135, 0.35235235, 0.35335335, 0.35435435,\n",
       "       0.35535536, 0.35635636, 0.35735736, 0.35835836, 0.35935936,\n",
       "       0.36036036, 0.36136136, 0.36236236, 0.36336336, 0.36436436,\n",
       "       0.36536537, 0.36636637, 0.36736737, 0.36836837, 0.36936937,\n",
       "       0.37037037, 0.37137137, 0.37237237, 0.37337337, 0.37437437,\n",
       "       0.37537538, 0.37637638, 0.37737738, 0.37837838, 0.37937938,\n",
       "       0.38038038, 0.38138138, 0.38238238, 0.38338338, 0.38438438,\n",
       "       0.38538539, 0.38638639, 0.38738739, 0.38838839, 0.38938939,\n",
       "       0.39039039, 0.39139139, 0.39239239, 0.39339339, 0.39439439,\n",
       "       0.3953954 , 0.3963964 , 0.3973974 , 0.3983984 , 0.3993994 ,\n",
       "       0.4004004 , 0.4014014 , 0.4024024 , 0.4034034 , 0.4044044 ,\n",
       "       0.40540541, 0.40640641, 0.40740741, 0.40840841, 0.40940941,\n",
       "       0.41041041, 0.41141141, 0.41241241, 0.41341341, 0.41441441,\n",
       "       0.41541542, 0.41641642, 0.41741742, 0.41841842, 0.41941942,\n",
       "       0.42042042, 0.42142142, 0.42242242, 0.42342342, 0.42442442,\n",
       "       0.42542543, 0.42642643, 0.42742743, 0.42842843, 0.42942943,\n",
       "       0.43043043, 0.43143143, 0.43243243, 0.43343343, 0.43443443,\n",
       "       0.43543544, 0.43643644, 0.43743744, 0.43843844, 0.43943944,\n",
       "       0.44044044, 0.44144144, 0.44244244, 0.44344344, 0.44444444,\n",
       "       0.44544545, 0.44644645, 0.44744745, 0.44844845, 0.44944945,\n",
       "       0.45045045, 0.45145145, 0.45245245, 0.45345345, 0.45445445,\n",
       "       0.45545546, 0.45645646, 0.45745746, 0.45845846, 0.45945946,\n",
       "       0.46046046, 0.46146146, 0.46246246, 0.46346346, 0.46446446,\n",
       "       0.46546547, 0.46646647, 0.46746747, 0.46846847, 0.46946947,\n",
       "       0.47047047, 0.47147147, 0.47247247, 0.47347347, 0.47447447,\n",
       "       0.47547548, 0.47647648, 0.47747748, 0.47847848, 0.47947948,\n",
       "       0.48048048, 0.48148148, 0.48248248, 0.48348348, 0.48448448,\n",
       "       0.48548549, 0.48648649, 0.48748749, 0.48848849, 0.48948949,\n",
       "       0.49049049, 0.49149149, 0.49249249, 0.49349349, 0.49449449,\n",
       "       0.4954955 , 0.4964965 , 0.4974975 , 0.4984985 , 0.4994995 ,\n",
       "       0.5005005 , 0.5015015 , 0.5025025 , 0.5035035 , 0.5045045 ,\n",
       "       0.50550551, 0.50650651, 0.50750751, 0.50850851, 0.50950951,\n",
       "       0.51051051, 0.51151151, 0.51251251, 0.51351351, 0.51451451,\n",
       "       0.51551552, 0.51651652, 0.51751752, 0.51851852, 0.51951952,\n",
       "       0.52052052, 0.52152152, 0.52252252, 0.52352352, 0.52452452,\n",
       "       0.52552553, 0.52652653, 0.52752753, 0.52852853, 0.52952953,\n",
       "       0.53053053, 0.53153153, 0.53253253, 0.53353353, 0.53453453,\n",
       "       0.53553554, 0.53653654, 0.53753754, 0.53853854, 0.53953954,\n",
       "       0.54054054, 0.54154154, 0.54254254, 0.54354354, 0.54454454,\n",
       "       0.54554555, 0.54654655, 0.54754755, 0.54854855, 0.54954955,\n",
       "       0.55055055, 0.55155155, 0.55255255, 0.55355355, 0.55455455,\n",
       "       0.55555556, 0.55655656, 0.55755756, 0.55855856, 0.55955956,\n",
       "       0.56056056, 0.56156156, 0.56256256, 0.56356356, 0.56456456,\n",
       "       0.56556557, 0.56656657, 0.56756757, 0.56856857, 0.56956957,\n",
       "       0.57057057, 0.57157157, 0.57257257, 0.57357357, 0.57457457,\n",
       "       0.57557558, 0.57657658, 0.57757758, 0.57857858, 0.57957958,\n",
       "       0.58058058, 0.58158158, 0.58258258, 0.58358358, 0.58458458,\n",
       "       0.58558559, 0.58658659, 0.58758759, 0.58858859, 0.58958959,\n",
       "       0.59059059, 0.59159159, 0.59259259, 0.59359359, 0.59459459,\n",
       "       0.5955956 , 0.5965966 , 0.5975976 , 0.5985986 , 0.5995996 ,\n",
       "       0.6006006 , 0.6016016 , 0.6026026 , 0.6036036 , 0.6046046 ,\n",
       "       0.60560561, 0.60660661, 0.60760761, 0.60860861, 0.60960961,\n",
       "       0.61061061, 0.61161161, 0.61261261, 0.61361361, 0.61461461,\n",
       "       0.61561562, 0.61661662, 0.61761762, 0.61861862, 0.61961962,\n",
       "       0.62062062, 0.62162162, 0.62262262, 0.62362362, 0.62462462,\n",
       "       0.62562563, 0.62662663, 0.62762763, 0.62862863, 0.62962963,\n",
       "       0.63063063, 0.63163163, 0.63263263, 0.63363363, 0.63463463,\n",
       "       0.63563564, 0.63663664, 0.63763764, 0.63863864, 0.63963964,\n",
       "       0.64064064, 0.64164164, 0.64264264, 0.64364364, 0.64464464,\n",
       "       0.64564565, 0.64664665, 0.64764765, 0.64864865, 0.64964965,\n",
       "       0.65065065, 0.65165165, 0.65265265, 0.65365365, 0.65465465,\n",
       "       0.65565566, 0.65665666, 0.65765766, 0.65865866, 0.65965966,\n",
       "       0.66066066, 0.66166166, 0.66266266, 0.66366366, 0.66466466,\n",
       "       0.66566567, 0.66666667, 0.66766767, 0.66866867, 0.66966967,\n",
       "       0.67067067, 0.67167167, 0.67267267, 0.67367367, 0.67467467,\n",
       "       0.67567568, 0.67667668, 0.67767768, 0.67867868, 0.67967968,\n",
       "       0.68068068, 0.68168168, 0.68268268, 0.68368368, 0.68468468,\n",
       "       0.68568569, 0.68668669, 0.68768769, 0.68868869, 0.68968969,\n",
       "       0.69069069, 0.69169169, 0.69269269, 0.69369369, 0.69469469,\n",
       "       0.6956957 , 0.6966967 , 0.6976977 , 0.6986987 , 0.6996997 ,\n",
       "       0.7007007 , 0.7017017 , 0.7027027 , 0.7037037 , 0.7047047 ,\n",
       "       0.70570571, 0.70670671, 0.70770771, 0.70870871, 0.70970971,\n",
       "       0.71071071, 0.71171171, 0.71271271, 0.71371371, 0.71471471,\n",
       "       0.71571572, 0.71671672, 0.71771772, 0.71871872, 0.71971972,\n",
       "       0.72072072, 0.72172172, 0.72272272, 0.72372372, 0.72472472,\n",
       "       0.72572573, 0.72672673, 0.72772773, 0.72872873, 0.72972973,\n",
       "       0.73073073, 0.73173173, 0.73273273, 0.73373373, 0.73473473,\n",
       "       0.73573574, 0.73673674, 0.73773774, 0.73873874, 0.73973974,\n",
       "       0.74074074, 0.74174174, 0.74274274, 0.74374374, 0.74474474,\n",
       "       0.74574575, 0.74674675, 0.74774775, 0.74874875, 0.74974975,\n",
       "       0.75075075, 0.75175175, 0.75275275, 0.75375375, 0.75475475,\n",
       "       0.75575576, 0.75675676, 0.75775776, 0.75875876, 0.75975976,\n",
       "       0.76076076, 0.76176176, 0.76276276, 0.76376376, 0.76476476,\n",
       "       0.76576577, 0.76676677, 0.76776777, 0.76876877, 0.76976977,\n",
       "       0.77077077, 0.77177177, 0.77277277, 0.77377377, 0.77477477,\n",
       "       0.77577578, 0.77677678, 0.77777778, 0.77877878, 0.77977978,\n",
       "       0.78078078, 0.78178178, 0.78278278, 0.78378378, 0.78478478,\n",
       "       0.78578579, 0.78678679, 0.78778779, 0.78878879, 0.78978979,\n",
       "       0.79079079, 0.79179179, 0.79279279, 0.79379379, 0.79479479,\n",
       "       0.7957958 , 0.7967968 , 0.7977978 , 0.7987988 , 0.7997998 ,\n",
       "       0.8008008 , 0.8018018 , 0.8028028 , 0.8038038 , 0.8048048 ,\n",
       "       0.80580581, 0.80680681, 0.80780781, 0.80880881, 0.80980981,\n",
       "       0.81081081, 0.81181181, 0.81281281, 0.81381381, 0.81481481,\n",
       "       0.81581582, 0.81681682, 0.81781782, 0.81881882, 0.81981982,\n",
       "       0.82082082, 0.82182182, 0.82282282, 0.82382382, 0.82482482,\n",
       "       0.82582583, 0.82682683, 0.82782783, 0.82882883, 0.82982983,\n",
       "       0.83083083, 0.83183183, 0.83283283, 0.83383383, 0.83483483,\n",
       "       0.83583584, 0.83683684, 0.83783784, 0.83883884, 0.83983984,\n",
       "       0.84084084, 0.84184184, 0.84284284, 0.84384384, 0.84484484,\n",
       "       0.84584585, 0.84684685, 0.84784785, 0.84884885, 0.84984985,\n",
       "       0.85085085, 0.85185185, 0.85285285, 0.85385385, 0.85485485,\n",
       "       0.85585586, 0.85685686, 0.85785786, 0.85885886, 0.85985986,\n",
       "       0.86086086, 0.86186186, 0.86286286, 0.86386386, 0.86486486,\n",
       "       0.86586587, 0.86686687, 0.86786787, 0.86886887, 0.86986987,\n",
       "       0.87087087, 0.87187187, 0.87287287, 0.87387387, 0.87487487,\n",
       "       0.87587588, 0.87687688, 0.87787788, 0.87887888, 0.87987988,\n",
       "       0.88088088, 0.88188188, 0.88288288, 0.88388388, 0.88488488,\n",
       "       0.88588589, 0.88688689, 0.88788789, 0.88888889, 0.88988989,\n",
       "       0.89089089, 0.89189189, 0.89289289, 0.89389389, 0.89489489,\n",
       "       0.8958959 , 0.8968969 , 0.8978979 , 0.8988989 , 0.8998999 ,\n",
       "       0.9009009 , 0.9019019 , 0.9029029 , 0.9039039 , 0.9049049 ,\n",
       "       0.90590591, 0.90690691, 0.90790791, 0.90890891, 0.90990991,\n",
       "       0.91091091, 0.91191191, 0.91291291, 0.91391391, 0.91491491,\n",
       "       0.91591592, 0.91691692, 0.91791792, 0.91891892, 0.91991992,\n",
       "       0.92092092, 0.92192192, 0.92292292, 0.92392392, 0.92492492,\n",
       "       0.92592593, 0.92692693, 0.92792793, 0.92892893, 0.92992993,\n",
       "       0.93093093, 0.93193193, 0.93293293, 0.93393393, 0.93493493,\n",
       "       0.93593594, 0.93693694, 0.93793794, 0.93893894, 0.93993994,\n",
       "       0.94094094, 0.94194194, 0.94294294, 0.94394394, 0.94494494,\n",
       "       0.94594595, 0.94694695, 0.94794795, 0.94894895, 0.94994995,\n",
       "       0.95095095, 0.95195195, 0.95295295, 0.95395395, 0.95495495,\n",
       "       0.95595596, 0.95695696, 0.95795796, 0.95895896, 0.95995996,\n",
       "       0.96096096, 0.96196196, 0.96296296, 0.96396396, 0.96496496,\n",
       "       0.96596597, 0.96696697, 0.96796797, 0.96896897, 0.96996997,\n",
       "       0.97097097, 0.97197197, 0.97297297, 0.97397397, 0.97497497,\n",
       "       0.97597598, 0.97697698, 0.97797798, 0.97897898, 0.97997998,\n",
       "       0.98098098, 0.98198198, 0.98298298, 0.98398398, 0.98498498,\n",
       "       0.98598599, 0.98698699, 0.98798799, 0.98898899, 0.98998999,\n",
       "       0.99099099, 0.99199199, 0.99299299, 0.99399399, 0.99499499,\n",
       "       0.995996  , 0.996997  , 0.997998  , 0.998999  , 1.        ])"
      ]
     },
     "execution_count": 55,
     "metadata": {},
     "output_type": "execute_result"
    }
   ],
   "source": [
    "SR.evaluate_tree(made_tree)"
   ]
  },
  {
   "cell_type": "code",
   "execution_count": 57,
   "metadata": {},
   "outputs": [
    {
     "data": {
      "text/plain": [
       "183.79052228895563"
      ]
     },
     "execution_count": 57,
     "metadata": {},
     "output_type": "execute_result"
    }
   ],
   "source": [
    "SR.fit(np.c_[X1], y1, feature_names=[\"x\"])\n",
    "SR.fitness_score(made_tree)"
   ]
  },
  {
   "cell_type": "code",
   "execution_count": 66,
   "metadata": {},
   "outputs": [
    {
     "data": {
      "text/plain": [
       "'(((7.722+x))**2+(x-x))'"
      ]
     },
     "execution_count": 66,
     "metadata": {},
     "output_type": "execute_result"
    }
   ],
   "source": [
    "string = made_tree.toString(SR._operators, SR._functions, SR.custom_functions_dict)\n",
    "string"
   ]
  },
  {
   "cell_type": "code",
   "execution_count": 76,
   "metadata": {},
   "outputs": [],
   "source": [
    "def create_function_from_string(func_str):\n",
    "    global_vars = {}\n",
    "    exec(func_str, global_vars)\n",
    "    func_name = func_str.strip().split('\\n')[0].split()[1].split('(')[0]\n",
    "    return global_vars[func_name]\n"
   ]
  },
  {
   "cell_type": "code",
   "execution_count": 77,
   "metadata": {},
   "outputs": [
    {
     "data": {
      "text/plain": [
       "array([45.185284  , 45.21220292, 45.23912986, 45.26606482, 45.29300779,\n",
       "       45.31995877, 45.34691778, 45.3738848 , 45.40085983, 45.42784288,\n",
       "       45.45483395, 45.48183303, 45.50884013, 45.53585525, 45.56287838,\n",
       "       45.58990953, 45.61694869, 45.64399587, 45.67105106, 45.69811428,\n",
       "       45.7251855 , 45.75226475, 45.77935201, 45.80644728, 45.83355057,\n",
       "       45.86066188, 45.8877812 , 45.91490854, 45.9420439 , 45.96918727,\n",
       "       45.99633866, 46.02349806, 46.05066548, 46.07784092, 46.10502437,\n",
       "       46.13221584, 46.15941532, 46.18662282, 46.21383834, 46.24106187,\n",
       "       46.26829342, 46.29553298, 46.32278056, 46.35003616, 46.37729977,\n",
       "       46.4045714 , 46.43185104, 46.4591387 , 46.48643438, 46.51373807,\n",
       "       46.54104978, 46.5683695 , 46.59569724, 46.623033  , 46.65037677,\n",
       "       46.67772856, 46.70508836, 46.73245618, 46.75983202, 46.78721587,\n",
       "       46.81460774, 46.84200762, 46.86941552, 46.89683144, 46.92425537,\n",
       "       46.95168732, 46.97912728, 47.00657527, 47.03403126, 47.06149527,\n",
       "       47.0889673 , 47.11644735, 47.14393541, 47.17143148, 47.19893558,\n",
       "       47.22644769, 47.25396781, 47.28149595, 47.30903211, 47.33657628,\n",
       "       47.36412847, 47.39168867, 47.4192569 , 47.44683313, 47.47441739,\n",
       "       47.50200965, 47.52960994, 47.55721824, 47.58483456, 47.61245889,\n",
       "       47.64009124, 47.6677316 , 47.69537999, 47.72303638, 47.7507008 ,\n",
       "       47.77837323, 47.80605367, 47.83374213, 47.86143861, 47.8891431 ,\n",
       "       47.91685561, 47.94457614, 47.97230468, 48.00004124, 48.02778581,\n",
       "       48.0555384 , 48.083299  , 48.11106763, 48.13884426, 48.16662892,\n",
       "       48.19442159, 48.22222227, 48.25003097, 48.27784769, 48.30567242,\n",
       "       48.33350517, 48.36134594, 48.38919472, 48.41705152, 48.44491633,\n",
       "       48.47278916, 48.50067001, 48.52855887, 48.55645575, 48.58436064,\n",
       "       48.61227355, 48.64019448, 48.66812342, 48.69606038, 48.72400535,\n",
       "       48.75195834, 48.77991935, 48.80788837, 48.83586541, 48.86385046,\n",
       "       48.89184353, 48.91984462, 48.94785372, 48.97587084, 49.00389597,\n",
       "       49.03192912, 49.05997029, 49.08801947, 49.11607667, 49.14414188,\n",
       "       49.17221512, 49.20029636, 49.22838562, 49.2564829 , 49.2845882 ,\n",
       "       49.31270151, 49.34082283, 49.36895218, 49.39708954, 49.42523491,\n",
       "       49.4533883 , 49.48154971, 49.50971913, 49.53789657, 49.56608202,\n",
       "       49.59427549, 49.62247698, 49.65068648, 49.678904  , 49.70712954,\n",
       "       49.73536309, 49.76360465, 49.79185424, 49.82011184, 49.84837745,\n",
       "       49.87665108, 49.90493273, 49.93322239, 49.96152007, 49.98982577,\n",
       "       50.01813948, 50.04646121, 50.07479095, 50.10312871, 50.13147448,\n",
       "       50.15982827, 50.18819008, 50.2165599 , 50.24493774, 50.2733236 ,\n",
       "       50.30171747, 50.33011936, 50.35852926, 50.38694718, 50.41537312,\n",
       "       50.44380707, 50.47224904, 50.50069902, 50.52915702, 50.55762303,\n",
       "       50.58609707, 50.61457911, 50.64306918, 50.67156726, 50.70007335,\n",
       "       50.72858746, 50.75710959, 50.78563974, 50.81417789, 50.84272407,\n",
       "       50.87127826, 50.89984047, 50.92841069, 50.95698893, 50.98557519,\n",
       "       51.01416946, 51.04277175, 51.07138205, 51.10000037, 51.12862671,\n",
       "       51.15726106, 51.18590343, 51.21455381, 51.24321221, 51.27187863,\n",
       "       51.30055306, 51.32923551, 51.35792598, 51.38662446, 51.41533095,\n",
       "       51.44404546, 51.47276799, 51.50149854, 51.5302371 , 51.55898367,\n",
       "       51.58773827, 51.61650087, 51.6452715 , 51.67405014, 51.7028368 ,\n",
       "       51.73163147, 51.76043416, 51.78924486, 51.81806358, 51.84689032,\n",
       "       51.87572507, 51.90456784, 51.93341863, 51.96227743, 51.99114424,\n",
       "       52.02001908, 52.04890192, 52.07779279, 52.10669167, 52.13559857,\n",
       "       52.16451348, 52.19343641, 52.22236735, 52.25130631, 52.28025329,\n",
       "       52.30920828, 52.33817129, 52.36714232, 52.39612136, 52.42510842,\n",
       "       52.45410349, 52.48310658, 52.51211768, 52.54113681, 52.57016394,\n",
       "       52.5991991 , 52.62824227, 52.65729345, 52.68635265, 52.71541987,\n",
       "       52.7444951 , 52.77357835, 52.80266962, 52.8317689 , 52.8608762 ,\n",
       "       52.88999151, 52.91911484, 52.94824619, 52.97738555, 53.00653292,\n",
       "       53.03568832, 53.06485173, 53.09402315, 53.1232026 , 53.15239005,\n",
       "       53.18158553, 53.21078902, 53.24000052, 53.26922004, 53.29844758,\n",
       "       53.32768314, 53.35692671, 53.38617829, 53.41543789, 53.44470551,\n",
       "       53.47398115, 53.5032648 , 53.53255646, 53.56185614, 53.59116384,\n",
       "       53.62047956, 53.64980329, 53.67913503, 53.70847479, 53.73782257,\n",
       "       53.76717837, 53.79654218, 53.825914  , 53.85529385, 53.8846817 ,\n",
       "       53.91407758, 53.94348147, 53.97289338, 54.0023133 , 54.03174124,\n",
       "       54.06117719, 54.09062116, 54.12007315, 54.14953315, 54.17900117,\n",
       "       54.2084772 , 54.23796125, 54.26745332, 54.2969534 , 54.3264615 ,\n",
       "       54.35597762, 54.38550175, 54.41503389, 54.44457406, 54.47412224,\n",
       "       54.50367843, 54.53324264, 54.56281487, 54.59239511, 54.62198337,\n",
       "       54.65157964, 54.68118394, 54.71079624, 54.74041657, 54.77004491,\n",
       "       54.79968126, 54.82932563, 54.85897802, 54.88863842, 54.91830684,\n",
       "       54.94798328, 54.97766773, 55.00736019, 55.03706068, 55.06676918,\n",
       "       55.09648569, 55.12621022, 55.15594277, 55.18568333, 55.21543191,\n",
       "       55.24518851, 55.27495312, 55.30472575, 55.33450639, 55.36429505,\n",
       "       55.39409173, 55.42389642, 55.45370913, 55.48352985, 55.51335859,\n",
       "       55.54319534, 55.57304012, 55.6028929 , 55.63275371, 55.66262253,\n",
       "       55.69249936, 55.72238422, 55.75227708, 55.78217797, 55.81208687,\n",
       "       55.84200378, 55.87192871, 55.90186166, 55.93180263, 55.96175161,\n",
       "       55.9917086 , 56.02167361, 56.05164664, 56.08162769, 56.11161675,\n",
       "       56.14161382, 56.17161892, 56.20163202, 56.23165315, 56.26168229,\n",
       "       56.29171944, 56.32176462, 56.35181781, 56.38187901, 56.41194823,\n",
       "       56.44202547, 56.47211072, 56.50220399, 56.53230527, 56.56241457,\n",
       "       56.59253189, 56.62265722, 56.65279057, 56.68293193, 56.71308131,\n",
       "       56.74323871, 56.77340412, 56.80357755, 56.833759  , 56.86394846,\n",
       "       56.89414594, 56.92435143, 56.95456494, 56.98478646, 57.015016  ,\n",
       "       57.04525356, 57.07549913, 57.10575272, 57.13601433, 57.16628395,\n",
       "       57.19656158, 57.22684724, 57.25714091, 57.28744259, 57.31775229,\n",
       "       57.34807001, 57.37839574, 57.40872949, 57.43907126, 57.46942104,\n",
       "       57.49977884, 57.53014465, 57.56051848, 57.59090032, 57.62129018,\n",
       "       57.65168806, 57.68209396, 57.71250786, 57.74292979, 57.77335973,\n",
       "       57.80379769, 57.83424366, 57.86469765, 57.89515966, 57.92562968,\n",
       "       57.95610772, 57.98659377, 58.01708784, 58.04758993, 58.07810003,\n",
       "       58.10861814, 58.13914428, 58.16967843, 58.20022059, 58.23077078,\n",
       "       58.26132897, 58.29189519, 58.32246942, 58.35305166, 58.38364193,\n",
       "       58.4142402 , 58.4448465 , 58.47546081, 58.50608313, 58.53671348,\n",
       "       58.56735183, 58.59799821, 58.6286526 , 58.659315  , 58.68998543,\n",
       "       58.72066386, 58.75135032, 58.78204479, 58.81274728, 58.84345778,\n",
       "       58.8741763 , 58.90490283, 58.93563738, 58.96637995, 58.99713053,\n",
       "       59.02788913, 59.05865574, 59.08943037, 59.12021302, 59.15100368,\n",
       "       59.18180236, 59.21260905, 59.24342377, 59.27424649, 59.30507723,\n",
       "       59.33591599, 59.36676277, 59.39761756, 59.42848037, 59.45935119,\n",
       "       59.49023003, 59.52111688, 59.55201175, 59.58291464, 59.61382554,\n",
       "       59.64474446, 59.6756714 , 59.70660635, 59.73754931, 59.7685003 ,\n",
       "       59.7994593 , 59.83042631, 59.86140134, 59.89238439, 59.92337545,\n",
       "       59.95437453, 59.98538163, 60.01639674, 60.04741987, 60.07845101,\n",
       "       60.10949017, 60.14053734, 60.17159253, 60.20265574, 60.23372697,\n",
       "       60.2648062 , 60.29589346, 60.32698873, 60.35809202, 60.38920332,\n",
       "       60.42032264, 60.45144998, 60.48258533, 60.5137287 , 60.54488008,\n",
       "       60.57603948, 60.6072069 , 60.63838233, 60.66956578, 60.70075724,\n",
       "       60.73195672, 60.76316421, 60.79437973, 60.82560325, 60.8568348 ,\n",
       "       60.88807436, 60.91932193, 60.95057753, 60.98184113, 61.01311276,\n",
       "       61.0443924 , 61.07568005, 61.10697573, 61.13827941, 61.16959112,\n",
       "       61.20091084, 61.23223857, 61.26357433, 61.29491809, 61.32626988,\n",
       "       61.35762968, 61.3889975 , 61.42037333, 61.45175718, 61.48314904,\n",
       "       61.51454892, 61.54595682, 61.57737273, 61.60879666, 61.6402286 ,\n",
       "       61.67166856, 61.70311654, 61.73457253, 61.76603654, 61.79750856,\n",
       "       61.82898861, 61.86047666, 61.89197273, 61.92347682, 61.95498893,\n",
       "       61.98650905, 62.01803719, 62.04957334, 62.08111751, 62.11266969,\n",
       "       62.14422989, 62.17579811, 62.20737434, 62.23895859, 62.27055086,\n",
       "       62.30215114, 62.33375943, 62.36537575, 62.39700008, 62.42863242,\n",
       "       62.46027278, 62.49192116, 62.52357755, 62.55524196, 62.58691439,\n",
       "       62.61859483, 62.65028329, 62.68197976, 62.71368425, 62.74539675,\n",
       "       62.77711727, 62.80884581, 62.84058237, 62.87232693, 62.90407952,\n",
       "       62.93584012, 62.96760874, 62.99938537, 63.03117002, 63.06296269,\n",
       "       63.09476337, 63.12657207, 63.15838878, 63.19021351, 63.22204626,\n",
       "       63.25388702, 63.2857358 , 63.31759259, 63.3494574 , 63.38133022,\n",
       "       63.41321107, 63.44509992, 63.4769968 , 63.50890169, 63.54081459,\n",
       "       63.57273552, 63.60466445, 63.63660141, 63.66854638, 63.70049936,\n",
       "       63.73246037, 63.76442938, 63.79640642, 63.82839147, 63.86038453,\n",
       "       63.89238562, 63.92439471, 63.95641183, 63.98843696, 64.02047011,\n",
       "       64.05251127, 64.08456045, 64.11661764, 64.14868285, 64.18075608,\n",
       "       64.21283732, 64.24492658, 64.27702385, 64.30912914, 64.34124245,\n",
       "       64.37336377, 64.40549311, 64.43763046, 64.46977584, 64.50192922,\n",
       "       64.53409062, 64.56626004, 64.59843748, 64.63062293, 64.6628164 ,\n",
       "       64.69501788, 64.72722738, 64.75944489, 64.79167042, 64.82390397,\n",
       "       64.85614553, 64.88839511, 64.92065271, 64.95291832, 64.98519194,\n",
       "       65.01747359, 65.04976325, 65.08206092, 65.11436661, 65.14668032,\n",
       "       65.17900204, 65.21133178, 65.24366954, 65.27601531, 65.3083691 ,\n",
       "       65.3407309 , 65.37310072, 65.40547855, 65.4378644 , 65.47025827,\n",
       "       65.50266015, 65.53507005, 65.56748797, 65.5999139 , 65.63234785,\n",
       "       65.66478981, 65.69723979, 65.72969779, 65.7621638 , 65.79463783,\n",
       "       65.82711987, 65.85960993, 65.89210801, 65.9246141 , 65.9571282 ,\n",
       "       65.98965033, 66.02218047, 66.05471862, 66.0872648 , 66.11981898,\n",
       "       66.15238119, 66.18495141, 66.21752964, 66.25011589, 66.28271016,\n",
       "       66.31531245, 66.34792275, 66.38054106, 66.41316739, 66.44580174,\n",
       "       66.47844411, 66.51109449, 66.54375288, 66.5764193 , 66.60909372,\n",
       "       66.64177617, 66.67446663, 66.7071651 , 66.7398716 , 66.7725861 ,\n",
       "       66.80530863, 66.83803917, 66.87077773, 66.9035243 , 66.93627889,\n",
       "       66.96904149, 67.00181211, 67.03459075, 67.0673774 , 67.10017207,\n",
       "       67.13297475, 67.16578545, 67.19860417, 67.2314309 , 67.26426565,\n",
       "       67.29710842, 67.3299592 , 67.36281799, 67.39568481, 67.42855964,\n",
       "       67.46144248, 67.49433334, 67.52723222, 67.56013911, 67.59305402,\n",
       "       67.62597695, 67.65890789, 67.69184684, 67.72479382, 67.75774881,\n",
       "       67.79071181, 67.82368283, 67.85666187, 67.88964892, 67.92264399,\n",
       "       67.95564708, 67.98865818, 68.02167729, 68.05470443, 68.08773958,\n",
       "       68.12078274, 68.15383392, 68.18689312, 68.21996033, 68.25303556,\n",
       "       68.28611881, 68.31921007, 68.35230935, 68.38541664, 68.41853195,\n",
       "       68.45165528, 68.48478662, 68.51792598, 68.55107335, 68.58422874,\n",
       "       68.61739214, 68.65056357, 68.683743  , 68.71693046, 68.75012593,\n",
       "       68.78332941, 68.81654091, 68.84976043, 68.88298797, 68.91622352,\n",
       "       68.94946708, 68.98271866, 69.01597826, 69.04924588, 69.08252151,\n",
       "       69.11580515, 69.14909681, 69.18239649, 69.21570419, 69.2490199 ,\n",
       "       69.28234362, 69.31567536, 69.34901512, 69.3823629 , 69.41571869,\n",
       "       69.44908249, 69.48245432, 69.51583415, 69.54922201, 69.58261788,\n",
       "       69.61602176, 69.64943367, 69.68285359, 69.71628152, 69.74971747,\n",
       "       69.78316144, 69.81661342, 69.85007342, 69.88354143, 69.91701746,\n",
       "       69.95050151, 69.98399357, 70.01749365, 70.05100175, 70.08451786,\n",
       "       70.11804198, 70.15157413, 70.18511428, 70.21866246, 70.25221865,\n",
       "       70.28578286, 70.31935508, 70.35293532, 70.38652357, 70.42011984,\n",
       "       70.45372413, 70.48733643, 70.52095675, 70.55458509, 70.58822144,\n",
       "       70.62186581, 70.65551819, 70.68917859, 70.722847  , 70.75652344,\n",
       "       70.79020788, 70.82390035, 70.85760083, 70.89130932, 70.92502583,\n",
       "       70.95875036, 70.9924829 , 71.02622346, 71.05997204, 71.09372863,\n",
       "       71.12749324, 71.16126586, 71.1950465 , 71.22883515, 71.26263183,\n",
       "       71.29643651, 71.33024922, 71.36406994, 71.39789867, 71.43173542,\n",
       "       71.46558019, 71.49943298, 71.53329378, 71.56716259, 71.60103942,\n",
       "       71.63492427, 71.66881713, 71.70271801, 71.73662691, 71.77054382,\n",
       "       71.80446875, 71.83840169, 71.87234265, 71.90629163, 71.94024862,\n",
       "       71.97421363, 72.00818665, 72.04216769, 72.07615675, 72.11015382,\n",
       "       72.14415891, 72.17817202, 72.21219314, 72.24622227, 72.28025942,\n",
       "       72.31430459, 72.34835778, 72.38241898, 72.41648819, 72.45056543,\n",
       "       72.48465067, 72.51874394, 72.55284522, 72.58695452, 72.62107183,\n",
       "       72.65519716, 72.6893305 , 72.72347186, 72.75762124, 72.79177863,\n",
       "       72.82594404, 72.86011746, 72.8942989 , 72.92848836, 72.96268583,\n",
       "       72.99689132, 73.03110483, 73.06532635, 73.09955589, 73.13379344,\n",
       "       73.16803901, 73.20229259, 73.23655419, 73.27082381, 73.30510144,\n",
       "       73.33938709, 73.37368076, 73.40798244, 73.44229214, 73.47660985,\n",
       "       73.51093558, 73.54526932, 73.57961108, 73.61396086, 73.64831865,\n",
       "       73.68268446, 73.71705829, 73.75144013, 73.78582999, 73.82022786,\n",
       "       73.85463375, 73.88904766, 73.92346958, 73.95789951, 73.99233747,\n",
       "       74.02678344, 74.06123742, 74.09569942, 74.13016944, 74.16464748,\n",
       "       74.19913353, 74.23362759, 74.26812967, 74.30263977, 74.33715788,\n",
       "       74.37168401, 74.40621816, 74.44076032, 74.4753105 , 74.50986869,\n",
       "       74.5444349 , 74.57900913, 74.61359137, 74.64818163, 74.6827799 ,\n",
       "       74.71738619, 74.7520005 , 74.78662282, 74.82125316, 74.85589151,\n",
       "       74.89053788, 74.92519227, 74.95985467, 74.99452509, 75.02920352,\n",
       "       75.06388997, 75.09858444, 75.13328692, 75.16799742, 75.20271593,\n",
       "       75.23744246, 75.27217701, 75.30691957, 75.34167015, 75.37642875,\n",
       "       75.41119536, 75.44596998, 75.48075263, 75.51554328, 75.55034196,\n",
       "       75.58514865, 75.61996336, 75.65478608, 75.68961682, 75.72445557,\n",
       "       75.75930234, 75.79415713, 75.82901993, 75.86389075, 75.89876959,\n",
       "       75.93365644, 75.9685513 , 76.00345419, 76.03836509, 76.073284  ])"
      ]
     },
     "execution_count": 77,
     "metadata": {},
     "output_type": "execute_result"
    }
   ],
   "source": [
    "di = {}\n",
    "exec(f\"\"\"def f(x):\n",
    "    return {string}\"\"\", di)\n",
    "di[\"f\"](X)"
   ]
  }
 ],
 "metadata": {
  "kernelspec": {
   "display_name": "base",
   "language": "python",
   "name": "python3"
  },
  "language_info": {
   "codemirror_mode": {
    "name": "ipython",
    "version": 3
   },
   "file_extension": ".py",
   "mimetype": "text/x-python",
   "name": "python",
   "nbconvert_exporter": "python",
   "pygments_lexer": "ipython3",
   "version": "3.9.13"
  }
 },
 "nbformat": 4,
 "nbformat_minor": 2
}
