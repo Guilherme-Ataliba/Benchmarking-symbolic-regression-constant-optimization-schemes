{
 "cells": [
  {
   "cell_type": "code",
   "execution_count": 24,
   "id": "8c8daa72-5115-4d2a-b7c1-c1b4183a9ad2",
   "metadata": {},
   "outputs": [
    {
     "ename": "TypeError",
     "evalue": "object of type 'function' has no len()",
     "output_type": "error",
     "traceback": [
      "\u001b[1;31m---------------------------------------------------------------------------\u001b[0m",
      "\u001b[1;31mTypeError\u001b[0m                                 Traceback (most recent call last)",
      "\u001b[1;32m~\\AppData\\Local\\Temp\\ipykernel_20116\\1834280637.py\u001b[0m in \u001b[0;36m<module>\u001b[1;34m\u001b[0m\n\u001b[0;32m      2\u001b[0m     \u001b[1;32mreturn\u001b[0m \u001b[1;36m0\u001b[0m\u001b[1;33m\u001b[0m\u001b[1;33m\u001b[0m\u001b[0m\n\u001b[0;32m      3\u001b[0m \u001b[1;33m\u001b[0m\u001b[0m\n\u001b[1;32m----> 4\u001b[1;33m \u001b[0mlen\u001b[0m\u001b[1;33m(\u001b[0m\u001b[0mfunca\u001b[0m\u001b[1;33m)\u001b[0m\u001b[1;33m\u001b[0m\u001b[1;33m\u001b[0m\u001b[0m\n\u001b[0m",
      "\u001b[1;31mTypeError\u001b[0m: object of type 'function' has no len()"
     ]
    }
   ],
   "source": []
  },
  {
   "cell_type": "markdown",
   "id": "3b21700b-453e-42be-892e-c245d23c80d9",
   "metadata": {},
   "source": [
    "# Differential Evolution"
   ]
  },
  {
   "cell_type": "code",
   "execution_count": 26,
   "id": "3caaa51e-aed4-4bb6-9506-581017a9aa90",
   "metadata": {},
   "outputs": [
    {
     "name": "stderr",
     "output_type": "stream",
     "text": [
      "C:\\Users\\lreis\\AppData\\Local\\Temp\\ipykernel_20116\\74558808.py:16: RuntimeWarning: overflow encountered in exp\n",
      "  return a * np.exp(b * np.exp(c * x))\n",
      "C:\\Users\\lreis\\AppData\\Local\\Temp\\ipykernel_20116\\74558808.py:21: RuntimeWarning: overflow encountered in square\n",
      "  return np.mean((y_data - y_pred) ** 2)\n",
      "C:\\Users\\lreis\\AppData\\Local\\Temp\\ipykernel_20116\\74558808.py:16: RuntimeWarning: overflow encountered in multiply\n",
      "  return a * np.exp(b * np.exp(c * x))\n"
     ]
    },
    {
     "name": "stdout",
     "output_type": "stream",
     "text": [
      "Optimal Parameters: a = 10.0 , b = -0.5 , c = -0.5\n",
      "Minimum Error: 0.0\n"
     ]
    }
   ],
   "source": [
    "import numpy as np\n",
    "from scipy.optimize import differential_evolution\n",
    "\n",
    "# Generate some example data\n",
    "np.random.seed(42)\n",
    "x_data = np.linspace(-5, 15, 1000)\n",
    "# True parameters: a = 2, b = -1, c = 3\n",
    "a_true, b_true, c_true = 10, -0.5, -0.5\n",
    "y_data = a_true * np.exp(b_true * np.exp(c_true * x_data))\n",
    "# Adding some noise to the data\n",
    "# y_data += 0.1 * np.r4andom.normal(size=x_data.size)\n",
    "\n",
    "# Define the model function\n",
    "def model(x, a, b, c):\n",
    "    # a, b, c = params\n",
    "    return a * np.exp(b * np.exp(c * x))\n",
    "\n",
    "# Define the objective function (sum of squared errors)\n",
    "def objective_function(params):\n",
    "    y_pred = model(x_data, *params)\n",
    "    return np.mean((y_data - y_pred) ** 2)\n",
    "\n",
    "# Define bounds for each parameter\n",
    "bounds = [(-5, 10), (-5, 10), (-5, 10)]\n",
    "\n",
    "# Perform Differential Evolution\n",
    "result = differential_evolution(objective_function, bounds)\n",
    "\n",
    "# Optimal Parameters\n",
    "optimal_params = result.x\n",
    "print(\"Optimal Parameters: a =\", optimal_params[0], \", b =\", optimal_params[1], \", c =\", optimal_params[2])\n",
    "print(\"Minimum Error:\", result.fun)\n"
   ]
  },
  {
   "cell_type": "code",
   "execution_count": 1,
   "id": "5468a93d-901a-4d20-8143-c8e2b551518d",
   "metadata": {},
   "outputs": [
    {
     "ename": "RuntimeError",
     "evalue": "The map-like callable must be of the form f(func, iterable), returning a sequence of numbers the same length as 'iterable'",
     "output_type": "error",
     "traceback": [
      "\u001b[1;31m---------------------------------------------------------------------------\u001b[0m",
      "\u001b[1;31mTypeError\u001b[0m                                 Traceback (most recent call last)",
      "\u001b[1;32mD:\\Users\\lreis\\anaconda3\\lib\\site-packages\\scipy\\optimize\\_differentialevolution.py\u001b[0m in \u001b[0;36m_calculate_population_energies\u001b[1;34m(self, population)\u001b[0m\n\u001b[0;32m   1115\u001b[0m         \u001b[1;32mtry\u001b[0m\u001b[1;33m:\u001b[0m\u001b[1;33m\u001b[0m\u001b[1;33m\u001b[0m\u001b[0m\n\u001b[1;32m-> 1116\u001b[1;33m             calc_energies = list(\n\u001b[0m\u001b[0;32m   1117\u001b[0m                 \u001b[0mself\u001b[0m\u001b[1;33m.\u001b[0m\u001b[0m_mapwrapper\u001b[0m\u001b[1;33m(\u001b[0m\u001b[0mself\u001b[0m\u001b[1;33m.\u001b[0m\u001b[0mfunc\u001b[0m\u001b[1;33m,\u001b[0m \u001b[0mparameters_pop\u001b[0m\u001b[1;33m[\u001b[0m\u001b[1;36m0\u001b[0m\u001b[1;33m:\u001b[0m\u001b[0mS\u001b[0m\u001b[1;33m]\u001b[0m\u001b[1;33m)\u001b[0m\u001b[1;33m\u001b[0m\u001b[1;33m\u001b[0m\u001b[0m\n",
      "\u001b[1;32mD:\\Users\\lreis\\anaconda3\\lib\\site-packages\\scipy\\_lib\\_util.py\u001b[0m in \u001b[0;36m__call__\u001b[1;34m(self, x)\u001b[0m\n\u001b[0;32m    406\u001b[0m     \u001b[1;32mdef\u001b[0m \u001b[0m__call__\u001b[0m\u001b[1;33m(\u001b[0m\u001b[0mself\u001b[0m\u001b[1;33m,\u001b[0m \u001b[0mx\u001b[0m\u001b[1;33m)\u001b[0m\u001b[1;33m:\u001b[0m\u001b[1;33m\u001b[0m\u001b[1;33m\u001b[0m\u001b[0m\n\u001b[1;32m--> 407\u001b[1;33m         \u001b[1;32mreturn\u001b[0m \u001b[0mself\u001b[0m\u001b[1;33m.\u001b[0m\u001b[0mf\u001b[0m\u001b[1;33m(\u001b[0m\u001b[0mx\u001b[0m\u001b[1;33m,\u001b[0m \u001b[1;33m*\u001b[0m\u001b[0mself\u001b[0m\u001b[1;33m.\u001b[0m\u001b[0margs\u001b[0m\u001b[1;33m)\u001b[0m\u001b[1;33m\u001b[0m\u001b[1;33m\u001b[0m\u001b[0m\n\u001b[0m\u001b[0;32m    408\u001b[0m \u001b[1;33m\u001b[0m\u001b[0m\n",
      "\u001b[1;31mTypeError\u001b[0m: func() missing 3 required positional arguments: 'a', 'b', and 'c'",
      "\nThe above exception was the direct cause of the following exception:\n",
      "\u001b[1;31mRuntimeError\u001b[0m                              Traceback (most recent call last)",
      "\u001b[1;32m~\\AppData\\Local\\Temp\\ipykernel_20116\\3904853834.py\u001b[0m in \u001b[0;36m<module>\u001b[1;34m\u001b[0m\n\u001b[0;32m      6\u001b[0m \u001b[0mbounds\u001b[0m \u001b[1;33m=\u001b[0m \u001b[1;33m[\u001b[0m\u001b[1;33m(\u001b[0m\u001b[1;33m-\u001b[0m\u001b[1;36m10\u001b[0m\u001b[1;33m,\u001b[0m \u001b[1;36m10\u001b[0m\u001b[1;33m)\u001b[0m\u001b[1;33m,\u001b[0m \u001b[1;33m(\u001b[0m\u001b[1;33m-\u001b[0m\u001b[1;36m10\u001b[0m\u001b[1;33m,\u001b[0m \u001b[1;36m10\u001b[0m\u001b[1;33m)\u001b[0m\u001b[1;33m,\u001b[0m \u001b[1;33m(\u001b[0m\u001b[1;33m-\u001b[0m\u001b[1;36m10\u001b[0m\u001b[1;33m,\u001b[0m \u001b[1;36m10\u001b[0m\u001b[1;33m)\u001b[0m\u001b[1;33m]\u001b[0m\u001b[1;33m\u001b[0m\u001b[1;33m\u001b[0m\u001b[0m\n\u001b[0;32m      7\u001b[0m \u001b[1;33m\u001b[0m\u001b[0m\n\u001b[1;32m----> 8\u001b[1;33m \u001b[0mresults\u001b[0m \u001b[1;33m=\u001b[0m \u001b[0mdifferential_evolution\u001b[0m\u001b[1;33m(\u001b[0m\u001b[0mfunc\u001b[0m\u001b[1;33m,\u001b[0m \u001b[0mbounds\u001b[0m\u001b[1;33m)\u001b[0m\u001b[1;33m\u001b[0m\u001b[1;33m\u001b[0m\u001b[0m\n\u001b[0m",
      "\u001b[1;32mD:\\Users\\lreis\\anaconda3\\lib\\site-packages\\scipy\\optimize\\_differentialevolution.py\u001b[0m in \u001b[0;36mdifferential_evolution\u001b[1;34m(func, bounds, args, strategy, maxiter, popsize, tol, mutation, recombination, seed, callback, disp, polish, init, atol, updating, workers, constraints, x0, integrality, vectorized)\u001b[0m\n\u001b[0;32m    390\u001b[0m                                      \u001b[0mintegrality\u001b[0m\u001b[1;33m=\u001b[0m\u001b[0mintegrality\u001b[0m\u001b[1;33m,\u001b[0m\u001b[1;33m\u001b[0m\u001b[1;33m\u001b[0m\u001b[0m\n\u001b[0;32m    391\u001b[0m                                      vectorized=vectorized) as solver:\n\u001b[1;32m--> 392\u001b[1;33m         \u001b[0mret\u001b[0m \u001b[1;33m=\u001b[0m \u001b[0msolver\u001b[0m\u001b[1;33m.\u001b[0m\u001b[0msolve\u001b[0m\u001b[1;33m(\u001b[0m\u001b[1;33m)\u001b[0m\u001b[1;33m\u001b[0m\u001b[1;33m\u001b[0m\u001b[0m\n\u001b[0m\u001b[0;32m    393\u001b[0m \u001b[1;33m\u001b[0m\u001b[0m\n\u001b[0;32m    394\u001b[0m     \u001b[1;32mreturn\u001b[0m \u001b[0mret\u001b[0m\u001b[1;33m\u001b[0m\u001b[1;33m\u001b[0m\u001b[0m\n",
      "\u001b[1;32mD:\\Users\\lreis\\anaconda3\\lib\\site-packages\\scipy\\optimize\\_differentialevolution.py\u001b[0m in \u001b[0;36msolve\u001b[1;34m(self)\u001b[0m\n\u001b[0;32m    982\u001b[0m             \u001b[1;31m# only work out population energies for feasible solutions\u001b[0m\u001b[1;33m\u001b[0m\u001b[1;33m\u001b[0m\u001b[0m\n\u001b[0;32m    983\u001b[0m             self.population_energies[self.feasible] = (\n\u001b[1;32m--> 984\u001b[1;33m                 self._calculate_population_energies(\n\u001b[0m\u001b[0;32m    985\u001b[0m                     self.population[self.feasible]))\n\u001b[0;32m    986\u001b[0m \u001b[1;33m\u001b[0m\u001b[0m\n",
      "\u001b[1;32mD:\\Users\\lreis\\anaconda3\\lib\\site-packages\\scipy\\optimize\\_differentialevolution.py\u001b[0m in \u001b[0;36m_calculate_population_energies\u001b[1;34m(self, population)\u001b[0m\n\u001b[0;32m   1121\u001b[0m             \u001b[1;31m# wrong number of arguments for _mapwrapper\u001b[0m\u001b[1;33m\u001b[0m\u001b[1;33m\u001b[0m\u001b[0m\n\u001b[0;32m   1122\u001b[0m             \u001b[1;31m# or wrong length returned from the mapper\u001b[0m\u001b[1;33m\u001b[0m\u001b[1;33m\u001b[0m\u001b[0m\n\u001b[1;32m-> 1123\u001b[1;33m             raise RuntimeError(\n\u001b[0m\u001b[0;32m   1124\u001b[0m                 \u001b[1;34m\"The map-like callable must be of the form f(func, iterable), \"\u001b[0m\u001b[1;33m\u001b[0m\u001b[1;33m\u001b[0m\u001b[0m\n\u001b[0;32m   1125\u001b[0m                 \u001b[1;34m\"returning a sequence of numbers the same length as 'iterable'\"\u001b[0m\u001b[1;33m\u001b[0m\u001b[1;33m\u001b[0m\u001b[0m\n",
      "\u001b[1;31mRuntimeError\u001b[0m: The map-like callable must be of the form f(func, iterable), returning a sequence of numbers the same length as 'iterable'"
     ]
    }
   ],
   "source": [
    "from scipy.optimize import differential_evolution\n",
    "\n",
    "def func(x, a, b, c):\n",
    "    return a*np.exp(b*np.exp(c*x))\n",
    "\n",
    "bounds = [(-10, 10), (-10, 10), (-10, 10)]\n",
    "\n",
    "results = differential_evolution(func, bounds)"
   ]
  },
  {
   "cell_type": "markdown",
   "id": "a04ab0e1-d9ba-41bb-b265-f89556bcd25c",
   "metadata": {},
   "source": [
    "# Gradient Descent is also very dependent of initial conditions, if the problems are not easily solvable"
   ]
  },
  {
   "cell_type": "code",
   "execution_count": 152,
   "id": "6a9feea1-c684-4192-b1d4-4515341d3781",
   "metadata": {},
   "outputs": [
    {
     "name": "stdout",
     "output_type": "stream",
     "text": [
      "Optimized Parameters: [ 9.99999993 -0.50000006 -0.50000012]\n"
     ]
    }
   ],
   "source": [
    "import numpy as np\n",
    "from scipy.optimize import minimize\n",
    "\n",
    "# Sample data\n",
    "x_data = np.linspace(-5, 15, 1000)  # Example x values\n",
    "y_data = model_function([10, -0.5, -0.5], x_data)  # Example y values\n",
    "\n",
    "# Define your model function\n",
    "def model_function(params, x):\n",
    "    a, b, c = params\n",
    "    return a * np.exp(b * np.exp(c * x))\n",
    "\n",
    "def loss_function(params, x, y):\n",
    "    y_pred = model_function(params, x)\n",
    "    return np.mean((y - y_pred) ** 2)\n",
    "\n",
    "# Define the Jacobian of the loss function (Mean Squared Error)\n",
    "def loss_function_jacobian(params, x, y):\n",
    "    a, b, c = params\n",
    "    y_pred = model_function(params, x)\n",
    "    residuals = y_pred - y\n",
    "    gradient_a = 2 * np.mean(residuals * np.exp(b * np.exp(c * x)))\n",
    "    gradient_b = 2 * np.mean(residuals * a * b * c* np.exp(b * np.exp(c * x) + c*x))\n",
    "    gradient_c = 2 * np.mean(residuals * a*b*c*np.exp(b*np.exp(c*x) + c*x*(b*c*np.exp(c*x) + c)))\n",
    "    return np.array([gradient_a, gradient_b, gradient_c])\n",
    "\n",
    "# Initial guess for the parameters\n",
    "initial_guess = [1, -1.0, -1.0]\n",
    "\n",
    "# second_guess = [ 0.99866526,  0.80191825, -0.00961531]\n",
    "# initial_guess = second_guess\n",
    "\n",
    "# Perform optimization using Newton-CG method with the Jacobian\n",
    "# result = minimize(loss_function, initial_guess, args=(x_data, y_data), method='Newton-CG', jac=loss_function_jacobian)\n",
    "result = minimize(loss_function, initial_guess, args=(x_data, y_data), method='CG', options={\"maxiter\": 10000})\n",
    "\n",
    "# Extract the optimized parameters\n",
    "optimized_params = result.x\n",
    "\n",
    "print(\"Optimized Parameters:\", optimized_params)\n"
   ]
  }
 ],
 "metadata": {
  "kernelspec": {
   "display_name": "Python 3 (ipykernel)",
   "language": "python",
   "name": "python3"
  },
  "language_info": {
   "codemirror_mode": {
    "name": "ipython",
    "version": 3
   },
   "file_extension": ".py",
   "mimetype": "text/x-python",
   "name": "python",
   "nbconvert_exporter": "python",
   "pygments_lexer": "ipython3",
   "version": "3.9.13"
  },
  "widgets": {
   "application/vnd.jupyter.widget-state+json": {
    "state": {},
    "version_major": 2,
    "version_minor": 0
   }
  }
 },
 "nbformat": 4,
 "nbformat_minor": 5
}
