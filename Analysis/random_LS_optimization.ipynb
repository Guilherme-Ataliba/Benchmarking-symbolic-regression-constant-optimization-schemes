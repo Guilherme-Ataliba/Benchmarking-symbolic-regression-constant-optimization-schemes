{
 "cells": [
  {
   "cell_type": "code",
   "execution_count": 1,
   "id": "5f51a357-4002-4b23-a932-48a8441a15a1",
   "metadata": {},
   "outputs": [],
   "source": [
    "import sys\n",
    "sys.path.append('../algorithms/')\n",
    "\n",
    "from CSOWP_SR import *\n",
    "from ExpressionTree import *\n",
    "from trainAlgorithm import *\n",
    "import matplotlib.pyplot as plt"
   ]
  },
  {
   "cell_type": "markdown",
   "id": "401fc067-4040-4ae0-a6c4-3559088e98db",
   "metadata": {
    "tags": []
   },
   "source": [
    "# Base Test - General Basis Functions"
   ]
  },
  {
   "cell_type": "code",
   "execution_count": 2,
   "id": "96b670c7-6843-4b46-8061-60b4070f14a1",
   "metadata": {},
   "outputs": [],
   "source": [
    "operators_op = {\"+\": lambda a,b: np.add(a,b), \"*\": lambda a,b: np.multiply(a,b)}\n",
    "functions_op = {\"exp-\": lambda a: np.exp(-a), \"exp\": lambda a: np.exp(a),\n",
    "               \"ln\": lambda a: np.log(a), \"tanh\": lambda a: np.tanh(a)}\n",
    "weights = {\"exp\": 4, \"exp-\": 4, \"ln\" : 4, \"tanh\": 4}"
   ]
  },
  {
   "cell_type": "code",
   "execution_count": 3,
   "id": "7ea223a7-ef3a-4fde-a829-c4a316b13c23",
   "metadata": {},
   "outputs": [
    {
     "name": "stdout",
     "output_type": "stream",
     "text": [
      "-=-=-=-=-=-=-=-= Training for population 4000 and generation 10 - random_LS_optimization/base_test_general =-=-=-=-=-=-=-=-\n",
      "iniciou\n",
      "iniciou\n"
     ]
    },
    {
     "ename": "TypeError",
     "evalue": "_lambdifygenerated() takes 1 positional argument but 2 were given",
     "output_type": "error",
     "traceback": [
      "\u001b[1;31m---------------------------------------------------------------------------\u001b[0m",
      "\u001b[1;31mTypeError\u001b[0m                                 Traceback (most recent call last)",
      "\u001b[1;32m~\\AppData\\Local\\Temp\\ipykernel_22264\\159083307.py\u001b[0m in \u001b[0;36m<module>\u001b[1;34m\u001b[0m\n\u001b[0;32m     20\u001b[0m \u001b[0moptimization_kind\u001b[0m \u001b[1;33m=\u001b[0m \u001b[1;34m\"random_LS\"\u001b[0m\u001b[1;33m\u001b[0m\u001b[1;33m\u001b[0m\u001b[0m\n\u001b[0;32m     21\u001b[0m \u001b[1;33m\u001b[0m\u001b[0m\n\u001b[1;32m---> 22\u001b[1;33m X, y, operators, functions = testAlgorithm(func, x_range, n_points, dir_path, population, generations,\n\u001b[0m\u001b[0;32m     23\u001b[0m                                           \u001b[0mmax_expression_size\u001b[0m\u001b[1;33m,\u001b[0m \u001b[0mnormalize\u001b[0m\u001b[1;33m=\u001b[0m\u001b[1;32mTrue\u001b[0m\u001b[1;33m,\u001b[0m \u001b[0mconst_range\u001b[0m\u001b[1;33m=\u001b[0m\u001b[0mconst_range\u001b[0m\u001b[1;33m,\u001b[0m\u001b[1;33m\u001b[0m\u001b[1;33m\u001b[0m\u001b[0m\n\u001b[0;32m     24\u001b[0m                                           \u001b[0mignore_warning\u001b[0m\u001b[1;33m=\u001b[0m\u001b[1;32mTrue\u001b[0m\u001b[1;33m,\u001b[0m \u001b[0moverwrite\u001b[0m\u001b[1;33m=\u001b[0m\u001b[1;32mFalse\u001b[0m\u001b[1;33m,\u001b[0m \u001b[0mn_runs\u001b[0m\u001b[1;33m=\u001b[0m\u001b[0mn_runs\u001b[0m\u001b[1;33m,\u001b[0m\u001b[1;33m\u001b[0m\u001b[1;33m\u001b[0m\u001b[0m\n",
      "\u001b[1;32mD:\\Documents\\Coding\\Repositorios\\MyRepositories\\Symbolic-Regression\\CSOWP_SR\\Analysis\\../algorithms\\trainAlgorithm.py\u001b[0m in \u001b[0;36mtestAlgorithm\u001b[1;34m(func, x_range, n_points, dir_path, population, generations, max_expression_size, normalize, const_range, normalize_range, ignore_warning, overwrite, n_runs, operators, functions, weights, island_interval, optimization_kind)\u001b[0m\n\u001b[0;32m     55\u001b[0m \u001b[1;33m\u001b[0m\u001b[0m\n\u001b[0;32m     56\u001b[0m         \u001b[0mstart_time\u001b[0m \u001b[1;33m=\u001b[0m \u001b[0mtime\u001b[0m\u001b[1;33m(\u001b[0m\u001b[1;33m)\u001b[0m\u001b[1;33m\u001b[0m\u001b[1;33m\u001b[0m\u001b[0m\n\u001b[1;32m---> 57\u001b[1;33m         \u001b[0moutput_AEG\u001b[0m \u001b[1;33m=\u001b[0m \u001b[0mSR\u001b[0m\u001b[1;33m.\u001b[0m\u001b[0mpredict\u001b[0m\u001b[1;33m(\u001b[0m\u001b[1;33m)\u001b[0m\u001b[1;33m\u001b[0m\u001b[1;33m\u001b[0m\u001b[0m\n\u001b[0m\u001b[0;32m     58\u001b[0m         \u001b[0mend_time\u001b[0m \u001b[1;33m=\u001b[0m \u001b[0mtime\u001b[0m\u001b[1;33m(\u001b[0m\u001b[1;33m)\u001b[0m\u001b[1;33m\u001b[0m\u001b[1;33m\u001b[0m\u001b[0m\n\u001b[0;32m     59\u001b[0m         \u001b[0mdata\u001b[0m \u001b[1;33m=\u001b[0m \u001b[0mSR\u001b[0m\u001b[1;33m.\u001b[0m\u001b[0mevaluate_tree\u001b[0m\u001b[1;33m(\u001b[0m\u001b[0moutput_AEG\u001b[0m\u001b[1;33m.\u001b[0m\u001b[0msexp\u001b[0m\u001b[1;33m)\u001b[0m\u001b[1;33m\u001b[0m\u001b[1;33m\u001b[0m\u001b[0m\n",
      "\u001b[1;32mD:\\Documents\\Coding\\Repositorios\\MyRepositories\\Symbolic-Regression\\CSOWP_SR\\Analysis\\../algorithms\\CSOWP_SR.py\u001b[0m in \u001b[0;36mpredict\u001b[1;34m(self)\u001b[0m\n\u001b[0;32m   1094\u001b[0m \u001b[1;33m\u001b[0m\u001b[0m\n\u001b[0;32m   1095\u001b[0m \u001b[1;33m\u001b[0m\u001b[0m\n\u001b[1;32m-> 1096\u001b[1;33m                 \u001b[0mlamb\u001b[0m\u001b[1;33m,\u001b[0m \u001b[0mIc\u001b[0m \u001b[1;33m=\u001b[0m \u001b[0mself\u001b[0m\u001b[1;33m.\u001b[0m\u001b[0moptimizeConstants\u001b[0m\u001b[1;33m(\u001b[0m\u001b[0min_population\u001b[0m\u001b[1;33m[\u001b[0m\u001b[0mp\u001b[0m\u001b[1;33m]\u001b[0m\u001b[1;33m,\u001b[0m \u001b[0mg\u001b[0m\u001b[1;33m,\u001b[0m \u001b[0mIc\u001b[0m\u001b[1;33m)\u001b[0m\u001b[1;33m\u001b[0m\u001b[1;33m\u001b[0m\u001b[0m\n\u001b[0m\u001b[0;32m   1097\u001b[0m                 \u001b[0mout_population\u001b[0m \u001b[1;33m=\u001b[0m \u001b[0mself\u001b[0m\u001b[1;33m.\u001b[0m\u001b[0minsertLambda\u001b[0m\u001b[1;33m(\u001b[0m\u001b[0mout_population\u001b[0m\u001b[1;33m,\u001b[0m \u001b[0mlamb\u001b[0m\u001b[1;33m)\u001b[0m\u001b[1;33m\u001b[0m\u001b[1;33m\u001b[0m\u001b[0m\n\u001b[0;32m   1098\u001b[0m                 \u001b[0mlamb\u001b[0m \u001b[1;33m=\u001b[0m \u001b[0mself\u001b[0m\u001b[1;33m.\u001b[0m\u001b[0mmutateSExp\u001b[0m\u001b[1;33m(\u001b[0m\u001b[0min_population\u001b[0m\u001b[1;33m[\u001b[0m\u001b[0mp\u001b[0m\u001b[1;33m]\u001b[0m\u001b[1;33m)\u001b[0m\u001b[1;33m\u001b[0m\u001b[1;33m\u001b[0m\u001b[0m\n",
      "\u001b[1;32mD:\\Documents\\Coding\\Repositorios\\MyRepositories\\Symbolic-Regression\\CSOWP_SR\\Analysis\\../algorithms\\CSOWP_SR.py\u001b[0m in \u001b[0;36moptimizeConstants\u001b[1;34m(self, me, g, Ic)\u001b[0m\n\u001b[0;32m    781\u001b[0m                                           \u001b[0mhigh\u001b[0m\u001b[1;33m=\u001b[0m\u001b[0mself\u001b[0m\u001b[1;33m.\u001b[0m\u001b[0mrandom_const_range\u001b[0m\u001b[1;33m[\u001b[0m\u001b[1;36m1\u001b[0m\u001b[1;33m]\u001b[0m\u001b[1;33m,\u001b[0m\u001b[1;33m\u001b[0m\u001b[1;33m\u001b[0m\u001b[0m\n\u001b[0;32m    782\u001b[0m                                           size=len(me.pool[0].vector))\n\u001b[1;32m--> 783\u001b[1;33m                 \u001b[0mparams\u001b[0m \u001b[1;33m=\u001b[0m \u001b[0mcurve_fit\u001b[0m\u001b[1;33m(\u001b[0m\u001b[0mme\u001b[0m\u001b[1;33m.\u001b[0m\u001b[0msexp\u001b[0m\u001b[1;33m.\u001b[0m\u001b[0mtoFunc\u001b[0m\u001b[1;33m(\u001b[0m\u001b[0mself\u001b[0m\u001b[1;33m.\u001b[0m\u001b[0m_operators\u001b[0m\u001b[1;33m,\u001b[0m \u001b[0mself\u001b[0m\u001b[1;33m.\u001b[0m\u001b[0m_functions\u001b[0m\u001b[1;33m)\u001b[0m\u001b[1;33m[\u001b[0m\u001b[1;36m0\u001b[0m\u001b[1;33m]\u001b[0m\u001b[1;33m,\u001b[0m \u001b[0mself\u001b[0m\u001b[1;33m.\u001b[0m\u001b[0m_features\u001b[0m\u001b[1;33m[\u001b[0m\u001b[0mself\u001b[0m\u001b[1;33m.\u001b[0m\u001b[0m_feature_names\u001b[0m\u001b[1;33m[\u001b[0m\u001b[1;36m0\u001b[0m\u001b[1;33m]\u001b[0m\u001b[1;33m]\u001b[0m\u001b[1;33m,\u001b[0m \u001b[0mself\u001b[0m\u001b[1;33m.\u001b[0m\u001b[0my\u001b[0m\u001b[1;33m,\u001b[0m \u001b[0mguess\u001b[0m\u001b[1;33m)\u001b[0m\u001b[1;33m\u001b[0m\u001b[1;33m\u001b[0m\u001b[0m\n\u001b[0m\u001b[0;32m    784\u001b[0m \u001b[1;33m\u001b[0m\u001b[0m\n\u001b[0;32m    785\u001b[0m                 \u001b[0mme\u001b[0m\u001b[1;33m.\u001b[0m\u001b[0mpool\u001b[0m\u001b[1;33m.\u001b[0m\u001b[0mappend\u001b[0m\u001b[1;33m(\u001b[0m\u001b[0mparams\u001b[0m\u001b[1;33m)\u001b[0m\u001b[1;33m\u001b[0m\u001b[1;33m\u001b[0m\u001b[0m\n",
      "\u001b[1;32mD:\\Users\\lreis\\anaconda3\\lib\\site-packages\\scipy\\optimize\\_minpack_py.py\u001b[0m in \u001b[0;36mcurve_fit\u001b[1;34m(f, xdata, ydata, p0, sigma, absolute_sigma, check_finite, bounds, method, jac, full_output, **kwargs)\u001b[0m\n\u001b[0;32m    832\u001b[0m             raise TypeError(f\"The number of func parameters={n} must not\"\n\u001b[0;32m    833\u001b[0m                             f\" exceed the number of data points={ydata.size}\")\n\u001b[1;32m--> 834\u001b[1;33m         \u001b[0mres\u001b[0m \u001b[1;33m=\u001b[0m \u001b[0mleastsq\u001b[0m\u001b[1;33m(\u001b[0m\u001b[0mfunc\u001b[0m\u001b[1;33m,\u001b[0m \u001b[0mp0\u001b[0m\u001b[1;33m,\u001b[0m \u001b[0mDfun\u001b[0m\u001b[1;33m=\u001b[0m\u001b[0mjac\u001b[0m\u001b[1;33m,\u001b[0m \u001b[0mfull_output\u001b[0m\u001b[1;33m=\u001b[0m\u001b[1;36m1\u001b[0m\u001b[1;33m,\u001b[0m \u001b[1;33m**\u001b[0m\u001b[0mkwargs\u001b[0m\u001b[1;33m)\u001b[0m\u001b[1;33m\u001b[0m\u001b[1;33m\u001b[0m\u001b[0m\n\u001b[0m\u001b[0;32m    835\u001b[0m         \u001b[0mpopt\u001b[0m\u001b[1;33m,\u001b[0m \u001b[0mpcov\u001b[0m\u001b[1;33m,\u001b[0m \u001b[0minfodict\u001b[0m\u001b[1;33m,\u001b[0m \u001b[0merrmsg\u001b[0m\u001b[1;33m,\u001b[0m \u001b[0mier\u001b[0m \u001b[1;33m=\u001b[0m \u001b[0mres\u001b[0m\u001b[1;33m\u001b[0m\u001b[1;33m\u001b[0m\u001b[0m\n\u001b[0;32m    836\u001b[0m         \u001b[0mysize\u001b[0m \u001b[1;33m=\u001b[0m \u001b[0mlen\u001b[0m\u001b[1;33m(\u001b[0m\u001b[0minfodict\u001b[0m\u001b[1;33m[\u001b[0m\u001b[1;34m'fvec'\u001b[0m\u001b[1;33m]\u001b[0m\u001b[1;33m)\u001b[0m\u001b[1;33m\u001b[0m\u001b[1;33m\u001b[0m\u001b[0m\n",
      "\u001b[1;32mD:\\Users\\lreis\\anaconda3\\lib\\site-packages\\scipy\\optimize\\_minpack_py.py\u001b[0m in \u001b[0;36mleastsq\u001b[1;34m(func, x0, args, Dfun, full_output, col_deriv, ftol, xtol, gtol, maxfev, epsfcn, factor, diag)\u001b[0m\n\u001b[0;32m    408\u001b[0m     \u001b[1;32mif\u001b[0m \u001b[1;32mnot\u001b[0m \u001b[0misinstance\u001b[0m\u001b[1;33m(\u001b[0m\u001b[0margs\u001b[0m\u001b[1;33m,\u001b[0m \u001b[0mtuple\u001b[0m\u001b[1;33m)\u001b[0m\u001b[1;33m:\u001b[0m\u001b[1;33m\u001b[0m\u001b[1;33m\u001b[0m\u001b[0m\n\u001b[0;32m    409\u001b[0m         \u001b[0margs\u001b[0m \u001b[1;33m=\u001b[0m \u001b[1;33m(\u001b[0m\u001b[0margs\u001b[0m\u001b[1;33m,\u001b[0m\u001b[1;33m)\u001b[0m\u001b[1;33m\u001b[0m\u001b[1;33m\u001b[0m\u001b[0m\n\u001b[1;32m--> 410\u001b[1;33m     \u001b[0mshape\u001b[0m\u001b[1;33m,\u001b[0m \u001b[0mdtype\u001b[0m \u001b[1;33m=\u001b[0m \u001b[0m_check_func\u001b[0m\u001b[1;33m(\u001b[0m\u001b[1;34m'leastsq'\u001b[0m\u001b[1;33m,\u001b[0m \u001b[1;34m'func'\u001b[0m\u001b[1;33m,\u001b[0m \u001b[0mfunc\u001b[0m\u001b[1;33m,\u001b[0m \u001b[0mx0\u001b[0m\u001b[1;33m,\u001b[0m \u001b[0margs\u001b[0m\u001b[1;33m,\u001b[0m \u001b[0mn\u001b[0m\u001b[1;33m)\u001b[0m\u001b[1;33m\u001b[0m\u001b[1;33m\u001b[0m\u001b[0m\n\u001b[0m\u001b[0;32m    411\u001b[0m     \u001b[0mm\u001b[0m \u001b[1;33m=\u001b[0m \u001b[0mshape\u001b[0m\u001b[1;33m[\u001b[0m\u001b[1;36m0\u001b[0m\u001b[1;33m]\u001b[0m\u001b[1;33m\u001b[0m\u001b[1;33m\u001b[0m\u001b[0m\n\u001b[0;32m    412\u001b[0m \u001b[1;33m\u001b[0m\u001b[0m\n",
      "\u001b[1;32mD:\\Users\\lreis\\anaconda3\\lib\\site-packages\\scipy\\optimize\\_minpack_py.py\u001b[0m in \u001b[0;36m_check_func\u001b[1;34m(checker, argname, thefunc, x0, args, numinputs, output_shape)\u001b[0m\n\u001b[0;32m     22\u001b[0m def _check_func(checker, argname, thefunc, x0, args, numinputs,\n\u001b[0;32m     23\u001b[0m                 output_shape=None):\n\u001b[1;32m---> 24\u001b[1;33m     \u001b[0mres\u001b[0m \u001b[1;33m=\u001b[0m \u001b[0matleast_1d\u001b[0m\u001b[1;33m(\u001b[0m\u001b[0mthefunc\u001b[0m\u001b[1;33m(\u001b[0m\u001b[1;33m*\u001b[0m\u001b[1;33m(\u001b[0m\u001b[1;33m(\u001b[0m\u001b[0mx0\u001b[0m\u001b[1;33m[\u001b[0m\u001b[1;33m:\u001b[0m\u001b[0mnuminputs\u001b[0m\u001b[1;33m]\u001b[0m\u001b[1;33m,\u001b[0m\u001b[1;33m)\u001b[0m \u001b[1;33m+\u001b[0m \u001b[0margs\u001b[0m\u001b[1;33m)\u001b[0m\u001b[1;33m)\u001b[0m\u001b[1;33m)\u001b[0m\u001b[1;33m\u001b[0m\u001b[1;33m\u001b[0m\u001b[0m\n\u001b[0m\u001b[0;32m     25\u001b[0m     \u001b[1;32mif\u001b[0m \u001b[1;33m(\u001b[0m\u001b[0moutput_shape\u001b[0m \u001b[1;32mis\u001b[0m \u001b[1;32mnot\u001b[0m \u001b[1;32mNone\u001b[0m\u001b[1;33m)\u001b[0m \u001b[1;32mand\u001b[0m \u001b[1;33m(\u001b[0m\u001b[0mshape\u001b[0m\u001b[1;33m(\u001b[0m\u001b[0mres\u001b[0m\u001b[1;33m)\u001b[0m \u001b[1;33m!=\u001b[0m \u001b[0moutput_shape\u001b[0m\u001b[1;33m)\u001b[0m\u001b[1;33m:\u001b[0m\u001b[1;33m\u001b[0m\u001b[1;33m\u001b[0m\u001b[0m\n\u001b[0;32m     26\u001b[0m         \u001b[1;32mif\u001b[0m \u001b[1;33m(\u001b[0m\u001b[0moutput_shape\u001b[0m\u001b[1;33m[\u001b[0m\u001b[1;36m0\u001b[0m\u001b[1;33m]\u001b[0m \u001b[1;33m!=\u001b[0m \u001b[1;36m1\u001b[0m\u001b[1;33m)\u001b[0m\u001b[1;33m:\u001b[0m\u001b[1;33m\u001b[0m\u001b[1;33m\u001b[0m\u001b[0m\n",
      "\u001b[1;32mD:\\Users\\lreis\\anaconda3\\lib\\site-packages\\scipy\\optimize\\_minpack_py.py\u001b[0m in \u001b[0;36mfunc_wrapped\u001b[1;34m(params)\u001b[0m\n\u001b[0;32m    483\u001b[0m     \u001b[1;32mif\u001b[0m \u001b[0mtransform\u001b[0m \u001b[1;32mis\u001b[0m \u001b[1;32mNone\u001b[0m\u001b[1;33m:\u001b[0m\u001b[1;33m\u001b[0m\u001b[1;33m\u001b[0m\u001b[0m\n\u001b[0;32m    484\u001b[0m         \u001b[1;32mdef\u001b[0m \u001b[0mfunc_wrapped\u001b[0m\u001b[1;33m(\u001b[0m\u001b[0mparams\u001b[0m\u001b[1;33m)\u001b[0m\u001b[1;33m:\u001b[0m\u001b[1;33m\u001b[0m\u001b[1;33m\u001b[0m\u001b[0m\n\u001b[1;32m--> 485\u001b[1;33m             \u001b[1;32mreturn\u001b[0m \u001b[0mfunc\u001b[0m\u001b[1;33m(\u001b[0m\u001b[0mxdata\u001b[0m\u001b[1;33m,\u001b[0m \u001b[1;33m*\u001b[0m\u001b[0mparams\u001b[0m\u001b[1;33m)\u001b[0m \u001b[1;33m-\u001b[0m \u001b[0mydata\u001b[0m\u001b[1;33m\u001b[0m\u001b[1;33m\u001b[0m\u001b[0m\n\u001b[0m\u001b[0;32m    486\u001b[0m     \u001b[1;32melif\u001b[0m \u001b[0mtransform\u001b[0m\u001b[1;33m.\u001b[0m\u001b[0mndim\u001b[0m \u001b[1;33m==\u001b[0m \u001b[1;36m1\u001b[0m\u001b[1;33m:\u001b[0m\u001b[1;33m\u001b[0m\u001b[1;33m\u001b[0m\u001b[0m\n\u001b[0;32m    487\u001b[0m         \u001b[1;32mdef\u001b[0m \u001b[0mfunc_wrapped\u001b[0m\u001b[1;33m(\u001b[0m\u001b[0mparams\u001b[0m\u001b[1;33m)\u001b[0m\u001b[1;33m:\u001b[0m\u001b[1;33m\u001b[0m\u001b[1;33m\u001b[0m\u001b[0m\n",
      "\u001b[1;31mTypeError\u001b[0m: _lambdifygenerated() takes 1 positional argument but 2 were given"
     ]
    }
   ],
   "source": [
    "def func(x):\n",
    "    a=10\n",
    "    b=-0.5\n",
    "    c=-0.5\n",
    "    d=2\n",
    "    return a*np.exp(b*np.exp(c*x + d))\n",
    "\n",
    "X = np.linspace(0, 20, 1000)\n",
    "y = func(X)\n",
    "\n",
    "x_range = [-5, 15]\n",
    "n_points = 1000\n",
    "dir_path = \"Outputs/random_LS_optimization/base_test_general\"\n",
    "const_range = (-10, 10)\n",
    "population = 4000\n",
    "generations = 10\n",
    "max_expression_size = 5\n",
    "n_runs = 3\n",
    "real_func_string = r\"10e^{-0.5e^{-0.5x+2}}\"\n",
    "optimization_kind = \"random_LS\"\n",
    "\n",
    "X, y, operators, functions = testAlgorithm(func, x_range, n_points, dir_path, population, generations,\n",
    "                                          max_expression_size, normalize=True, const_range=const_range,\n",
    "                                          ignore_warning=True, overwrite=False, n_runs=n_runs, \n",
    "                                          functions=functions_op, operators = operators_op, weights = weights,\n",
    "                                          optimization_kind=optimization_kind)"
   ]
  },
  {
   "cell_type": "code",
   "execution_count": null,
   "id": "8facfba2-c1ba-4319-853e-2cf48664bfb9",
   "metadata": {},
   "outputs": [],
   "source": [
    "with open(\"Outputs/LS_optimization/base_test_general/trees/tree-4000-10-2\", \"rb\") as file:\n",
    "    tree = pickle.load(file)\n",
    "tree.visualize_tree()"
   ]
  },
  {
   "cell_type": "markdown",
   "id": "4ddaafc0-c44f-400d-882a-fa221dd7fb44",
   "metadata": {},
   "source": [
    "# Base Test - Specific"
   ]
  },
  {
   "cell_type": "code",
   "execution_count": null,
   "id": "dfc00249-792a-424b-9f70-01433bf784e9",
   "metadata": {},
   "outputs": [],
   "source": [
    "operators_op = {\"+\": lambda a,b: np.add(a,b), \"*\": lambda a,b: np.multiply(a,b)}\n",
    "functions_op = {\"exp-\": lambda a: np.exp(-a), \"exp\": lambda a: np.exp(a)}\n",
    "weights = {\"exp\": 4, \"exp-\": 4}"
   ]
  },
  {
   "cell_type": "code",
   "execution_count": null,
   "id": "7ae69afc-0c5e-4993-8275-de9d55b27fd8",
   "metadata": {},
   "outputs": [],
   "source": [
    "def func(x):\n",
    "    a=10\n",
    "    b=-0.5\n",
    "    c=-0.5\n",
    "    d=2\n",
    "    return a*np.exp(b*np.exp(c*x + d))\n",
    "\n",
    "X = np.linspace(0, 20, 1000)\n",
    "y = func(X)\n",
    "\n",
    "x_range = [-5, 15]\n",
    "n_points = 1000\n",
    "dir_path = \"Outputs/random_LS_optimization/base_test_specific\"\n",
    "const_range = (-10, 10)\n",
    "population = 4000\n",
    "generations = 10\n",
    "max_expression_size = 5\n",
    "n_runs = 3\n",
    "real_func_string = r\"10e^{-0.5e^{-0.5x+2}}\"\n",
    "optimization_kind = \"random_LS\"\n",
    "\n",
    "X, y, operators, functions = testAlgorithm(func, x_range, n_points, dir_path, population, generations,\n",
    "                                          max_expression_size, normalize=True, const_range=const_range,\n",
    "                                          ignore_warning=True, overwrite=False, n_runs=n_runs, \n",
    "                                          functions=functions_op, operators = operators_op, weights = weights,\n",
    "                                          optimization_kind=optimization_kind)"
   ]
  },
  {
   "cell_type": "code",
   "execution_count": null,
   "id": "42ca8ace-97e8-4f5e-8066-d639a0f94a1e",
   "metadata": {},
   "outputs": [],
   "source": [
    "with open(\"Outputs/LS_optimization/base_test_specific/trees/tree-4000-10-2\", \"rb\") as file:\n",
    "    tree = pickle.load(file)\n",
    "tree.visualize_tree()"
   ]
  },
  {
   "cell_type": "markdown",
   "id": "3ada5e09-72b3-4d70-8ae8-878276578e1d",
   "metadata": {},
   "source": [
    "# !!!!! O PROBLEMA FOI O CHUTE INICIAL\n",
    "\n",
    "Além disso, uma mutação específica na constante (adicionar ou remover uma, com um valor específico), pode ser suficiente para fazer com que o método não venha mais a convergir, onde antes convergia. Ou seja, o problema do chute inicial também aparece nesse sentido, uma solução boa pode ser redirecionada no meio do processo evolutivo, caso a constante errada apareça. "
   ]
  },
  {
   "cell_type": "code",
   "execution_count": null,
   "id": "de1d87f4-72e1-495c-900a-6b4f32079030",
   "metadata": {},
   "outputs": [],
   "source": [
    "from scipy.optimize import curve_fit\n",
    "\n",
    "def f_func(X, a, b, c):\n",
    "    return np.exp(-a*np.exp(-b*X+c))\n",
    "\n",
    "params_oguess, _ = curve_fit(f_func, X_plot, y_plot, [7.897, -1.18, 4.641])\n",
    "params, _ = curve_fit(f_func, X_plot, y_plot, [1,1,1])"
   ]
  },
  {
   "cell_type": "code",
   "execution_count": null,
   "id": "bfae4f03-1155-4a26-ac4e-49f2ccd7b560",
   "metadata": {},
   "outputs": [],
   "source": [
    "print(f\"\"\"\n",
    "Parâmetros com o chute inicial igual aquele fornecido pela árvore [7.897, -1.18, 4.641]: {params_oguess}\n",
    "Parâmetros com o chute inicial igual aquele a [1,1,1]: {params}\n",
    "\"\"\")"
   ]
  },
  {
   "cell_type": "code",
   "execution_count": null,
   "id": "32399d7d-a2f1-42f6-894c-75ad9242f98e",
   "metadata": {},
   "outputs": [],
   "source": [
    "def func(x):\n",
    "    a=10\n",
    "    b=-0.5\n",
    "    c=-0.5\n",
    "    d=2\n",
    "    return a*np.exp(b*np.exp(c*x + d))\n",
    "\n",
    "X = np.linspace(-5, 15, 1000)\n",
    "y = func(X)\n",
    "\n",
    "def found_func(X):\n",
    "    return np.exp(-7.897*np.exp(-1*(-1.18*(X+4.641))))\n",
    "\n",
    "scaler = MinMaxScaler()\n",
    "X_plot = scaler.fit_transform(np.c_[X]).reshape(-1)\n",
    "y_plot = scaler.fit_transform(np.c_[y]).reshape(-1)\n",
    "\n",
    "# plt.plot(X_plot, y_plot, label=\"real\")\n",
    "plt.plot(X, found_func(X), label=\"predicted\")\n",
    "plt.legend()\n",
    "plt.show()"
   ]
  },
  {
   "cell_type": "code",
   "execution_count": null,
   "id": "e08fa598-3259-4097-bf57-1e35b36698a9",
   "metadata": {},
   "outputs": [],
   "source": [
    "from sklearn.preprocessing import MinMaxScaler\n",
    "\n",
    "scaler = MinMaxScaler()\n",
    "\n",
    "X = np.linspace(-5, 15, 1000)\n",
    "y = func(X)\n",
    "\n",
    "scaler.fit_transform(np.c_[y])\n",
    "\n",
    "def unorm_func(X, y):\n",
    "    # x_norm = (X - X.min())/(X.max() - X.min())\n",
    "    x_norm = (X.max() - X.min())*X + X.min()\n",
    "    return (y.max() - y.min())*(np.exp(-x_norm * np.exp(-5.293 * x_norm))) + y.min()\n",
    "    # return (np.exp(-x_norm * np.exp(-5.293 * x_norm)) - y.min())/(y.max() - y.min())"
   ]
  },
  {
   "cell_type": "code",
   "execution_count": null,
   "id": "ee3fd8d7-dfa1-494f-a8d5-63b3d6473ee7",
   "metadata": {},
   "outputs": [],
   "source": [
    "import pandas as pd\n",
    "data = pd.read_csv(\"Outputs/base_test_specific/data/data-5000.csv\", sep=\",\")"
   ]
  },
  {
   "cell_type": "code",
   "execution_count": null,
   "id": "dc86e601-94b5-4f74-9540-b1282259a227",
   "metadata": {},
   "outputs": [],
   "source": [
    "X = np.linspace(-5, 15, 1000)\n",
    "y = func(X)\n",
    "\n",
    "plt.plot(scaler.fit_transform(np.c_[X]), scaler.fit_transform(np.c_[y]))\n",
    "# plt.plot(X, unorm_func(X, y))\n",
    "# plt.plot(X, scaler.inverse_transform(np.c_[data.y]))\n",
    "plt.plot(data.x, data.y)\n",
    "plt.show()"
   ]
  },
  {
   "cell_type": "markdown",
   "id": "34c12784-9a1a-4e1f-ad8b-da213fac5403",
   "metadata": {
    "tags": []
   },
   "source": [
    "# Base Test - General Basis Functions - nonNorm"
   ]
  },
  {
   "cell_type": "code",
   "execution_count": null,
   "id": "b990b8bf-5302-414c-85b1-db744baa8dce",
   "metadata": {},
   "outputs": [],
   "source": [
    "operators_op = {\"+\": lambda a,b: np.add(a,b), \"*\": lambda a,b: np.multiply(a,b)}\n",
    "functions_op = {\"exp-\": lambda a: np.exp(-a), \"exp\": lambda a: np.exp(a),\n",
    "               \"ln\": lambda a: np.log(a), \"tanh\": lambda a: np.tanh(a)}\n",
    "weights = {\"exp\": 4, \"exp-\": 4, \"ln\" : 4, \"tanh\": 4}"
   ]
  },
  {
   "cell_type": "code",
   "execution_count": null,
   "id": "06b0029a-cfe4-484b-a8ef-3323350bccd8",
   "metadata": {},
   "outputs": [],
   "source": [
    "def func(x):\n",
    "    a=10\n",
    "    b=-0.5\n",
    "    c=-0.5\n",
    "    d=2\n",
    "    return a*np.exp(b*np.exp(c*x + d))\n",
    "\n",
    "X = np.linspace(0, 20, 1000)\n",
    "y = func(X)\n",
    "\n",
    "x_range = [-5, 15]\n",
    "n_points = 1000\n",
    "dir_path = \"Outputs/random_LS_optimization/base_test_general_nonNorm\"\n",
    "const_range = (-10, 10)\n",
    "population = 4000\n",
    "generations = 10\n",
    "max_expression_size = 5\n",
    "n_runs = 3\n",
    "real_func_string = r\"10e^{-0.5e^{-0.5x+2}}\"\n",
    "optimization_kind = \"random_LS\"\n",
    "\n",
    "X, y, operators, functions = testAlgorithm(func, x_range, n_points, dir_path, population, generations,\n",
    "                                          max_expression_size, normalize=False, const_range=const_range,\n",
    "                                          ignore_warning=True, overwrite=False, n_runs=n_runs, \n",
    "                                          functions=functions_op, operators = operators_op, weights = weights,\n",
    "                                          optimization_kind=optimization_kind)"
   ]
  },
  {
   "cell_type": "code",
   "execution_count": null,
   "id": "771a84a0-32ec-4f9a-a5ba-00e37e09d2fd",
   "metadata": {},
   "outputs": [],
   "source": [
    "with open(\"Outputs/LS_optimization/base_test_general_nonNorm/trees/tree-4000-10-2\", \"rb\") as file:\n",
    "    tree = pickle.load(file)\n",
    "tree.visualize_tree()"
   ]
  },
  {
   "cell_type": "markdown",
   "id": "907e659b-0b05-4121-8bfd-1d50d9276fe9",
   "metadata": {},
   "source": [
    "# Base Test - Specific - nonNorm"
   ]
  },
  {
   "cell_type": "code",
   "execution_count": null,
   "id": "246bf7b6-393d-4235-a2f1-fd366bc0ef2e",
   "metadata": {},
   "outputs": [],
   "source": [
    "operators_op = {\"+\": lambda a,b: np.add(a,b), \"*\": lambda a,b: np.multiply(a,b)}\n",
    "functions_op = {\"exp-\": lambda a: np.exp(-a), \"exp\": lambda a: np.exp(a)}\n",
    "weights = {\"exp\": 4, \"exp-\": 4}"
   ]
  },
  {
   "cell_type": "code",
   "execution_count": null,
   "id": "199cdcd9-b34f-43ba-ad99-4304ac581bc3",
   "metadata": {},
   "outputs": [],
   "source": [
    "def func(x):\n",
    "    a=10\n",
    "    b=-0.5\n",
    "    c=-0.5\n",
    "    d=2\n",
    "    return a*np.exp(b*np.exp(c*x + d))\n",
    "\n",
    "X = np.linspace(0, 20, 1000)\n",
    "y = func(X)\n",
    "\n",
    "x_range = [-5, 15]\n",
    "n_points = 1000\n",
    "dir_path = \"Outputs/random_LS_optimization/base_test_specific_nonNorm\"\n",
    "const_range = (-10, 10)\n",
    "population = 4000\n",
    "generations = 10\n",
    "max_expression_size = 5\n",
    "n_runs = 3\n",
    "real_func_string = r\"10e^{-0.5e^{-0.5x+2}}\"\n",
    "optimization_kind = \"random_LS\"\n",
    "\n",
    "X, y, operators, functions = testAlgorithm(func, x_range, n_points, dir_path, population, generations,\n",
    "                                          max_expression_size, normalize=False, const_range=const_range,\n",
    "                                          ignore_warning=True, overwrite=False, n_runs=n_runs, \n",
    "                                          functions=functions_op, operators = operators_op, weights = weights,\n",
    "                                          optimization_kind=optimization_kind)"
   ]
  },
  {
   "cell_type": "code",
   "execution_count": null,
   "id": "f803a7ab-c58b-4f0e-8d9c-037282b2448f",
   "metadata": {},
   "outputs": [],
   "source": [
    "with open(\"Outputs/LS_optimization/base_test_specific_nonNorm/trees/tree-4000-10-2\", \"rb\") as file:\n",
    "    tree = pickle.load(file)\n",
    "tree.visualize_tree()"
   ]
  },
  {
   "cell_type": "code",
   "execution_count": null,
   "id": "53ff6d97-d4b0-4364-88bb-59021e519a29",
   "metadata": {},
   "outputs": [],
   "source": [
    "from sklearn.preprocessing import MinMaxScaler\n",
    "\n",
    "scaler = MinMaxScaler()\n",
    "\n",
    "X = np.linspace(-5, 15, 1000)\n",
    "y = func(X)\n",
    "\n",
    "scaler.fit_transform(np.c_[y])\n",
    "\n",
    "def unorm_func(X, y):\n",
    "    # x_norm = (X - X.min())/(X.max() - X.min())\n",
    "    x_norm = (X.max() - X.min())*X + X.min()\n",
    "    return (y.max() - y.min())*(np.exp(-x_norm * np.exp(-5.293 * x_norm))) + y.min()\n",
    "    # return (np.exp(-x_norm * np.exp(-5.293 * x_norm)) - y.min())/(y.max() - y.min())"
   ]
  },
  {
   "cell_type": "code",
   "execution_count": null,
   "id": "0ea7fa14-d085-4324-8a66-73be96361623",
   "metadata": {},
   "outputs": [],
   "source": [
    "import pandas as pd\n",
    "data = pd.read_csv(\"Outputs/base_test_specific/data/data-5000.csv\", sep=\",\")"
   ]
  },
  {
   "cell_type": "markdown",
   "id": "815c912f-ae7f-4c2a-bafb-32b7706ecc62",
   "metadata": {},
   "source": [
    "## X = np.linspace(-5, 15, 1000)\n",
    "y = func(X)\n",
    "\n",
    "plt.plot(scaler.fit_transform(np.c_[X]), scaler.fit_transform(np.c_[y]))\n",
    "# plt.plot(X, unorm_func(X, y))\n",
    "# plt.plot(X, scaler.inverse_transform(np.c_[data.y]))\n",
    "plt.plot(data.x, data.y)\n",
    "plt.show()"
   ]
  }
 ],
 "metadata": {
  "kernelspec": {
   "display_name": "Python 3 (ipykernel)",
   "language": "python",
   "name": "python3"
  },
  "language_info": {
   "codemirror_mode": {
    "name": "ipython",
    "version": 3
   },
   "file_extension": ".py",
   "mimetype": "text/x-python",
   "name": "python",
   "nbconvert_exporter": "python",
   "pygments_lexer": "ipython3",
   "version": "3.9.13"
  },
  "widgets": {
   "application/vnd.jupyter.widget-state+json": {
    "state": {},
    "version_major": 2,
    "version_minor": 0
   }
  }
 },
 "nbformat": 4,
 "nbformat_minor": 5
}
