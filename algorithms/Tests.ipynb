{
 "cells": [
  {
   "cell_type": "code",
   "execution_count": 1,
   "id": "f7aef6d9-8684-4cec-a26d-e50a629e7985",
   "metadata": {},
   "outputs": [],
   "source": [
    "from CSOWP_SR import *\n",
    "from ExpressionTree import *\n",
    "import matplotlib.pyplot as plt\n",
    "from sklearn.preprocessing import MinMaxScaler\n",
    "import pickle"
   ]
  },
  {
   "cell_type": "code",
   "execution_count": 3,
   "id": "2fad6097-0af1-4e74-956e-9bfbbbc8afaa",
   "metadata": {},
   "outputs": [
    {
     "ename": "NameError",
     "evalue": "name 'X' is not defined",
     "output_type": "error",
     "traceback": [
      "\u001b[1;31m---------------------------------------------------------------------------\u001b[0m",
      "\u001b[1;31mNameError\u001b[0m                                 Traceback (most recent call last)",
      "\u001b[1;32m~\\AppData\\Local\\Temp\\ipykernel_15400\\616318040.py\u001b[0m in \u001b[0;36m<module>\u001b[1;34m\u001b[0m\n\u001b[0;32m      7\u001b[0m \u001b[1;33m\u001b[0m\u001b[0m\n\u001b[0;32m      8\u001b[0m \u001b[0mscaler\u001b[0m \u001b[1;33m=\u001b[0m \u001b[0mMinMaxScaler\u001b[0m\u001b[1;33m(\u001b[0m\u001b[1;33m(\u001b[0m\u001b[1;36m0\u001b[0m\u001b[1;33m,\u001b[0m\u001b[1;36m1\u001b[0m\u001b[1;33m)\u001b[0m\u001b[1;33m)\u001b[0m\u001b[1;33m\u001b[0m\u001b[1;33m\u001b[0m\u001b[0m\n\u001b[1;32m----> 9\u001b[1;33m \u001b[0mX_norm\u001b[0m \u001b[1;33m=\u001b[0m \u001b[0mscaler\u001b[0m\u001b[1;33m.\u001b[0m\u001b[0mfit_transform\u001b[0m\u001b[1;33m(\u001b[0m\u001b[0mnp\u001b[0m\u001b[1;33m.\u001b[0m\u001b[0mc_\u001b[0m\u001b[1;33m[\u001b[0m\u001b[0mX\u001b[0m\u001b[1;33m]\u001b[0m\u001b[1;33m)\u001b[0m\u001b[1;33m\u001b[0m\u001b[1;33m\u001b[0m\u001b[0m\n\u001b[0m\u001b[0;32m     10\u001b[0m \u001b[0my_norm\u001b[0m \u001b[1;33m=\u001b[0m \u001b[0mscaler\u001b[0m\u001b[1;33m.\u001b[0m\u001b[0mfit_transform\u001b[0m\u001b[1;33m(\u001b[0m\u001b[0mnp\u001b[0m\u001b[1;33m.\u001b[0m\u001b[0mc_\u001b[0m\u001b[1;33m[\u001b[0m\u001b[0my\u001b[0m\u001b[1;33m]\u001b[0m\u001b[1;33m)\u001b[0m\u001b[1;33m.\u001b[0m\u001b[0mreshape\u001b[0m\u001b[1;33m(\u001b[0m\u001b[1;33m-\u001b[0m\u001b[1;36m1\u001b[0m\u001b[1;33m,\u001b[0m \u001b[1;33m)\u001b[0m\u001b[1;33m\u001b[0m\u001b[1;33m\u001b[0m\u001b[0m\n\u001b[0;32m     11\u001b[0m \u001b[1;33m\u001b[0m\u001b[0m\n",
      "\u001b[1;31mNameError\u001b[0m: name 'X' is not defined"
     ]
    }
   ],
   "source": [
    "def func(x):\n",
    "    a=10\n",
    "    b=-0.5\n",
    "    c=-0.5\n",
    "    d=2\n",
    "    return a*np.exp(b*np.exp(c*x + d))\n",
    "\n",
    "scaler = MinMaxScaler((0,1))\n",
    "X_norm = scaler.fit_transform(np.c_[X])\n",
    "y_norm = scaler.fit_transform(np.c_[y]).reshape(-1, )\n",
    "\n",
    "X = np.linspace(0, 15, 1000)\n",
    "y = func(X)\n",
    "plt.plot(X, y)\n",
    "plt.show()"
   ]
  },
  {
   "cell_type": "code",
   "execution_count": null,
   "id": "c2938626-2e39-46ea-b5b1-19f68d26ff0c",
   "metadata": {},
   "outputs": [],
   "source": [
    "SR = SymbolicRegression(3, max_expression_size=3, max_population_size=200, max_island_count=10, random_const_range=(-10, 10))\n",
    "SR.fit(X_norm, y_norm, feature_names = [\"x\"])\n",
    "tree = SR.predict()"
   ]
  },
  {
   "cell_type": "code",
   "execution_count": null,
   "id": "b0bfc76a-688b-4b7a-b48c-21c087e2fe58",
   "metadata": {},
   "outputs": [],
   "source": [
    "expr_tree = ExpressionTree()\n",
    "p = expr_tree.add_root(\"square\")\n",
    "p = expr_tree.add_left(p, \"tanh\")\n",
    "p = expr_tree.add_left(p, \"*\")\n",
    "expr_tree.add_left(p, \"x\")\n",
    "expr_tree.add_right(p, 3.762)\n",
    "expr_tree.visualize_tree()"
   ]
  },
  {
   "cell_type": "code",
   "execution_count": null,
   "id": "88e0b23d-83b4-4a3c-8d6c-486d81bb9b16",
   "metadata": {},
   "outputs": [],
   "source": [
    "with open(\"test\", \"wb\") as f:\n",
    "    pickle.dump(expr_tree, f)\n",
    "    \n",
    "with open(\"test\", \"rb\") as f:\n",
    "    read_tree = pickle.load(f)\n",
    "read_tree.visualize_tree()"
   ]
  },
  {
   "cell_type": "code",
   "execution_count": null,
   "id": "f6eead5a-d691-4e8d-b662-380c9063dd51",
   "metadata": {},
   "outputs": [],
   "source": [
    "plt.plot(X_norm, y_norm)\n",
    "plt.plot(X_norm, SR.evaluate_tree(expr_tree))\n",
    "plt.show()"
   ]
  },
  {
   "cell_type": "code",
   "execution_count": null,
   "id": "4e9b0e25-6cb7-4159-aca2-237d54da9e3f",
   "metadata": {},
   "outputs": [],
   "source": [
    "func, expr = expr_tree.toFunc(SR._operators, SR._functions, SR._feature_names, inv_data={\n",
    "    \"Xmin\": X.min(),\n",
    "    \"Xmax\": X.max(),\n",
    "    \"ymin\": y.min(),\n",
    "    \"ymax\": y.max()\n",
    "})\n",
    "expr"
   ]
  },
  {
   "cell_type": "code",
   "execution_count": null,
   "id": "9102ea79-f47a-4254-b9b4-07fc963f0ad0",
   "metadata": {},
   "outputs": [],
   "source": [
    "plt.plot(X, y)\n",
    "\n",
    "plt.plot(X, func(X))\n",
    "plt.show()"
   ]
  }
 ],
 "metadata": {
  "kernelspec": {
   "display_name": "Python 3 (ipykernel)",
   "language": "python",
   "name": "python3"
  },
  "language_info": {
   "codemirror_mode": {
    "name": "ipython",
    "version": 3
   },
   "file_extension": ".py",
   "mimetype": "text/x-python",
   "name": "python",
   "nbconvert_exporter": "python",
   "pygments_lexer": "ipython3",
   "version": "3.9.13"
  },
  "widgets": {
   "application/vnd.jupyter.widget-state+json": {
    "state": {},
    "version_major": 2,
    "version_minor": 0
   }
  }
 },
 "nbformat": 4,
 "nbformat_minor": 5
}
