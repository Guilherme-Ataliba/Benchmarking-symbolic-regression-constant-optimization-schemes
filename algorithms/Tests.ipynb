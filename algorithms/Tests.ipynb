{
 "cells": [
  {
   "cell_type": "code",
   "execution_count": 95,
   "id": "9f993985",
   "metadata": {},
   "outputs": [],
   "source": [
    "import numpy as np\n",
    "import pyswarms\n",
    "\n",
    "X_filtered = np.linspace(0, 5, 1000)\n",
    "y_filtered = np.log(np.log(50+X_filtered))\n",
    "\n",
    "import logging"
   ]
  },
  {
   "cell_type": "code",
   "execution_count": 96,
   "id": "544fa377",
   "metadata": {},
   "outputs": [
    {
     "data": {
      "text/plain": [
       "array([1.36405463, 1.36408022, 1.3641058 , 1.36413138, 1.36415696,\n",
       "       1.36418253, 1.3642081 , 1.36423367, 1.36425923, 1.36428479,\n",
       "       1.36431035, 1.3643359 , 1.36436146, 1.364387  , 1.36441255,\n",
       "       1.36443809, 1.36446363, 1.36448916, 1.36451469, 1.36454022,\n",
       "       1.36456575, 1.36459127, 1.36461679, 1.3646423 , 1.36466782,\n",
       "       1.36469333, 1.36471883, 1.36474433, 1.36476983, 1.36479533,\n",
       "       1.36482082, 1.36484631, 1.3648718 , 1.36489728, 1.36492276,\n",
       "       1.36494824, 1.36497372, 1.36499919, 1.36502465, 1.36505012,\n",
       "       1.36507558, 1.36510104, 1.36512649, 1.36515195, 1.36517739,\n",
       "       1.36520284, 1.36522828, 1.36525372, 1.36527916, 1.36530459,\n",
       "       1.36533002, 1.36535545, 1.36538087, 1.36540629, 1.3654317 ,\n",
       "       1.36545712, 1.36548253, 1.36550794, 1.36553334, 1.36555874,\n",
       "       1.36558414, 1.36560953, 1.36563493, 1.36566031, 1.3656857 ,\n",
       "       1.36571108, 1.36573646, 1.36576183, 1.36578721, 1.36581258,\n",
       "       1.36583794, 1.36586331, 1.36588867, 1.36591402, 1.36593938,\n",
       "       1.36596473, 1.36599007, 1.36601542, 1.36604076, 1.36606609,\n",
       "       1.36609143, 1.36611676, 1.36614209, 1.36616741, 1.36619274,\n",
       "       1.36621805, 1.36624337, 1.36626868, 1.36629399, 1.3663193 ,\n",
       "       1.3663446 , 1.3663699 , 1.3663952 , 1.36642049, 1.36644578,\n",
       "       1.36647107, 1.36649635, 1.36652163, 1.36654691, 1.36657218,\n",
       "       1.36659746, 1.36662272, 1.36664799, 1.36667325, 1.36669851,\n",
       "       1.36672377, 1.36674902, 1.36677427, 1.36679951, 1.36682476,\n",
       "       1.36685   , 1.36687523, 1.36690047, 1.3669257 , 1.36695093,\n",
       "       1.36697615, 1.36700137, 1.36702659, 1.36705181, 1.36707702,\n",
       "       1.36710223, 1.36712743, 1.36715263, 1.36717783, 1.36720303,\n",
       "       1.36722822, 1.36725341, 1.3672786 , 1.36730378, 1.36732896,\n",
       "       1.36735414, 1.36737932, 1.36740449, 1.36742966, 1.36745482,\n",
       "       1.36747998, 1.36750514, 1.3675303 , 1.36755545, 1.3675806 ,\n",
       "       1.36760574, 1.36763089, 1.36765603, 1.36768116, 1.3677063 ,\n",
       "       1.36773143, 1.36775656, 1.36778168, 1.3678068 , 1.36783192,\n",
       "       1.36785704, 1.36788215, 1.36790726, 1.36793236, 1.36795747,\n",
       "       1.36798257, 1.36800766, 1.36803276, 1.36805785, 1.36808293,\n",
       "       1.36810802, 1.3681331 , 1.36815818, 1.36818325, 1.36820832,\n",
       "       1.36823339, 1.36825846, 1.36828352, 1.36830858, 1.36833363,\n",
       "       1.36835869, 1.36838374, 1.36840879, 1.36843383, 1.36845887,\n",
       "       1.36848391, 1.36850894, 1.36853397, 1.368559  , 1.36858403,\n",
       "       1.36860905, 1.36863407, 1.36865908, 1.3686841 , 1.36870911,\n",
       "       1.36873411, 1.36875912, 1.36878412, 1.36880912, 1.36883411,\n",
       "       1.3688591 , 1.36888409, 1.36890908, 1.36893406, 1.36895904,\n",
       "       1.36898401, 1.36900899, 1.36903396, 1.36905892, 1.36908389,\n",
       "       1.36910885, 1.36913381, 1.36915876, 1.36918371, 1.36920866,\n",
       "       1.3692336 , 1.36925855, 1.36928349, 1.36930842, 1.36933336,\n",
       "       1.36935829, 1.36938321, 1.36940814, 1.36943306, 1.36945797,\n",
       "       1.36948289, 1.3695078 , 1.36953271, 1.36955761, 1.36958252,\n",
       "       1.36960742, 1.36963231, 1.36965721, 1.3696821 , 1.36970698,\n",
       "       1.36973187, 1.36975675, 1.36978163, 1.3698065 , 1.36983137,\n",
       "       1.36985624, 1.36988111, 1.36990597, 1.36993083, 1.36995569,\n",
       "       1.36998054, 1.37000539, 1.37003024, 1.37005508, 1.37007992,\n",
       "       1.37010476, 1.3701296 , 1.37015443, 1.37017926, 1.37020408,\n",
       "       1.37022891, 1.37025373, 1.37027855, 1.37030336, 1.37032817,\n",
       "       1.37035298, 1.37037778, 1.37040258, 1.37042738, 1.37045218,\n",
       "       1.37047697, 1.37050176, 1.37052655, 1.37055133, 1.37057611,\n",
       "       1.37060089, 1.37062566, 1.37065044, 1.3706752 , 1.37069997,\n",
       "       1.37072473, 1.37074949, 1.37077425, 1.370799  , 1.37082375,\n",
       "       1.3708485 , 1.37087324, 1.37089798, 1.37092272, 1.37094746,\n",
       "       1.37097219, 1.37099692, 1.37102164, 1.37104637, 1.37107109,\n",
       "       1.37109581, 1.37112052, 1.37114523, 1.37116994, 1.37119464,\n",
       "       1.37121935, 1.37124404, 1.37126874, 1.37129343, 1.37131812,\n",
       "       1.37134281, 1.37136749, 1.37139217, 1.37141685, 1.37144153,\n",
       "       1.3714662 , 1.37149087, 1.37151553, 1.3715402 , 1.37156486,\n",
       "       1.37158951, 1.37161417, 1.37163882, 1.37166347, 1.37168811,\n",
       "       1.37171275, 1.37173739, 1.37176203, 1.37178666, 1.37181129,\n",
       "       1.37183592, 1.37186054, 1.37188516, 1.37190978, 1.37193439,\n",
       "       1.37195901, 1.37198361, 1.37200822, 1.37203282, 1.37205742,\n",
       "       1.37208202, 1.37210661, 1.37213121, 1.37215579, 1.37218038,\n",
       "       1.37220496, 1.37222954, 1.37225411, 1.37227869, 1.37230326,\n",
       "       1.37232782, 1.37235239, 1.37237695, 1.37240151, 1.37242606,\n",
       "       1.37245062, 1.37247516, 1.37249971, 1.37252425, 1.37254879,\n",
       "       1.37257333, 1.37259787, 1.3726224 , 1.37264692, 1.37267145,\n",
       "       1.37269597, 1.37272049, 1.37274501, 1.37276952, 1.37279403,\n",
       "       1.37281854, 1.37284304, 1.37286755, 1.37289204, 1.37291654,\n",
       "       1.37294103, 1.37296552, 1.37299001, 1.37301449, 1.37303897,\n",
       "       1.37306345, 1.37308793, 1.3731124 , 1.37313687, 1.37316133,\n",
       "       1.37318579, 1.37321025, 1.37323471, 1.37325917, 1.37328362,\n",
       "       1.37330807, 1.37333251, 1.37335695, 1.37338139, 1.37340583,\n",
       "       1.37343026, 1.37345469, 1.37347912, 1.37350354, 1.37352797,\n",
       "       1.37355238, 1.3735768 , 1.37360121, 1.37362562, 1.37365003,\n",
       "       1.37367443, 1.37369883, 1.37372323, 1.37374763, 1.37377202,\n",
       "       1.37379641, 1.37382079, 1.37384518, 1.37386956, 1.37389394,\n",
       "       1.37391831, 1.37394268, 1.37396705, 1.37399142, 1.37401578,\n",
       "       1.37404014, 1.3740645 , 1.37408885, 1.3741132 , 1.37413755,\n",
       "       1.37416189, 1.37418624, 1.37421057, 1.37423491, 1.37425924,\n",
       "       1.37428357, 1.3743079 , 1.37433223, 1.37435655, 1.37438087,\n",
       "       1.37440518, 1.3744295 , 1.3744538 , 1.37447811, 1.37450242,\n",
       "       1.37452672, 1.37455102, 1.37457531, 1.3745996 , 1.37462389,\n",
       "       1.37464818, 1.37467246, 1.37469674, 1.37472102, 1.3747453 ,\n",
       "       1.37476957, 1.37479384, 1.3748181 , 1.37484237, 1.37486663,\n",
       "       1.37489088, 1.37491514, 1.37493939, 1.37496364, 1.37498788,\n",
       "       1.37501213, 1.37503637, 1.3750606 , 1.37508484, 1.37510907,\n",
       "       1.3751333 , 1.37515752, 1.37518174, 1.37520596, 1.37523018,\n",
       "       1.37525439, 1.3752786 , 1.37530281, 1.37532702, 1.37535122,\n",
       "       1.37537542, 1.37539961, 1.37542381, 1.375448  , 1.37547219,\n",
       "       1.37549637, 1.37552055, 1.37554473, 1.37556891, 1.37559308,\n",
       "       1.37561725, 1.37564142, 1.37566558, 1.37568974, 1.3757139 ,\n",
       "       1.37573806, 1.37576221, 1.37578636, 1.37581051, 1.37583465,\n",
       "       1.37585879, 1.37588293, 1.37590707, 1.3759312 , 1.37595533,\n",
       "       1.37597945, 1.37600358, 1.3760277 , 1.37605182, 1.37607593,\n",
       "       1.37610004, 1.37612415, 1.37614826, 1.37617236, 1.37619647,\n",
       "       1.37622056, 1.37624466, 1.37626875, 1.37629284, 1.37631693,\n",
       "       1.37634101, 1.37636509, 1.37638917, 1.37641324, 1.37643732,\n",
       "       1.37646138, 1.37648545, 1.37650951, 1.37653357, 1.37655763,\n",
       "       1.37658169, 1.37660574, 1.37662979, 1.37665383, 1.37667788,\n",
       "       1.37670192, 1.37672596, 1.37674999, 1.37677402, 1.37679805,\n",
       "       1.37682208, 1.3768461 , 1.37687012, 1.37689414, 1.37691815,\n",
       "       1.37694216, 1.37696617, 1.37699018, 1.37701418, 1.37703818,\n",
       "       1.37706218, 1.37708618, 1.37711017, 1.37713416, 1.37715814,\n",
       "       1.37718213, 1.37720611, 1.37723008, 1.37725406, 1.37727803,\n",
       "       1.377302  , 1.37732596, 1.37734993, 1.37737389, 1.37739785,\n",
       "       1.3774218 , 1.37744575, 1.3774697 , 1.37749365, 1.37751759,\n",
       "       1.37754153, 1.37756547, 1.3775894 , 1.37761334, 1.37763727,\n",
       "       1.37766119, 1.37768511, 1.37770904, 1.37773295, 1.37775687,\n",
       "       1.37778078, 1.37780469, 1.3778286 , 1.3778525 , 1.3778764 ,\n",
       "       1.3779003 , 1.37792419, 1.37794808, 1.37797197, 1.37799586,\n",
       "       1.37801974, 1.37804363, 1.3780675 , 1.37809138, 1.37811525,\n",
       "       1.37813912, 1.37816299, 1.37818685, 1.37821071, 1.37823457,\n",
       "       1.37825843, 1.37828228, 1.37830613, 1.37832997, 1.37835382,\n",
       "       1.37837766, 1.3784015 , 1.37842533, 1.37844917, 1.378473  ,\n",
       "       1.37849682, 1.37852065, 1.37854447, 1.37856829, 1.3785921 ,\n",
       "       1.37861592, 1.37863973, 1.37866353, 1.37868734, 1.37871114,\n",
       "       1.37873494, 1.37875874, 1.37878253, 1.37880632, 1.37883011,\n",
       "       1.37885389, 1.37887767, 1.37890145, 1.37892523, 1.378949  ,\n",
       "       1.37897277, 1.37899654, 1.37902031, 1.37904407, 1.37906783,\n",
       "       1.37909159, 1.37911534, 1.37913909, 1.37916284, 1.37918659,\n",
       "       1.37921033, 1.37923407, 1.37925781, 1.37928154, 1.37930527,\n",
       "       1.379329  , 1.37935273, 1.37937645, 1.37940017, 1.37942389,\n",
       "       1.3794476 , 1.37947131, 1.37949502, 1.37951873, 1.37954243,\n",
       "       1.37956613, 1.37958983, 1.37961353, 1.37963722, 1.37966091,\n",
       "       1.3796846 , 1.37970828, 1.37973196, 1.37975564, 1.37977932,\n",
       "       1.37980299, 1.37982666, 1.37985033, 1.37987399, 1.37989765,\n",
       "       1.37992131, 1.37994497, 1.37996862, 1.37999227, 1.38001592,\n",
       "       1.38003956, 1.38006321, 1.38008685, 1.38011048, 1.38013412,\n",
       "       1.38015775, 1.38018138, 1.380205  , 1.38022863, 1.38025225,\n",
       "       1.38027586, 1.38029948, 1.38032309, 1.3803467 , 1.3803703 ,\n",
       "       1.38039391, 1.38041751, 1.38044111, 1.3804647 , 1.38048829,\n",
       "       1.38051188, 1.38053547, 1.38055905, 1.38058263, 1.38060621,\n",
       "       1.38062979, 1.38065336, 1.38067693, 1.3807005 , 1.38072406,\n",
       "       1.38074763, 1.38077119, 1.38079474, 1.38081829, 1.38084185,\n",
       "       1.38086539, 1.38088894, 1.38091248, 1.38093602, 1.38095956,\n",
       "       1.38098309, 1.38100662, 1.38103015, 1.38105368, 1.3810772 ,\n",
       "       1.38110072, 1.38112424, 1.38114776, 1.38117127, 1.38119478,\n",
       "       1.38121828, 1.38124179, 1.38126529, 1.38128879, 1.38131228,\n",
       "       1.38133578, 1.38135927, 1.38138275, 1.38140624, 1.38142972,\n",
       "       1.3814532 , 1.38147668, 1.38150015, 1.38152362, 1.38154709,\n",
       "       1.38157056, 1.38159402, 1.38161748, 1.38164094, 1.38166439,\n",
       "       1.38168784, 1.38171129, 1.38173474, 1.38175818, 1.38178162,\n",
       "       1.38180506, 1.3818285 , 1.38185193, 1.38187536, 1.38189878,\n",
       "       1.38192221, 1.38194563, 1.38196905, 1.38199247, 1.38201588,\n",
       "       1.38203929, 1.3820627 , 1.3820861 , 1.38210951, 1.38213291,\n",
       "       1.3821563 , 1.3821797 , 1.38220309, 1.38222648, 1.38224986,\n",
       "       1.38227325, 1.38229663, 1.38232001, 1.38234338, 1.38236676,\n",
       "       1.38239012, 1.38241349, 1.38243686, 1.38246022, 1.38248358,\n",
       "       1.38250693, 1.38253029, 1.38255364, 1.38257699, 1.38260033,\n",
       "       1.38262367, 1.38264701, 1.38267035, 1.38269369, 1.38271702,\n",
       "       1.38274035, 1.38276367, 1.382787  , 1.38281032, 1.38283364,\n",
       "       1.38285695, 1.38288026, 1.38290357, 1.38292688, 1.38295019,\n",
       "       1.38297349, 1.38299679, 1.38302008, 1.38304338, 1.38306667,\n",
       "       1.38308996, 1.38311324, 1.38313653, 1.38315981, 1.38318309,\n",
       "       1.38320636, 1.38322963, 1.3832529 , 1.38327617, 1.38329943,\n",
       "       1.38332269, 1.38334595, 1.38336921, 1.38339246, 1.38341571,\n",
       "       1.38343896, 1.38346221, 1.38348545, 1.38350869, 1.38353193,\n",
       "       1.38355516, 1.38357839, 1.38360162, 1.38362485, 1.38364807,\n",
       "       1.38367129, 1.38369451, 1.38371773, 1.38374094, 1.38376415,\n",
       "       1.38378736, 1.38381056, 1.38383377, 1.38385696, 1.38388016,\n",
       "       1.38390336, 1.38392655, 1.38394974, 1.38397292, 1.38399611,\n",
       "       1.38401929, 1.38404246, 1.38406564, 1.38408881, 1.38411198,\n",
       "       1.38413515, 1.38415831, 1.38418148, 1.38420464, 1.38422779,\n",
       "       1.38425095, 1.3842741 , 1.38429725, 1.38432039, 1.38434354,\n",
       "       1.38436668, 1.38438981, 1.38441295, 1.38443608, 1.38445921,\n",
       "       1.38448234, 1.38450546, 1.38452859, 1.3845517 , 1.38457482,\n",
       "       1.38459793, 1.38462105, 1.38464415, 1.38466726, 1.38469036,\n",
       "       1.38471346, 1.38473656, 1.38475966, 1.38478275, 1.38480584,\n",
       "       1.38482893, 1.38485201, 1.38487509, 1.38489817, 1.38492125,\n",
       "       1.38494432, 1.38496739, 1.38499046, 1.38501353, 1.38503659,\n",
       "       1.38505965, 1.38508271, 1.38510577, 1.38512882, 1.38515187,\n",
       "       1.38517492, 1.38519796, 1.385221  , 1.38524404, 1.38526708,\n",
       "       1.38529011, 1.38531315, 1.38533617, 1.3853592 , 1.38538222,\n",
       "       1.38540524, 1.38542826, 1.38545128, 1.38547429, 1.3854973 ,\n",
       "       1.38552031, 1.38554331, 1.38556632, 1.38558932, 1.38561231,\n",
       "       1.38563531, 1.3856583 , 1.38568129, 1.38570427, 1.38572726,\n",
       "       1.38575024, 1.38577322, 1.38579619, 1.38581917, 1.38584214,\n",
       "       1.38586511, 1.38588807, 1.38591103, 1.38593399, 1.38595695,\n",
       "       1.38597991, 1.38600286, 1.38602581, 1.38604876, 1.3860717 ,\n",
       "       1.38609464, 1.38611758, 1.38614052, 1.38616345, 1.38618638,\n",
       "       1.38620931, 1.38623224, 1.38625516, 1.38627808, 1.386301  ,\n",
       "       1.38632391, 1.38634683, 1.38636974, 1.38639264, 1.38641555,\n",
       "       1.38643845, 1.38646135, 1.38648425, 1.38650714, 1.38653003,\n",
       "       1.38655292, 1.38657581, 1.38659869, 1.38662158, 1.38664445,\n",
       "       1.38666733, 1.3866902 , 1.38671307, 1.38673594, 1.38675881,\n",
       "       1.38678167, 1.38680453, 1.38682739, 1.38685024, 1.3868731 ,\n",
       "       1.38689595, 1.38691879, 1.38694164, 1.38696448, 1.38698732,\n",
       "       1.38701016, 1.38703299, 1.38705582, 1.38707865, 1.38710148,\n",
       "       1.3871243 , 1.38714712, 1.38716994, 1.38719276, 1.38721557,\n",
       "       1.38723838, 1.38726119, 1.387284  , 1.3873068 , 1.3873296 ,\n",
       "       1.3873524 , 1.38737519, 1.38739799, 1.38742078, 1.38744356,\n",
       "       1.38746635, 1.38748913, 1.38751191, 1.38753469, 1.38755746,\n",
       "       1.38758023, 1.387603  , 1.38762577, 1.38764853, 1.38767129,\n",
       "       1.38769405, 1.38771681, 1.38773956, 1.38776231, 1.38778506,\n",
       "       1.38780781, 1.38783055, 1.38785329, 1.38787603, 1.38789877,\n",
       "       1.3879215 , 1.38794423, 1.38796696, 1.38798968, 1.3880124 ,\n",
       "       1.38803512, 1.38805784, 1.38808056, 1.38810327, 1.38812598])"
      ]
     },
     "execution_count": 96,
     "metadata": {},
     "output_type": "execute_result"
    }
   ],
   "source": [
    "y_filtered"
   ]
  },
  {
   "cell_type": "code",
   "execution_count": 99,
   "id": "d7347e3f",
   "metadata": {},
   "outputs": [
    {
     "name": "stderr",
     "output_type": "stream",
     "text": [
      "C:\\Users\\lreis\\AppData\\Local\\Temp\\ipykernel_10976\\3532491936.py:2: RuntimeWarning: invalid value encountered in log\n",
      "  return np.log(np.log((a+x)))\n"
     ]
    },
    {
     "data": {
      "text/plain": [
       "array([49.99999998])"
      ]
     },
     "execution_count": 99,
     "metadata": {},
     "output_type": "execute_result"
    }
   ],
   "source": [
    "def func(x, a):\n",
    "    return np.log(np.log((a+x)))\n",
    "    # return x+2\n",
    "\n",
    "# TO REMOVE\n",
    "\n",
    "# Set-up hyperparameters\n",
    "options = {'c1': 0.5, 'c2': 0.3, 'w':0.9}\n",
    "n_particles = 30\n",
    "iterations = 300\n",
    "\n",
    "n_params=1\n",
    "\n",
    "# Creating a string that later will be converted to a function call\n",
    "fcall_string = \"func(X\"\n",
    "for i in range(n_params):\n",
    "    fcall_string += f\", params[{i}]\"\n",
    "fcall_string += \")\"\n",
    "\n",
    "\n",
    "\n",
    "def cost_function(params, X, y):\n",
    "    y_pred = eval(fcall_string)\n",
    "    if np.isnan(y_pred).any():\n",
    "        # Equivalent to return np.inf except pyswarm can handle np.inf\n",
    "        return 1e10\n",
    "    return np.mean((y - y_pred)**2, axis=0)            \n",
    "\n",
    "# We need to return a MSE value for each particle. That's why we need to call the cost function for each particle (param combination)\n",
    "def cost_function_wrapper(params):\n",
    "    arr = np.array([cost_function(p, X_filtered, y_filtered) for p in params])\n",
    "    # print(arr)\n",
    "    \n",
    "    return arr\n",
    "\n",
    "# Call instance of PSO\n",
    "optimizer = pyswarms.single.GlobalBestPSO(n_particles=n_particles, dimensions=n_params, options=options)\n",
    "\n",
    "# Perform optimization\n",
    "_, pos = optimizer.optimize(cost_function_wrapper, iters=iterations, verbose=False)  \n",
    "pos"
   ]
  },
  {
   "cell_type": "code",
   "execution_count": 30,
   "id": "eefd934c",
   "metadata": {},
   "outputs": [
    {
     "ename": "KeyboardInterrupt",
     "evalue": "",
     "output_type": "error",
     "traceback": [
      "\u001b[1;31m---------------------------------------------------------------------------\u001b[0m",
      "\u001b[1;31mKeyboardInterrupt\u001b[0m                         Traceback (most recent call last)",
      "Cell \u001b[1;32mIn[30], line 1\u001b[0m\n\u001b[1;32m----> 1\u001b[0m \u001b[38;5;28;01mfrom\u001b[39;00m \u001b[38;5;21;01mCSOWP_SR\u001b[39;00m \u001b[38;5;28;01mimport\u001b[39;00m \u001b[38;5;241m*\u001b[39m\n\u001b[0;32m      2\u001b[0m \u001b[38;5;28;01mfrom\u001b[39;00m \u001b[38;5;21;01mExpressionTree\u001b[39;00m \u001b[38;5;28;01mimport\u001b[39;00m \u001b[38;5;241m*\u001b[39m\n\u001b[0;32m      3\u001b[0m \u001b[38;5;28;01mimport\u001b[39;00m \u001b[38;5;21;01mos\u001b[39;00m\n",
      "File \u001b[1;32md:\\Documents\\Coding\\Repositorios\\MyRepositories\\Symbolic-Regression\\CSOWP_SR\\algorithms\\CSOWP_SR.py:7\u001b[0m\n\u001b[0;32m      5\u001b[0m \u001b[38;5;28;01mimport\u001b[39;00m \u001b[38;5;21;01mnumpy\u001b[39;00m \u001b[38;5;28;01mas\u001b[39;00m \u001b[38;5;21;01mnp\u001b[39;00m\n\u001b[0;32m      6\u001b[0m \u001b[38;5;28;01mfrom\u001b[39;00m \u001b[38;5;21;01mrandom\u001b[39;00m \u001b[38;5;28;01mimport\u001b[39;00m randint, choice, uniform, seed\n\u001b[1;32m----> 7\u001b[0m \u001b[38;5;28;01mfrom\u001b[39;00m \u001b[38;5;21;01mExpressionTree\u001b[39;00m \u001b[38;5;28;01mimport\u001b[39;00m \u001b[38;5;241m*\u001b[39m\n\u001b[0;32m      8\u001b[0m \u001b[38;5;28;01mfrom\u001b[39;00m \u001b[38;5;21;01mscipy\u001b[39;00m\u001b[38;5;21;01m.\u001b[39;00m\u001b[38;5;21;01moptimize\u001b[39;00m \u001b[38;5;28;01mimport\u001b[39;00m curve_fit, differential_evolution, dual_annealing\n\u001b[0;32m      9\u001b[0m \u001b[38;5;28;01mfrom\u001b[39;00m \u001b[38;5;21;01mcopy\u001b[39;00m \u001b[38;5;28;01mimport\u001b[39;00m deepcopy\n",
      "File \u001b[1;32md:\\Documents\\Coding\\Repositorios\\MyRepositories\\Symbolic-Regression\\CSOWP_SR\\algorithms\\ExpressionTree.py:6\u001b[0m\n\u001b[0;32m      4\u001b[0m \u001b[38;5;28;01mfrom\u001b[39;00m \u001b[38;5;21;01mtyping\u001b[39;00m \u001b[38;5;28;01mimport\u001b[39;00m Any, List, Dict\n\u001b[0;32m      5\u001b[0m \u001b[38;5;28;01mfrom\u001b[39;00m \u001b[38;5;21;01mfunctools\u001b[39;00m \u001b[38;5;28;01mimport\u001b[39;00m singledispatchmethod\n\u001b[1;32m----> 6\u001b[0m \u001b[38;5;28;01mimport\u001b[39;00m \u001b[38;5;21;01msympy\u001b[39;00m \u001b[38;5;28;01mas\u001b[39;00m \u001b[38;5;21;01msmp\u001b[39;00m\n\u001b[0;32m      8\u001b[0m \u001b[38;5;28;01mclass\u001b[39;00m \u001b[38;5;21;01mExpressionTree\u001b[39;00m():\n\u001b[0;32m      9\u001b[0m \u001b[38;5;250m    \u001b[39m\u001b[38;5;124;03m\"\"\"Tree used in the symbolic regression algorithm\"\"\"\u001b[39;00m\n",
      "File \u001b[1;32md:\\Documents\\Coding\\Repositorios\\MyRepositories\\Symbolic-Regression\\CSOWP_SR\\.venv\\lib\\site-packages\\sympy\\__init__.py:74\u001b[0m\n\u001b[0;32m     67\u001b[0m \u001b[38;5;28;01mfrom\u001b[39;00m \u001b[38;5;21;01m.\u001b[39;00m\u001b[38;5;21;01mlogic\u001b[39;00m \u001b[38;5;28;01mimport\u001b[39;00m (to_cnf, to_dnf, to_nnf, And, Or, Not, Xor, Nand, Nor,\n\u001b[0;32m     68\u001b[0m         Implies, Equivalent, ITE, POSform, SOPform, simplify_logic, bool_map,\n\u001b[0;32m     69\u001b[0m         true, false, satisfiable)\n\u001b[0;32m     71\u001b[0m \u001b[38;5;28;01mfrom\u001b[39;00m \u001b[38;5;21;01m.\u001b[39;00m\u001b[38;5;21;01massumptions\u001b[39;00m \u001b[38;5;28;01mimport\u001b[39;00m (AppliedPredicate, Predicate, AssumptionsContext,\n\u001b[0;32m     72\u001b[0m         assuming, Q, ask, register_handler, remove_handler, refine)\n\u001b[1;32m---> 74\u001b[0m \u001b[38;5;28;01mfrom\u001b[39;00m \u001b[38;5;21;01m.\u001b[39;00m\u001b[38;5;21;01mpolys\u001b[39;00m \u001b[38;5;28;01mimport\u001b[39;00m (Poly, PurePoly, poly_from_expr, parallel_poly_from_expr,\n\u001b[0;32m     75\u001b[0m         degree, total_degree, degree_list, LC, LM, LT, pdiv, prem, pquo,\n\u001b[0;32m     76\u001b[0m         pexquo, div, rem, quo, exquo, half_gcdex, gcdex, invert,\n\u001b[0;32m     77\u001b[0m         subresultants, resultant, discriminant, cofactors, gcd_list, gcd,\n\u001b[0;32m     78\u001b[0m         lcm_list, lcm, terms_gcd, trunc, monic, content, primitive, compose,\n\u001b[0;32m     79\u001b[0m         decompose, sturm, gff_list, gff, sqf_norm, sqf_part, sqf_list, sqf,\n\u001b[0;32m     80\u001b[0m         factor_list, factor, intervals, refine_root, count_roots, all_roots,\n\u001b[0;32m     81\u001b[0m         real_roots, nroots, ground_roots, nth_power_roots_poly, cancel,\n\u001b[0;32m     82\u001b[0m         reduced, groebner, is_zero_dimensional, GroebnerBasis, poly,\n\u001b[0;32m     83\u001b[0m         symmetrize, horner, interpolate, rational_interpolate, viete, together,\n\u001b[0;32m     84\u001b[0m         BasePolynomialError, ExactQuotientFailed, PolynomialDivisionFailed,\n\u001b[0;32m     85\u001b[0m         OperationNotSupported, HeuristicGCDFailed, HomomorphismFailed,\n\u001b[0;32m     86\u001b[0m         IsomorphismFailed, ExtraneousFactors, EvaluationFailed,\n\u001b[0;32m     87\u001b[0m         RefinementFailed, CoercionFailed, NotInvertible, NotReversible,\n\u001b[0;32m     88\u001b[0m         NotAlgebraic, DomainError, PolynomialError, UnificationFailed,\n\u001b[0;32m     89\u001b[0m         GeneratorsError, GeneratorsNeeded, ComputationFailed,\n\u001b[0;32m     90\u001b[0m         UnivariatePolynomialError, MultivariatePolynomialError,\n\u001b[0;32m     91\u001b[0m         PolificationFailed, OptionError, FlagError, minpoly,\n\u001b[0;32m     92\u001b[0m         minimal_polynomial, primitive_element, field_isomorphism,\n\u001b[0;32m     93\u001b[0m         to_number_field, isolate, round_two, prime_decomp, prime_valuation,\n\u001b[0;32m     94\u001b[0m         galois_group, itermonomials, Monomial, lex, grlex,\n\u001b[0;32m     95\u001b[0m         grevlex, ilex, igrlex, igrevlex, CRootOf, rootof, RootOf,\n\u001b[0;32m     96\u001b[0m         ComplexRootOf, RootSum, roots, Domain, FiniteField, IntegerRing,\n\u001b[0;32m     97\u001b[0m         RationalField, RealField, ComplexField, PythonFiniteField,\n\u001b[0;32m     98\u001b[0m         GMPYFiniteField, PythonIntegerRing, GMPYIntegerRing, PythonRational,\n\u001b[0;32m     99\u001b[0m         GMPYRationalField, AlgebraicField, PolynomialRing, FractionField,\n\u001b[0;32m    100\u001b[0m         ExpressionDomain, FF_python, FF_gmpy, ZZ_python, ZZ_gmpy, QQ_python,\n\u001b[0;32m    101\u001b[0m         QQ_gmpy, GF, FF, ZZ, QQ, ZZ_I, QQ_I, RR, CC, EX, EXRAW,\n\u001b[0;32m    102\u001b[0m         construct_domain, swinnerton_dyer_poly, cyclotomic_poly,\n\u001b[0;32m    103\u001b[0m         symmetric_poly, random_poly, interpolating_poly, jacobi_poly,\n\u001b[0;32m    104\u001b[0m         chebyshevt_poly, chebyshevu_poly, hermite_poly, hermite_prob_poly,\n\u001b[0;32m    105\u001b[0m         legendre_poly, laguerre_poly, apart, apart_list, assemble_partfrac_list,\n\u001b[0;32m    106\u001b[0m         Options, ring, xring, vring, sring, field, xfield, vfield, sfield)\n\u001b[0;32m    108\u001b[0m \u001b[38;5;28;01mfrom\u001b[39;00m \u001b[38;5;21;01m.\u001b[39;00m\u001b[38;5;21;01mseries\u001b[39;00m \u001b[38;5;28;01mimport\u001b[39;00m (Order, O, limit, Limit, gruntz, series, approximants,\n\u001b[0;32m    109\u001b[0m         residue, EmptySequence, SeqPer, SeqFormula, sequence, SeqAdd, SeqMul,\n\u001b[0;32m    110\u001b[0m         fourier_series, fps, difference_delta, limit_seq)\n\u001b[0;32m    112\u001b[0m \u001b[38;5;28;01mfrom\u001b[39;00m \u001b[38;5;21;01m.\u001b[39;00m\u001b[38;5;21;01mfunctions\u001b[39;00m \u001b[38;5;28;01mimport\u001b[39;00m (factorial, factorial2, rf, ff, binomial,\n\u001b[0;32m    113\u001b[0m         RisingFactorial, FallingFactorial, subfactorial, carmichael,\n\u001b[0;32m    114\u001b[0m         fibonacci, lucas, motzkin, tribonacci, harmonic, bernoulli, bell, euler,\n\u001b[1;32m   (...)\u001b[0m\n\u001b[0;32m    135\u001b[0m         Znm, elliptic_k, elliptic_f, elliptic_e, elliptic_pi, beta, mathieus,\n\u001b[0;32m    136\u001b[0m         mathieuc, mathieusprime, mathieucprime, riemann_xi, betainc, betainc_regularized)\n",
      "File \u001b[1;32md:\\Documents\\Coding\\Repositorios\\MyRepositories\\Symbolic-Regression\\CSOWP_SR\\.venv\\lib\\site-packages\\sympy\\polys\\__init__.py:124\u001b[0m\n\u001b[0;32m    118\u001b[0m \u001b[38;5;28;01mfrom\u001b[39;00m \u001b[38;5;21;01m.\u001b[39;00m\u001b[38;5;21;01morthopolys\u001b[39;00m \u001b[38;5;28;01mimport\u001b[39;00m (jacobi_poly, chebyshevt_poly, chebyshevu_poly,\n\u001b[0;32m    119\u001b[0m         hermite_poly, hermite_prob_poly, legendre_poly, laguerre_poly)\n\u001b[0;32m    121\u001b[0m \u001b[38;5;28;01mfrom\u001b[39;00m \u001b[38;5;21;01m.\u001b[39;00m\u001b[38;5;21;01mappellseqs\u001b[39;00m \u001b[38;5;28;01mimport\u001b[39;00m (bernoulli_poly, bernoulli_c_poly, genocchi_poly,\n\u001b[0;32m    122\u001b[0m         euler_poly, andre_poly)\n\u001b[1;32m--> 124\u001b[0m \u001b[38;5;28;01mfrom\u001b[39;00m \u001b[38;5;21;01m.\u001b[39;00m\u001b[38;5;21;01mpartfrac\u001b[39;00m \u001b[38;5;28;01mimport\u001b[39;00m apart, apart_list, assemble_partfrac_list\n\u001b[0;32m    126\u001b[0m \u001b[38;5;28;01mfrom\u001b[39;00m \u001b[38;5;21;01m.\u001b[39;00m\u001b[38;5;21;01mpolyoptions\u001b[39;00m \u001b[38;5;28;01mimport\u001b[39;00m Options\n\u001b[0;32m    128\u001b[0m \u001b[38;5;28;01mfrom\u001b[39;00m \u001b[38;5;21;01m.\u001b[39;00m\u001b[38;5;21;01mrings\u001b[39;00m \u001b[38;5;28;01mimport\u001b[39;00m ring, xring, vring, sring\n",
      "File \u001b[1;32md:\\Documents\\Coding\\Repositorios\\MyRepositories\\Symbolic-Regression\\CSOWP_SR\\.venv\\lib\\site-packages\\sympy\\polys\\partfrac.py:15\u001b[0m\n\u001b[0;32m      9\u001b[0m \u001b[38;5;28;01mfrom\u001b[39;00m \u001b[38;5;21;01msympy\u001b[39;00m\u001b[38;5;21;01m.\u001b[39;00m\u001b[38;5;21;01mpolys\u001b[39;00m\u001b[38;5;21;01m.\u001b[39;00m\u001b[38;5;21;01mpolytools\u001b[39;00m \u001b[38;5;28;01mimport\u001b[39;00m parallel_poly_from_expr\n\u001b[0;32m     10\u001b[0m \u001b[38;5;28;01mfrom\u001b[39;00m \u001b[38;5;21;01msympy\u001b[39;00m\u001b[38;5;21;01m.\u001b[39;00m\u001b[38;5;21;01mutilities\u001b[39;00m \u001b[38;5;28;01mimport\u001b[39;00m numbered_symbols, take, xthreaded, public\n\u001b[0;32m     13\u001b[0m \u001b[38;5;129;43m@xthreaded\u001b[39;49m\n\u001b[0;32m     14\u001b[0m \u001b[38;5;129;43m@public\u001b[39;49m\n\u001b[1;32m---> 15\u001b[0m \u001b[38;5;28;43;01mdef\u001b[39;49;00m\u001b[43m \u001b[49m\u001b[38;5;21;43mapart\u001b[39;49m\u001b[43m(\u001b[49m\u001b[43mf\u001b[49m\u001b[43m,\u001b[49m\u001b[43m \u001b[49m\u001b[43mx\u001b[49m\u001b[38;5;241;43m=\u001b[39;49m\u001b[38;5;28;43;01mNone\u001b[39;49;00m\u001b[43m,\u001b[49m\u001b[43m \u001b[49m\u001b[43mfull\u001b[49m\u001b[38;5;241;43m=\u001b[39;49m\u001b[38;5;28;43;01mFalse\u001b[39;49;00m\u001b[43m,\u001b[49m\u001b[43m \u001b[49m\u001b[38;5;241;43m*\u001b[39;49m\u001b[38;5;241;43m*\u001b[39;49m\u001b[43moptions\u001b[49m\u001b[43m)\u001b[49m\u001b[43m:\u001b[49m\n\u001b[0;32m     16\u001b[0m \u001b[38;5;250;43m    \u001b[39;49m\u001b[38;5;124;43;03m\"\"\"\u001b[39;49;00m\n\u001b[0;32m     17\u001b[0m \u001b[38;5;124;43;03m    Compute partial fraction decomposition of a rational function.\u001b[39;49;00m\n\u001b[0;32m     18\u001b[0m \n\u001b[1;32m   (...)\u001b[0m\n\u001b[0;32m     67\u001b[0m \u001b[38;5;124;43;03m    apart_list, assemble_partfrac_list\u001b[39;49;00m\n\u001b[0;32m     68\u001b[0m \u001b[38;5;124;43;03m    \"\"\"\u001b[39;49;00m\n\u001b[0;32m     69\u001b[0m \u001b[43m    \u001b[49m\u001b[43mallowed_flags\u001b[49m\u001b[43m(\u001b[49m\u001b[43moptions\u001b[49m\u001b[43m,\u001b[49m\u001b[43m \u001b[49m\u001b[43m[\u001b[49m\u001b[43m]\u001b[49m\u001b[43m)\u001b[49m\n",
      "File \u001b[1;32md:\\Documents\\Coding\\Repositorios\\MyRepositories\\Symbolic-Regression\\CSOWP_SR\\.venv\\lib\\site-packages\\sympy\\utilities\\decorator.py:76\u001b[0m, in \u001b[0;36mxthreaded\u001b[1;34m(func)\u001b[0m\n\u001b[0;32m     59\u001b[0m \u001b[38;5;28;01mdef\u001b[39;00m \u001b[38;5;21mxthreaded\u001b[39m(func):\n\u001b[0;32m     60\u001b[0m \u001b[38;5;250m    \u001b[39m\u001b[38;5;124;03m\"\"\"Apply ``func`` to sub--elements of an object, excluding :class:`~.Add`.\u001b[39;00m\n\u001b[0;32m     61\u001b[0m \n\u001b[0;32m     62\u001b[0m \u001b[38;5;124;03m    This decorator is intended to make it uniformly possible to apply a\u001b[39;00m\n\u001b[1;32m   (...)\u001b[0m\n\u001b[0;32m     74\u001b[0m \n\u001b[0;32m     75\u001b[0m \u001b[38;5;124;03m    \"\"\"\u001b[39;00m\n\u001b[1;32m---> 76\u001b[0m     \u001b[38;5;28;01mreturn\u001b[39;00m \u001b[43mthreaded_factory\u001b[49m\u001b[43m(\u001b[49m\u001b[43mfunc\u001b[49m\u001b[43m,\u001b[49m\u001b[43m \u001b[49m\u001b[38;5;28;43;01mFalse\u001b[39;49;00m\u001b[43m)\u001b[49m\n",
      "File \u001b[1;32md:\\Documents\\Coding\\Repositorios\\MyRepositories\\Symbolic-Regression\\CSOWP_SR\\.venv\\lib\\site-packages\\sympy\\utilities\\decorator.py:13\u001b[0m, in \u001b[0;36mthreaded_factory\u001b[1;34m(func, use_add)\u001b[0m\n\u001b[0;32m     11\u001b[0m \u001b[38;5;250m\u001b[39m\u001b[38;5;124;03m\"\"\"A factory for ``threaded`` decorators. \"\"\"\u001b[39;00m\n\u001b[0;32m     12\u001b[0m \u001b[38;5;28;01mfrom\u001b[39;00m \u001b[38;5;21;01msympy\u001b[39;00m\u001b[38;5;21;01m.\u001b[39;00m\u001b[38;5;21;01mcore\u001b[39;00m \u001b[38;5;28;01mimport\u001b[39;00m sympify\n\u001b[1;32m---> 13\u001b[0m \u001b[38;5;28;01mfrom\u001b[39;00m \u001b[38;5;21;01msympy\u001b[39;00m\u001b[38;5;21;01m.\u001b[39;00m\u001b[38;5;21;01mmatrices\u001b[39;00m \u001b[38;5;28;01mimport\u001b[39;00m MatrixBase\n\u001b[0;32m     14\u001b[0m \u001b[38;5;28;01mfrom\u001b[39;00m \u001b[38;5;21;01msympy\u001b[39;00m\u001b[38;5;21;01m.\u001b[39;00m\u001b[38;5;21;01mutilities\u001b[39;00m\u001b[38;5;21;01m.\u001b[39;00m\u001b[38;5;21;01miterables\u001b[39;00m \u001b[38;5;28;01mimport\u001b[39;00m iterable\n\u001b[0;32m     16\u001b[0m \u001b[38;5;129m@wraps\u001b[39m(func)\n\u001b[0;32m     17\u001b[0m \u001b[38;5;28;01mdef\u001b[39;00m \u001b[38;5;21mthreaded_func\u001b[39m(expr, \u001b[38;5;241m*\u001b[39margs, \u001b[38;5;241m*\u001b[39m\u001b[38;5;241m*\u001b[39mkwargs):\n",
      "File \u001b[1;32md:\\Documents\\Coding\\Repositorios\\MyRepositories\\Symbolic-Regression\\CSOWP_SR\\.venv\\lib\\site-packages\\sympy\\matrices\\__init__.py:8\u001b[0m\n\u001b[0;32m      6\u001b[0m \u001b[38;5;28;01mfrom\u001b[39;00m \u001b[38;5;21;01m.\u001b[39;00m\u001b[38;5;21;01mexceptions\u001b[39;00m \u001b[38;5;28;01mimport\u001b[39;00m ShapeError, NonSquareMatrixError\n\u001b[0;32m      7\u001b[0m \u001b[38;5;28;01mfrom\u001b[39;00m \u001b[38;5;21;01m.\u001b[39;00m\u001b[38;5;21;01mkind\u001b[39;00m \u001b[38;5;28;01mimport\u001b[39;00m MatrixKind\n\u001b[1;32m----> 8\u001b[0m \u001b[38;5;28;01mfrom\u001b[39;00m \u001b[38;5;21;01m.\u001b[39;00m\u001b[38;5;21;01mdense\u001b[39;00m \u001b[38;5;28;01mimport\u001b[39;00m (\n\u001b[0;32m      9\u001b[0m     GramSchmidt, casoratian, diag, eye, hessian, jordan_cell,\n\u001b[0;32m     10\u001b[0m     list2numpy, matrix2numpy, matrix_multiply_elementwise, ones,\n\u001b[0;32m     11\u001b[0m     randMatrix, rot_axis1, rot_axis2, rot_axis3, rot_ccw_axis1,\n\u001b[0;32m     12\u001b[0m     rot_ccw_axis2, rot_ccw_axis3, rot_givens,\n\u001b[0;32m     13\u001b[0m     symarray, wronskian, zeros)\n\u001b[0;32m     14\u001b[0m \u001b[38;5;28;01mfrom\u001b[39;00m \u001b[38;5;21;01m.\u001b[39;00m\u001b[38;5;21;01mdense\u001b[39;00m \u001b[38;5;28;01mimport\u001b[39;00m MutableDenseMatrix\n\u001b[0;32m     15\u001b[0m \u001b[38;5;28;01mfrom\u001b[39;00m \u001b[38;5;21;01m.\u001b[39;00m\u001b[38;5;21;01mmatrixbase\u001b[39;00m \u001b[38;5;28;01mimport\u001b[39;00m DeferredVector, MatrixBase\n",
      "File \u001b[1;32md:\\Documents\\Coding\\Repositorios\\MyRepositories\\Symbolic-Regression\\CSOWP_SR\\.venv\\lib\\site-packages\\sympy\\matrices\\dense.py:14\u001b[0m\n\u001b[0;32m     12\u001b[0m \u001b[38;5;28;01mfrom\u001b[39;00m \u001b[38;5;21;01m.\u001b[39;00m\u001b[38;5;21;01mexceptions\u001b[39;00m \u001b[38;5;28;01mimport\u001b[39;00m ShapeError\n\u001b[0;32m     13\u001b[0m \u001b[38;5;28;01mfrom\u001b[39;00m \u001b[38;5;21;01m.\u001b[39;00m\u001b[38;5;21;01mdecompositions\u001b[39;00m \u001b[38;5;28;01mimport\u001b[39;00m _cholesky, _LDLdecomposition\n\u001b[1;32m---> 14\u001b[0m \u001b[38;5;28;01mfrom\u001b[39;00m \u001b[38;5;21;01m.\u001b[39;00m\u001b[38;5;21;01mmatrixbase\u001b[39;00m \u001b[38;5;28;01mimport\u001b[39;00m MatrixBase\n\u001b[0;32m     15\u001b[0m \u001b[38;5;28;01mfrom\u001b[39;00m \u001b[38;5;21;01m.\u001b[39;00m\u001b[38;5;21;01mrepmatrix\u001b[39;00m \u001b[38;5;28;01mimport\u001b[39;00m MutableRepMatrix, RepMatrix\n\u001b[0;32m     16\u001b[0m \u001b[38;5;28;01mfrom\u001b[39;00m \u001b[38;5;21;01m.\u001b[39;00m\u001b[38;5;21;01msolvers\u001b[39;00m \u001b[38;5;28;01mimport\u001b[39;00m _lower_triangular_solve, _upper_triangular_solve\n",
      "File \u001b[1;32md:\\Documents\\Coding\\Repositorios\\MyRepositories\\Symbolic-Regression\\CSOWP_SR\\.venv\\lib\\site-packages\\sympy\\matrices\\matrixbase.py:39\u001b[0m\n\u001b[0;32m     37\u001b[0m \u001b[38;5;28;01mfrom\u001b[39;00m \u001b[38;5;21;01msympy\u001b[39;00m\u001b[38;5;21;01m.\u001b[39;00m\u001b[38;5;21;01mcore\u001b[39;00m\u001b[38;5;21;01m.\u001b[39;00m\u001b[38;5;21;01mdecorators\u001b[39;00m \u001b[38;5;28;01mimport\u001b[39;00m call_highest_priority\n\u001b[0;32m     38\u001b[0m \u001b[38;5;28;01mfrom\u001b[39;00m \u001b[38;5;21;01msympy\u001b[39;00m\u001b[38;5;21;01m.\u001b[39;00m\u001b[38;5;21;01mcore\u001b[39;00m\u001b[38;5;21;01m.\u001b[39;00m\u001b[38;5;21;01mlogic\u001b[39;00m \u001b[38;5;28;01mimport\u001b[39;00m fuzzy_and, FuzzyBool\n\u001b[1;32m---> 39\u001b[0m \u001b[38;5;28;01mfrom\u001b[39;00m \u001b[38;5;21;01msympy\u001b[39;00m\u001b[38;5;21;01m.\u001b[39;00m\u001b[38;5;21;01mtensor\u001b[39;00m\u001b[38;5;21;01m.\u001b[39;00m\u001b[38;5;21;01marray\u001b[39;00m \u001b[38;5;28;01mimport\u001b[39;00m NDimArray\n\u001b[0;32m     40\u001b[0m \u001b[38;5;28;01mfrom\u001b[39;00m \u001b[38;5;21;01msympy\u001b[39;00m\u001b[38;5;21;01m.\u001b[39;00m\u001b[38;5;21;01mutilities\u001b[39;00m\u001b[38;5;21;01m.\u001b[39;00m\u001b[38;5;21;01miterables\u001b[39;00m \u001b[38;5;28;01mimport\u001b[39;00m NotIterable\n\u001b[0;32m     42\u001b[0m \u001b[38;5;28;01mfrom\u001b[39;00m \u001b[38;5;21;01m.\u001b[39;00m\u001b[38;5;21;01mutilities\u001b[39;00m \u001b[38;5;28;01mimport\u001b[39;00m _get_intermediate_simp_bool\n",
      "File \u001b[1;32md:\\Documents\\Coding\\Repositorios\\MyRepositories\\Symbolic-Regression\\CSOWP_SR\\.venv\\lib\\site-packages\\sympy\\tensor\\__init__.py:7\u001b[0m\n\u001b[0;32m      5\u001b[0m \u001b[38;5;28;01mfrom\u001b[39;00m \u001b[38;5;21;01m.\u001b[39;00m\u001b[38;5;21;01mindex_methods\u001b[39;00m \u001b[38;5;28;01mimport\u001b[39;00m get_contraction_structure, get_indices\n\u001b[0;32m      6\u001b[0m \u001b[38;5;28;01mfrom\u001b[39;00m \u001b[38;5;21;01m.\u001b[39;00m\u001b[38;5;21;01mfunctions\u001b[39;00m \u001b[38;5;28;01mimport\u001b[39;00m shape\n\u001b[1;32m----> 7\u001b[0m \u001b[38;5;28;01mfrom\u001b[39;00m \u001b[38;5;21;01m.\u001b[39;00m\u001b[38;5;21;01marray\u001b[39;00m \u001b[38;5;28;01mimport\u001b[39;00m (MutableDenseNDimArray, ImmutableDenseNDimArray,\n\u001b[0;32m      8\u001b[0m     MutableSparseNDimArray, ImmutableSparseNDimArray, NDimArray, tensorproduct,\n\u001b[0;32m      9\u001b[0m     tensorcontraction, tensordiagonal, derive_by_array, permutedims, Array,\n\u001b[0;32m     10\u001b[0m     DenseNDimArray, SparseNDimArray,)\n\u001b[0;32m     12\u001b[0m __all__ \u001b[38;5;241m=\u001b[39m [\n\u001b[0;32m     13\u001b[0m     \u001b[38;5;124m'\u001b[39m\u001b[38;5;124mIndexedBase\u001b[39m\u001b[38;5;124m'\u001b[39m, \u001b[38;5;124m'\u001b[39m\u001b[38;5;124mIdx\u001b[39m\u001b[38;5;124m'\u001b[39m, \u001b[38;5;124m'\u001b[39m\u001b[38;5;124mIndexed\u001b[39m\u001b[38;5;124m'\u001b[39m,\n\u001b[0;32m     14\u001b[0m \n\u001b[1;32m   (...)\u001b[0m\n\u001b[0;32m     22\u001b[0m     \u001b[38;5;124m'\u001b[39m\u001b[38;5;124mArray\u001b[39m\u001b[38;5;124m'\u001b[39m, \u001b[38;5;124m'\u001b[39m\u001b[38;5;124mDenseNDimArray\u001b[39m\u001b[38;5;124m'\u001b[39m, \u001b[38;5;124m'\u001b[39m\u001b[38;5;124mSparseNDimArray\u001b[39m\u001b[38;5;124m'\u001b[39m,\n\u001b[0;32m     23\u001b[0m ]\n",
      "File \u001b[1;32md:\\Documents\\Coding\\Repositorios\\MyRepositories\\Symbolic-Regression\\CSOWP_SR\\.venv\\lib\\site-packages\\sympy\\tensor\\array\\__init__.py:251\u001b[0m\n\u001b[0;32m      1\u001b[0m \u001b[38;5;124mr\u001b[39m\u001b[38;5;124;03m\"\"\"\u001b[39;00m\n\u001b[0;32m      2\u001b[0m \u001b[38;5;124;03mN-dim array module for SymPy.\u001b[39;00m\n\u001b[0;32m      3\u001b[0m \n\u001b[1;32m   (...)\u001b[0m\n\u001b[0;32m    248\u001b[0m \n\u001b[0;32m    249\u001b[0m \u001b[38;5;124;03m\"\"\"\u001b[39;00m\n\u001b[1;32m--> 251\u001b[0m \u001b[38;5;28;01mfrom\u001b[39;00m \u001b[38;5;21;01m.\u001b[39;00m\u001b[38;5;21;01mdense_ndim_array\u001b[39;00m \u001b[38;5;28;01mimport\u001b[39;00m MutableDenseNDimArray, ImmutableDenseNDimArray, DenseNDimArray\n\u001b[0;32m    252\u001b[0m \u001b[38;5;28;01mfrom\u001b[39;00m \u001b[38;5;21;01m.\u001b[39;00m\u001b[38;5;21;01msparse_ndim_array\u001b[39;00m \u001b[38;5;28;01mimport\u001b[39;00m MutableSparseNDimArray, ImmutableSparseNDimArray, SparseNDimArray\n\u001b[0;32m    253\u001b[0m \u001b[38;5;28;01mfrom\u001b[39;00m \u001b[38;5;21;01m.\u001b[39;00m\u001b[38;5;21;01mndim_array\u001b[39;00m \u001b[38;5;28;01mimport\u001b[39;00m NDimArray, ArrayKind\n",
      "File \u001b[1;32m<frozen importlib._bootstrap>:1027\u001b[0m, in \u001b[0;36m_find_and_load\u001b[1;34m(name, import_)\u001b[0m\n",
      "File \u001b[1;32m<frozen importlib._bootstrap>:1002\u001b[0m, in \u001b[0;36m_find_and_load_unlocked\u001b[1;34m(name, import_)\u001b[0m\n",
      "File \u001b[1;32m<frozen importlib._bootstrap>:945\u001b[0m, in \u001b[0;36m_find_spec\u001b[1;34m(name, path, target)\u001b[0m\n",
      "File \u001b[1;32m<frozen importlib._bootstrap_external>:1439\u001b[0m, in \u001b[0;36mfind_spec\u001b[1;34m(cls, fullname, path, target)\u001b[0m\n",
      "File \u001b[1;32m<frozen importlib._bootstrap_external>:1411\u001b[0m, in \u001b[0;36m_get_spec\u001b[1;34m(cls, fullname, path, target)\u001b[0m\n",
      "File \u001b[1;32m<frozen importlib._bootstrap_external>:1548\u001b[0m, in \u001b[0;36mfind_spec\u001b[1;34m(self, fullname, target)\u001b[0m\n",
      "File \u001b[1;32m<frozen importlib._bootstrap_external>:1591\u001b[0m, in \u001b[0;36m_fill_cache\u001b[1;34m(self)\u001b[0m\n",
      "\u001b[1;31mKeyboardInterrupt\u001b[0m: "
     ]
    }
   ],
   "source": [
    "from CSOWP_SR import *\n",
    "from ExpressionTree import *\n",
    "import os\n",
    "os.environ[\"PATH\"] += os.pathsep + 'D:/Program Files (x86)/Graphviz-10.0.1-win64/bin/'\n",
    "\n",
    "trees = []\n",
    "for i in range(3):\n",
    "\n",
    "    with open(f\"Outputs/cluster/DF/F1/trees/tree-2000-6-{i}\", \"rb\") as file:\n",
    "        trees.append(pickle.load(file))\n",
    "\n",
    "SR = SymbolicRegression(3, custom_functions_dict={\"cube\": [\"(\", \")**3\"]})\n",
    "SR.fit(np.c_[[1, 2]], np.array([2, 3]), feature_names=[\"x\"])\n",
    "\n",
    "functions = SR._functions.copy()\n",
    "functions.append(\"cube\")\n",
    "\n",
    "for tree in trees:\n",
    "    display(tree.visualize_tree())\n",
    "    print(tree.toString_smp(SR._operators, functions, SR.custom_functions_dict))\n",
    "    display(tree.toSmpExpr(SR._operators, functions, SR.custom_functions_dict))"
   ]
  },
  {
   "cell_type": "code",
   "execution_count": 6,
   "id": "9bb30e61",
   "metadata": {},
   "outputs": [
    {
     "name": "stdout",
     "output_type": "stream",
     "text": [
      "[nan nan]\n"
     ]
    }
   ],
   "source": [
    "a = np.array([np.nan, np.nan])\n",
    "print(a)"
   ]
  },
  {
   "cell_type": "code",
   "execution_count": 4,
   "id": "88bcf89e",
   "metadata": {},
   "outputs": [
    {
     "data": {
      "text/plain": [
       "True"
      ]
     },
     "execution_count": 4,
     "metadata": {},
     "output_type": "execute_result"
    }
   ],
   "source": [
    "np.nan in a"
   ]
  },
  {
   "cell_type": "code",
   "execution_count": 25,
   "id": "48ddbccd",
   "metadata": {},
   "outputs": [
    {
     "data": {
      "text/plain": [
       "True"
      ]
     },
     "execution_count": 25,
     "metadata": {},
     "output_type": "execute_result"
    }
   ],
   "source": [
    "type([np.nan]) is lista"
   ]
  },
  {
   "cell_type": "code",
   "execution_count": 23,
   "id": "6fc0f141",
   "metadata": {},
   "outputs": [
    {
     "ename": "TypeError",
     "evalue": "argument of type 'float' is not iterable",
     "output_type": "error",
     "traceback": [
      "\u001b[1;31m---------------------------------------------------------------------------\u001b[0m",
      "\u001b[1;31mTypeError\u001b[0m                                 Traceback (most recent call last)",
      "Cell \u001b[1;32mIn[23], line 1\u001b[0m\n\u001b[1;32m----> 1\u001b[0m \u001b[43mnp\u001b[49m\u001b[38;5;241;43m.\u001b[39;49m\u001b[43mnan\u001b[49m\u001b[43m \u001b[49m\u001b[38;5;129;43;01min\u001b[39;49;00m\u001b[43m \u001b[49m\u001b[43mnp\u001b[49m\u001b[38;5;241;43m.\u001b[39;49m\u001b[43mnan\u001b[49m\n",
      "\u001b[1;31mTypeError\u001b[0m: argument of type 'float' is not iterable"
     ]
    }
   ],
   "source": [
    "np.nan in np.nan"
   ]
  },
  {
   "cell_type": "code",
   "execution_count": 17,
   "id": "24d367ea",
   "metadata": {},
   "outputs": [
    {
     "data": {
      "text/plain": [
       "array([1.05252405])"
      ]
     },
     "execution_count": 17,
     "metadata": {},
     "output_type": "execute_result"
    }
   ],
   "source": [
    "from scipy.optimize import curve_fit\n",
    "import numpy as np\n",
    "\n",
    "X = np.linspace(0, 5, 1000)\n",
    "y = 2*X**2\n",
    "\n",
    "def func(X, a):\n",
    "    return a*np.exp(np.sin(X*np.exp(a)*np.exp(X - 3 + np.cos(X**2))))\n",
    "\n",
    "\n",
    "\n",
    "params, _ = curve_fit(func, X, y, method=\"trf\")\n",
    "params"
   ]
  },
  {
   "cell_type": "code",
   "execution_count": 11,
   "id": "a8f84689",
   "metadata": {},
   "outputs": [
    {
     "name": "stdout",
     "output_type": "stream",
     "text": [
      "é\n"
     ]
    }
   ],
   "source": [
    "if type(params) is list or type(params) is np.ndarray:\n",
    "    print(\"é\")"
   ]
  },
  {
   "cell_type": "code",
   "execution_count": 53,
   "id": "6f86042e",
   "metadata": {},
   "outputs": [
    {
     "name": "stdout",
     "output_type": "stream",
     "text": [
      "(50,)\n",
      "(50,)\n",
      "(50,)\n",
      "(50,)\n",
      "(50,)\n",
      "(50,)\n",
      "(50,)\n",
      "(50,)\n",
      "(50,)\n",
      "(50,)\n",
      "(50,)\n",
      "(50,)\n",
      "(50,)\n",
      "(50,)\n",
      "(50,)\n",
      "(50,)\n",
      "(50,)\n",
      "(50,)\n",
      "(50,)\n",
      "(50,)\n",
      "(50,)\n",
      "(50,)\n",
      "(50,)\n",
      "(50,)\n",
      "(50,)\n",
      "(50,)\n",
      "(50,)\n",
      "(50,)\n",
      "(50,)\n",
      "(50,)\n",
      "(50,)\n",
      "(50,)\n",
      "(50,)\n",
      "(50,)\n",
      "(50,)\n",
      "(50,)\n",
      "(50,)\n",
      "(50,)\n",
      "(50,)\n",
      "(50,)\n",
      "(50,)\n",
      "(50,)\n",
      "(50,)\n",
      "(50,)\n",
      "(50,)\n",
      "(50,)\n",
      "(50,)\n",
      "(50,)\n",
      "(50,)\n",
      "(50,)\n",
      "(50,)\n",
      "(50,)\n",
      "(50,)\n",
      "(50,)\n",
      "(50,)\n",
      "(50,)\n",
      "(50,)\n",
      "(50,)\n",
      "(50,)\n",
      "(50,)\n",
      "(50,)\n",
      "(50,)\n",
      "(50,)\n",
      "(50,)\n",
      "(50,)\n",
      "(50,)\n",
      "(50,)\n",
      "(50,)\n",
      "(50,)\n",
      "(50,)\n",
      "(50,)\n",
      "(50,)\n",
      "(50,)\n",
      "(50,)\n",
      "(50,)\n",
      "(50,)\n",
      "(50,)\n",
      "(50,)\n",
      "(50,)\n",
      "(50,)\n",
      "(50,)\n",
      "(50,)\n",
      "(50,)\n",
      "(50,)\n",
      "(50,)\n",
      "(50,)\n",
      "(50,)\n",
      "(50,)\n",
      "(50,)\n",
      "(50,)\n",
      "(50,)\n",
      "(50,)\n",
      "(50,)\n",
      "(50,)\n",
      "(50,)\n",
      "(50,)\n",
      "(50,)\n",
      "(50,)\n",
      "(50,)\n",
      "(50,)\n",
      "Best value of a: 1.9999333158554038\n",
      "Best value of b: 1.0002008680045702\n",
      "Minimum MSE: 8.894215436743857e-09\n"
     ]
    }
   ],
   "source": [
    "import numpy as np\n",
    "import pyswarms as ps\n",
    "\n",
    "# Define the objective function\n",
    "def objective_function(params, X, y):\n",
    "    a, b = params[0], params[1]\n",
    "    predictions = a * X + b\n",
    "    mse = np.mean((y - predictions)**2)\n",
    "    return mse\n",
    "\n",
    "# Sample data\n",
    "X = np.array([1, 2, 3, 4, 5])\n",
    "y = np.array([3, 5, 7, 9, 11])\n",
    "\n",
    "# PSO requires the objective function to return an array-like output\n",
    "def wrapped_objective_function(params):\n",
    "    arr = np.array([objective_function(p, X, y) for p in params])\n",
    "    # print(arr.shape)\n",
    "    return arr\n",
    "\n",
    "# Set bounds for the parameters 'a' and 'b'\n",
    "bounds = ([-10, -10], [10, 10])\n",
    "\n",
    "# Initialize the optimizer\n",
    "optimizer = ps.single.GlobalBestPSO(n_particles=50, dimensions=2, options={'c1': 0.5, 'c2': 0.3, 'w': 0.9}, bounds=bounds)\n",
    "\n",
    "# Optimize\n",
    "cost, best_params = optimizer.optimize(wrapped_objective_function, iters=100, verbose=False)\n",
    "\n",
    "# Output the results\n",
    "best_a, best_b = best_params\n",
    "print(f\"Best value of a: {best_a}\")\n",
    "print(f\"Best value of b: {best_b}\")\n",
    "print(f\"Minimum MSE: {cost}\")\n"
   ]
  },
  {
   "cell_type": "code",
   "execution_count": 48,
   "id": "67b3066d",
   "metadata": {},
   "outputs": [
    {
     "ename": "ValueError",
     "evalue": "operands could not be broadcast together with shapes (2,) (5,) ",
     "output_type": "error",
     "traceback": [
      "\u001b[1;31m---------------------------------------------------------------------------\u001b[0m",
      "\u001b[1;31mValueError\u001b[0m                                Traceback (most recent call last)",
      "Cell \u001b[1;32mIn[48], line 22\u001b[0m\n\u001b[0;32m     19\u001b[0m optimizer \u001b[38;5;241m=\u001b[39m ps\u001b[38;5;241m.\u001b[39msingle\u001b[38;5;241m.\u001b[39mGlobalBestPSO(n_particles\u001b[38;5;241m=\u001b[39m\u001b[38;5;241m50\u001b[39m, dimensions\u001b[38;5;241m=\u001b[39m\u001b[38;5;241m2\u001b[39m, options\u001b[38;5;241m=\u001b[39m{\u001b[38;5;124m'\u001b[39m\u001b[38;5;124mc1\u001b[39m\u001b[38;5;124m'\u001b[39m: \u001b[38;5;241m0.5\u001b[39m, \u001b[38;5;124m'\u001b[39m\u001b[38;5;124mc2\u001b[39m\u001b[38;5;124m'\u001b[39m: \u001b[38;5;241m0.3\u001b[39m, \u001b[38;5;124m'\u001b[39m\u001b[38;5;124mw\u001b[39m\u001b[38;5;124m'\u001b[39m: \u001b[38;5;241m0.9\u001b[39m})\n\u001b[0;32m     21\u001b[0m \u001b[38;5;66;03m# Optimize\u001b[39;00m\n\u001b[1;32m---> 22\u001b[0m cost, best_a \u001b[38;5;241m=\u001b[39m \u001b[43moptimizer\u001b[49m\u001b[38;5;241;43m.\u001b[39;49m\u001b[43moptimize\u001b[49m\u001b[43m(\u001b[49m\u001b[43mobjective_function\u001b[49m\u001b[43m,\u001b[49m\u001b[43m \u001b[49m\u001b[43miters\u001b[49m\u001b[38;5;241;43m=\u001b[39;49m\u001b[38;5;241;43m100\u001b[39;49m\u001b[43m,\u001b[49m\u001b[43m \u001b[49m\u001b[43mX\u001b[49m\u001b[38;5;241;43m=\u001b[39;49m\u001b[43mX\u001b[49m\u001b[43m,\u001b[49m\u001b[43m \u001b[49m\u001b[43my\u001b[49m\u001b[38;5;241;43m=\u001b[39;49m\u001b[43my\u001b[49m\u001b[43m,\u001b[49m\u001b[43m \u001b[49m\u001b[43mverbose\u001b[49m\u001b[38;5;241;43m=\u001b[39;49m\u001b[38;5;28;43;01mFalse\u001b[39;49;00m\u001b[43m)\u001b[49m\n\u001b[0;32m     24\u001b[0m \u001b[38;5;66;03m# Output the results\u001b[39;00m\n\u001b[0;32m     25\u001b[0m \u001b[38;5;28mprint\u001b[39m(\u001b[38;5;124mf\u001b[39m\u001b[38;5;124m\"\u001b[39m\u001b[38;5;124mBest value of params: \u001b[39m\u001b[38;5;132;01m{\u001b[39;00mbest_a\u001b[38;5;132;01m}\u001b[39;00m\u001b[38;5;124m\"\u001b[39m)\n",
      "File \u001b[1;32md:\\Documents\\Coding\\Repositorios\\MyRepositories\\Symbolic-Regression\\CSOWP_SR\\.venv\\lib\\site-packages\\pyswarms\\single\\global_best.py:209\u001b[0m, in \u001b[0;36mGlobalBestPSO.optimize\u001b[1;34m(self, objective_func, iters, n_processes, verbose, **kwargs)\u001b[0m\n\u001b[0;32m    205\u001b[0m ftol_history \u001b[38;5;241m=\u001b[39m deque(maxlen\u001b[38;5;241m=\u001b[39m\u001b[38;5;28mself\u001b[39m\u001b[38;5;241m.\u001b[39mftol_iter)\n\u001b[0;32m    206\u001b[0m \u001b[38;5;28;01mfor\u001b[39;00m i \u001b[38;5;129;01min\u001b[39;00m \u001b[38;5;28mself\u001b[39m\u001b[38;5;241m.\u001b[39mrep\u001b[38;5;241m.\u001b[39mpbar(iters, \u001b[38;5;28mself\u001b[39m\u001b[38;5;241m.\u001b[39mname) \u001b[38;5;28;01mif\u001b[39;00m verbose \u001b[38;5;28;01melse\u001b[39;00m \u001b[38;5;28mrange\u001b[39m(iters):\n\u001b[0;32m    207\u001b[0m     \u001b[38;5;66;03m# Compute cost for current position and personal best\u001b[39;00m\n\u001b[0;32m    208\u001b[0m     \u001b[38;5;66;03m# fmt: off\u001b[39;00m\n\u001b[1;32m--> 209\u001b[0m     \u001b[38;5;28mself\u001b[39m\u001b[38;5;241m.\u001b[39mswarm\u001b[38;5;241m.\u001b[39mcurrent_cost \u001b[38;5;241m=\u001b[39m compute_objective_function(\u001b[38;5;28mself\u001b[39m\u001b[38;5;241m.\u001b[39mswarm, objective_func, pool\u001b[38;5;241m=\u001b[39mpool, \u001b[38;5;241m*\u001b[39m\u001b[38;5;241m*\u001b[39mkwargs)\n\u001b[0;32m    210\u001b[0m     \u001b[38;5;28mself\u001b[39m\u001b[38;5;241m.\u001b[39mswarm\u001b[38;5;241m.\u001b[39mpbest_pos, \u001b[38;5;28mself\u001b[39m\u001b[38;5;241m.\u001b[39mswarm\u001b[38;5;241m.\u001b[39mpbest_cost \u001b[38;5;241m=\u001b[39m compute_pbest(\u001b[38;5;28mself\u001b[39m\u001b[38;5;241m.\u001b[39mswarm)\n\u001b[0;32m    211\u001b[0m     \u001b[38;5;66;03m# Set best_cost_yet_found for ftol\u001b[39;00m\n",
      "File \u001b[1;32md:\\Documents\\Coding\\Repositorios\\MyRepositories\\Symbolic-Regression\\CSOWP_SR\\.venv\\lib\\site-packages\\pyswarms\\backend\\operators.py:239\u001b[0m, in \u001b[0;36mcompute_objective_function\u001b[1;34m(swarm, objective_func, pool, **kwargs)\u001b[0m\n\u001b[0;32m    214\u001b[0m \u001b[38;5;250m\u001b[39m\u001b[38;5;124;03m\"\"\"Evaluate particles using the objective function\u001b[39;00m\n\u001b[0;32m    215\u001b[0m \n\u001b[0;32m    216\u001b[0m \u001b[38;5;124;03mThis method evaluates each particle in the swarm according to the objective\u001b[39;00m\n\u001b[1;32m   (...)\u001b[0m\n\u001b[0;32m    236\u001b[0m \u001b[38;5;124;03m    Cost-matrix for the given swarm\u001b[39;00m\n\u001b[0;32m    237\u001b[0m \u001b[38;5;124;03m\"\"\"\u001b[39;00m\n\u001b[0;32m    238\u001b[0m \u001b[38;5;28;01mif\u001b[39;00m pool \u001b[38;5;129;01mis\u001b[39;00m \u001b[38;5;28;01mNone\u001b[39;00m:\n\u001b[1;32m--> 239\u001b[0m     \u001b[38;5;28;01mreturn\u001b[39;00m objective_func(swarm\u001b[38;5;241m.\u001b[39mposition, \u001b[38;5;241m*\u001b[39m\u001b[38;5;241m*\u001b[39mkwargs)\n\u001b[0;32m    240\u001b[0m \u001b[38;5;28;01melse\u001b[39;00m:\n\u001b[0;32m    241\u001b[0m     results \u001b[38;5;241m=\u001b[39m pool\u001b[38;5;241m.\u001b[39mmap(\n\u001b[0;32m    242\u001b[0m         partial(objective_func, \u001b[38;5;241m*\u001b[39m\u001b[38;5;241m*\u001b[39mkwargs),\n\u001b[0;32m    243\u001b[0m         np\u001b[38;5;241m.\u001b[39marray_split(swarm\u001b[38;5;241m.\u001b[39mposition, pool\u001b[38;5;241m.\u001b[39m_processes),\n\u001b[0;32m    244\u001b[0m     )\n",
      "Cell \u001b[1;32mIn[48], line 7\u001b[0m, in \u001b[0;36mobjective_function\u001b[1;34m(params, X, y)\u001b[0m\n\u001b[0;32m      5\u001b[0m \u001b[38;5;28;01mdef\u001b[39;00m \u001b[38;5;21mobjective_function\u001b[39m(params, X, y):\n\u001b[0;32m      6\u001b[0m     a, b \u001b[38;5;241m=\u001b[39m params[\u001b[38;5;241m0\u001b[39m], params[\u001b[38;5;241m1\u001b[39m]\n\u001b[1;32m----> 7\u001b[0m     predictions \u001b[38;5;241m=\u001b[39m \u001b[43ma\u001b[49m\u001b[43m \u001b[49m\u001b[38;5;241;43m*\u001b[39;49m\u001b[43m \u001b[49m\u001b[43mX\u001b[49m \u001b[38;5;241m+\u001b[39m b\n\u001b[0;32m      8\u001b[0m     mse \u001b[38;5;241m=\u001b[39m np\u001b[38;5;241m.\u001b[39mmean((y \u001b[38;5;241m-\u001b[39m predictions)\u001b[38;5;241m*\u001b[39m\u001b[38;5;241m*\u001b[39m\u001b[38;5;241m2\u001b[39m)\n\u001b[0;32m      9\u001b[0m     \u001b[38;5;28;01mreturn\u001b[39;00m mse\n",
      "\u001b[1;31mValueError\u001b[0m: operands could not be broadcast together with shapes (2,) (5,) "
     ]
    }
   ],
   "source": [
    "import numpy as np\n",
    "import pyswarms as ps\n",
    "\n",
    "# Define the objective function\n",
    "def objective_function(params, X, y):\n",
    "    a, b = params[0], params[1]\n",
    "    predictions = a * X + b\n",
    "    mse = np.mean((y - predictions)**2)\n",
    "    return mse\n",
    "\n",
    "# Sample data\n",
    "X = np.array([1, 2, 3, 4, 5])\n",
    "y = np.array([2, 4, 6, 8, 10])\n",
    "\n",
    "# Set bounds for the parameter 'a'\n",
    "bounds = ([-10], [10])\n",
    "\n",
    "# Initialize the optimizer\n",
    "optimizer = ps.single.GlobalBestPSO(n_particles=50, dimensions=2, options={'c1': 0.5, 'c2': 0.3, 'w': 0.9})\n",
    "\n",
    "# Optimize\n",
    "cost, best_a = optimizer.optimize(objective_function, iters=100, X=X, y=y, verbose=False)\n",
    "\n",
    "# Output the results\n",
    "print(f\"Best value of params: {best_a}\")\n",
    "print(f\"Minimum MSE: {cost}\")\n"
   ]
  },
  {
   "cell_type": "code",
   "execution_count": 64,
   "id": "8093e108",
   "metadata": {},
   "outputs": [
    {
     "data": {
      "text/plain": [
       "((1000,), (1000,))"
      ]
     },
     "execution_count": 64,
     "metadata": {},
     "output_type": "execute_result"
    }
   ],
   "source": [
    "import numpy as np\n",
    "import pyswarms\n",
    "\n",
    "X = np.linspace(-5, 5, 1000)\n",
    "y = 2*X\n",
    "\n",
    "X.shape, y.shape"
   ]
  },
  {
   "cell_type": "code",
   "execution_count": 65,
   "id": "a62ca744",
   "metadata": {},
   "outputs": [
    {
     "name": "stdout",
     "output_type": "stream",
     "text": [
      "func(X, params[0], params[1])\n"
     ]
    },
    {
     "data": {
      "text/plain": [
       "array([2.0000000e+00, 1.0560264e-08])"
      ]
     },
     "execution_count": 65,
     "metadata": {},
     "output_type": "execute_result"
    }
   ],
   "source": [
    "\n",
    "\n",
    "options = {'c1': 0.5, 'c2': 0.3, 'w':0.9}\n",
    "n_particles = 30\n",
    "iterations = 300\n",
    "\n",
    "def funcs(X, a, b):\n",
    "    return a*X + b\n",
    "\n",
    "n_params = 2\n",
    "if n_params <= 0:\n",
    "    print(\"nada para otimizar\")\n",
    "\n",
    "\n",
    "# Creating a string that later will be converted to a function call\n",
    "fcall_string = \"func(X\"\n",
    "\n",
    "for i in range(n_params):\n",
    "    fcall_string += f\", params[{i}]\"\n",
    "fcall_string += f\")\"\n",
    "\n",
    "print(fcall_string)\n",
    "\n",
    "def cost_function(params, X, y):\n",
    "    func = funcs\n",
    "    \n",
    "    y_pred = eval(fcall_string)\n",
    "    return np.mean((y - y_pred)**2, axis=0)            \n",
    "\n",
    "def wrapped_objective_function(params):\n",
    "    arr = np.array([cost_function(p, X, y) for p in params])\n",
    "    # print(arr.shape)\n",
    "    return arr\n",
    "\n",
    "# Call instance of PSO\n",
    "optimizer = pyswarms.single.GlobalBestPSO(n_particles=n_particles, dimensions=n_params, options=options)\n",
    "\n",
    "\n",
    "# Perform optimization\n",
    "_, pos = optimizer.optimize(wrapped_objective_function, iters=iterations, verbose=False)  \n",
    "\n",
    "\n",
    "pos"
   ]
  },
  {
   "cell_type": "code",
   "execution_count": 11,
   "id": "0d3f7d27",
   "metadata": {},
   "outputs": [
    {
     "ename": "TypeError",
     "evalue": "argument of type 'numpy.bool' is not iterable",
     "output_type": "error",
     "traceback": [
      "\u001b[1;31m---------------------------------------------------------------------------\u001b[0m",
      "\u001b[1;31mTypeError\u001b[0m                                 Traceback (most recent call last)",
      "Cell \u001b[1;32mIn[11], line 9\u001b[0m\n\u001b[0;32m      7\u001b[0m valid_indices \u001b[38;5;241m=\u001b[39m \u001b[38;5;241m~\u001b[39mnp\u001b[38;5;241m.\u001b[39misnan(\u001b[38;5;241m1\u001b[39m) \u001b[38;5;241m&\u001b[39m np\u001b[38;5;241m.\u001b[39misfinite(\u001b[38;5;241m1\u001b[39m)\n\u001b[0;32m      8\u001b[0m \u001b[38;5;66;03m# print(valid_indices)\u001b[39;00m\n\u001b[1;32m----> 9\u001b[0m \u001b[38;5;28mprint\u001b[39m(\u001b[38;5;28;43;01mFalse\u001b[39;49;00m\u001b[43m \u001b[49m\u001b[38;5;129;43;01min\u001b[39;49;00m\u001b[43m \u001b[49m\u001b[43mvalid_indices\u001b[49m)\n\u001b[0;32m     11\u001b[0m \u001b[38;5;66;03m# X[:, valid_indices.all(axis=0)]\u001b[39;00m\n\u001b[0;32m     13\u001b[0m \u001b[38;5;28;01mif\u001b[39;00m \u001b[38;5;28;01mFalse\u001b[39;00m \u001b[38;5;129;01min\u001b[39;00m valid_indices:\n",
      "\u001b[1;31mTypeError\u001b[0m: argument of type 'numpy.bool' is not iterable"
     ]
    }
   ],
   "source": [
    "import numpy as np\n",
    "\n",
    "X = np.c_[[np.linspace(1, 2, 100)]]\n",
    "# X[0, 10: 50] = np.nan\n",
    "# X[0, 50: 99] = np.inf\n",
    "\n",
    "valid_indices = ~np.isnan(1) & np.isfinite(1)\n",
    "# print(valid_indices)\n",
    "print(False in valid_indices)\n",
    "\n",
    "# X[:, valid_indices.all(axis=0)]\n",
    "\n",
    "if False in valid_indices:\n",
    "    print(\"oi\")\n",
    "print(type(valid_indices))"
   ]
  },
  {
   "cell_type": "code",
   "execution_count": 7,
   "id": "cbc3d795",
   "metadata": {},
   "outputs": [
    {
     "data": {
      "text/plain": [
       "array([0.4936762 , 8.11092724])"
      ]
     },
     "execution_count": 7,
     "metadata": {},
     "output_type": "execute_result"
    }
   ],
   "source": [
    "from scipy.optimize import dual_annealing, differential_evolution\n",
    "import numpy as np\n",
    "\n",
    "X = np.linspace(0, 2)\n",
    "y = 2*X\n",
    "\n",
    "def exp(a):\n",
    "    return np.exp(a)\n",
    "\n",
    "def func(x, a, b):\n",
    "    return ((a+(x*(exp(exp(-(exp(-x)*exp(-x))))+exp((exp(-x)+(x+((x*x)-b)))))))-x)\n",
    "\n",
    "def cost_function(params):\n",
    "    y_pred = func(X, *params)\n",
    "    return np.mean((y - y_pred)**2)\n",
    "\n",
    "n_params = 2\n",
    "bounds = [(-5, 15) for _ in range(n_params)]\n",
    "\n",
    "result = dual_annealing(cost_function, bounds)\n",
    "params = result.x\n",
    "params"
   ]
  },
  {
   "cell_type": "code",
   "execution_count": 38,
   "id": "afa5f635",
   "metadata": {},
   "outputs": [
    {
     "name": "stderr",
     "output_type": "stream",
     "text": [
      "C:\\Users\\lreis\\AppData\\Local\\Temp\\ipykernel_7640\\1882324088.py:21: OptimizeWarning: Covariance of the parameters could not be estimated\n",
      "  params, _ = curve_fit(func, X, y, maxfev=100000)\n"
     ]
    },
    {
     "data": {
      "text/plain": [
       "array([   5.80959252,  427.55265025,   -1.10056594, -427.02265419])"
      ]
     },
     "execution_count": 38,
     "metadata": {},
     "output_type": "execute_result"
    }
   ],
   "source": [
    "from scipy.optimize import dual_annealing, differential_evolution, curve_fit\n",
    "import numpy as np\n",
    "\n",
    "X = np.linspace(0.1, 10)\n",
    "y = 3+2.13*np.log(X)\n",
    "\n",
    "# valid_indices = ~np.isnan(y) & np.isfinite(y)\n",
    "# y = y[valid_indices]\n",
    "# X = X[:, valid_indices.all(axis=0)]\n",
    "\n",
    "def func(X, a, b, c, d):\n",
    "    return a*np.exp(-b*np.exp(-c*X + d))\n",
    "\n",
    "def cost_function(params):\n",
    "    y_pred = func(X, *params)\n",
    "    return np.mean((y - y_pred)**2)\n",
    "\n",
    "n_params = 1\n",
    "bounds = [(-500, -2) for _ in range(n_params)]\n",
    "\n",
    "params, _ = curve_fit(func, X, y, maxfev=100000)\n",
    "params"
   ]
  },
  {
   "cell_type": "code",
   "execution_count": 16,
   "id": "16708db0",
   "metadata": {},
   "outputs": [
    {
     "name": "stdout",
     "output_type": "stream",
     "text": [
      "params: [inf nan]\n"
     ]
    },
    {
     "name": "stderr",
     "output_type": "stream",
     "text": [
      "C:\\Users\\lreis\\AppData\\Local\\Temp\\ipykernel_20644\\2607377293.py:13: OptimizeWarning: Covariance of the parameters could not be estimated\n",
      "  params, _ = curve_fit(model_func, X, y, p0=p0)\n"
     ]
    }
   ],
   "source": [
    "from scipy.optimize import curve_fit\n",
    "import numpy as np\n",
    "\n",
    "def model_func(x, a, b):\n",
    "    return a * np.exp(b * x)\n",
    "\n",
    "# Generate some data\n",
    "X = np.linspace(0, 4, 50)\n",
    "y = model_func(X, 2, -1) + 0.5 * np.random.normal(size=X.size)\n",
    "\n",
    "# Pass an invalid initial guess that causes overflow or NaN\n",
    "p0 = [np.inf, np.nan]\n",
    "params, _ = curve_fit(model_func, X, y, p0=p0)\n",
    "print(\"params:\", params)  # May return NaN\n"
   ]
  },
  {
   "cell_type": "code",
   "execution_count": 17,
   "id": "6048a9cc",
   "metadata": {},
   "outputs": [
    {
     "ename": "ValueError",
     "evalue": "array must not contain infs or NaNs",
     "output_type": "error",
     "traceback": [
      "\u001b[1;31m---------------------------------------------------------------------------\u001b[0m",
      "\u001b[1;31mValueError\u001b[0m                                Traceback (most recent call last)",
      "Cell \u001b[1;32mIn[17], line 7\u001b[0m\n\u001b[0;32m      4\u001b[0m \u001b[38;5;28;01mdef\u001b[39;00m \u001b[38;5;21mquadratic\u001b[39m(x, a, b, c):\n\u001b[0;32m      5\u001b[0m     \u001b[38;5;28;01mreturn\u001b[39;00m a \u001b[38;5;241m*\u001b[39m x\u001b[38;5;241m*\u001b[39m\u001b[38;5;241m*\u001b[39m\u001b[38;5;241m2\u001b[39m \u001b[38;5;241m+\u001b[39m b \u001b[38;5;241m*\u001b[39m x \u001b[38;5;241m+\u001b[39m c\n\u001b[1;32m----> 7\u001b[0m params, _ \u001b[38;5;241m=\u001b[39m \u001b[43mcurve_fit\u001b[49m\u001b[43m(\u001b[49m\u001b[43mquadratic\u001b[49m\u001b[43m,\u001b[49m\u001b[43m \u001b[49m\u001b[43mX_filtered\u001b[49m\u001b[43m,\u001b[49m\u001b[43m \u001b[49m\u001b[43my_filtered\u001b[49m\u001b[43m)\u001b[49m\n\u001b[0;32m      8\u001b[0m \u001b[38;5;28mprint\u001b[39m(params)  \u001b[38;5;66;03m# May return NaN\u001b[39;00m\n",
      "File \u001b[1;32md:\\Documents\\Coding\\Repositorios\\MyRepositories\\Symbolic-Regression\\CSOWP_SR\\.venv\\lib\\site-packages\\scipy\\optimize\\_minpack_py.py:932\u001b[0m, in \u001b[0;36mcurve_fit\u001b[1;34m(f, xdata, ydata, p0, sigma, absolute_sigma, check_finite, bounds, method, jac, full_output, nan_policy, **kwargs)\u001b[0m\n\u001b[0;32m    930\u001b[0m \u001b[38;5;66;03m# optimization may produce garbage for float32 inputs, cast them to float64\u001b[39;00m\n\u001b[0;32m    931\u001b[0m \u001b[38;5;28;01mif\u001b[39;00m check_finite:\n\u001b[1;32m--> 932\u001b[0m     ydata \u001b[38;5;241m=\u001b[39m \u001b[43mnp\u001b[49m\u001b[38;5;241;43m.\u001b[39;49m\u001b[43masarray_chkfinite\u001b[49m\u001b[43m(\u001b[49m\u001b[43mydata\u001b[49m\u001b[43m,\u001b[49m\u001b[43m \u001b[49m\u001b[38;5;28;43mfloat\u001b[39;49m\u001b[43m)\u001b[49m\n\u001b[0;32m    933\u001b[0m \u001b[38;5;28;01melse\u001b[39;00m:\n\u001b[0;32m    934\u001b[0m     ydata \u001b[38;5;241m=\u001b[39m np\u001b[38;5;241m.\u001b[39masarray(ydata, \u001b[38;5;28mfloat\u001b[39m)\n",
      "File \u001b[1;32md:\\Documents\\Coding\\Repositorios\\MyRepositories\\Symbolic-Regression\\CSOWP_SR\\.venv\\lib\\site-packages\\numpy\\lib\\_function_base_impl.py:649\u001b[0m, in \u001b[0;36masarray_chkfinite\u001b[1;34m(a, dtype, order)\u001b[0m\n\u001b[0;32m    647\u001b[0m a \u001b[38;5;241m=\u001b[39m asarray(a, dtype\u001b[38;5;241m=\u001b[39mdtype, order\u001b[38;5;241m=\u001b[39morder)\n\u001b[0;32m    648\u001b[0m \u001b[38;5;28;01mif\u001b[39;00m a\u001b[38;5;241m.\u001b[39mdtype\u001b[38;5;241m.\u001b[39mchar \u001b[38;5;129;01min\u001b[39;00m typecodes[\u001b[38;5;124m'\u001b[39m\u001b[38;5;124mAllFloat\u001b[39m\u001b[38;5;124m'\u001b[39m] \u001b[38;5;129;01mand\u001b[39;00m \u001b[38;5;129;01mnot\u001b[39;00m np\u001b[38;5;241m.\u001b[39misfinite(a)\u001b[38;5;241m.\u001b[39mall():\n\u001b[1;32m--> 649\u001b[0m     \u001b[38;5;28;01mraise\u001b[39;00m \u001b[38;5;167;01mValueError\u001b[39;00m(\n\u001b[0;32m    650\u001b[0m         \u001b[38;5;124m\"\u001b[39m\u001b[38;5;124marray must not contain infs or NaNs\u001b[39m\u001b[38;5;124m\"\u001b[39m)\n\u001b[0;32m    651\u001b[0m \u001b[38;5;28;01mreturn\u001b[39;00m a\n",
      "\u001b[1;31mValueError\u001b[0m: array must not contain infs or NaNs"
     ]
    }
   ],
   "source": [
    "X_filtered = np.array([1, 2, 3, 4, 5])\n",
    "y_filtered = np.array([1, 4, np.nan, 16, 25])  # y_filtered contains NaN\n",
    "\n",
    "def quadratic(x, a, b, c):\n",
    "    return a * x**2 + b * x + c\n",
    "\n",
    "params, _ = curve_fit(quadratic, X_filtered, y_filtered)\n",
    "print(params)  # May return NaN\n"
   ]
  },
  {
   "cell_type": "code",
   "execution_count": 22,
   "id": "d4e3441b",
   "metadata": {},
   "outputs": [
    {
     "name": "stdout",
     "output_type": "stream",
     "text": [
      "[-2.17803553e-12 -2.21822560e-12  1.00000000e+00 -2.53863597e-12\n",
      " -1.92596921e-12]\n"
     ]
    },
    {
     "name": "stderr",
     "output_type": "stream",
     "text": [
      "C:\\Users\\lreis\\AppData\\Local\\Temp\\ipykernel_20644\\2286885891.py:8: OptimizeWarning: Covariance of the parameters could not be estimated\n",
      "  params, _ = curve_fit(overly_complex_model, X_filtered, y_filtered)\n"
     ]
    }
   ],
   "source": [
    "def overly_complex_model(x, a, b, c, d, e):\n",
    "    return a * x**4 + b * x**3 + c * x**2 + d * x + e\n",
    "\n",
    "# Sparse data that might not fit the complex model well\n",
    "X_filtered = np.array([1, 2, 3, 4, 5])\n",
    "y_filtered = np.array([1, 4, 9, 16, 25])\n",
    "\n",
    "params, _ = curve_fit(overly_complex_model, X_filtered, y_filtered)\n",
    "print(params)  # May return NaN\n"
   ]
  },
  {
   "cell_type": "code",
   "execution_count": 24,
   "id": "25a2ab02",
   "metadata": {},
   "outputs": [
    {
     "name": "stdout",
     "output_type": "stream",
     "text": [
      "[ 2.00000000e+00 -2.18060186e-12]\n"
     ]
    }
   ],
   "source": [
    "def linear_func(x, a, b):\n",
    "    return a * x + b\n",
    "\n",
    "# Data with little variation, leading to a singular Jacobian\n",
    "X_filtered = np.array([1, 2, 3])\n",
    "y_filtered = np.array([2, 4, 6])\n",
    "\n",
    "params, _ = curve_fit(linear_func, X_filtered, y_filtered)\n",
    "print(params)  # May return NaN\n"
   ]
  },
  {
   "cell_type": "code",
   "execution_count": 18,
   "id": "0a3e78be",
   "metadata": {},
   "outputs": [
    {
     "data": {
      "image/svg+xml": [
       "<?xml version=\"1.0\" encoding=\"UTF-8\" standalone=\"no\"?>\n",
       "<!DOCTYPE svg PUBLIC \"-//W3C//DTD SVG 1.1//EN\"\n",
       " \"http://www.w3.org/Graphics/SVG/1.1/DTD/svg11.dtd\">\n",
       "<!-- Generated by graphviz version 10.0.1 (20240210.2158)\n",
       " -->\n",
       "<!-- Pages: 1 -->\n",
       "<svg width=\"70pt\" height=\"188pt\"\n",
       " viewBox=\"0.00 0.00 70.21 188.00\" xmlns=\"http://www.w3.org/2000/svg\" xmlns:xlink=\"http://www.w3.org/1999/xlink\">\n",
       "<g id=\"graph0\" class=\"graph\" transform=\"scale(1 1) rotate(0) translate(4 184)\">\n",
       "<polygon fill=\"white\" stroke=\"none\" points=\"-4,4 -4,-184 66.21,-184 66.21,4 -4,4\"/>\n",
       "<!-- 0 -->\n",
       "<g id=\"node1\" class=\"node\">\n",
       "<title>0</title>\n",
       "<ellipse fill=\"none\" stroke=\"black\" cx=\"31.1\" cy=\"-162\" rx=\"27\" ry=\"18\"/>\n",
       "<text text-anchor=\"middle\" x=\"31.1\" y=\"-156.57\" font-family=\"Times New Roman,serif\" font-size=\"14.00\">log</text>\n",
       "</g>\n",
       "<!-- 1 -->\n",
       "<g id=\"node2\" class=\"node\">\n",
       "<title>1</title>\n",
       "<ellipse fill=\"none\" stroke=\"black\" cx=\"31.1\" cy=\"-90\" rx=\"27\" ry=\"18\"/>\n",
       "<text text-anchor=\"middle\" x=\"31.1\" y=\"-84.58\" font-family=\"Times New Roman,serif\" font-size=\"14.00\">log</text>\n",
       "</g>\n",
       "<!-- 0&#45;&gt;1 -->\n",
       "<g id=\"edge1\" class=\"edge\">\n",
       "<title>0&#45;&gt;1</title>\n",
       "<path fill=\"none\" stroke=\"black\" d=\"M31.1,-143.7C31.1,-136.41 31.1,-127.73 31.1,-119.54\"/>\n",
       "<polygon fill=\"black\" stroke=\"black\" points=\"34.6,-119.62 31.1,-109.62 27.6,-119.62 34.6,-119.62\"/>\n",
       "</g>\n",
       "<!-- 2 -->\n",
       "<g id=\"node3\" class=\"node\">\n",
       "<title>2</title>\n",
       "<ellipse fill=\"none\" stroke=\"black\" cx=\"31.1\" cy=\"-18\" rx=\"31.1\" ry=\"18\"/>\n",
       "<text text-anchor=\"middle\" x=\"31.1\" y=\"-12.57\" font-family=\"Times New Roman,serif\" font-size=\"14.00\">0.998</text>\n",
       "</g>\n",
       "<!-- 1&#45;&gt;2 -->\n",
       "<g id=\"edge2\" class=\"edge\">\n",
       "<title>1&#45;&gt;2</title>\n",
       "<path fill=\"none\" stroke=\"black\" d=\"M31.1,-71.7C31.1,-64.41 31.1,-55.73 31.1,-47.54\"/>\n",
       "<polygon fill=\"black\" stroke=\"black\" points=\"34.6,-47.62 31.1,-37.62 27.6,-47.62 34.6,-47.62\"/>\n",
       "</g>\n",
       "</g>\n",
       "</svg>\n"
      ],
      "text/plain": [
       "<graphviz.graphs.Digraph at 0x2a6e361e230>"
      ]
     },
     "metadata": {},
     "output_type": "display_data"
    },
    {
     "name": "stdout",
     "output_type": "stream",
     "text": [
      "['log', 'log', '0.998']\n"
     ]
    },
    {
     "name": "stderr",
     "output_type": "stream",
     "text": [
      "<string>:1: RuntimeWarning: invalid value encountered in log\n"
     ]
    },
    {
     "data": {
      "text/plain": [
       "np.float64(nan)"
      ]
     },
     "execution_count": 18,
     "metadata": {},
     "output_type": "execute_result"
    }
   ],
   "source": [
    "from CSOWP_SR import *\n",
    "from ExpressionTree import *\n",
    "import os\n",
    "os.environ[\"PATH\"] += os.pathsep + 'D:/Program Files (x86)/Graphviz-10.0.1-win64/bin/'\n",
    "\n",
    "tree = ExpressionTree()\n",
    "p = tree.add_root(\"log\")\n",
    "p1 = tree.add_left(p, \"log\")\n",
    "tree.add_left(p1, \"0.998\")\n",
    "\n",
    "display(tree.visualize_tree())\n",
    "tree_list = [element.element() for element in tree.preorder()]\n",
    "print(tree_list)\n",
    "\n",
    "SR = SymbolicRegression(3)\n",
    "X = np.linspace(-5, 5, 1000)\n",
    "y = X\n",
    "SR.fit(np.c_[X], y, feature_names=[\"x\"])\n",
    "func = SR.toFunc(tree)\n",
    "func\n",
    "\n",
    "\n",
    "output = SR.evaluate_tree(tree)\n",
    "output"
   ]
  },
  {
   "cell_type": "code",
   "execution_count": 33,
   "id": "44a40b02",
   "metadata": {},
   "outputs": [
    {
     "data": {
      "text/plain": [
       "[np.float64(nan), np.float64(nan)]"
      ]
     },
     "execution_count": 33,
     "metadata": {},
     "output_type": "execute_result"
    }
   ],
   "source": [
    "outputs = [output, output]\n",
    "outputs"
   ]
  },
  {
   "cell_type": "code",
   "execution_count": 35,
   "id": "fe398d33",
   "metadata": {},
   "outputs": [
    {
     "data": {
      "text/plain": [
       "array([False, False])"
      ]
     },
     "execution_count": 35,
     "metadata": {},
     "output_type": "execute_result"
    }
   ],
   "source": [
    "~np.isnan(outputs) & np.isfinite(outputs)"
   ]
  },
  {
   "cell_type": "code",
   "execution_count": 36,
   "id": "695fa105",
   "metadata": {},
   "outputs": [
    {
     "data": {
      "text/plain": [
       "np.False_"
      ]
     },
     "execution_count": 36,
     "metadata": {},
     "output_type": "execute_result"
    }
   ],
   "source": [
    "np.isfinite(output)"
   ]
  },
  {
   "cell_type": "code",
   "execution_count": 34,
   "id": "beca7433",
   "metadata": {},
   "outputs": [
    {
     "data": {
      "text/plain": [
       "array([ True,  True])"
      ]
     },
     "execution_count": 34,
     "metadata": {},
     "output_type": "execute_result"
    }
   ],
   "source": [
    "np.isnan(outputs)"
   ]
  },
  {
   "cell_type": "code",
   "execution_count": 31,
   "id": "63960de2",
   "metadata": {},
   "outputs": [
    {
     "name": "stdout",
     "output_type": "stream",
     "text": [
      "a\n"
     ]
    }
   ],
   "source": [
    "if np.isnan(output):\n",
    "    print(\"a\")"
   ]
  },
  {
   "cell_type": "code",
   "execution_count": 10,
   "id": "fcd26474",
   "metadata": {},
   "outputs": [
    {
     "data": {
      "text/plain": [
       "np.True_"
      ]
     },
     "execution_count": 10,
     "metadata": {},
     "output_type": "execute_result"
    }
   ],
   "source": [
    "~np.isfinite(np.inf)"
   ]
  },
  {
   "cell_type": "code",
   "execution_count": 11,
   "id": "506bcce0",
   "metadata": {},
   "outputs": [],
   "source": [
    "import numpy as np\n",
    "X = np.linspace(0, 10, 1000)\n",
    "y = 2*X\n",
    "\n",
    "SR = SymbolicRegression(3)\n",
    "SR.fit(np.c_[X],y, feature_names=[\"x\"])"
   ]
  },
  {
   "cell_type": "code",
   "execution_count": 14,
   "id": "fee7e551",
   "metadata": {},
   "outputs": [
    {
     "ename": "NameError",
     "evalue": "name 'nan' is not defined",
     "output_type": "error",
     "traceback": [
      "\u001b[1;31m---------------------------------------------------------------------------\u001b[0m",
      "\u001b[1;31mNameError\u001b[0m                                 Traceback (most recent call last)",
      "Cell \u001b[1;32mIn[14], line 1\u001b[0m\n\u001b[1;32m----> 1\u001b[0m \u001b[43mSR\u001b[49m\u001b[38;5;241;43m.\u001b[39;49m\u001b[43mevaluate_tree\u001b[49m\u001b[43m(\u001b[49m\u001b[43mtree\u001b[49m\u001b[43m)\u001b[49m\n",
      "File \u001b[1;32md:\\Documents\\Coding\\Repositorios\\MyRepositories\\Symbolic-Regression\\CSOWP_SR\\algorithms\\CSOWP_SR.py:385\u001b[0m, in \u001b[0;36mSymbolicRegression.evaluate_tree\u001b[1;34m(self, tree)\u001b[0m\n\u001b[0;32m    383\u001b[0m func \u001b[38;5;241m=\u001b[39m \u001b[38;5;28mself\u001b[39m\u001b[38;5;241m.\u001b[39mtoFunc(tree)\n\u001b[0;32m    384\u001b[0m features \u001b[38;5;241m=\u001b[39m np\u001b[38;5;241m.\u001b[39marray(\u001b[38;5;28mlist\u001b[39m(\u001b[38;5;28mself\u001b[39m\u001b[38;5;241m.\u001b[39m_features\u001b[38;5;241m.\u001b[39mvalues()))\n\u001b[1;32m--> 385\u001b[0m \u001b[38;5;28;01mreturn\u001b[39;00m \u001b[43mfunc\u001b[49m\u001b[43m(\u001b[49m\u001b[38;5;241;43m*\u001b[39;49m\u001b[43mfeatures\u001b[49m\u001b[43m)\u001b[49m\n",
      "File \u001b[1;32m<string>:1\u001b[0m, in \u001b[0;36m<lambda>\u001b[1;34m(x)\u001b[0m\n",
      "\u001b[1;31mNameError\u001b[0m: name 'nan' is not defined"
     ]
    }
   ],
   "source": [
    "SR.evaluate_tree(tree)"
   ]
  },
  {
   "cell_type": "code",
   "execution_count": 5,
   "id": "7ad6a99c",
   "metadata": {},
   "outputs": [],
   "source": [
    "from trainSR import trainSR\n",
    "from trainAlgorithm import *\n",
    "from CSOWP_SR import *\n",
    "from ExpressionTree import *\n",
    "import numpy as np\n",
    "\n",
    "func = \"lambda x: 1.57 + 24.3*x\"\n",
    " \n",
    "# tree = ExpressionTree()\n",
    "# p = tree.add_root(\"sqrt\", \"function\")\n",
    "# tree.add_left(p, \"x\", e_type=\"feature\")\n",
    "# tree.visualize_tree()\n",
    "\n",
    "# SR = SymbolicRegression(3)\n",
    "# SR.fit(np.c_[X], y, feature_names=[\"x\"])\n",
    "# print(SR.evaluate_tree(tree))\n",
    "\n",
    "# for i in range(1000, 10000):\n",
    "    # print(f\"{i}th iteration ----------------------------\")\n",
    "TSR = trainSR(population=100, generations=3, dir_path=\"Outputs/tests/test_new_pso\", x_range=(1, 5),\n",
    "            n_points=1000, optimization_kind=\"LS\", SEED=42, overwrite=True)\n",
    "TSR.fit(file_name=[\"oi\", \"ola\"], func=[func, func])\n",
    "TSR.runParallel(max_processes=2);"
   ]
  },
  {
   "cell_type": "code",
   "execution_count": 6,
   "id": "3a954046",
   "metadata": {},
   "outputs": [
    {
     "data": {
      "text/latex": [
       "$\\displaystyle 24.755688264852023 x$"
      ],
      "text/plain": [
       "24.755688264852023*x"
      ]
     },
     "metadata": {},
     "output_type": "display_data"
    },
    {
     "data": {
      "text/latex": [
       "$\\displaystyle 24.755688736805445 x$"
      ],
      "text/plain": [
       "24.755688736805445*x"
      ]
     },
     "execution_count": 6,
     "metadata": {},
     "output_type": "execute_result"
    }
   ],
   "source": [
    "import sympy as smp\n",
    "\n",
    "display(smp.parse_expr(\"(sin(0.6158961174977085)*((x/0.32443192361742534)/sin(0.0719899074313825)))\"))\n",
    "\n",
    "smp.parse_expr(\"(((x+x)+x)/abs(0.12118426725650978))\")"
   ]
  },
  {
   "cell_type": "code",
   "execution_count": 9,
   "id": "66e65e25",
   "metadata": {},
   "outputs": [],
   "source": [
    "X = np.c_[np.linspace(1, 5, 1000)]\n",
    "X1 = np.c_[X, X]\n",
    "y = 0.001*X + 13"
   ]
  },
  {
   "cell_type": "code",
   "execution_count": 14,
   "id": "3091564b",
   "metadata": {},
   "outputs": [
    {
     "data": {
      "text/plain": [
       " message: ['Maximum number of iteration reached']\n",
       " success: True\n",
       "  status: 0\n",
       "     fun: 7.0102934202570184e+16\n",
       "       x: [-1.000e+01  1.000e+01]\n",
       "     nit: 1000\n",
       "    nfev: 4025\n",
       "    njev: 8\n",
       "    nhev: 0"
      ]
     },
     "execution_count": 14,
     "metadata": {},
     "output_type": "execute_result"
    }
   ],
   "source": [
    "def func(x, c0, c1):\n",
    "    return ((c0+(x*(np.exp(np.exp(-(np.exp(-x)*np.exp(-x))))+np.exp((np.exp(-x)+(x+((x*x)-c1)))))))-x)\n",
    "\n",
    "def cost_function(params):\n",
    "    y_pred = func(X, *params)\n",
    "    return np.mean((y - y_pred)**2)\n",
    "            \n",
    "bounds = [(-10, 10) for _ in range(2)]\n",
    "\n",
    "params = dual_annealing(cost_function, bounds)\n",
    "params"
   ]
  },
  {
   "cell_type": "code",
   "execution_count": 30,
   "id": "9ab83c1e",
   "metadata": {},
   "outputs": [
    {
     "data": {
      "image/svg+xml": [
       "<?xml version=\"1.0\" encoding=\"UTF-8\" standalone=\"no\"?>\n",
       "<!DOCTYPE svg PUBLIC \"-//W3C//DTD SVG 1.1//EN\"\n",
       " \"http://www.w3.org/Graphics/SVG/1.1/DTD/svg11.dtd\">\n",
       "<!-- Generated by graphviz version 10.0.1 (20240210.2158)\n",
       " -->\n",
       "<!-- Pages: 1 -->\n",
       "<svg width=\"192pt\" height=\"332pt\"\n",
       " viewBox=\"0.00 0.00 192.00 332.00\" xmlns=\"http://www.w3.org/2000/svg\" xmlns:xlink=\"http://www.w3.org/1999/xlink\">\n",
       "<g id=\"graph0\" class=\"graph\" transform=\"scale(1 1) rotate(0) translate(4 328)\">\n",
       "<polygon fill=\"white\" stroke=\"none\" points=\"-4,4 -4,-328 188,-328 188,4 -4,4\"/>\n",
       "<!-- 0 -->\n",
       "<g id=\"node1\" class=\"node\">\n",
       "<title>0</title>\n",
       "<ellipse fill=\"none\" stroke=\"black\" cx=\"63\" cy=\"-306\" rx=\"27\" ry=\"18\"/>\n",
       "<text text-anchor=\"middle\" x=\"63\" y=\"-300.57\" font-family=\"Times New Roman,serif\" font-size=\"14.00\">/</text>\n",
       "</g>\n",
       "<!-- 1 -->\n",
       "<g id=\"node2\" class=\"node\">\n",
       "<title>1</title>\n",
       "<ellipse fill=\"none\" stroke=\"black\" cx=\"27\" cy=\"-234\" rx=\"27\" ry=\"18\"/>\n",
       "<text text-anchor=\"middle\" x=\"27\" y=\"-228.57\" font-family=\"Times New Roman,serif\" font-size=\"14.00\">sqrt</text>\n",
       "</g>\n",
       "<!-- 0&#45;&gt;1 -->\n",
       "<g id=\"edge1\" class=\"edge\">\n",
       "<title>0&#45;&gt;1</title>\n",
       "<path fill=\"none\" stroke=\"black\" d=\"M54.65,-288.76C50.42,-280.55 45.19,-270.37 40.42,-261.09\"/>\n",
       "<polygon fill=\"black\" stroke=\"black\" points=\"43.68,-259.79 36,-252.49 37.46,-262.99 43.68,-259.79\"/>\n",
       "</g>\n",
       "<!-- 3 -->\n",
       "<g id=\"node3\" class=\"node\">\n",
       "<title>3</title>\n",
       "<ellipse fill=\"none\" stroke=\"black\" cx=\"99\" cy=\"-234\" rx=\"27\" ry=\"18\"/>\n",
       "<text text-anchor=\"middle\" x=\"99\" y=\"-228.57\" font-family=\"Times New Roman,serif\" font-size=\"14.00\">sqrt</text>\n",
       "</g>\n",
       "<!-- 0&#45;&gt;3 -->\n",
       "<g id=\"edge2\" class=\"edge\">\n",
       "<title>0&#45;&gt;3</title>\n",
       "<path fill=\"none\" stroke=\"black\" d=\"M71.35,-288.76C75.58,-280.55 80.81,-270.37 85.58,-261.09\"/>\n",
       "<polygon fill=\"black\" stroke=\"black\" points=\"88.54,-262.99 90,-252.49 82.32,-259.79 88.54,-262.99\"/>\n",
       "</g>\n",
       "<!-- 2 -->\n",
       "<g id=\"node4\" class=\"node\">\n",
       "<title>2</title>\n",
       "<ellipse fill=\"none\" stroke=\"black\" cx=\"27\" cy=\"-162\" rx=\"27\" ry=\"18\"/>\n",
       "<text text-anchor=\"middle\" x=\"27\" y=\"-156.57\" font-family=\"Times New Roman,serif\" font-size=\"14.00\">x</text>\n",
       "</g>\n",
       "<!-- 1&#45;&gt;2 -->\n",
       "<g id=\"edge3\" class=\"edge\">\n",
       "<title>1&#45;&gt;2</title>\n",
       "<path fill=\"none\" stroke=\"black\" d=\"M27,-215.7C27,-208.41 27,-199.73 27,-191.54\"/>\n",
       "<polygon fill=\"black\" stroke=\"black\" points=\"30.5,-191.62 27,-181.62 23.5,-191.62 30.5,-191.62\"/>\n",
       "</g>\n",
       "<!-- 4 -->\n",
       "<g id=\"node5\" class=\"node\">\n",
       "<title>4</title>\n",
       "<ellipse fill=\"none\" stroke=\"black\" cx=\"99\" cy=\"-162\" rx=\"27\" ry=\"18\"/>\n",
       "<text text-anchor=\"middle\" x=\"99\" y=\"-156.57\" font-family=\"Times New Roman,serif\" font-size=\"14.00\">tanh</text>\n",
       "</g>\n",
       "<!-- 3&#45;&gt;4 -->\n",
       "<g id=\"edge4\" class=\"edge\">\n",
       "<title>3&#45;&gt;4</title>\n",
       "<path fill=\"none\" stroke=\"black\" d=\"M99,-215.7C99,-208.41 99,-199.73 99,-191.54\"/>\n",
       "<polygon fill=\"black\" stroke=\"black\" points=\"102.5,-191.62 99,-181.62 95.5,-191.62 102.5,-191.62\"/>\n",
       "</g>\n",
       "<!-- 5 -->\n",
       "<g id=\"node6\" class=\"node\">\n",
       "<title>5</title>\n",
       "<ellipse fill=\"none\" stroke=\"black\" cx=\"99\" cy=\"-90\" rx=\"27\" ry=\"18\"/>\n",
       "<text text-anchor=\"middle\" x=\"99\" y=\"-84.58\" font-family=\"Times New Roman,serif\" font-size=\"14.00\">cos</text>\n",
       "</g>\n",
       "<!-- 4&#45;&gt;5 -->\n",
       "<g id=\"edge5\" class=\"edge\">\n",
       "<title>4&#45;&gt;5</title>\n",
       "<path fill=\"none\" stroke=\"black\" d=\"M99,-143.7C99,-136.41 99,-127.73 99,-119.54\"/>\n",
       "<polygon fill=\"black\" stroke=\"black\" points=\"102.5,-119.62 99,-109.62 95.5,-119.62 102.5,-119.62\"/>\n",
       "</g>\n",
       "<!-- 6 -->\n",
       "<g id=\"node7\" class=\"node\">\n",
       "<title>6</title>\n",
       "<ellipse fill=\"none\" stroke=\"black\" cx=\"99\" cy=\"-18\" rx=\"85\" ry=\"18\"/>\n",
       "<text text-anchor=\"middle\" x=\"99\" y=\"-12.57\" font-family=\"Times New Roman,serif\" font-size=\"14.00\">1.216880499873953</text>\n",
       "</g>\n",
       "<!-- 5&#45;&gt;6 -->\n",
       "<g id=\"edge6\" class=\"edge\">\n",
       "<title>5&#45;&gt;6</title>\n",
       "<path fill=\"none\" stroke=\"black\" d=\"M99,-71.7C99,-64.41 99,-55.73 99,-47.54\"/>\n",
       "<polygon fill=\"black\" stroke=\"black\" points=\"102.5,-47.62 99,-37.62 95.5,-47.62 102.5,-47.62\"/>\n",
       "</g>\n",
       "</g>\n",
       "</svg>\n"
      ],
      "text/plain": [
       "<graphviz.graphs.Digraph at 0x21db422b280>"
      ]
     },
     "execution_count": 30,
     "metadata": {},
     "output_type": "execute_result"
    }
   ],
   "source": [
    "with open(\"Outputs/tests/test_new_pso/oi/trees/tree-50-3-0\", \"rb\") as file:\n",
    "    tree = pickle.load(file)\n",
    "\n",
    "tree.visualize_tree()"
   ]
  },
  {
   "cell_type": "code",
   "execution_count": 7,
   "id": "0cddae47",
   "metadata": {},
   "outputs": [
    {
     "name": "stdout",
     "output_type": "stream",
     "text": [
      "(np.float64(-0.55), np.float64(11.55))\n"
     ]
    },
    {
     "data": {
      "image/png": "[encoded data removed]",
      "text/plain": [
       "<Figure size 640x480 with 1 Axes>"
      ]
     },
     "metadata": {},
     "output_type": "display_data"
    }
   ],
   "source": [
    "import matplotlib.pyplot as plt\n",
    "import matplotlib.patches as patches\n",
    "\n",
    "# Create some data\n",
    "x = [1, 2, 3, 4, 5]\n",
    "y = [2, 3, 5, 7, 11]\n",
    "\n",
    "# Create a plot\n",
    "\n",
    "ax = plt.gca()\n",
    "ax.plot(x, y)\n",
    "\n",
    "# Add a rectangle with a background color\n",
    "rect = patches.Rectangle((0, 0), 2, 1, linewidth=0, edgecolor='none', facecolor='blue', alpha=0.2)\n",
    "ax.add_patch(rect)\n",
    "\n",
    "rect = patches.Rectangle((2, 0), 2, 1, linewidth=1, edgecolor='black', facecolor='blue', alpha=0.2)\n",
    "ax.add_patch(rect)\n",
    "\n",
    "print(ax.get_ylim())\n",
    "\n",
    "# Display the plot\n",
    "plt.show()\n"
   ]
  },
  {
   "cell_type": "code",
   "execution_count": 17,
   "id": "444c5d63",
   "metadata": {},
   "outputs": [
    {
     "data": {
      "text/html": [
       "<svg  width=\"220\" height=\"55\"><rect x=\"0\" y=\"0\" width=\"55\" height=\"55\" style=\"fill:#3885d0;stroke-width:2;stroke:rgb(255,255,255)\"/><rect x=\"55\" y=\"0\" width=\"55\" height=\"55\" style=\"fill:#302e4a;stroke-width:2;stroke:rgb(255,255,255)\"/><rect x=\"110\" y=\"0\" width=\"55\" height=\"55\" style=\"fill:#4a252e;stroke-width:2;stroke:rgb(255,255,255)\"/><rect x=\"165\" y=\"0\" width=\"55\" height=\"55\" style=\"fill:#d34936;stroke-width:2;stroke:rgb(255,255,255)\"/></svg>"
      ],
      "text/plain": [
       "[(0.21977058, 0.52241482, 0.81457651),\n",
       " (0.1866769, 0.1811332, 0.29166583),\n",
       " (0.29202272, 0.14486161, 0.17852793),\n",
       " (0.82915955, 0.28696963, 0.21210766)]"
      ]
     },
     "execution_count": 17,
     "metadata": {},
     "output_type": "execute_result"
    }
   ],
   "source": [
    "import seaborn as sns\n",
    "sns.color_palette(\"icefire\", 4)"
   ]
  },
  {
   "cell_type": "code",
   "execution_count": 1,
   "id": "e0d9c17a",
   "metadata": {},
   "outputs": [],
   "source": [
    "from rollingWindow import *\n",
    "import pickle\n",
    "\n",
    "os.environ[\"PATH\"] += os.pathsep + 'D:/Program Files (x86)/Graphviz-10.0.1-win64/bin/'"
   ]
  },
  {
   "cell_type": "code",
   "execution_count": 5,
   "id": "019a07e5",
   "metadata": {},
   "outputs": [
    {
     "data": {
      "image/png": "[encoded data removed]",
      "text/plain": [
       "<Figure size 640x480 with 1 Axes>"
      ]
     },
     "metadata": {},
     "output_type": "display_data"
    }
   ],
   "source": [
    "X = np.linspace(0, 6, 100)\n",
    "y = 10*np.exp(-0.5*np.exp(-0.5*X+2))\n",
    "\n",
    "roolWindow = rollingWindow(ignore_warning=True, return_func=True, dir_path=\"Outputs/rollingWindow/test2\")\n",
    "\n",
    "roolWindow.fit(X, y, nPics=4, L=2)\n",
    "roolWindow.visualize()"
   ]
  },
  {
   "cell_type": "code",
   "execution_count": 3,
   "id": "1a548c90",
   "metadata": {},
   "outputs": [
    {
     "data": {
      "text/plain": [
       "(4, 2)"
      ]
     },
     "execution_count": 3,
     "metadata": {},
     "output_type": "execute_result"
    }
   ],
   "source": [
    "roolWindow.nPics, roolWindow.L"
   ]
  },
  {
   "cell_type": "code",
   "execution_count": 4,
   "id": "2f083220",
   "metadata": {},
   "outputs": [
    {
     "data": {
      "image/png": "[encoded data removed]",
      "text/plain": [
       "<Figure size 640x480 with 1 Axes>"
      ]
     },
     "metadata": {},
     "output_type": "display_data"
    }
   ],
   "source": [
    "# roolWindow.visualize(\"inferno\", 0.2, \"black\", 1)\n",
    "roolWindow.visualize()"
   ]
  },
  {
   "cell_type": "code",
   "execution_count": null,
   "id": "85535570",
   "metadata": {},
   "outputs": [
    {
     "name": "stdout",
     "output_type": "stream",
     "text": [
      "iniciou\n",
      "iniciou\n",
      "iniciou\n",
      "iniciou\n",
      "iniciou\n",
      "iniciou\n"
     ]
    },
    {
     "data": {
      "text/plain": [
       "(([<ExpressionTree.ExpressionTree at 0x2a355aceb60>, np.float64(0.0)],\n",
       "  [<ExpressionTree.ExpressionTree at 0x2a355ad7880>, np.float64(0.0)]),\n",
       " [<function CSOWP_SR.<lambda>(x)>, <function CSOWP_SR.<lambda>(x)>])"
      ]
     },
     "metadata": {},
     "output_type": "display_data"
    }
   ],
   "source": [
    "roolWindow.run()"
   ]
  },
  {
   "cell_type": "code",
   "execution_count": null,
   "id": "f2404af3",
   "metadata": {},
   "outputs": [],
   "source": [
    "a=3\n",
    "eval(f\"\"\"\n",
    "if {a>2}:\n",
    "    print('oi')\n",
    "else:\n",
    "    print('opa', {a})\n",
    "\"\"\")"
   ]
  },
  {
   "cell_type": "code",
   "execution_count": 3,
   "id": "1d73720a",
   "metadata": {},
   "outputs": [
    {
     "name": "stdout",
     "output_type": "stream",
     "text": [
      "('a', 1)\n",
      "('b', 2)\n"
     ]
    }
   ],
   "source": [
    "D = {\"a\": 1, \"b\": 2}\n",
    "for i in D.items():\n",
    "    print(i)"
   ]
  },
  {
   "cell_type": "code",
   "execution_count": 1,
   "id": "bb72cb9a-c001-4e11-87e8-48180b9060af",
   "metadata": {},
   "outputs": [],
   "source": [
    "from trainSR import trainSR\n",
    "from trainAlgorithm import *\n",
    "from CSOWP_SR import *\n",
    "from ExpressionTree import *"
   ]
  },
  {
   "cell_type": "code",
   "execution_count": 2,
   "id": "994f2d89",
   "metadata": {},
   "outputs": [
    {
     "name": "stderr",
     "output_type": "stream",
     "text": [
      "C:\\Users\\lreis\\AppData\\Local\\Temp\\ipykernel_20996\\1582281215.py:2: RuntimeWarning: invalid value encountered in sqrt\n",
      "  return np.sqrt(X)\n"
     ]
    }
   ],
   "source": [
    "def func(X):\n",
    "    return np.sqrt(X)\n",
    "\n",
    "X = np.linspace(-5, -1, 1000)\n",
    "y = func(X)"
   ]
  },
  {
   "cell_type": "code",
   "execution_count": 11,
   "id": "bae35a73",
   "metadata": {},
   "outputs": [
    {
     "data": {
      "image/svg+xml": [
       "<?xml version=\"1.0\" encoding=\"UTF-8\" standalone=\"no\"?>\n",
       "<!DOCTYPE svg PUBLIC \"-//W3C//DTD SVG 1.1//EN\"\n",
       " \"http://www.w3.org/Graphics/SVG/1.1/DTD/svg11.dtd\">\n",
       "<!-- Generated by graphviz version 10.0.1 (20240210.2158)\n",
       " -->\n",
       "<!-- Pages: 1 -->\n",
       "<svg width=\"62pt\" height=\"116pt\"\n",
       " viewBox=\"0.00 0.00 62.00 116.00\" xmlns=\"http://www.w3.org/2000/svg\" xmlns:xlink=\"http://www.w3.org/1999/xlink\">\n",
       "<g id=\"graph0\" class=\"graph\" transform=\"scale(1 1) rotate(0) translate(4 112)\">\n",
       "<polygon fill=\"white\" stroke=\"none\" points=\"-4,4 -4,-112 58,-112 58,4 -4,4\"/>\n",
       "<!-- 0 -->\n",
       "<g id=\"node1\" class=\"node\">\n",
       "<title>0</title>\n",
       "<ellipse fill=\"none\" stroke=\"black\" cx=\"27\" cy=\"-90\" rx=\"27\" ry=\"18\"/>\n",
       "<text text-anchor=\"middle\" x=\"27\" y=\"-84.58\" font-family=\"Times New Roman,serif\" font-size=\"14.00\">sqrt</text>\n",
       "</g>\n",
       "<!-- 1 -->\n",
       "<g id=\"node2\" class=\"node\">\n",
       "<title>1</title>\n",
       "<ellipse fill=\"none\" stroke=\"black\" cx=\"27\" cy=\"-18\" rx=\"27\" ry=\"18\"/>\n",
       "<text text-anchor=\"middle\" x=\"27\" y=\"-12.57\" font-family=\"Times New Roman,serif\" font-size=\"14.00\">nan</text>\n",
       "</g>\n",
       "<!-- 0&#45;&gt;1 -->\n",
       "<g id=\"edge1\" class=\"edge\">\n",
       "<title>0&#45;&gt;1</title>\n",
       "<path fill=\"none\" stroke=\"black\" d=\"M27,-71.7C27,-64.41 27,-55.73 27,-47.54\"/>\n",
       "<polygon fill=\"black\" stroke=\"black\" points=\"30.5,-47.62 27,-37.62 23.5,-47.62 30.5,-47.62\"/>\n",
       "</g>\n",
       "</g>\n",
       "</svg>\n"
      ],
      "text/plain": [
       "<graphviz.graphs.Digraph at 0x25eb10aea70>"
      ]
     },
     "execution_count": 11,
     "metadata": {},
     "output_type": "execute_result"
    }
   ],
   "source": [
    "tree = ExpressionTree()\n",
    "p = tree.add_root(\"sqrt\", \"function\")\n",
    "tree.add_left(p, np.nan, e_type=\"feature\")\n",
    "tree.visualize_tree()\n"
   ]
  },
  {
   "cell_type": "code",
   "execution_count": 13,
   "id": "d14f6f13",
   "metadata": {},
   "outputs": [
    {
     "ename": "NameError",
     "evalue": "name 'nan' is not defined",
     "output_type": "error",
     "traceback": [
      "\u001b[1;31m---------------------------------------------------------------------------\u001b[0m",
      "\u001b[1;31mNameError\u001b[0m                                 Traceback (most recent call last)",
      "Cell \u001b[1;32mIn[13], line 4\u001b[0m\n\u001b[0;32m      2\u001b[0m SR\u001b[38;5;241m.\u001b[39mfit(np\u001b[38;5;241m.\u001b[39mc_[X], y, feature_names\u001b[38;5;241m=\u001b[39m[\u001b[38;5;124m\"\u001b[39m\u001b[38;5;124mx\u001b[39m\u001b[38;5;124m\"\u001b[39m])\n\u001b[0;32m      3\u001b[0m func \u001b[38;5;241m=\u001b[39m SR\u001b[38;5;241m.\u001b[39mtoFunc(tree)\n\u001b[1;32m----> 4\u001b[0m \u001b[43mfunc\u001b[49m\u001b[43m(\u001b[49m\u001b[38;5;241;43m5\u001b[39;49m\u001b[43m)\u001b[49m\n",
      "File \u001b[1;32m<string>:1\u001b[0m, in \u001b[0;36m<lambda>\u001b[1;34m(x)\u001b[0m\n",
      "\u001b[1;31mNameError\u001b[0m: name 'nan' is not defined"
     ]
    }
   ],
   "source": [
    "SR = SymbolicRegression(3)\n",
    "SR.fit(np.c_[X], y, feature_names=[\"x\"])\n",
    "func = SR.toFunc(tree)\n",
    "func(5)"
   ]
  },
  {
   "cell_type": "code",
   "execution_count": 20,
   "id": "1d06e0d8",
   "metadata": {},
   "outputs": [
    {
     "name": "stdout",
     "output_type": "stream",
     "text": [
      "Optimized parameters: [1. 5.]\n"
     ]
    },
    {
     "name": "stderr",
     "output_type": "stream",
     "text": [
      "C:\\Users\\lreis\\AppData\\Local\\Temp\\ipykernel_20996\\4052629010.py:6: RuntimeWarning: divide by zero encountered in divide\n",
      "  return a / (x - b)  # Division by a small number when x is close to b\n",
      "C:\\Users\\lreis\\AppData\\Local\\Temp\\ipykernel_20996\\4052629010.py:21: OptimizeWarning: Covariance of the parameters could not be estimated\n",
      "  popt, pcov = curve_fit(problematic_func, x_data, y_data, p0=initial_guess)\n"
     ]
    }
   ],
   "source": [
    "import numpy as np\n",
    "from scipy.optimize import curve_fit\n",
    "\n",
    "# Define a function that has a high risk of producing NaN values\n",
    "def problematic_func(x, a, b):\n",
    "    return a / (x - b)  # Division by a small number when x is close to b\n",
    "\n",
    "# Generate data that includes the problematic point\n",
    "x_data = np.linspace(0, 10, 100)\n",
    "y_data = 2 / (x_data - 5) + np.random.normal(0, 0.1, size=x_data.size)\n",
    "\n",
    "# Introduce a problematic data point that will cause division by zero\n",
    "x_data[50] = 5  # This causes division by zero\n",
    "x_data = [5 for _ in x_data]\n",
    "\n",
    "# Provide an initial guess that will likely lead to trouble\n",
    "initial_guess = [1, 5]  # Close to where the division by zero occurs\n",
    "\n",
    "# Attempt to fit the curve\n",
    "\n",
    "popt, pcov = curve_fit(problematic_func, x_data, y_data, p0=initial_guess)\n",
    "print(\"Optimized parameters:\", popt)"
   ]
  },
  {
   "cell_type": "code",
   "execution_count": 5,
   "id": "30e41c79",
   "metadata": {},
   "outputs": [
    {
     "ename": "NameError",
     "evalue": "name 'nan' is not defined",
     "output_type": "error",
     "traceback": [
      "\u001b[1;31m---------------------------------------------------------------------------\u001b[0m",
      "\u001b[1;31mNameError\u001b[0m                                 Traceback (most recent call last)",
      "Cell \u001b[1;32mIn[5], line 3\u001b[0m\n\u001b[0;32m      1\u001b[0m SR \u001b[38;5;241m=\u001b[39m SymbolicRegression(\u001b[38;5;241m3\u001b[39m)\n\u001b[0;32m      2\u001b[0m SR\u001b[38;5;241m.\u001b[39mfit(np\u001b[38;5;241m.\u001b[39mc_[X], y, feature_names\u001b[38;5;241m=\u001b[39m[\u001b[38;5;124m\"\u001b[39m\u001b[38;5;124mx\u001b[39m\u001b[38;5;124m\"\u001b[39m])\n\u001b[1;32m----> 3\u001b[0m \u001b[43mSR\u001b[49m\u001b[38;5;241;43m.\u001b[39;49m\u001b[43mevaluate_tree\u001b[49m\u001b[43m(\u001b[49m\u001b[43mtree\u001b[49m\u001b[43m)\u001b[49m\n",
      "File \u001b[1;32md:\\Documents\\Coding\\Repositorios\\MyRepositories\\Symbolic-Regression\\CSOWP_SR\\algorithms\\CSOWP_SR.py:381\u001b[0m, in \u001b[0;36mSymbolicRegression.evaluate_tree\u001b[1;34m(self, tree)\u001b[0m\n\u001b[0;32m    379\u001b[0m func \u001b[38;5;241m=\u001b[39m \u001b[38;5;28mself\u001b[39m\u001b[38;5;241m.\u001b[39mtoFunc(tree)\n\u001b[0;32m    380\u001b[0m features \u001b[38;5;241m=\u001b[39m np\u001b[38;5;241m.\u001b[39marray(\u001b[38;5;28mlist\u001b[39m(\u001b[38;5;28mself\u001b[39m\u001b[38;5;241m.\u001b[39m_features\u001b[38;5;241m.\u001b[39mvalues()))\n\u001b[1;32m--> 381\u001b[0m \u001b[38;5;28;01mreturn\u001b[39;00m \u001b[43mfunc\u001b[49m\u001b[43m(\u001b[49m\u001b[38;5;241;43m*\u001b[39;49m\u001b[43mfeatures\u001b[49m\u001b[43m)\u001b[49m\n",
      "File \u001b[1;32m<string>:1\u001b[0m, in \u001b[0;36m<lambda>\u001b[1;34m(x)\u001b[0m\n",
      "\u001b[1;31mNameError\u001b[0m: name 'nan' is not defined"
     ]
    }
   ],
   "source": [
    "\n",
    "SR.evaluate_tree(tree)"
   ]
  },
  {
   "cell_type": "code",
   "execution_count": 18,
   "id": "7c07cf02",
   "metadata": {},
   "outputs": [],
   "source": [
    "TSR = trainSR(\"Outputs/tests\", 20, 3, overwrite=True, n_points=1000, x_range=[-5, 5], optimization_kind=\"PSO_NEW\", SEED=6)\n",
    "# TSR.fit(1, 2, 3, 4)"
   ]
  },
  {
   "cell_type": "code",
   "execution_count": 19,
   "id": "3c21b564",
   "metadata": {},
   "outputs": [
    {
     "name": "stdout",
     "output_type": "stream",
     "text": [
      "-=-=-=-=-=-=-=-= Training for population 20 and generation 3 - tests\\test1 =-=-=-=-=-=-=-=-\n",
      "iniciou\n",
      "iniciou\n",
      "iniciou\n",
      "-=-=-=-=-=-=-= Done training for population 20 and generation 3 - tests\\test1 =-=-=-=-=-=-=-\n"
     ]
    },
    {
     "data": {
      "text/plain": [
       "(array([-5.        , -4.98998999, -4.97997998, -4.96996997, -4.95995996,\n",
       "        -4.94994995, -4.93993994, -4.92992993, -4.91991992, -4.90990991,\n",
       "        -4.8998999 , -4.88988989, -4.87987988, -4.86986987, -4.85985986,\n",
       "        -4.84984985, -4.83983984, -4.82982983, -4.81981982, -4.80980981,\n",
       "        -4.7997998 , -4.78978979, -4.77977978, -4.76976977, -4.75975976,\n",
       "        -4.74974975, -4.73973974, -4.72972973, -4.71971972, -4.70970971,\n",
       "        -4.6996997 , -4.68968969, -4.67967968, -4.66966967, -4.65965966,\n",
       "        -4.64964965, -4.63963964, -4.62962963, -4.61961962, -4.60960961,\n",
       "        -4.5995996 , -4.58958959, -4.57957958, -4.56956957, -4.55955956,\n",
       "        -4.54954955, -4.53953954, -4.52952953, -4.51951952, -4.50950951,\n",
       "        -4.4994995 , -4.48948949, -4.47947948, -4.46946947, -4.45945946,\n",
       "        -4.44944945, -4.43943944, -4.42942943, -4.41941942, -4.40940941,\n",
       "        -4.3993994 , -4.38938939, -4.37937938, -4.36936937, -4.35935936,\n",
       "        -4.34934935, -4.33933934, -4.32932933, -4.31931932, -4.30930931,\n",
       "        -4.2992993 , -4.28928929, -4.27927928, -4.26926927, -4.25925926,\n",
       "        -4.24924925, -4.23923924, -4.22922923, -4.21921922, -4.20920921,\n",
       "        -4.1991992 , -4.18918919, -4.17917918, -4.16916917, -4.15915916,\n",
       "        -4.14914915, -4.13913914, -4.12912913, -4.11911912, -4.10910911,\n",
       "        -4.0990991 , -4.08908909, -4.07907908, -4.06906907, -4.05905906,\n",
       "        -4.04904905, -4.03903904, -4.02902903, -4.01901902, -4.00900901,\n",
       "        -3.998999  , -3.98898899, -3.97897898, -3.96896897, -3.95895896,\n",
       "        -3.94894895, -3.93893894, -3.92892893, -3.91891892, -3.90890891,\n",
       "        -3.8988989 , -3.88888889, -3.87887888, -3.86886887, -3.85885886,\n",
       "        -3.84884885, -3.83883884, -3.82882883, -3.81881882, -3.80880881,\n",
       "        -3.7987988 , -3.78878879, -3.77877878, -3.76876877, -3.75875876,\n",
       "        -3.74874875, -3.73873874, -3.72872873, -3.71871872, -3.70870871,\n",
       "        -3.6986987 , -3.68868869, -3.67867868, -3.66866867, -3.65865866,\n",
       "        -3.64864865, -3.63863864, -3.62862863, -3.61861862, -3.60860861,\n",
       "        -3.5985986 , -3.58858859, -3.57857858, -3.56856857, -3.55855856,\n",
       "        -3.54854855, -3.53853854, -3.52852853, -3.51851852, -3.50850851,\n",
       "        -3.4984985 , -3.48848849, -3.47847848, -3.46846847, -3.45845846,\n",
       "        -3.44844845, -3.43843844, -3.42842843, -3.41841842, -3.40840841,\n",
       "        -3.3983984 , -3.38838839, -3.37837838, -3.36836837, -3.35835836,\n",
       "        -3.34834835, -3.33833834, -3.32832833, -3.31831832, -3.30830831,\n",
       "        -3.2982983 , -3.28828829, -3.27827828, -3.26826827, -3.25825826,\n",
       "        -3.24824825, -3.23823824, -3.22822823, -3.21821822, -3.20820821,\n",
       "        -3.1981982 , -3.18818819, -3.17817818, -3.16816817, -3.15815816,\n",
       "        -3.14814815, -3.13813814, -3.12812813, -3.11811812, -3.10810811,\n",
       "        -3.0980981 , -3.08808809, -3.07807808, -3.06806807, -3.05805806,\n",
       "        -3.04804805, -3.03803804, -3.02802803, -3.01801802, -3.00800801,\n",
       "        -2.997998  , -2.98798799, -2.97797798, -2.96796797, -2.95795796,\n",
       "        -2.94794795, -2.93793794, -2.92792793, -2.91791792, -2.90790791,\n",
       "        -2.8978979 , -2.88788789, -2.87787788, -2.86786787, -2.85785786,\n",
       "        -2.84784785, -2.83783784, -2.82782783, -2.81781782, -2.80780781,\n",
       "        -2.7977978 , -2.78778779, -2.77777778, -2.76776777, -2.75775776,\n",
       "        -2.74774775, -2.73773774, -2.72772773, -2.71771772, -2.70770771,\n",
       "        -2.6976977 , -2.68768769, -2.67767768, -2.66766767, -2.65765766,\n",
       "        -2.64764765, -2.63763764, -2.62762763, -2.61761762, -2.60760761,\n",
       "        -2.5975976 , -2.58758759, -2.57757758, -2.56756757, -2.55755756,\n",
       "        -2.54754755, -2.53753754, -2.52752753, -2.51751752, -2.50750751,\n",
       "        -2.4974975 , -2.48748749, -2.47747748, -2.46746747, -2.45745746,\n",
       "        -2.44744745, -2.43743744, -2.42742743, -2.41741742, -2.40740741,\n",
       "        -2.3973974 , -2.38738739, -2.37737738, -2.36736737, -2.35735736,\n",
       "        -2.34734735, -2.33733734, -2.32732733, -2.31731732, -2.30730731,\n",
       "        -2.2972973 , -2.28728729, -2.27727728, -2.26726727, -2.25725726,\n",
       "        -2.24724725, -2.23723724, -2.22722723, -2.21721722, -2.20720721,\n",
       "        -2.1971972 , -2.18718719, -2.17717718, -2.16716717, -2.15715716,\n",
       "        -2.14714715, -2.13713714, -2.12712713, -2.11711712, -2.10710711,\n",
       "        -2.0970971 , -2.08708709, -2.07707708, -2.06706707, -2.05705706,\n",
       "        -2.04704705, -2.03703704, -2.02702703, -2.01701702, -2.00700701,\n",
       "        -1.996997  , -1.98698699, -1.97697698, -1.96696697, -1.95695696,\n",
       "        -1.94694695, -1.93693694, -1.92692693, -1.91691692, -1.90690691,\n",
       "        -1.8968969 , -1.88688689, -1.87687688, -1.86686687, -1.85685686,\n",
       "        -1.84684685, -1.83683684, -1.82682683, -1.81681682, -1.80680681,\n",
       "        -1.7967968 , -1.78678679, -1.77677678, -1.76676677, -1.75675676,\n",
       "        -1.74674675, -1.73673674, -1.72672673, -1.71671672, -1.70670671,\n",
       "        -1.6966967 , -1.68668669, -1.67667668, -1.66666667, -1.65665666,\n",
       "        -1.64664665, -1.63663664, -1.62662663, -1.61661662, -1.60660661,\n",
       "        -1.5965966 , -1.58658659, -1.57657658, -1.56656657, -1.55655656,\n",
       "        -1.54654655, -1.53653654, -1.52652653, -1.51651652, -1.50650651,\n",
       "        -1.4964965 , -1.48648649, -1.47647648, -1.46646647, -1.45645646,\n",
       "        -1.44644645, -1.43643644, -1.42642643, -1.41641642, -1.40640641,\n",
       "        -1.3963964 , -1.38638639, -1.37637638, -1.36636637, -1.35635636,\n",
       "        -1.34634635, -1.33633634, -1.32632633, -1.31631632, -1.30630631,\n",
       "        -1.2962963 , -1.28628629, -1.27627628, -1.26626627, -1.25625626,\n",
       "        -1.24624625, -1.23623624, -1.22622623, -1.21621622, -1.20620621,\n",
       "        -1.1961962 , -1.18618619, -1.17617618, -1.16616617, -1.15615616,\n",
       "        -1.14614615, -1.13613614, -1.12612613, -1.11611612, -1.10610611,\n",
       "        -1.0960961 , -1.08608609, -1.07607608, -1.06606607, -1.05605606,\n",
       "        -1.04604605, -1.03603604, -1.02602603, -1.01601602, -1.00600601,\n",
       "        -0.995996  , -0.98598599, -0.97597598, -0.96596597, -0.95595596,\n",
       "        -0.94594595, -0.93593594, -0.92592593, -0.91591592, -0.90590591,\n",
       "        -0.8958959 , -0.88588589, -0.87587588, -0.86586587, -0.85585586,\n",
       "        -0.84584585, -0.83583584, -0.82582583, -0.81581582, -0.80580581,\n",
       "        -0.7957958 , -0.78578579, -0.77577578, -0.76576577, -0.75575576,\n",
       "        -0.74574575, -0.73573574, -0.72572573, -0.71571572, -0.70570571,\n",
       "        -0.6956957 , -0.68568569, -0.67567568, -0.66566567, -0.65565566,\n",
       "        -0.64564565, -0.63563564, -0.62562563, -0.61561562, -0.60560561,\n",
       "        -0.5955956 , -0.58558559, -0.57557558, -0.56556557, -0.55555556,\n",
       "        -0.54554555, -0.53553554, -0.52552553, -0.51551552, -0.50550551,\n",
       "        -0.4954955 , -0.48548549, -0.47547548, -0.46546547, -0.45545546,\n",
       "        -0.44544545, -0.43543544, -0.42542543, -0.41541542, -0.40540541,\n",
       "        -0.3953954 , -0.38538539, -0.37537538, -0.36536537, -0.35535536,\n",
       "        -0.34534535, -0.33533534, -0.32532533, -0.31531532, -0.30530531,\n",
       "        -0.2952953 , -0.28528529, -0.27527528, -0.26526527, -0.25525526,\n",
       "        -0.24524525, -0.23523524, -0.22522523, -0.21521522, -0.20520521,\n",
       "        -0.1951952 , -0.18518519, -0.17517518, -0.16516517, -0.15515516,\n",
       "        -0.14514515, -0.13513514, -0.12512513, -0.11511512, -0.10510511,\n",
       "        -0.0950951 , -0.08508509, -0.07507508, -0.06506507, -0.05505506,\n",
       "        -0.04504505, -0.03503504, -0.02502503, -0.01501502, -0.00500501,\n",
       "         0.00500501,  0.01501502,  0.02502503,  0.03503504,  0.04504505,\n",
       "         0.05505506,  0.06506507,  0.07507508,  0.08508509,  0.0950951 ,\n",
       "         0.10510511,  0.11511512,  0.12512513,  0.13513514,  0.14514515,\n",
       "         0.15515516,  0.16516517,  0.17517518,  0.18518519,  0.1951952 ,\n",
       "         0.20520521,  0.21521522,  0.22522523,  0.23523524,  0.24524525,\n",
       "         0.25525526,  0.26526527,  0.27527528,  0.28528529,  0.2952953 ,\n",
       "         0.30530531,  0.31531532,  0.32532533,  0.33533534,  0.34534535,\n",
       "         0.35535536,  0.36536537,  0.37537538,  0.38538539,  0.3953954 ,\n",
       "         0.40540541,  0.41541542,  0.42542543,  0.43543544,  0.44544545,\n",
       "         0.45545546,  0.46546547,  0.47547548,  0.48548549,  0.4954955 ,\n",
       "         0.50550551,  0.51551552,  0.52552553,  0.53553554,  0.54554555,\n",
       "         0.55555556,  0.56556557,  0.57557558,  0.58558559,  0.5955956 ,\n",
       "         0.60560561,  0.61561562,  0.62562563,  0.63563564,  0.64564565,\n",
       "         0.65565566,  0.66566567,  0.67567568,  0.68568569,  0.6956957 ,\n",
       "         0.70570571,  0.71571572,  0.72572573,  0.73573574,  0.74574575,\n",
       "         0.75575576,  0.76576577,  0.77577578,  0.78578579,  0.7957958 ,\n",
       "         0.80580581,  0.81581582,  0.82582583,  0.83583584,  0.84584585,\n",
       "         0.85585586,  0.86586587,  0.87587588,  0.88588589,  0.8958959 ,\n",
       "         0.90590591,  0.91591592,  0.92592593,  0.93593594,  0.94594595,\n",
       "         0.95595596,  0.96596597,  0.97597598,  0.98598599,  0.995996  ,\n",
       "         1.00600601,  1.01601602,  1.02602603,  1.03603604,  1.04604605,\n",
       "         1.05605606,  1.06606607,  1.07607608,  1.08608609,  1.0960961 ,\n",
       "         1.10610611,  1.11611612,  1.12612613,  1.13613614,  1.14614615,\n",
       "         1.15615616,  1.16616617,  1.17617618,  1.18618619,  1.1961962 ,\n",
       "         1.20620621,  1.21621622,  1.22622623,  1.23623624,  1.24624625,\n",
       "         1.25625626,  1.26626627,  1.27627628,  1.28628629,  1.2962963 ,\n",
       "         1.30630631,  1.31631632,  1.32632633,  1.33633634,  1.34634635,\n",
       "         1.35635636,  1.36636637,  1.37637638,  1.38638639,  1.3963964 ,\n",
       "         1.40640641,  1.41641642,  1.42642643,  1.43643644,  1.44644645,\n",
       "         1.45645646,  1.46646647,  1.47647648,  1.48648649,  1.4964965 ,\n",
       "         1.50650651,  1.51651652,  1.52652653,  1.53653654,  1.54654655,\n",
       "         1.55655656,  1.56656657,  1.57657658,  1.58658659,  1.5965966 ,\n",
       "         1.60660661,  1.61661662,  1.62662663,  1.63663664,  1.64664665,\n",
       "         1.65665666,  1.66666667,  1.67667668,  1.68668669,  1.6966967 ,\n",
       "         1.70670671,  1.71671672,  1.72672673,  1.73673674,  1.74674675,\n",
       "         1.75675676,  1.76676677,  1.77677678,  1.78678679,  1.7967968 ,\n",
       "         1.80680681,  1.81681682,  1.82682683,  1.83683684,  1.84684685,\n",
       "         1.85685686,  1.86686687,  1.87687688,  1.88688689,  1.8968969 ,\n",
       "         1.90690691,  1.91691692,  1.92692693,  1.93693694,  1.94694695,\n",
       "         1.95695696,  1.96696697,  1.97697698,  1.98698699,  1.996997  ,\n",
       "         2.00700701,  2.01701702,  2.02702703,  2.03703704,  2.04704705,\n",
       "         2.05705706,  2.06706707,  2.07707708,  2.08708709,  2.0970971 ,\n",
       "         2.10710711,  2.11711712,  2.12712713,  2.13713714,  2.14714715,\n",
       "         2.15715716,  2.16716717,  2.17717718,  2.18718719,  2.1971972 ,\n",
       "         2.20720721,  2.21721722,  2.22722723,  2.23723724,  2.24724725,\n",
       "         2.25725726,  2.26726727,  2.27727728,  2.28728729,  2.2972973 ,\n",
       "         2.30730731,  2.31731732,  2.32732733,  2.33733734,  2.34734735,\n",
       "         2.35735736,  2.36736737,  2.37737738,  2.38738739,  2.3973974 ,\n",
       "         2.40740741,  2.41741742,  2.42742743,  2.43743744,  2.44744745,\n",
       "         2.45745746,  2.46746747,  2.47747748,  2.48748749,  2.4974975 ,\n",
       "         2.50750751,  2.51751752,  2.52752753,  2.53753754,  2.54754755,\n",
       "         2.55755756,  2.56756757,  2.57757758,  2.58758759,  2.5975976 ,\n",
       "         2.60760761,  2.61761762,  2.62762763,  2.63763764,  2.64764765,\n",
       "         2.65765766,  2.66766767,  2.67767768,  2.68768769,  2.6976977 ,\n",
       "         2.70770771,  2.71771772,  2.72772773,  2.73773774,  2.74774775,\n",
       "         2.75775776,  2.76776777,  2.77777778,  2.78778779,  2.7977978 ,\n",
       "         2.80780781,  2.81781782,  2.82782783,  2.83783784,  2.84784785,\n",
       "         2.85785786,  2.86786787,  2.87787788,  2.88788789,  2.8978979 ,\n",
       "         2.90790791,  2.91791792,  2.92792793,  2.93793794,  2.94794795,\n",
       "         2.95795796,  2.96796797,  2.97797798,  2.98798799,  2.997998  ,\n",
       "         3.00800801,  3.01801802,  3.02802803,  3.03803804,  3.04804805,\n",
       "         3.05805806,  3.06806807,  3.07807808,  3.08808809,  3.0980981 ,\n",
       "         3.10810811,  3.11811812,  3.12812813,  3.13813814,  3.14814815,\n",
       "         3.15815816,  3.16816817,  3.17817818,  3.18818819,  3.1981982 ,\n",
       "         3.20820821,  3.21821822,  3.22822823,  3.23823824,  3.24824825,\n",
       "         3.25825826,  3.26826827,  3.27827828,  3.28828829,  3.2982983 ,\n",
       "         3.30830831,  3.31831832,  3.32832833,  3.33833834,  3.34834835,\n",
       "         3.35835836,  3.36836837,  3.37837838,  3.38838839,  3.3983984 ,\n",
       "         3.40840841,  3.41841842,  3.42842843,  3.43843844,  3.44844845,\n",
       "         3.45845846,  3.46846847,  3.47847848,  3.48848849,  3.4984985 ,\n",
       "         3.50850851,  3.51851852,  3.52852853,  3.53853854,  3.54854855,\n",
       "         3.55855856,  3.56856857,  3.57857858,  3.58858859,  3.5985986 ,\n",
       "         3.60860861,  3.61861862,  3.62862863,  3.63863864,  3.64864865,\n",
       "         3.65865866,  3.66866867,  3.67867868,  3.68868869,  3.6986987 ,\n",
       "         3.70870871,  3.71871872,  3.72872873,  3.73873874,  3.74874875,\n",
       "         3.75875876,  3.76876877,  3.77877878,  3.78878879,  3.7987988 ,\n",
       "         3.80880881,  3.81881882,  3.82882883,  3.83883884,  3.84884885,\n",
       "         3.85885886,  3.86886887,  3.87887888,  3.88888889,  3.8988989 ,\n",
       "         3.90890891,  3.91891892,  3.92892893,  3.93893894,  3.94894895,\n",
       "         3.95895896,  3.96896897,  3.97897898,  3.98898899,  3.998999  ,\n",
       "         4.00900901,  4.01901902,  4.02902903,  4.03903904,  4.04904905,\n",
       "         4.05905906,  4.06906907,  4.07907908,  4.08908909,  4.0990991 ,\n",
       "         4.10910911,  4.11911912,  4.12912913,  4.13913914,  4.14914915,\n",
       "         4.15915916,  4.16916917,  4.17917918,  4.18918919,  4.1991992 ,\n",
       "         4.20920921,  4.21921922,  4.22922923,  4.23923924,  4.24924925,\n",
       "         4.25925926,  4.26926927,  4.27927928,  4.28928929,  4.2992993 ,\n",
       "         4.30930931,  4.31931932,  4.32932933,  4.33933934,  4.34934935,\n",
       "         4.35935936,  4.36936937,  4.37937938,  4.38938939,  4.3993994 ,\n",
       "         4.40940941,  4.41941942,  4.42942943,  4.43943944,  4.44944945,\n",
       "         4.45945946,  4.46946947,  4.47947948,  4.48948949,  4.4994995 ,\n",
       "         4.50950951,  4.51951952,  4.52952953,  4.53953954,  4.54954955,\n",
       "         4.55955956,  4.56956957,  4.57957958,  4.58958959,  4.5995996 ,\n",
       "         4.60960961,  4.61961962,  4.62962963,  4.63963964,  4.64964965,\n",
       "         4.65965966,  4.66966967,  4.67967968,  4.68968969,  4.6996997 ,\n",
       "         4.70970971,  4.71971972,  4.72972973,  4.73973974,  4.74974975,\n",
       "         4.75975976,  4.76976977,  4.77977978,  4.78978979,  4.7997998 ,\n",
       "         4.80980981,  4.81981982,  4.82982983,  4.83983984,  4.84984985,\n",
       "         4.85985986,  4.86986987,  4.87987988,  4.88988989,  4.8998999 ,\n",
       "         4.90990991,  4.91991992,  4.92992993,  4.93993994,  4.94994995,\n",
       "         4.95995996,  4.96996997,  4.97997998,  4.98998999,  5.        ]),\n",
       " array([-4.00000000e+00, -3.98998999e+00, -3.97997998e+00, -3.96996997e+00,\n",
       "        -3.95995996e+00, -3.94994995e+00, -3.93993994e+00, -3.92992993e+00,\n",
       "        -3.91991992e+00, -3.90990991e+00, -3.89989990e+00, -3.88988989e+00,\n",
       "        -3.87987988e+00, -3.86986987e+00, -3.85985986e+00, -3.84984985e+00,\n",
       "        -3.83983984e+00, -3.82982983e+00, -3.81981982e+00, -3.80980981e+00,\n",
       "        -3.79979980e+00, -3.78978979e+00, -3.77977978e+00, -3.76976977e+00,\n",
       "        -3.75975976e+00, -3.74974975e+00, -3.73973974e+00, -3.72972973e+00,\n",
       "        -3.71971972e+00, -3.70970971e+00, -3.69969970e+00, -3.68968969e+00,\n",
       "        -3.67967968e+00, -3.66966967e+00, -3.65965966e+00, -3.64964965e+00,\n",
       "        -3.63963964e+00, -3.62962963e+00, -3.61961962e+00, -3.60960961e+00,\n",
       "        -3.59959960e+00, -3.58958959e+00, -3.57957958e+00, -3.56956957e+00,\n",
       "        -3.55955956e+00, -3.54954955e+00, -3.53953954e+00, -3.52952953e+00,\n",
       "        -3.51951952e+00, -3.50950951e+00, -3.49949950e+00, -3.48948949e+00,\n",
       "        -3.47947948e+00, -3.46946947e+00, -3.45945946e+00, -3.44944945e+00,\n",
       "        -3.43943944e+00, -3.42942943e+00, -3.41941942e+00, -3.40940941e+00,\n",
       "        -3.39939940e+00, -3.38938939e+00, -3.37937938e+00, -3.36936937e+00,\n",
       "        -3.35935936e+00, -3.34934935e+00, -3.33933934e+00, -3.32932933e+00,\n",
       "        -3.31931932e+00, -3.30930931e+00, -3.29929930e+00, -3.28928929e+00,\n",
       "        -3.27927928e+00, -3.26926927e+00, -3.25925926e+00, -3.24924925e+00,\n",
       "        -3.23923924e+00, -3.22922923e+00, -3.21921922e+00, -3.20920921e+00,\n",
       "        -3.19919920e+00, -3.18918919e+00, -3.17917918e+00, -3.16916917e+00,\n",
       "        -3.15915916e+00, -3.14914915e+00, -3.13913914e+00, -3.12912913e+00,\n",
       "        -3.11911912e+00, -3.10910911e+00, -3.09909910e+00, -3.08908909e+00,\n",
       "        -3.07907908e+00, -3.06906907e+00, -3.05905906e+00, -3.04904905e+00,\n",
       "        -3.03903904e+00, -3.02902903e+00, -3.01901902e+00, -3.00900901e+00,\n",
       "        -2.99899900e+00, -2.98898899e+00, -2.97897898e+00, -2.96896897e+00,\n",
       "        -2.95895896e+00, -2.94894895e+00, -2.93893894e+00, -2.92892893e+00,\n",
       "        -2.91891892e+00, -2.90890891e+00, -2.89889890e+00, -2.88888889e+00,\n",
       "        -2.87887888e+00, -2.86886887e+00, -2.85885886e+00, -2.84884885e+00,\n",
       "        -2.83883884e+00, -2.82882883e+00, -2.81881882e+00, -2.80880881e+00,\n",
       "        -2.79879880e+00, -2.78878879e+00, -2.77877878e+00, -2.76876877e+00,\n",
       "        -2.75875876e+00, -2.74874875e+00, -2.73873874e+00, -2.72872873e+00,\n",
       "        -2.71871872e+00, -2.70870871e+00, -2.69869870e+00, -2.68868869e+00,\n",
       "        -2.67867868e+00, -2.66866867e+00, -2.65865866e+00, -2.64864865e+00,\n",
       "        -2.63863864e+00, -2.62862863e+00, -2.61861862e+00, -2.60860861e+00,\n",
       "        -2.59859860e+00, -2.58858859e+00, -2.57857858e+00, -2.56856857e+00,\n",
       "        -2.55855856e+00, -2.54854855e+00, -2.53853854e+00, -2.52852853e+00,\n",
       "        -2.51851852e+00, -2.50850851e+00, -2.49849850e+00, -2.48848849e+00,\n",
       "        -2.47847848e+00, -2.46846847e+00, -2.45845846e+00, -2.44844845e+00,\n",
       "        -2.43843844e+00, -2.42842843e+00, -2.41841842e+00, -2.40840841e+00,\n",
       "        -2.39839840e+00, -2.38838839e+00, -2.37837838e+00, -2.36836837e+00,\n",
       "        -2.35835836e+00, -2.34834835e+00, -2.33833834e+00, -2.32832833e+00,\n",
       "        -2.31831832e+00, -2.30830831e+00, -2.29829830e+00, -2.28828829e+00,\n",
       "        -2.27827828e+00, -2.26826827e+00, -2.25825826e+00, -2.24824825e+00,\n",
       "        -2.23823824e+00, -2.22822823e+00, -2.21821822e+00, -2.20820821e+00,\n",
       "        -2.19819820e+00, -2.18818819e+00, -2.17817818e+00, -2.16816817e+00,\n",
       "        -2.15815816e+00, -2.14814815e+00, -2.13813814e+00, -2.12812813e+00,\n",
       "        -2.11811812e+00, -2.10810811e+00, -2.09809810e+00, -2.08808809e+00,\n",
       "        -2.07807808e+00, -2.06806807e+00, -2.05805806e+00, -2.04804805e+00,\n",
       "        -2.03803804e+00, -2.02802803e+00, -2.01801802e+00, -2.00800801e+00,\n",
       "        -1.99799800e+00, -1.98798799e+00, -1.97797798e+00, -1.96796797e+00,\n",
       "        -1.95795796e+00, -1.94794795e+00, -1.93793794e+00, -1.92792793e+00,\n",
       "        -1.91791792e+00, -1.90790791e+00, -1.89789790e+00, -1.88788789e+00,\n",
       "        -1.87787788e+00, -1.86786787e+00, -1.85785786e+00, -1.84784785e+00,\n",
       "        -1.83783784e+00, -1.82782783e+00, -1.81781782e+00, -1.80780781e+00,\n",
       "        -1.79779780e+00, -1.78778779e+00, -1.77777778e+00, -1.76776777e+00,\n",
       "        -1.75775776e+00, -1.74774775e+00, -1.73773774e+00, -1.72772773e+00,\n",
       "        -1.71771772e+00, -1.70770771e+00, -1.69769770e+00, -1.68768769e+00,\n",
       "        -1.67767768e+00, -1.66766767e+00, -1.65765766e+00, -1.64764765e+00,\n",
       "        -1.63763764e+00, -1.62762763e+00, -1.61761762e+00, -1.60760761e+00,\n",
       "        -1.59759760e+00, -1.58758759e+00, -1.57757758e+00, -1.56756757e+00,\n",
       "        -1.55755756e+00, -1.54754755e+00, -1.53753754e+00, -1.52752753e+00,\n",
       "        -1.51751752e+00, -1.50750751e+00, -1.49749750e+00, -1.48748749e+00,\n",
       "        -1.47747748e+00, -1.46746747e+00, -1.45745746e+00, -1.44744745e+00,\n",
       "        -1.43743744e+00, -1.42742743e+00, -1.41741742e+00, -1.40740741e+00,\n",
       "        -1.39739740e+00, -1.38738739e+00, -1.37737738e+00, -1.36736737e+00,\n",
       "        -1.35735736e+00, -1.34734735e+00, -1.33733734e+00, -1.32732733e+00,\n",
       "        -1.31731732e+00, -1.30730731e+00, -1.29729730e+00, -1.28728729e+00,\n",
       "        -1.27727728e+00, -1.26726727e+00, -1.25725726e+00, -1.24724725e+00,\n",
       "        -1.23723724e+00, -1.22722723e+00, -1.21721722e+00, -1.20720721e+00,\n",
       "        -1.19719720e+00, -1.18718719e+00, -1.17717718e+00, -1.16716717e+00,\n",
       "        -1.15715716e+00, -1.14714715e+00, -1.13713714e+00, -1.12712713e+00,\n",
       "        -1.11711712e+00, -1.10710711e+00, -1.09709710e+00, -1.08708709e+00,\n",
       "        -1.07707708e+00, -1.06706707e+00, -1.05705706e+00, -1.04704705e+00,\n",
       "        -1.03703704e+00, -1.02702703e+00, -1.01701702e+00, -1.00700701e+00,\n",
       "        -9.96996997e-01, -9.86986987e-01, -9.76976977e-01, -9.66966967e-01,\n",
       "        -9.56956957e-01, -9.46946947e-01, -9.36936937e-01, -9.26926927e-01,\n",
       "        -9.16916917e-01, -9.06906907e-01, -8.96896897e-01, -8.86886887e-01,\n",
       "        -8.76876877e-01, -8.66866867e-01, -8.56856857e-01, -8.46846847e-01,\n",
       "        -8.36836837e-01, -8.26826827e-01, -8.16816817e-01, -8.06806807e-01,\n",
       "        -7.96796797e-01, -7.86786787e-01, -7.76776777e-01, -7.66766767e-01,\n",
       "        -7.56756757e-01, -7.46746747e-01, -7.36736737e-01, -7.26726727e-01,\n",
       "        -7.16716717e-01, -7.06706707e-01, -6.96696697e-01, -6.86686687e-01,\n",
       "        -6.76676677e-01, -6.66666667e-01, -6.56656657e-01, -6.46646647e-01,\n",
       "        -6.36636637e-01, -6.26626627e-01, -6.16616617e-01, -6.06606607e-01,\n",
       "        -5.96596597e-01, -5.86586587e-01, -5.76576577e-01, -5.66566567e-01,\n",
       "        -5.56556557e-01, -5.46546547e-01, -5.36536537e-01, -5.26526527e-01,\n",
       "        -5.16516517e-01, -5.06506507e-01, -4.96496496e-01, -4.86486486e-01,\n",
       "        -4.76476476e-01, -4.66466466e-01, -4.56456456e-01, -4.46446446e-01,\n",
       "        -4.36436436e-01, -4.26426426e-01, -4.16416416e-01, -4.06406406e-01,\n",
       "        -3.96396396e-01, -3.86386386e-01, -3.76376376e-01, -3.66366366e-01,\n",
       "        -3.56356356e-01, -3.46346346e-01, -3.36336336e-01, -3.26326326e-01,\n",
       "        -3.16316316e-01, -3.06306306e-01, -2.96296296e-01, -2.86286286e-01,\n",
       "        -2.76276276e-01, -2.66266266e-01, -2.56256256e-01, -2.46246246e-01,\n",
       "        -2.36236236e-01, -2.26226226e-01, -2.16216216e-01, -2.06206206e-01,\n",
       "        -1.96196196e-01, -1.86186186e-01, -1.76176176e-01, -1.66166166e-01,\n",
       "        -1.56156156e-01, -1.46146146e-01, -1.36136136e-01, -1.26126126e-01,\n",
       "        -1.16116116e-01, -1.06106106e-01, -9.60960961e-02, -8.60860861e-02,\n",
       "        -7.60760761e-02, -6.60660661e-02, -5.60560561e-02, -4.60460460e-02,\n",
       "        -3.60360360e-02, -2.60260260e-02, -1.60160160e-02, -6.00600601e-03,\n",
       "         4.00400400e-03,  1.40140140e-02,  2.40240240e-02,  3.40340340e-02,\n",
       "         4.40440440e-02,  5.40540541e-02,  6.40640641e-02,  7.40740741e-02,\n",
       "         8.40840841e-02,  9.40940941e-02,  1.04104104e-01,  1.14114114e-01,\n",
       "         1.24124124e-01,  1.34134134e-01,  1.44144144e-01,  1.54154154e-01,\n",
       "         1.64164164e-01,  1.74174174e-01,  1.84184184e-01,  1.94194194e-01,\n",
       "         2.04204204e-01,  2.14214214e-01,  2.24224224e-01,  2.34234234e-01,\n",
       "         2.44244244e-01,  2.54254254e-01,  2.64264264e-01,  2.74274274e-01,\n",
       "         2.84284284e-01,  2.94294294e-01,  3.04304304e-01,  3.14314314e-01,\n",
       "         3.24324324e-01,  3.34334334e-01,  3.44344344e-01,  3.54354354e-01,\n",
       "         3.64364364e-01,  3.74374374e-01,  3.84384384e-01,  3.94394394e-01,\n",
       "         4.04404404e-01,  4.14414414e-01,  4.24424424e-01,  4.34434434e-01,\n",
       "         4.44444444e-01,  4.54454454e-01,  4.64464464e-01,  4.74474474e-01,\n",
       "         4.84484484e-01,  4.94494494e-01,  5.04504505e-01,  5.14514515e-01,\n",
       "         5.24524525e-01,  5.34534535e-01,  5.44544545e-01,  5.54554555e-01,\n",
       "         5.64564565e-01,  5.74574575e-01,  5.84584585e-01,  5.94594595e-01,\n",
       "         6.04604605e-01,  6.14614615e-01,  6.24624625e-01,  6.34634635e-01,\n",
       "         6.44644645e-01,  6.54654655e-01,  6.64664665e-01,  6.74674675e-01,\n",
       "         6.84684685e-01,  6.94694695e-01,  7.04704705e-01,  7.14714715e-01,\n",
       "         7.24724725e-01,  7.34734735e-01,  7.44744745e-01,  7.54754755e-01,\n",
       "         7.64764765e-01,  7.74774775e-01,  7.84784785e-01,  7.94794795e-01,\n",
       "         8.04804805e-01,  8.14814815e-01,  8.24824825e-01,  8.34834835e-01,\n",
       "         8.44844845e-01,  8.54854855e-01,  8.64864865e-01,  8.74874875e-01,\n",
       "         8.84884885e-01,  8.94894895e-01,  9.04904905e-01,  9.14914915e-01,\n",
       "         9.24924925e-01,  9.34934935e-01,  9.44944945e-01,  9.54954955e-01,\n",
       "         9.64964965e-01,  9.74974975e-01,  9.84984985e-01,  9.94994995e-01,\n",
       "         1.00500501e+00,  1.01501502e+00,  1.02502503e+00,  1.03503504e+00,\n",
       "         1.04504505e+00,  1.05505506e+00,  1.06506507e+00,  1.07507508e+00,\n",
       "         1.08508509e+00,  1.09509510e+00,  1.10510511e+00,  1.11511512e+00,\n",
       "         1.12512513e+00,  1.13513514e+00,  1.14514515e+00,  1.15515516e+00,\n",
       "         1.16516517e+00,  1.17517518e+00,  1.18518519e+00,  1.19519520e+00,\n",
       "         1.20520521e+00,  1.21521522e+00,  1.22522523e+00,  1.23523524e+00,\n",
       "         1.24524525e+00,  1.25525526e+00,  1.26526527e+00,  1.27527528e+00,\n",
       "         1.28528529e+00,  1.29529530e+00,  1.30530531e+00,  1.31531532e+00,\n",
       "         1.32532533e+00,  1.33533534e+00,  1.34534535e+00,  1.35535536e+00,\n",
       "         1.36536537e+00,  1.37537538e+00,  1.38538539e+00,  1.39539540e+00,\n",
       "         1.40540541e+00,  1.41541542e+00,  1.42542543e+00,  1.43543544e+00,\n",
       "         1.44544545e+00,  1.45545546e+00,  1.46546547e+00,  1.47547548e+00,\n",
       "         1.48548549e+00,  1.49549550e+00,  1.50550551e+00,  1.51551552e+00,\n",
       "         1.52552553e+00,  1.53553554e+00,  1.54554555e+00,  1.55555556e+00,\n",
       "         1.56556557e+00,  1.57557558e+00,  1.58558559e+00,  1.59559560e+00,\n",
       "         1.60560561e+00,  1.61561562e+00,  1.62562563e+00,  1.63563564e+00,\n",
       "         1.64564565e+00,  1.65565566e+00,  1.66566567e+00,  1.67567568e+00,\n",
       "         1.68568569e+00,  1.69569570e+00,  1.70570571e+00,  1.71571572e+00,\n",
       "         1.72572573e+00,  1.73573574e+00,  1.74574575e+00,  1.75575576e+00,\n",
       "         1.76576577e+00,  1.77577578e+00,  1.78578579e+00,  1.79579580e+00,\n",
       "         1.80580581e+00,  1.81581582e+00,  1.82582583e+00,  1.83583584e+00,\n",
       "         1.84584585e+00,  1.85585586e+00,  1.86586587e+00,  1.87587588e+00,\n",
       "         1.88588589e+00,  1.89589590e+00,  1.90590591e+00,  1.91591592e+00,\n",
       "         1.92592593e+00,  1.93593594e+00,  1.94594595e+00,  1.95595596e+00,\n",
       "         1.96596597e+00,  1.97597598e+00,  1.98598599e+00,  1.99599600e+00,\n",
       "         2.00600601e+00,  2.01601602e+00,  2.02602603e+00,  2.03603604e+00,\n",
       "         2.04604605e+00,  2.05605606e+00,  2.06606607e+00,  2.07607608e+00,\n",
       "         2.08608609e+00,  2.09609610e+00,  2.10610611e+00,  2.11611612e+00,\n",
       "         2.12612613e+00,  2.13613614e+00,  2.14614615e+00,  2.15615616e+00,\n",
       "         2.16616617e+00,  2.17617618e+00,  2.18618619e+00,  2.19619620e+00,\n",
       "         2.20620621e+00,  2.21621622e+00,  2.22622623e+00,  2.23623624e+00,\n",
       "         2.24624625e+00,  2.25625626e+00,  2.26626627e+00,  2.27627628e+00,\n",
       "         2.28628629e+00,  2.29629630e+00,  2.30630631e+00,  2.31631632e+00,\n",
       "         2.32632633e+00,  2.33633634e+00,  2.34634635e+00,  2.35635636e+00,\n",
       "         2.36636637e+00,  2.37637638e+00,  2.38638639e+00,  2.39639640e+00,\n",
       "         2.40640641e+00,  2.41641642e+00,  2.42642643e+00,  2.43643644e+00,\n",
       "         2.44644645e+00,  2.45645646e+00,  2.46646647e+00,  2.47647648e+00,\n",
       "         2.48648649e+00,  2.49649650e+00,  2.50650651e+00,  2.51651652e+00,\n",
       "         2.52652653e+00,  2.53653654e+00,  2.54654655e+00,  2.55655656e+00,\n",
       "         2.56656657e+00,  2.57657658e+00,  2.58658659e+00,  2.59659660e+00,\n",
       "         2.60660661e+00,  2.61661662e+00,  2.62662663e+00,  2.63663664e+00,\n",
       "         2.64664665e+00,  2.65665666e+00,  2.66666667e+00,  2.67667668e+00,\n",
       "         2.68668669e+00,  2.69669670e+00,  2.70670671e+00,  2.71671672e+00,\n",
       "         2.72672673e+00,  2.73673674e+00,  2.74674675e+00,  2.75675676e+00,\n",
       "         2.76676677e+00,  2.77677678e+00,  2.78678679e+00,  2.79679680e+00,\n",
       "         2.80680681e+00,  2.81681682e+00,  2.82682683e+00,  2.83683684e+00,\n",
       "         2.84684685e+00,  2.85685686e+00,  2.86686687e+00,  2.87687688e+00,\n",
       "         2.88688689e+00,  2.89689690e+00,  2.90690691e+00,  2.91691692e+00,\n",
       "         2.92692693e+00,  2.93693694e+00,  2.94694695e+00,  2.95695696e+00,\n",
       "         2.96696697e+00,  2.97697698e+00,  2.98698699e+00,  2.99699700e+00,\n",
       "         3.00700701e+00,  3.01701702e+00,  3.02702703e+00,  3.03703704e+00,\n",
       "         3.04704705e+00,  3.05705706e+00,  3.06706707e+00,  3.07707708e+00,\n",
       "         3.08708709e+00,  3.09709710e+00,  3.10710711e+00,  3.11711712e+00,\n",
       "         3.12712713e+00,  3.13713714e+00,  3.14714715e+00,  3.15715716e+00,\n",
       "         3.16716717e+00,  3.17717718e+00,  3.18718719e+00,  3.19719720e+00,\n",
       "         3.20720721e+00,  3.21721722e+00,  3.22722723e+00,  3.23723724e+00,\n",
       "         3.24724725e+00,  3.25725726e+00,  3.26726727e+00,  3.27727728e+00,\n",
       "         3.28728729e+00,  3.29729730e+00,  3.30730731e+00,  3.31731732e+00,\n",
       "         3.32732733e+00,  3.33733734e+00,  3.34734735e+00,  3.35735736e+00,\n",
       "         3.36736737e+00,  3.37737738e+00,  3.38738739e+00,  3.39739740e+00,\n",
       "         3.40740741e+00,  3.41741742e+00,  3.42742743e+00,  3.43743744e+00,\n",
       "         3.44744745e+00,  3.45745746e+00,  3.46746747e+00,  3.47747748e+00,\n",
       "         3.48748749e+00,  3.49749750e+00,  3.50750751e+00,  3.51751752e+00,\n",
       "         3.52752753e+00,  3.53753754e+00,  3.54754755e+00,  3.55755756e+00,\n",
       "         3.56756757e+00,  3.57757758e+00,  3.58758759e+00,  3.59759760e+00,\n",
       "         3.60760761e+00,  3.61761762e+00,  3.62762763e+00,  3.63763764e+00,\n",
       "         3.64764765e+00,  3.65765766e+00,  3.66766767e+00,  3.67767768e+00,\n",
       "         3.68768769e+00,  3.69769770e+00,  3.70770771e+00,  3.71771772e+00,\n",
       "         3.72772773e+00,  3.73773774e+00,  3.74774775e+00,  3.75775776e+00,\n",
       "         3.76776777e+00,  3.77777778e+00,  3.78778779e+00,  3.79779780e+00,\n",
       "         3.80780781e+00,  3.81781782e+00,  3.82782783e+00,  3.83783784e+00,\n",
       "         3.84784785e+00,  3.85785786e+00,  3.86786787e+00,  3.87787788e+00,\n",
       "         3.88788789e+00,  3.89789790e+00,  3.90790791e+00,  3.91791792e+00,\n",
       "         3.92792793e+00,  3.93793794e+00,  3.94794795e+00,  3.95795796e+00,\n",
       "         3.96796797e+00,  3.97797798e+00,  3.98798799e+00,  3.99799800e+00,\n",
       "         4.00800801e+00,  4.01801802e+00,  4.02802803e+00,  4.03803804e+00,\n",
       "         4.04804805e+00,  4.05805806e+00,  4.06806807e+00,  4.07807808e+00,\n",
       "         4.08808809e+00,  4.09809810e+00,  4.10810811e+00,  4.11811812e+00,\n",
       "         4.12812813e+00,  4.13813814e+00,  4.14814815e+00,  4.15815816e+00,\n",
       "         4.16816817e+00,  4.17817818e+00,  4.18818819e+00,  4.19819820e+00,\n",
       "         4.20820821e+00,  4.21821822e+00,  4.22822823e+00,  4.23823824e+00,\n",
       "         4.24824825e+00,  4.25825826e+00,  4.26826827e+00,  4.27827828e+00,\n",
       "         4.28828829e+00,  4.29829830e+00,  4.30830831e+00,  4.31831832e+00,\n",
       "         4.32832833e+00,  4.33833834e+00,  4.34834835e+00,  4.35835836e+00,\n",
       "         4.36836837e+00,  4.37837838e+00,  4.38838839e+00,  4.39839840e+00,\n",
       "         4.40840841e+00,  4.41841842e+00,  4.42842843e+00,  4.43843844e+00,\n",
       "         4.44844845e+00,  4.45845846e+00,  4.46846847e+00,  4.47847848e+00,\n",
       "         4.48848849e+00,  4.49849850e+00,  4.50850851e+00,  4.51851852e+00,\n",
       "         4.52852853e+00,  4.53853854e+00,  4.54854855e+00,  4.55855856e+00,\n",
       "         4.56856857e+00,  4.57857858e+00,  4.58858859e+00,  4.59859860e+00,\n",
       "         4.60860861e+00,  4.61861862e+00,  4.62862863e+00,  4.63863864e+00,\n",
       "         4.64864865e+00,  4.65865866e+00,  4.66866867e+00,  4.67867868e+00,\n",
       "         4.68868869e+00,  4.69869870e+00,  4.70870871e+00,  4.71871872e+00,\n",
       "         4.72872873e+00,  4.73873874e+00,  4.74874875e+00,  4.75875876e+00,\n",
       "         4.76876877e+00,  4.77877878e+00,  4.78878879e+00,  4.79879880e+00,\n",
       "         4.80880881e+00,  4.81881882e+00,  4.82882883e+00,  4.83883884e+00,\n",
       "         4.84884885e+00,  4.85885886e+00,  4.86886887e+00,  4.87887888e+00,\n",
       "         4.88888889e+00,  4.89889890e+00,  4.90890891e+00,  4.91891892e+00,\n",
       "         4.92892893e+00,  4.93893894e+00,  4.94894895e+00,  4.95895896e+00,\n",
       "         4.96896897e+00,  4.97897898e+00,  4.98898899e+00,  4.99899900e+00,\n",
       "         5.00900901e+00,  5.01901902e+00,  5.02902903e+00,  5.03903904e+00,\n",
       "         5.04904905e+00,  5.05905906e+00,  5.06906907e+00,  5.07907908e+00,\n",
       "         5.08908909e+00,  5.09909910e+00,  5.10910911e+00,  5.11911912e+00,\n",
       "         5.12912913e+00,  5.13913914e+00,  5.14914915e+00,  5.15915916e+00,\n",
       "         5.16916917e+00,  5.17917918e+00,  5.18918919e+00,  5.19919920e+00,\n",
       "         5.20920921e+00,  5.21921922e+00,  5.22922923e+00,  5.23923924e+00,\n",
       "         5.24924925e+00,  5.25925926e+00,  5.26926927e+00,  5.27927928e+00,\n",
       "         5.28928929e+00,  5.29929930e+00,  5.30930931e+00,  5.31931932e+00,\n",
       "         5.32932933e+00,  5.33933934e+00,  5.34934935e+00,  5.35935936e+00,\n",
       "         5.36936937e+00,  5.37937938e+00,  5.38938939e+00,  5.39939940e+00,\n",
       "         5.40940941e+00,  5.41941942e+00,  5.42942943e+00,  5.43943944e+00,\n",
       "         5.44944945e+00,  5.45945946e+00,  5.46946947e+00,  5.47947948e+00,\n",
       "         5.48948949e+00,  5.49949950e+00,  5.50950951e+00,  5.51951952e+00,\n",
       "         5.52952953e+00,  5.53953954e+00,  5.54954955e+00,  5.55955956e+00,\n",
       "         5.56956957e+00,  5.57957958e+00,  5.58958959e+00,  5.59959960e+00,\n",
       "         5.60960961e+00,  5.61961962e+00,  5.62962963e+00,  5.63963964e+00,\n",
       "         5.64964965e+00,  5.65965966e+00,  5.66966967e+00,  5.67967968e+00,\n",
       "         5.68968969e+00,  5.69969970e+00,  5.70970971e+00,  5.71971972e+00,\n",
       "         5.72972973e+00,  5.73973974e+00,  5.74974975e+00,  5.75975976e+00,\n",
       "         5.76976977e+00,  5.77977978e+00,  5.78978979e+00,  5.79979980e+00,\n",
       "         5.80980981e+00,  5.81981982e+00,  5.82982983e+00,  5.83983984e+00,\n",
       "         5.84984985e+00,  5.85985986e+00,  5.86986987e+00,  5.87987988e+00,\n",
       "         5.88988989e+00,  5.89989990e+00,  5.90990991e+00,  5.91991992e+00,\n",
       "         5.92992993e+00,  5.93993994e+00,  5.94994995e+00,  5.95995996e+00,\n",
       "         5.96996997e+00,  5.97997998e+00,  5.98998999e+00,  6.00000000e+00]),\n",
       " ['+', '-', '*', '/'],\n",
       " ['abs', 'exp', 'square', 'cos', 'sin', 'tan', 'tanh', 'sqrt', 'log'])"
      ]
     },
     "execution_count": 19,
     "metadata": {},
     "output_type": "execute_result"
    }
   ],
   "source": [
    "TSR.testAlgorithm({\"file_name\": \"test1\", \"func\": lambda x: x+1})\n"
   ]
  },
  {
   "cell_type": "code",
   "execution_count": 6,
   "id": "8aea2153",
   "metadata": {},
   "outputs": [
    {
     "name": "stdout",
     "output_type": "stream",
     "text": [
      "['+', '-', '*', '/']\n",
      "['+', '-', '*', '/']\n",
      "['+', '-', '*', '/']\n"
     ]
    }
   ],
   "source": [
    "tasks = [[\"test1\", \"test2\", \"test3\"], [lambda x: 2*x+3, lambda x: x**2, lambda x: x**3]]\n",
    "TSR.fit(tasks)\n",
    "results = TSR.runParallel(max_processes=1)\n",
    "\n",
    "for i in results:\n",
    "    print(i[2])"
   ]
  },
  {
   "cell_type": "code",
   "execution_count": 7,
   "id": "5c8a9efc",
   "metadata": {},
   "outputs": [
    {
     "data": {
      "text/plain": [
       "(1000,)"
      ]
     },
     "execution_count": 7,
     "metadata": {},
     "output_type": "execute_result"
    }
   ],
   "source": [
    "arr = np.linspace(1, 2, 1000)\n",
    "arr.shape"
   ]
  },
  {
   "cell_type": "code",
   "execution_count": 9,
   "id": "680db571",
   "metadata": {},
   "outputs": [
    {
     "data": {
      "text/plain": [
       "(1000,)"
      ]
     },
     "execution_count": 9,
     "metadata": {},
     "output_type": "execute_result"
    }
   ],
   "source": [
    "zeros = np.zeros(arr.shape)\n",
    "zeros.shape"
   ]
  }
 ],
 "metadata": {
  "kernelspec": {
   "display_name": ".venv",
   "language": "python",
   "name": "python3"
  },
  "language_info": {
   "codemirror_mode": {
    "name": "ipython",
    "version": 3
   },
   "file_extension": ".py",
   "mimetype": "text/x-python",
   "name": "python",
   "nbconvert_exporter": "python",
   "pygments_lexer": "ipython3",
   "version": "3.10.11"
  },
  "widgets": {
   "application/vnd.jupyter.widget-state+json": {
    "state": {},
    "version_major": 2,
    "version_minor": 0
   }
  }
 },
 "nbformat": 4,
 "nbformat_minor": 5
}
