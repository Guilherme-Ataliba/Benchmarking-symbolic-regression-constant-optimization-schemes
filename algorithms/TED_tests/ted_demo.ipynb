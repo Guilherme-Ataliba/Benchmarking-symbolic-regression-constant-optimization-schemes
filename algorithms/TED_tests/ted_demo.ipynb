{
 "cells": [
  {
   "cell_type": "markdown",
   "metadata": {},
   "source": [
    "## Tree Edit Distance\n",
    "\n",
    "The tree edit distance ([Zhang and Shasha, 1989](https://doi.org/10.1137/0218082)) describes the distance between trees as the number of node deletions, node insertions, and node relabelings we need to apply to transform one tree into another. According to their definition, node deletions push all children of the deleted node up to its parent and insertions push child nodes down to be children of the newly inserted node. The following examples illustrate the edits."
   ]
  },
  {
   "cell_type": "code",
   "execution_count": 1,
   "metadata": {},
   "outputs": [
    {
     "name": "stdout",
     "output_type": "stream",
     "text": [
      "If we relabel node 1 in tree a(b, c) with a d, we obtain the tree a(d, c).\n",
      "If we insert a new node with label d as first child of node 0 tree a(b, c) and use one child as new grandchild, we obtain the tree a(d(b), c).\n",
      "If delete node 1 in tree a(d(b), c), we obtain the tree a(b, c).\n"
     ]
    }
   ],
   "source": [
    "import edist.tree_utils as tree_utils\n",
    "import edist.tree_edits as tree_edits\n",
    "\n",
    "nodes = ['a', 'b', 'c']\n",
    "adj   = [[1, 2], [], []]\n",
    "\n",
    "edit  = tree_edits.Replacement(1, 'd')\n",
    "nodes_post, adj_post = edit.apply(nodes, adj)\n",
    "print('If we relabel node 1 in tree %s with a d, we obtain the tree %s.' % (tree_utils.tree_to_string(nodes, adj), tree_utils.tree_to_string(nodes_post, adj_post)))\n",
    "\n",
    "edit  = tree_edits.Insertion(0, 0, 'd', 1)\n",
    "nodes_post, adj_post = edit.apply(nodes, adj)\n",
    "print('If we insert a new node with label d as first child of node 0 tree %s and use one child as new grandchild, we obtain the tree %s.' % (tree_utils.tree_to_string(nodes, adj), tree_utils.tree_to_string(nodes_post, adj_post)))\n",
    "\n",
    "nodes = nodes_post\n",
    "adj   = adj_post\n",
    "edit  = tree_edits.Deletion(1)\n",
    "nodes_post, adj_post = edit.apply(nodes, adj)\n",
    "print('If delete node 1 in tree %s, we obtain the tree %s.' % (tree_utils.tree_to_string(nodes, adj), tree_utils.tree_to_string(nodes_post, adj_post)))\n"
   ]
  },
  {
   "cell_type": "markdown",
   "metadata": {},
   "source": [
    "Note that we denote trees in a node list/adjacency list format. For example, the tree $a(b, c)$ has the node list `[a, b, c]` (in depth-first-search order) and node 0 has nodes 1 and 2 as children, whereas nodes 1 and 2 have no children of their own, which results in the adjacency list `[[1, 2], [], []]`.\n",
    "\n",
    "Now, given these edit definitions, we can infer that the edit distance between the trees $a(b(c, d), e)$ and $a(c(d))$ is $3$, because we can relabel $b$ into $c$, leave $a$ and $d$ as they were, and delete $c$ and $e$ to transform the former tree into the latter. This example also illustrates that the tree edit distance and the sequence edit distance are _not_ the same thing, because the sequence edit distance on the node list would only be $2$."
   ]
  },
  {
   "cell_type": "code",
   "execution_count": 2,
   "metadata": {},
   "outputs": [
    {
     "name": "stdout",
     "output_type": "stream",
     "text": [
      "The tree edit distance between tree a(b(c, d), e) and tree a(c(d)) is 3.\n",
      "By contrast, the sequence edit distance on the node lists would be 2.\n"
     ]
    }
   ],
   "source": [
    "import edist.ted as ted\n",
    "import edist.sed as sed\n",
    "x_nodes = ['a', 'b', 'c', 'd', 'e']\n",
    "x_adj   = [[1, 4], [2, 3], [], [], []]\n",
    "y_nodes = ['a', 'c', 'd']\n",
    "y_adj   = [[1], [2], []]\n",
    "print('The tree edit distance between tree %s and tree %s is %d.' % (tree_utils.tree_to_string(x_nodes, x_adj), tree_utils.tree_to_string(y_nodes, y_adj), ted.standard_ted(x_nodes, x_adj, y_nodes, y_adj)))\n",
    "print('By contrast, the sequence edit distance on the node lists would be %d.' % (sed.standard_sed(x_nodes, y_nodes)))"
   ]
  },
  {
   "cell_type": "markdown",
   "metadata": {},
   "source": [
    "We can also use backtracing to infer exactly which node has been aligned with which other node."
   ]
  },
  {
   "cell_type": "code",
   "execution_count": 3,
   "metadata": {},
   "outputs": [
    {
     "name": "stdout",
     "output_type": "stream",
     "text": [
      "The following nodes have been aligned.\n",
      "a [0] vs. a [0]\n",
      "b [1] vs. c [1]\n",
      "c [2] vs. -\n",
      "d [3] vs. d [2]\n",
      "e [4] vs. -\n"
     ]
    }
   ],
   "source": [
    "print('The following nodes have been aligned.')\n",
    "alignment = ted.standard_ted_backtrace(x_nodes, x_adj, y_nodes, y_adj)\n",
    "print(alignment.render(x_nodes, y_nodes))"
   ]
  },
  {
   "cell_type": "markdown",
   "metadata": {},
   "source": [
    "We can also infer the tree edits necessary to transform x into y via the tree edits module."
   ]
  },
  {
   "cell_type": "code",
   "execution_count": 4,
   "metadata": {},
   "outputs": [
    {
     "name": "stdout",
     "output_type": "stream",
     "text": [
      "The following edits transform a(b(c, d), e) to a(c(d)): [rep(1, c), del(4), del(2)]\n"
     ]
    }
   ],
   "source": [
    "script = tree_edits.alignment_to_script(alignment, x_nodes, x_adj, y_nodes, y_adj)\n",
    "x_nodes2, x_adj2 = script.apply(x_nodes, x_adj)\n",
    "print('The following edits transform %s to %s: %s' % (tree_utils.tree_to_string(x_nodes, x_adj), tree_utils.tree_to_string(x_nodes2, x_adj2), str(script)))"
   ]
  },
  {
   "cell_type": "markdown",
   "metadata": {},
   "source": [
    "It is also possible to use custom distance functions between tree nodes. For example, assume we wish to compare algebraic expressions but do only wish to compare matching types of nodes."
   ]
  },
  {
   "cell_type": "code",
   "execution_count": 5,
   "metadata": {},
   "outputs": [
    {
     "name": "stdout",
     "output_type": "stream",
     "text": [
      "The tree edit distance between the expressions +(3, *(5, 2)) and *(2, *(2, 3)) is 3.26667\n",
      "The following nodes have been aligned:\n",
      "+ [0] vs. -: 1.0\n",
      "- vs. * [0]: 1.0\n",
      "3 [1] vs. 2 [1]: 0.3333333333333333\n",
      "* [2] vs. * [2]: 0.0\n",
      "5 [3] vs. 2 [3]: 0.6\n",
      "2 [4] vs. 3 [4]: 0.3333333333333333\n"
     ]
    }
   ],
   "source": [
    "x_nodes = ['+', 3, '*', 5, 2]\n",
    "x_adj   = [[1, 2], [], [3, 4], [], []]\n",
    "y_nodes = ['*', 2, '*', 2, 3]\n",
    "y_adj   = [[1, 2], [], [3, 4], [], []]\n",
    "\n",
    "# define the distance between nodes in algebraic expressions\n",
    "import numpy as np\n",
    "def delta(x, y):\n",
    "    if(x is None or y is None):\n",
    "        return 1.\n",
    "    if(x in ['+', '*'] or y in ['+', '*']):\n",
    "        if(x == y):\n",
    "            return 0.\n",
    "        else:\n",
    "            # we forbid alignments of algebraic operators with\n",
    "            # other types by assigning an infinite cost\n",
    "            return np.inf\n",
    "    # at this point, we now that both entries are numbers\n",
    "    return abs(x - y) / max(x, y)\n",
    "\n",
    "print('The tree edit distance between the expressions %s and %s is %g' % (tree_utils.tree_to_string(x_nodes, x_adj), tree_utils.tree_to_string(y_nodes, y_adj), ted.ted(x_nodes, x_adj, y_nodes, y_adj, delta)))\n",
    "alignment = ted.ted_backtrace(x_nodes, x_adj, y_nodes, y_adj, delta)\n",
    "print('The following nodes have been aligned:')\n",
    "print(alignment.render(x_nodes, y_nodes, delta))"
   ]
  }
 ],
 "metadata": {
  "kernelspec": {
   "display_name": "Python 3",
   "language": "python",
   "name": "python3"
  },
  "language_info": {
   "codemirror_mode": {
    "name": "ipython",
    "version": 3
   },
   "file_extension": ".py",
   "mimetype": "text/x-python",
   "name": "python",
   "nbconvert_exporter": "python",
   "pygments_lexer": "ipython3",
   "version": "3.7.3"
  }
 },
 "nbformat": 4,
 "nbformat_minor": 2
}
