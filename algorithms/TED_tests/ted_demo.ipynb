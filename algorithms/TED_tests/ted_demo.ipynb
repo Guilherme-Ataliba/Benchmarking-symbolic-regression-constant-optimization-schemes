{
 "cells": [
  {
   "cell_type": "markdown",
   "metadata": {},
   "source": [
    "# Personal Tests"
   ]
  },
  {
   "cell_type": "code",
   "execution_count": 45,
   "metadata": {},
   "outputs": [
    {
     "name": "stdout",
     "output_type": "stream",
     "text": [
      "3.10.11 (tags/v3.10.11:7d4cc5a, Apr  5 2023, 00:38:17) [MSC v.1929 64 bit (AMD64)]\n",
      "2.0.1\n"
     ]
    }
   ],
   "source": [
    "import sys\n",
    "import numpy as np\n",
    "\n",
    "print(sys.version)\n",
    "print(np.__version__)"
   ]
  },
  {
   "cell_type": "code",
   "execution_count": 60,
   "metadata": {},
   "outputs": [],
   "source": [
    "import edist.ted as ted\n",
    "import numpy as np"
   ]
  },
  {
   "cell_type": "code",
   "execution_count": 61,
   "metadata": {},
   "outputs": [
    {
     "data": {
      "text/plain": [
       "'+(x, 2)'"
      ]
     },
     "execution_count": 61,
     "metadata": {},
     "output_type": "execute_result"
    }
   ],
   "source": [
    "tree1 = {\"nodes\": np.array([\"+\", \"x\", \"2\"]),\n",
    "         \"adj\": [[1, 2], [], []]}\n",
    "tree_utils.tree_to_string(tree1[\"nodes\"], tree1[\"adj\"])"
   ]
  },
  {
   "cell_type": "code",
   "execution_count": 62,
   "metadata": {},
   "outputs": [
    {
     "data": {
      "text/plain": [
       "'x(2, x)'"
      ]
     },
     "execution_count": 62,
     "metadata": {},
     "output_type": "execute_result"
    }
   ],
   "source": [
    "tree2 = {\"nodes\": [\"x\", \"2\", \"x\"],\n",
    "         \"adj\": [[1, 2], [], []]}\n",
    "tree_utils.tree_to_string(tree2[\"nodes\"], tree2[\"adj\"])"
   ]
  },
  {
   "cell_type": "code",
   "execution_count": 63,
   "metadata": {},
   "outputs": [
    {
     "ename": "ValueError",
     "evalue": "Buffer dtype mismatch, expected 'long' but got 'long long'",
     "output_type": "error",
     "traceback": [
      "\u001b[1;31m---------------------------------------------------------------------------\u001b[0m",
      "\u001b[1;31mValueError\u001b[0m                                Traceback (most recent call last)",
      "Cell \u001b[1;32mIn[63], line 1\u001b[0m\n\u001b[1;32m----> 1\u001b[0m \u001b[43mted\u001b[49m\u001b[38;5;241;43m.\u001b[39;49m\u001b[43mstandard_ted\u001b[49m\u001b[43m(\u001b[49m\u001b[43mtree1\u001b[49m\u001b[43m[\u001b[49m\u001b[38;5;124;43m\"\u001b[39;49m\u001b[38;5;124;43mnodes\u001b[39;49m\u001b[38;5;124;43m\"\u001b[39;49m\u001b[43m]\u001b[49m\u001b[43m,\u001b[49m\u001b[43m \u001b[49m\u001b[43mtree1\u001b[49m\u001b[43m[\u001b[49m\u001b[38;5;124;43m\"\u001b[39;49m\u001b[38;5;124;43madj\u001b[39;49m\u001b[38;5;124;43m\"\u001b[39;49m\u001b[43m]\u001b[49m\u001b[43m,\u001b[49m\u001b[43m \u001b[49m\u001b[43mtree2\u001b[49m\u001b[43m[\u001b[49m\u001b[38;5;124;43m\"\u001b[39;49m\u001b[38;5;124;43mnodes\u001b[39;49m\u001b[38;5;124;43m\"\u001b[39;49m\u001b[43m]\u001b[49m\u001b[43m,\u001b[49m\u001b[43m \u001b[49m\u001b[43mtree2\u001b[49m\u001b[43m[\u001b[49m\u001b[38;5;124;43m\"\u001b[39;49m\u001b[38;5;124;43madj\u001b[39;49m\u001b[38;5;124;43m\"\u001b[39;49m\u001b[43m]\u001b[49m\u001b[43m)\u001b[49m\n",
      "File \u001b[1;32medist/ted.pyx:917\u001b[0m, in \u001b[0;36mted.standard_ted\u001b[1;34m()\u001b[0m\n",
      "File \u001b[1;32medist/ted.pyx:930\u001b[0m, in \u001b[0;36mted._standard_ted\u001b[1;34m()\u001b[0m\n",
      "\u001b[1;31mValueError\u001b[0m: Buffer dtype mismatch, expected 'long' but got 'long long'"
     ]
    }
   ],
   "source": [
    "ted.standard_ted(tree1[\"nodes\"], tree1[\"adj\"], tree2[\"nodes\"], tree2[\"adj\"])"
   ]
  },
  {
   "cell_type": "markdown",
   "metadata": {},
   "source": [
    "## Tree Edit Distance\n",
    "\n",
    "The tree edit distance ([Zhang and Shasha, 1989](https://doi.org/10.1137/0218082)) describes the distance between trees as the number of node deletions, node insertions, and node relabelings we need to apply to transform one tree into another. According to their definition, node deletions push all children of the deleted node up to its parent and insertions push child nodes down to be children of the newly inserted node. The following examples illustrate the edits."
   ]
  },
  {
   "cell_type": "code",
   "execution_count": 35,
   "metadata": {},
   "outputs": [
    {
     "name": "stdout",
     "output_type": "stream",
     "text": [
      "If we relabel node 1 in tree a(b, c) with a d, we obtain the tree a(d, c).\n",
      "If we insert a new node with label d as first child of node 0 tree a(b, c) and use one child as new grandchild, we obtain the tree a(d(b), c).\n",
      "If delete node 1 in tree a(d(b), c), we obtain the tree a(b, c).\n"
     ]
    }
   ],
   "source": [
    "import edist.tree_utils as tree_utils\n",
    "import edist.tree_edits as tree_edits\n",
    "\n",
    "nodes = ['a', 'b', 'c']\n",
    "adj   = [[1, 2], [], []]\n",
    "\n",
    "edit  = tree_edits.Replacement(1, 'd')\n",
    "nodes_post, adj_post = edit.apply(nodes, adj)\n",
    "print('If we relabel node 1 in tree %s with a d, we obtain the tree %s.' % (tree_utils.tree_to_string(nodes, adj), tree_utils.tree_to_string(nodes_post, adj_post)))\n",
    "\n",
    "edit  = tree_edits.Insertion(0, 0, 'd', 1)\n",
    "nodes_post, adj_post = edit.apply(nodes, adj)\n",
    "print('If we insert a new node with label d as first child of node 0 tree %s and use one child as new grandchild, we obtain the tree %s.' % (tree_utils.tree_to_string(nodes, adj), tree_utils.tree_to_string(nodes_post, adj_post)))\n",
    "\n",
    "nodes = nodes_post\n",
    "adj   = adj_post\n",
    "edit  = tree_edits.Deletion(1)\n",
    "nodes_post, adj_post = edit.apply(nodes, adj)\n",
    "print('If delete node 1 in tree %s, we obtain the tree %s.' % (tree_utils.tree_to_string(nodes, adj), tree_utils.tree_to_string(nodes_post, adj_post)))\n"
   ]
  },
  {
   "cell_type": "markdown",
   "metadata": {},
   "source": [
    "Note that we denote trees in a node list/adjacency list format. For example, the tree $a(b, c)$ has the node list `[a, b, c]` (in depth-first-search order) and node 0 has nodes 1 and 2 as children, whereas nodes 1 and 2 have no children of their own, which results in the adjacency list `[[1, 2], [], []]`.\n",
    "\n",
    "Now, given these edit definitions, we can infer that the edit distance between the trees $a(b(c, d), e)$ and $a(c(d))$ is $3$, because we can relabel $b$ into $c$, leave $a$ and $d$ as they were, and delete $c$ and $e$ to transform the former tree into the latter. This example also illustrates that the tree edit distance and the sequence edit distance are _not_ the same thing, because the sequence edit distance on the node list would only be $2$."
   ]
  },
  {
   "cell_type": "code",
   "execution_count": 36,
   "metadata": {},
   "outputs": [
    {
     "ename": "ValueError",
     "evalue": "Buffer dtype mismatch, expected 'long' but got 'long long'",
     "output_type": "error",
     "traceback": [
      "\u001b[1;31m---------------------------------------------------------------------------\u001b[0m",
      "\u001b[1;31mValueError\u001b[0m                                Traceback (most recent call last)",
      "Cell \u001b[1;32mIn[36], line 7\u001b[0m\n\u001b[0;32m      5\u001b[0m y_nodes \u001b[38;5;241m=\u001b[39m [\u001b[38;5;124m'\u001b[39m\u001b[38;5;124ma\u001b[39m\u001b[38;5;124m'\u001b[39m, \u001b[38;5;124m'\u001b[39m\u001b[38;5;124mc\u001b[39m\u001b[38;5;124m'\u001b[39m, \u001b[38;5;124m'\u001b[39m\u001b[38;5;124md\u001b[39m\u001b[38;5;124m'\u001b[39m]\n\u001b[0;32m      6\u001b[0m y_adj   \u001b[38;5;241m=\u001b[39m [[\u001b[38;5;241m1\u001b[39m], [\u001b[38;5;241m2\u001b[39m], []]\n\u001b[1;32m----> 7\u001b[0m \u001b[38;5;28mprint\u001b[39m(\u001b[38;5;124m'\u001b[39m\u001b[38;5;124mThe tree edit distance between tree \u001b[39m\u001b[38;5;132;01m%s\u001b[39;00m\u001b[38;5;124m and tree \u001b[39m\u001b[38;5;132;01m%s\u001b[39;00m\u001b[38;5;124m is \u001b[39m\u001b[38;5;132;01m%d\u001b[39;00m\u001b[38;5;124m.\u001b[39m\u001b[38;5;124m'\u001b[39m \u001b[38;5;241m%\u001b[39m (tree_utils\u001b[38;5;241m.\u001b[39mtree_to_string(x_nodes, x_adj), tree_utils\u001b[38;5;241m.\u001b[39mtree_to_string(y_nodes, y_adj), \u001b[43mted\u001b[49m\u001b[38;5;241;43m.\u001b[39;49m\u001b[43mstandard_ted\u001b[49m\u001b[43m(\u001b[49m\u001b[43mx_nodes\u001b[49m\u001b[43m,\u001b[49m\u001b[43m \u001b[49m\u001b[43mx_adj\u001b[49m\u001b[43m,\u001b[49m\u001b[43m \u001b[49m\u001b[43my_nodes\u001b[49m\u001b[43m,\u001b[49m\u001b[43m \u001b[49m\u001b[43my_adj\u001b[49m\u001b[43m)\u001b[49m))\n\u001b[0;32m      8\u001b[0m \u001b[38;5;28mprint\u001b[39m(\u001b[38;5;124m'\u001b[39m\u001b[38;5;124mBy contrast, the sequence edit distance on the node lists would be \u001b[39m\u001b[38;5;132;01m%d\u001b[39;00m\u001b[38;5;124m.\u001b[39m\u001b[38;5;124m'\u001b[39m \u001b[38;5;241m%\u001b[39m (sed\u001b[38;5;241m.\u001b[39mstandard_sed(x_nodes, y_nodes)))\n",
      "File \u001b[1;32medist/ted.pyx:917\u001b[0m, in \u001b[0;36mted.standard_ted\u001b[1;34m()\u001b[0m\n",
      "File \u001b[1;32medist/ted.pyx:930\u001b[0m, in \u001b[0;36mted._standard_ted\u001b[1;34m()\u001b[0m\n",
      "\u001b[1;31mValueError\u001b[0m: Buffer dtype mismatch, expected 'long' but got 'long long'"
     ]
    }
   ],
   "source": [
    "import edist.ted as ted\n",
    "import edist.sed as sed\n",
    "x_nodes = ['a', 'b', 'c', 'd', 'e']\n",
    "x_adj   = [[1, 4], [2, 3], [], [], []]\n",
    "y_nodes = ['a', 'c', 'd']\n",
    "y_adj   = [[1], [2], []]\n",
    "print('The tree edit distance between tree %s and tree %s is %d.' % (tree_utils.tree_to_string(x_nodes, x_adj), tree_utils.tree_to_string(y_nodes, y_adj), ted.standard_ted(x_nodes, x_adj, y_nodes, y_adj)))\n",
    "print('By contrast, the sequence edit distance on the node lists would be %d.' % (sed.standard_sed(x_nodes, y_nodes)))"
   ]
  },
  {
   "cell_type": "markdown",
   "metadata": {},
   "source": [
    "We can also use backtracing to infer exactly which node has been aligned with which other node."
   ]
  },
  {
   "cell_type": "code",
   "execution_count": 3,
   "metadata": {},
   "outputs": [
    {
     "name": "stdout",
     "output_type": "stream",
     "text": [
      "The following nodes have been aligned.\n",
      "a [0] vs. a [0]\n",
      "b [1] vs. c [1]\n",
      "c [2] vs. -\n",
      "d [3] vs. d [2]\n",
      "e [4] vs. -\n"
     ]
    }
   ],
   "source": [
    "print('The following nodes have been aligned.')\n",
    "alignment = ted.standard_ted_backtrace(x_nodes, x_adj, y_nodes, y_adj)\n",
    "print(alignment.render(x_nodes, y_nodes))"
   ]
  },
  {
   "cell_type": "markdown",
   "metadata": {},
   "source": [
    "We can also infer the tree edits necessary to transform x into y via the tree edits module."
   ]
  },
  {
   "cell_type": "code",
   "execution_count": 4,
   "metadata": {},
   "outputs": [
    {
     "name": "stdout",
     "output_type": "stream",
     "text": [
      "The following edits transform a(b(c, d), e) to a(c(d)): [rep(1, c), del(4), del(2)]\n"
     ]
    }
   ],
   "source": [
    "script = tree_edits.alignment_to_script(alignment, x_nodes, x_adj, y_nodes, y_adj)\n",
    "x_nodes2, x_adj2 = script.apply(x_nodes, x_adj)\n",
    "print('The following edits transform %s to %s: %s' % (tree_utils.tree_to_string(x_nodes, x_adj), tree_utils.tree_to_string(x_nodes2, x_adj2), str(script)))"
   ]
  },
  {
   "cell_type": "markdown",
   "metadata": {},
   "source": [
    "It is also possible to use custom distance functions between tree nodes. For example, assume we wish to compare algebraic expressions but do only wish to compare matching types of nodes."
   ]
  },
  {
   "cell_type": "code",
   "execution_count": 37,
   "metadata": {},
   "outputs": [
    {
     "ename": "ValueError",
     "evalue": "Buffer dtype mismatch, expected 'long' but got 'long long'",
     "output_type": "error",
     "traceback": [
      "\u001b[1;31m---------------------------------------------------------------------------\u001b[0m",
      "\u001b[1;31mValueError\u001b[0m                                Traceback (most recent call last)",
      "Cell \u001b[1;32mIn[37], line 21\u001b[0m\n\u001b[0;32m     18\u001b[0m     \u001b[38;5;66;03m# at this point, we now that both entries are numbers\u001b[39;00m\n\u001b[0;32m     19\u001b[0m     \u001b[38;5;28;01mreturn\u001b[39;00m \u001b[38;5;28mabs\u001b[39m(x \u001b[38;5;241m-\u001b[39m y) \u001b[38;5;241m/\u001b[39m \u001b[38;5;28mmax\u001b[39m(x, y)\n\u001b[1;32m---> 21\u001b[0m \u001b[38;5;28mprint\u001b[39m(\u001b[38;5;124m'\u001b[39m\u001b[38;5;124mThe tree edit distance between the expressions \u001b[39m\u001b[38;5;132;01m%s\u001b[39;00m\u001b[38;5;124m and \u001b[39m\u001b[38;5;132;01m%s\u001b[39;00m\u001b[38;5;124m is \u001b[39m\u001b[38;5;132;01m%g\u001b[39;00m\u001b[38;5;124m'\u001b[39m \u001b[38;5;241m%\u001b[39m (tree_utils\u001b[38;5;241m.\u001b[39mtree_to_string(x_nodes, x_adj), tree_utils\u001b[38;5;241m.\u001b[39mtree_to_string(y_nodes, y_adj), \u001b[43mted\u001b[49m\u001b[38;5;241;43m.\u001b[39;49m\u001b[43mted\u001b[49m\u001b[43m(\u001b[49m\u001b[43mx_nodes\u001b[49m\u001b[43m,\u001b[49m\u001b[43m \u001b[49m\u001b[43mx_adj\u001b[49m\u001b[43m,\u001b[49m\u001b[43m \u001b[49m\u001b[43my_nodes\u001b[49m\u001b[43m,\u001b[49m\u001b[43m \u001b[49m\u001b[43my_adj\u001b[49m\u001b[43m,\u001b[49m\u001b[43m \u001b[49m\u001b[43mdelta\u001b[49m\u001b[43m)\u001b[49m))\n\u001b[0;32m     22\u001b[0m alignment \u001b[38;5;241m=\u001b[39m ted\u001b[38;5;241m.\u001b[39mted_backtrace(x_nodes, x_adj, y_nodes, y_adj, delta)\n\u001b[0;32m     23\u001b[0m \u001b[38;5;28mprint\u001b[39m(\u001b[38;5;124m'\u001b[39m\u001b[38;5;124mThe following nodes have been aligned:\u001b[39m\u001b[38;5;124m'\u001b[39m)\n",
      "File \u001b[1;32medist/ted.pyx:96\u001b[0m, in \u001b[0;36mted.ted\u001b[1;34m()\u001b[0m\n",
      "File \u001b[1;32medist/ted.pyx:125\u001b[0m, in \u001b[0;36mted._ted\u001b[1;34m()\u001b[0m\n",
      "File \u001b[1;32medist/ted.pyx:202\u001b[0m, in \u001b[0;36mted.outermost_right_leaves\u001b[1;34m()\u001b[0m\n",
      "\u001b[1;31mValueError\u001b[0m: Buffer dtype mismatch, expected 'long' but got 'long long'"
     ]
    }
   ],
   "source": [
    "x_nodes = ['+', 3, '*', 5, 2]\n",
    "x_adj   = [[1, 2], [], [3, 4], [], []]\n",
    "y_nodes = ['*', 2, '*', 2, 3]\n",
    "y_adj   = [[1, 2], [], [3, 4], [], []]\n",
    "\n",
    "# define the distance between nodes in algebraic expressions\n",
    "import numpy as np\n",
    "def delta(x, y):\n",
    "    if(x is None or y is None):\n",
    "        return 1.\n",
    "    if(x in ['+', '*'] or y in ['+', '*']):\n",
    "        if(x == y):\n",
    "            return 0.\n",
    "        else:\n",
    "            # we forbid alignments of algebraic operators with\n",
    "            # other types by assigning an infinite cost\n",
    "            return np.inf\n",
    "    # at this point, we now that both entries are numbers\n",
    "    return abs(x - y) / max(x, y)\n",
    "\n",
    "print('The tree edit distance between the expressions %s and %s is %g' % (tree_utils.tree_to_string(x_nodes, x_adj), tree_utils.tree_to_string(y_nodes, y_adj), ted.ted(x_nodes, x_adj, y_nodes, y_adj, delta)))\n",
    "alignment = ted.ted_backtrace(x_nodes, x_adj, y_nodes, y_adj, delta)\n",
    "print('The following nodes have been aligned:')\n",
    "print(alignment.render(x_nodes, y_nodes, delta))"
   ]
  }
 ],
 "metadata": {
  "kernelspec": {
   "display_name": "Python 3",
   "language": "python",
   "name": "python3"
  },
  "language_info": {
   "codemirror_mode": {
    "name": "ipython",
    "version": 3
   },
   "file_extension": ".py",
   "mimetype": "text/x-python",
   "name": "python",
   "nbconvert_exporter": "python",
   "pygments_lexer": "ipython3",
   "version": "3.10.11"
  }
 },
 "nbformat": 4,
 "nbformat_minor": 2
}
