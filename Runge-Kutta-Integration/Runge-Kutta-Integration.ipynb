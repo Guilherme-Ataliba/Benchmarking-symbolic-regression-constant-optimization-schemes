{
 "cells": [
  {
   "cell_type": "markdown",
   "id": "9ef4c17b-4c50-4f42-b6c0-35a7a6e4617f",
   "metadata": {},
   "source": [
    "# 1 Run This In Terminal\n",
    "```bash\n",
    "gcc -fPIC -shared -o clibrary_name.so source_c_file.c\n",
    "```\n",
    "\n",
    "It won't show upp in jupyter lab"
   ]
  },
  {
   "cell_type": "code",
   "execution_count": 2,
   "id": "81e34c44-774d-48de-bda3-a98823dc4836",
   "metadata": {},
   "outputs": [],
   "source": [
    "import ctypes\n",
    "import sys\n",
    "import pandas as pd"
   ]
  },
  {
   "cell_type": "code",
   "execution_count": 3,
   "id": "ca01c472-06fd-44b5-b2b9-a469bc737dfc",
   "metadata": {},
   "outputs": [],
   "source": [
    "path = \"D:/Documents/Coding/Repositorios/Meus Repositórios/Symbolic-Regression/Phase Three - SR/Runge-Kutta-Integration/clibrary.so\"\n",
    "clibrary = ctypes.CDLL(path)"
   ]
  },
  {
   "cell_type": "code",
   "execution_count": 4,
   "id": "5b396573-e417-45c9-a8cb-0a241b01484e",
   "metadata": {},
   "outputs": [
    {
     "data": {
      "text/plain": [
       "0"
      ]
     },
     "execution_count": 4,
     "metadata": {},
     "output_type": "execute_result"
    }
   ],
   "source": [
    "clibrary.main()"
   ]
  },
  {
   "cell_type": "code",
   "execution_count": 5,
   "id": "3ede5892-88ce-48d8-8f10-d073bf5effbc",
   "metadata": {},
   "outputs": [
    {
     "data": {
      "text/html": [
       "<div>\n",
       "<style scoped>\n",
       "    .dataframe tbody tr th:only-of-type {\n",
       "        vertical-align: middle;\n",
       "    }\n",
       "\n",
       "    .dataframe tbody tr th {\n",
       "        vertical-align: top;\n",
       "    }\n",
       "\n",
       "    .dataframe thead th {\n",
       "        text-align: right;\n",
       "    }\n",
       "</style>\n",
       "<table border=\"1\" class=\"dataframe\">\n",
       "  <thead>\n",
       "    <tr style=\"text-align: right;\">\n",
       "      <th></th>\n",
       "      <th>x</th>\n",
       "      <th>y</th>\n",
       "    </tr>\n",
       "  </thead>\n",
       "  <tbody>\n",
       "    <tr>\n",
       "      <th>0</th>\n",
       "      <td>0.00</td>\n",
       "      <td>0.174533</td>\n",
       "    </tr>\n",
       "    <tr>\n",
       "      <th>1</th>\n",
       "      <td>0.01</td>\n",
       "      <td>0.174448</td>\n",
       "    </tr>\n",
       "    <tr>\n",
       "      <th>2</th>\n",
       "      <td>0.02</td>\n",
       "      <td>0.174193</td>\n",
       "    </tr>\n",
       "    <tr>\n",
       "      <th>3</th>\n",
       "      <td>0.03</td>\n",
       "      <td>0.173768</td>\n",
       "    </tr>\n",
       "    <tr>\n",
       "      <th>4</th>\n",
       "      <td>0.04</td>\n",
       "      <td>0.173173</td>\n",
       "    </tr>\n",
       "    <tr>\n",
       "      <th>5</th>\n",
       "      <td>0.05</td>\n",
       "      <td>0.172410</td>\n",
       "    </tr>\n",
       "    <tr>\n",
       "      <th>6</th>\n",
       "      <td>0.06</td>\n",
       "      <td>0.171479</td>\n",
       "    </tr>\n",
       "    <tr>\n",
       "      <th>7</th>\n",
       "      <td>0.07</td>\n",
       "      <td>0.170380</td>\n",
       "    </tr>\n",
       "    <tr>\n",
       "      <th>8</th>\n",
       "      <td>0.08</td>\n",
       "      <td>0.169115</td>\n",
       "    </tr>\n",
       "    <tr>\n",
       "      <th>9</th>\n",
       "      <td>0.09</td>\n",
       "      <td>0.167686</td>\n",
       "    </tr>\n",
       "  </tbody>\n",
       "</table>\n",
       "</div>"
      ],
      "text/plain": [
       "      x         y\n",
       "0  0.00  0.174533\n",
       "1  0.01  0.174448\n",
       "2  0.02  0.174193\n",
       "3  0.03  0.173768\n",
       "4  0.04  0.173173\n",
       "5  0.05  0.172410\n",
       "6  0.06  0.171479\n",
       "7  0.07  0.170380\n",
       "8  0.08  0.169115\n",
       "9  0.09  0.167686"
      ]
     },
     "execution_count": 5,
     "metadata": {},
     "output_type": "execute_result"
    }
   ],
   "source": [
    "data = pd.read_csv(\"rungekutta.csv\", header=None)\n",
    "data.columns = [\"x\", \"y\", \"omega\"]\n",
    "data.drop(\"omega\", axis=1, inplace=True)\n",
    "data.head(10)"
   ]
  },
  {
   "cell_type": "code",
   "execution_count": 11,
   "id": "fcb0cf50-5d94-4ccf-8ab6-df2e77581d1c",
   "metadata": {},
   "outputs": [],
   "source": [
    "data.to_csv(\"rungekutta_prepared.csv\", index=False)"
   ]
  },
  {
   "cell_type": "code",
   "execution_count": 7,
   "id": "bd677373-a9ab-425d-91be-aa293429b15e",
   "metadata": {},
   "outputs": [],
   "source": [
    "import sys\n",
    "sys.path.insert(1, r\"D:\\Program Files (x86)\\TuringBot\")\n",
    "\n",
    "import turingbot as tb\n",
    "import time\n",
    "\n",
    "path = r'D:\\Program Files (x86)\\TuringBot\\TuringBot.exe' \n",
    "input_file = r'D:\\Documents\\Coding\\Repositorios\\Meus Repositórios\\Symbolic-Regression\\Phase Three - SR\\Runge-Kutta-Integration\\rungekutta.csv' \n",
    "config_file = r'D:\\Documents\\Coding\\Repositorios\\Meus Repositórios\\Symbolic-Regression\\Phase Three - SR\\Runge-Kutta-Integration\\settings.cfg' "
   ]
  },
  {
   "cell_type": "code",
   "execution_count": 8,
   "id": "5065dbeb-c3b5-4dfc-8b7e-bdfca1f82252",
   "metadata": {},
   "outputs": [],
   "source": [
    "sim = tb.simulation()\n",
    "\n",
    "sim.start_process(path=path, input_file=input_file, threads=4, config=config_file)\n",
    "\n",
    "time.sleep(10)\n",
    "\n",
    "sim.refresh_functions()"
   ]
  },
  {
   "cell_type": "code",
   "execution_count": 9,
   "id": "ce62b823-d689-4fd4-9d0b-5d27ea947f4c",
   "metadata": {},
   "outputs": [
    {
     "data": {
      "text/plain": [
       "[]"
      ]
     },
     "execution_count": 9,
     "metadata": {},
     "output_type": "execute_result"
    }
   ],
   "source": [
    "sim.functions"
   ]
  },
  {
   "cell_type": "code",
   "execution_count": 10,
   "id": "4898203a-be51-41e8-8881-a30d48625556",
   "metadata": {},
   "outputs": [
    {
     "name": "stdout",
     "output_type": "stream",
     "text": [
      "\n"
     ]
    }
   ],
   "source": [
    "print(*sim.functions, sep='\\n')\n",
    "\n",
    "sim.terminate_process()"
   ]
  }
 ],
 "metadata": {
  "kernelspec": {
   "display_name": "Python 3 (ipykernel)",
   "language": "python",
   "name": "python3"
  },
  "language_info": {
   "codemirror_mode": {
    "name": "ipython",
    "version": 3
   },
   "file_extension": ".py",
   "mimetype": "text/x-python",
   "name": "python",
   "nbconvert_exporter": "python",
   "pygments_lexer": "ipython3",
   "version": "3.9.13"
  },
  "widgets": {
   "application/vnd.jupyter.widget-state+json": {
    "state": {},
    "version_major": 2,
    "version_minor": 0
   }
  }
 },
 "nbformat": 4,
 "nbformat_minor": 5
}
