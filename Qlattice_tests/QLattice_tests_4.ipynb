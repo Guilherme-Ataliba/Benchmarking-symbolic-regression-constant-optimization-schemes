{
 "cells": [
  {
   "cell_type": "code",
   "execution_count": 74,
   "id": "cc1e4df8-84e5-4532-80bb-022863c79cf9",
   "metadata": {},
   "outputs": [],
   "source": [
    "import feyn\n",
    "\n",
    "ql = feyn.QLattice(random_seed=42)"
   ]
  },
  {
   "cell_type": "code",
   "execution_count": 75,
   "id": "fa349fb2-15fc-4b03-8912-c6278ad2a3e5",
   "metadata": {},
   "outputs": [
    {
     "data": {
      "image/png": "[encoded data removed]",
      "text/plain": [
       "<Figure size 640x480 with 1 Axes>"
      ]
     },
     "metadata": {},
     "output_type": "display_data"
    }
   ],
   "source": [
    "import numpy as np\n",
    "import matplotlib.pyplot as plt\n",
    "\n",
    "X = np.linspace(-1.5, 1.5, 1000)\n",
    "y = 2**(X) - 4*X**3\n",
    "\n",
    "plt.plot(X, y, linewidth=1)\n",
    "plt.ylim(0, 10)\n",
    "plt.xlim(-2, 2)\n",
    "plt.show()"
   ]
  },
  {
   "cell_type": "code",
   "execution_count": 76,
   "id": "62e374ee-cdef-4f52-8868-71f1b986c2a8",
   "metadata": {},
   "outputs": [],
   "source": [
    "import pandas as pd\n",
    "\n",
    "data = np.c_[X, y]\n",
    "data = pd.DataFrame(data, columns=[\"x\", \"y\"])"
   ]
  },
  {
   "cell_type": "code",
   "execution_count": 77,
   "id": "54de83c5-f37a-4247-ba70-4cc90c083f5a",
   "metadata": {},
   "outputs": [
    {
     "data": {
      "text/html": [
       "<div>\n",
       "<style scoped>\n",
       "    .dataframe tbody tr th:only-of-type {\n",
       "        vertical-align: middle;\n",
       "    }\n",
       "\n",
       "    .dataframe tbody tr th {\n",
       "        vertical-align: top;\n",
       "    }\n",
       "\n",
       "    .dataframe thead th {\n",
       "        text-align: right;\n",
       "    }\n",
       "</style>\n",
       "<table border=\"1\" class=\"dataframe\">\n",
       "  <thead>\n",
       "    <tr style=\"text-align: right;\">\n",
       "      <th></th>\n",
       "      <th>x</th>\n",
       "      <th>y</th>\n",
       "    </tr>\n",
       "  </thead>\n",
       "  <tbody>\n",
       "    <tr>\n",
       "      <th>0</th>\n",
       "      <td>-1.500000</td>\n",
       "      <td>13.853553</td>\n",
       "    </tr>\n",
       "    <tr>\n",
       "      <th>1</th>\n",
       "      <td>-1.496997</td>\n",
       "      <td>13.773371</td>\n",
       "    </tr>\n",
       "    <tr>\n",
       "      <th>2</th>\n",
       "      <td>-1.493994</td>\n",
       "      <td>13.693515</td>\n",
       "    </tr>\n",
       "    <tr>\n",
       "      <th>3</th>\n",
       "      <td>-1.490991</td>\n",
       "      <td>13.613983</td>\n",
       "    </tr>\n",
       "    <tr>\n",
       "      <th>4</th>\n",
       "      <td>-1.487988</td>\n",
       "      <td>13.534775</td>\n",
       "    </tr>\n",
       "    <tr>\n",
       "      <th>...</th>\n",
       "      <td>...</td>\n",
       "      <td>...</td>\n",
       "    </tr>\n",
       "    <tr>\n",
       "      <th>995</th>\n",
       "      <td>1.487988</td>\n",
       "      <td>-10.373291</td>\n",
       "    </tr>\n",
       "    <tr>\n",
       "      <th>996</th>\n",
       "      <td>1.490991</td>\n",
       "      <td>-10.447395</td>\n",
       "    </tr>\n",
       "    <tr>\n",
       "      <th>997</th>\n",
       "      <td>1.493994</td>\n",
       "      <td>-10.521810</td>\n",
       "    </tr>\n",
       "    <tr>\n",
       "      <th>998</th>\n",
       "      <td>1.496997</td>\n",
       "      <td>-10.596535</td>\n",
       "    </tr>\n",
       "    <tr>\n",
       "      <th>999</th>\n",
       "      <td>1.500000</td>\n",
       "      <td>-10.671573</td>\n",
       "    </tr>\n",
       "  </tbody>\n",
       "</table>\n",
       "<p>1000 rows × 2 columns</p>\n",
       "</div>"
      ],
      "text/plain": [
       "            x          y\n",
       "0   -1.500000  13.853553\n",
       "1   -1.496997  13.773371\n",
       "2   -1.493994  13.693515\n",
       "3   -1.490991  13.613983\n",
       "4   -1.487988  13.534775\n",
       "..        ...        ...\n",
       "995  1.487988 -10.373291\n",
       "996  1.490991 -10.447395\n",
       "997  1.493994 -10.521810\n",
       "998  1.496997 -10.596535\n",
       "999  1.500000 -10.671573\n",
       "\n",
       "[1000 rows x 2 columns]"
      ]
     },
     "execution_count": 77,
     "metadata": {},
     "output_type": "execute_result"
    }
   ],
   "source": [
    "data"
   ]
  },
  {
   "cell_type": "code",
   "execution_count": 78,
   "id": "b28536be-3de6-4299-8950-0455c76353b3",
   "metadata": {},
   "outputs": [
    {
     "data": {
      "text/html": [
       "<?xml version=\"1.0\" encoding=\"utf-8\" ?>\n",
       "<svg baseProfile=\"full\" height=\"160.0\" preserveAspectRatio=\"none\" version=\"1.1\" viewBox=\"0 0 831 160.0\" width=\"831\" xmlns=\"http://www.w3.org/2000/svg\" xmlns:ev=\"http://www.w3.org/2001/xml-events\" xmlns:xlink=\"http://www.w3.org/1999/xlink\"><defs /><svg class=\"graph\" height=\"155.0\" width=\"831\" x=\"0\" y=\"0\"><defs /><text fill=\"#1E1E1E\" font-family=\"monospace\" font-size=\"12\" text-anchor=\"middle\" x=\"766.0\" y=\"99.0\">Loss: 3.81E-05</text><text fill=\"#1E1E1E\" font-family=\"monospace\" font-size=\"12\" text-anchor=\"start\" x=\"0\" y=\"145.0\">Epoch no. 10/10 - Tried 9512 models - Completed in 51s.</text><rect class=\"node\" fill=\"#00F082\" height=\"35\" stroke=\"#1E1E1E\" stroke-width=\"1\" width=\"90\" x=\"721\" y=\"50.0\"><title>y\n",
       "linear:\n",
       "scale=12.262563\n",
       "scale offset=0.000000\n",
       "w=-0.455768\n",
       "bias=0.0597</title></rect><text fill=\"#1E1E1E\" font-family=\"monospace\" font-size=\"12\" style=\"pointer-events:none\" text-anchor=\"middle\" x=\"766.0\" y=\"71.5\">y</text><text fill=\"#1E1E1E\" font-family=\"monospace\" font-size=\"10\" style=\"pointer-events:none\" text-anchor=\"end\" x=\"809\" y=\"59.0\">0</text><text fill=\"#1E1E1E\" font-family=\"monospace\" font-size=\"10\" style=\"pointer-events:none\" text-anchor=\"start\" x=\"723\" y=\"59.0\">out</text><line stroke=\"#1E1E1E\" x1=\"691\" x2=\"721\" y1=\"67.5\" y2=\"67.5\" /><rect class=\"node\" fill=\"#FAFAFA\" height=\"35\" stroke=\"#FF1EC8\" stroke-width=\"1\" width=\"90\" x=\"601\" y=\"50.0\"><title>multiply</title></rect><text fill=\"#1E1E1E\" font-family=\"monospace\" font-size=\"12\" style=\"pointer-events:none\" text-anchor=\"middle\" x=\"646.0\" y=\"71.5\">multiply</text><text fill=\"#1E1E1E\" font-family=\"monospace\" font-size=\"10\" style=\"pointer-events:none\" text-anchor=\"end\" x=\"689\" y=\"59.0\">1</text><line stroke=\"#1E1E1E\" x1=\"571\" x2=\"601\" y1=\"37.5\" y2=\"58.5\" /><line stroke=\"#1E1E1E\" x1=\"571\" x2=\"601\" y1=\"97.5\" y2=\"76.5\" /><rect class=\"node\" fill=\"#00F082\" height=\"35\" stroke=\"#1E1E1E\" stroke-width=\"1\" width=\"90\" x=\"481\" y=\"20.0\"><title>x\n",
       "linear:\n",
       "scale=0.666667\n",
       "scale offset=-0.000000\n",
       "w=-1.221600\n",
       "bias=0.4669</title></rect><text fill=\"#1E1E1E\" font-family=\"monospace\" font-size=\"12\" style=\"pointer-events:none\" text-anchor=\"middle\" x=\"526.0\" y=\"41.5\">x</text><text fill=\"#1E1E1E\" font-family=\"monospace\" font-size=\"10\" style=\"pointer-events:none\" text-anchor=\"end\" x=\"569\" y=\"29.0\">2</text><text fill=\"#1E1E1E\" font-family=\"monospace\" font-size=\"10\" style=\"pointer-events:none\" text-anchor=\"start\" x=\"483\" y=\"29.0\">num</text><rect class=\"node\" fill=\"#FAFAFA\" height=\"35\" stroke=\"#FF1EC8\" stroke-width=\"1\" width=\"90\" x=\"481\" y=\"80.0\"><title>log</title></rect><text fill=\"#1E1E1E\" font-family=\"monospace\" font-size=\"12\" style=\"pointer-events:none\" text-anchor=\"middle\" x=\"526.0\" y=\"101.5\">log</text><text fill=\"#1E1E1E\" font-family=\"monospace\" font-size=\"10\" style=\"pointer-events:none\" text-anchor=\"end\" x=\"569\" y=\"89.0\">3</text><line stroke=\"#1E1E1E\" x1=\"451\" x2=\"481\" y1=\"67.5\" y2=\"97.5\" /><rect class=\"node\" fill=\"#FAFAFA\" height=\"35\" stroke=\"#FF1EC8\" stroke-width=\"1\" width=\"90\" x=\"361\" y=\"50.0\"><title>gaussian</title></rect><text fill=\"#1E1E1E\" font-family=\"monospace\" font-size=\"12\" style=\"pointer-events:none\" text-anchor=\"middle\" x=\"406.0\" y=\"71.5\">gaussian</text><text fill=\"#1E1E1E\" font-family=\"monospace\" font-size=\"10\" style=\"pointer-events:none\" text-anchor=\"end\" x=\"449\" y=\"59.0\">4</text><line stroke=\"#1E1E1E\" x1=\"331\" x2=\"361\" y1=\"37.5\" y2=\"58.5\" /><line stroke=\"#1E1E1E\" x1=\"331\" x2=\"361\" y1=\"97.5\" y2=\"76.5\" /><rect class=\"node\" fill=\"#00F082\" height=\"35\" stroke=\"#1E1E1E\" stroke-width=\"1\" width=\"90\" x=\"241\" y=\"20.0\"><title>x\n",
       "linear:\n",
       "scale=0.666667\n",
       "scale offset=-0.000000\n",
       "w=0.983430\n",
       "bias=0.1709</title></rect><text fill=\"#1E1E1E\" font-family=\"monospace\" font-size=\"12\" style=\"pointer-events:none\" text-anchor=\"middle\" x=\"286.0\" y=\"41.5\">x</text><text fill=\"#1E1E1E\" font-family=\"monospace\" font-size=\"10\" style=\"pointer-events:none\" text-anchor=\"end\" x=\"329\" y=\"29.0\">5</text><text fill=\"#1E1E1E\" font-family=\"monospace\" font-size=\"10\" style=\"pointer-events:none\" text-anchor=\"start\" x=\"243\" y=\"29.0\">num</text><rect class=\"node\" fill=\"#FAFAFA\" height=\"35\" stroke=\"#FF1EC8\" stroke-width=\"1\" width=\"90\" x=\"241\" y=\"80.0\"><title>gaussian</title></rect><text fill=\"#1E1E1E\" font-family=\"monospace\" font-size=\"12\" style=\"pointer-events:none\" text-anchor=\"middle\" x=\"286.0\" y=\"101.5\">gaussian</text><text fill=\"#1E1E1E\" font-family=\"monospace\" font-size=\"10\" style=\"pointer-events:none\" text-anchor=\"end\" x=\"329\" y=\"89.0\">6</text><line stroke=\"#1E1E1E\" x1=\"211\" x2=\"241\" y1=\"67.5\" y2=\"97.5\" /><rect class=\"node\" fill=\"#FAFAFA\" height=\"35\" stroke=\"#FF1EC8\" stroke-width=\"1\" width=\"90\" x=\"121\" y=\"50.0\"><title>tanh</title></rect><text fill=\"#1E1E1E\" font-family=\"monospace\" font-size=\"12\" style=\"pointer-events:none\" text-anchor=\"middle\" x=\"166.0\" y=\"71.5\">tanh</text><text fill=\"#1E1E1E\" font-family=\"monospace\" font-size=\"10\" style=\"pointer-events:none\" text-anchor=\"end\" x=\"209\" y=\"59.0\">7</text><line stroke=\"#1E1E1E\" x1=\"91\" x2=\"121\" y1=\"67.5\" y2=\"67.5\" /><rect class=\"node\" fill=\"#00F082\" height=\"35\" stroke=\"#1E1E1E\" stroke-width=\"1\" width=\"90\" x=\"1\" y=\"50.0\"><title>x\n",
       "linear:\n",
       "scale=0.666667\n",
       "scale offset=-0.000000\n",
       "w=0.673333\n",
       "bias=2.2417</title></rect><text fill=\"#1E1E1E\" font-family=\"monospace\" font-size=\"12\" style=\"pointer-events:none\" text-anchor=\"middle\" x=\"46.0\" y=\"71.5\">x</text><text fill=\"#1E1E1E\" font-family=\"monospace\" font-size=\"10\" style=\"pointer-events:none\" text-anchor=\"end\" x=\"89\" y=\"59.0\">8</text><text fill=\"#1E1E1E\" font-family=\"monospace\" font-size=\"10\" style=\"pointer-events:none\" text-anchor=\"start\" x=\"3\" y=\"59.0\">num</text></svg></svg>"
      ],
      "text/plain": [
       "<IPython.core.display.HTML object>"
      ]
     },
     "metadata": {},
     "output_type": "display_data"
    }
   ],
   "source": [
    "models = ql.auto_run(data, output_name='y')"
   ]
  },
  {
   "cell_type": "code",
   "execution_count": 79,
   "id": "39a50445-e57e-44d7-a0f7-47cb5e5955b3",
   "metadata": {},
   "outputs": [
    {
     "data": {
      "text/latex": [
       "$\\displaystyle - 5.59 \\cdot \\left(0.467 - 0.814 x\\right) \\log{\\left(e^{- 0.86 \\left(x + 0.261\\right)^{2} - 2.0 e^{- 4.0 \\tanh^{2}{\\left(0.449 x + 2.24 \\right)}}} \\right)} + 0.732$"
      ],
      "text/plain": [
       "-5.59*(0.467 - 0.814*x)*log(exp(-0.86*(x + 0.261)**2 - 2.0*exp(-4.0*tanh(0.449*x + 2.24)**2))) + 0.732"
      ]
     },
     "metadata": {},
     "output_type": "display_data"
    },
    {
     "data": {
      "text/latex": [
       "$\\displaystyle 11.7 \\cdot \\left(0.0327 - 0.711 x\\right) \\left(0.525 - 0.00132 x\\right) \\left(0.824 x + \\left(0.988 - 0.6 x\\right) \\left(- 1.5 x - 1.07\\right) + 0.901\\right) + 1.03$"
      ],
      "text/plain": [
       "11.7*(0.0327 - 0.711*x)*(0.525 - 0.00132*x)*(0.824*x + (0.988 - 0.6*x)*(-1.5*x - 1.07) + 0.901) + 1.03"
      ]
     },
     "metadata": {},
     "output_type": "display_data"
    },
    {
     "data": {
      "text/latex": [
       "$\\displaystyle - 10.3 \\left(- 0.475 x - 0.011\\right) \\left(0.781 x - 0.361\\right) \\left(- 1.03 x + e^{- 6.93 \\left(1 - 0.5 x\\right)^{2} - 2.68 \\left(0.142 x + 1\\right)^{2}} - 0.389\\right) + 0.983$"
      ],
      "text/plain": [
       "-10.3*(-0.475*x - 0.011)*(0.781*x - 0.361)*(-1.03*x + exp(-6.93*(1 - 0.5*x)**2 - 2.68*(0.142*x + 1)**2) - 0.389) + 0.983"
      ]
     },
     "metadata": {},
     "output_type": "display_data"
    },
    {
     "data": {
      "text/latex": [
       "$\\displaystyle 6.08 \\left(- 0.642 x - 0.304\\right) \\left(x - 0.265\\right)^{2} + 1.11 + 22.9 e^{- 8.04 \\left(- 0.154 x - 1\\right)^{2}}$"
      ],
      "text/plain": [
       "6.08*(-0.642*x - 0.304)*(x - 0.265)**2 + 1.11 + 22.9*exp(-8.04*(-0.154*x - 1)**2)"
      ]
     },
     "metadata": {},
     "output_type": "display_data"
    },
    {
     "data": {
      "text/latex": [
       "$\\displaystyle 8.37 \\left(0.265 - x\\right)^{2} \\left(- 0.471 x - 0.218\\right) + 1.12$"
      ],
      "text/plain": [
       "8.37*(0.265 - x)**2*(-0.471*x - 0.218) + 1.12"
      ]
     },
     "metadata": {},
     "output_type": "display_data"
    },
    {
     "data": {
      "text/latex": [
       "$\\displaystyle - 8.14 \\left(- 0.98 x - 0.341\\right) \\left(- 0.719 x - 0.046\\right) \\left(0.688 x - 0.33\\right) + 0.955$"
      ],
      "text/plain": [
       "-8.14*(-0.98*x - 0.341)*(-0.719*x - 0.046)*(0.688*x - 0.33) + 0.955"
      ]
     },
     "metadata": {},
     "output_type": "display_data"
    },
    {
     "data": {
      "text/latex": [
       "$\\displaystyle - 10.1 \\cdot \\left(0.795 - 0.00205 x\\right) \\left(0.779 x + 0.0754\\right) \\left(0.789 x - 0.384\\right) \\left(0.797 x + 0.262\\right) + 0.939$"
      ],
      "text/plain": [
       "-10.1*(0.795 - 0.00205*x)*(0.779*x + 0.0754)*(0.789*x - 0.384)*(0.797*x + 0.262) + 0.939"
      ]
     },
     "metadata": {},
     "output_type": "display_data"
    },
    {
     "data": {
      "text/latex": [
       "$\\displaystyle 3.24 \\cdot \\left(0.732 - 0.845 x\\right) \\left(- 0.816 x + 1.44 \\left(- x - 0.683\\right)^{2} + 0.0743\\right) - 0.773$"
      ],
      "text/plain": [
       "3.24*(0.732 - 0.845*x)*(-0.816*x + 1.44*(-x - 0.683)**2 + 0.0743) - 0.773"
      ]
     },
     "metadata": {},
     "output_type": "display_data"
    },
    {
     "data": {
      "text/latex": [
       "$\\displaystyle - 6.34 \\cdot \\left(0.0265 - 0.706 x\\right) \\left(0.355 x + 0.125\\right) \\left(- 2.49 x + 0.973 + \\frac{1}{\\left(1.42 x + 6.58\\right) \\left(1.48 x - 0.0561\\right)}\\right) + 0.958$"
      ],
      "text/plain": [
       "-6.34*(0.0265 - 0.706*x)*(0.355*x + 0.125)*(-2.49*x + 0.973 + 1/((1.42*x + 6.58)*(1.48*x - 0.0561))) + 0.958"
      ]
     },
     "metadata": {},
     "output_type": "display_data"
    },
    {
     "data": {
      "text/latex": [
       "$\\displaystyle - 5.93 \\cdot \\left(1.08 x + 0.39\\right) \\left(- 0.569 x + \\left(0.551 - 1.0 x\\right) \\left(- 0.618 x - 0.643\\right) + 0.342\\right) + 0.966$"
      ],
      "text/plain": [
       "-5.93*(1.08*x + 0.39)*(-0.569*x + (0.551 - 1.0*x)*(-0.618*x - 0.643) + 0.342) + 0.966"
      ]
     },
     "metadata": {},
     "output_type": "display_data"
    }
   ],
   "source": [
    "for model in models:\n",
    "    sympy_model = model.sympify(signif=3)\n",
    "    display(sympy_model.as_expr())"
   ]
  },
  {
   "cell_type": "code",
   "execution_count": 80,
   "id": "d2650a05-364b-484a-b369-ade576ab2c31",
   "metadata": {},
   "outputs": [],
   "source": [
    "import sympy as smp\n",
    "from sympy.utilities.lambdify import lambdify\n",
    "\n",
    "sympy_model = models[0].sympify(signif=3)\n",
    "x_symbol = smp.symbols(\"x\")\n",
    "\n",
    "f_qlattice = lambdify([x_symbol], sympy_model)"
   ]
  },
  {
   "cell_type": "code",
   "execution_count": 81,
   "id": "fd8e88eb-68be-4443-8226-3db2720b475a",
   "metadata": {},
   "outputs": [
    {
     "data": {
      "image/png": "[encoded data removed]",
      "text/plain": [
       "<Figure size 640x480 with 1 Axes>"
      ]
     },
     "metadata": {},
     "output_type": "display_data"
    }
   ],
   "source": [
    "y_model = f_qlattice(X)\n",
    "\n",
    "plt.plot(X, y, linewidth=1, label=\"Real\", c=\"red\")\n",
    "plt.plot(X, y_model, linewidth=1, c=\"blue\", label=\"Predicted\")\n",
    "plt.legend()\n",
    "plt.ylim(0, 10)\n",
    "plt.xlim(-2, 2)\n",
    "plt.show()"
   ]
  },
  {
   "cell_type": "code",
   "execution_count": 82,
   "id": "a3bca141-e961-4785-a35d-92384a836a3c",
   "metadata": {},
   "outputs": [],
   "source": [
    "import sys\n",
    "sys.path.insert(1, r\"D:\\Program Files (x86)\\TuringBot\")\n",
    "\n",
    "import turingbot as tb\n",
    "import time\n",
    "\n",
    "path = r'D:\\Program Files (x86)\\TuringBot\\TuringBot.exe' \n",
    "# input_file = r'D:\\Documents\\Coding\\Repositorios\\Meus Repositórios\\Symbolic-Regression\\Phase Three - SR\\TuringBot_tests\\Data\\saida_fixed.csv' \n",
    "# D:\\Documents\\Coding\\Repositorios\\Meus Repositórios\\Symbolic-Regression\\Phase Three - SR\\TuringBot_tests\\Data\n",
    "config_file = r'D:\\Documents\\Coding\\Repositorios\\Meus Repositórios\\Symbolic-Regression\\Phase Three - SR\\Qlattice_tests\\settings.cfg' "
   ]
  },
  {
   "cell_type": "code",
   "execution_count": 83,
   "id": "a9911e3e-7664-4eb0-b923-7b831b861f80",
   "metadata": {},
   "outputs": [],
   "source": [
    "input_file = r'D:\\Documents\\Coding\\Repositorios\\Meus Repositórios\\Symbolic-Regression\\Phase Three - SR\\qlattice_tests\\output_test_1.csv' \n",
    "\n",
    "data.to_csv(input_file, index=False)"
   ]
  },
  {
   "cell_type": "code",
   "execution_count": 109,
   "id": "9b1b62ff-0b5d-418d-8be1-e120e69e8f99",
   "metadata": {},
   "outputs": [],
   "source": [
    "sim = tb.simulation()\n",
    "\n",
    "sim.start_process(path, input_file, config=\"settings.cfg\")\n",
    "\n",
    "time.sleep(900)\n",
    "\n",
    "sim.refresh_functions()"
   ]
  },
  {
   "cell_type": "code",
   "execution_count": 110,
   "id": "af1aeedd-3eb1-4725-a339-fb0da3713534",
   "metadata": {},
   "outputs": [
    {
     "name": "stdout",
     "output_type": "stream",
     "text": [
      "[1, 1.04791, '12.01372096376751']\n",
      "[3, 0.682821, '-8.436774180768142*x']\n",
      "[5, 0.0288965, '(-24.15415808633913)*(0.9290468562138662+x)']\n",
      "[8, 0.00798517, '-1.314076249904324+pow(0.1630889994485462,x)']\n",
      "[9, 0.00157921, '0.5116227736097174+((-3.952096933356512)*x*x*x)']\n",
      "[10, 0.000360928, 'pow((x-1.220334234145587)*x,1.86927160039243)']\n",
      "[12, 0.000289526, 'pow((x-1.203649346316557)*x,1.874259214993128)+0.06229032437141264']\n",
      "[16, 0.000268286, '0.9974787586683278*(pow((-0.001146954960632525+x-1.206882472628727)*x,1.874259214993128)+0.05536864841314368)']\n",
      "[22, 0.000191731, '1.921431713938792*x*x*(0.07485166420647674+0.05186498989405794*x)+pow((x-1.200726522030472)*x,1.87957493812738)']\n",
      "[24, 0.000171583, '2.097618535671018*(0.1184023909166049+x)*x*(0.07485544836768661+0.05186352456848416*x)+pow((x-1.200726522030472)*x,1.879575123829384)']\n",
      "[26, 8.56872e-05, '(-1.75985606409414-x+2.094848197912459*x*x)*(0.07498000263618479+0.05193284819418107*x)+pow((x-1.200726522030472)*x,1.87957493812738)']\n"
     ]
    }
   ],
   "source": [
    "print(*sim.functions, sep='\\n')"
   ]
  },
  {
   "cell_type": "code",
   "execution_count": 114,
   "id": "d63c5b26-4816-45c0-ab93-79ab235828b4",
   "metadata": {},
   "outputs": [
    {
     "data": {
      "text/latex": [
       "$\\displaystyle \\left(x \\left(x - 1.200726522030472\\right)\\right)^{1.87957493812738} + \\left(0.05193284819418107 x + 0.07498000263618479\\right) \\left(2.094848197912459 x^{2} - x - 1.75985606409414\\right)$"
      ],
      "text/plain": [
       "(x*(x - 1.200726522030472))**1.87957493812738 + (0.05193284819418107*x + 0.07498000263618479)*(2.094848197912459*x**2 - x - 1.75985606409414)"
      ]
     },
     "execution_count": 114,
     "metadata": {},
     "output_type": "execute_result"
    }
   ],
   "source": [
    "x = smp.symbols(\"x\")\n",
    "\n",
    "from sympy.parsing.sympy_parser import parse_expr\n",
    "\n",
    "expr = parse_expr(sim.functions[10][2])\n",
    "expr"
   ]
  },
  {
   "cell_type": "code",
   "execution_count": 115,
   "id": "5829e166-bc5d-420c-bfbc-85fc9337c8b0",
   "metadata": {},
   "outputs": [
    {
     "name": "stderr",
     "output_type": "stream",
     "text": [
      "<lambdifygenerated-27>:2: RuntimeWarning: invalid value encountered in power\n",
      "  return (x*(x - 1.200726522030472))**1.87957493812738 + (0.05193284819418107*x + 0.07498000263618479)*(2.094848197912459*x**2 - x - 1.75985606409414)\n"
     ]
    },
    {
     "data": {
      "image/png": "[encoded data removed]",
      "text/plain": [
       "<Figure size 640x480 with 1 Axes>"
      ]
     },
     "metadata": {},
     "output_type": "display_data"
    }
   ],
   "source": [
    "from sympy.utilities.lambdify import lambdify\n",
    "f = lambdify([x], expr)\n",
    "\n",
    "generated_y = f(np.array(data.x))\n",
    "\n",
    "plt.plot(data.x, y, linewidth=1, label=\"Real\", c=\"red\")\n",
    "plt.plot(data.x, y_model, linewidth=1, c=\"blue\", label=\"QLattice\")\n",
    "plt.plot(data.x, generated_y, label=\"turing_bot\", c=\"green\", linewidth=1)\n",
    "plt.legend()\n",
    "plt.ylim(0, 10)\n",
    "plt.xlim(-2, 2)\n",
    "plt.show()"
   ]
  },
  {
   "cell_type": "code",
   "execution_count": 108,
   "id": "0bd9ee18-64bc-4aa5-8533-9352c1af2b10",
   "metadata": {},
   "outputs": [
    {
     "data": {
      "image/png": "[encoded data removed]",
      "text/plain": [
       "<Figure size 640x480 with 1 Axes>"
      ]
     },
     "metadata": {},
     "output_type": "display_data"
    }
   ],
   "source": [
    "X = np.linspace(-20, 20, 1000)\n",
    "y_qlattice = f_qlattice(X)\n",
    "y_turing = f(X)\n",
    "y_real = 2**(X) - 4*X**3\n",
    "\n",
    "plt.plot(X, y_qlattice, label=\"Qlattice\", alpha=0.5)\n",
    "plt.plot(X, y_turing, label=\"Turing\", alpha=0.5)\n",
    "plt.plot(X, y_real, label=\"Real\", alpha=0.5)\n",
    "plt.legend()\n",
    "plt.show()"
   ]
  },
  {
   "cell_type": "code",
   "execution_count": null,
   "id": "a90d7c6c-11bd-4e00-bcfd-f70257604e1d",
   "metadata": {},
   "outputs": [],
   "source": []
  }
 ],
 "metadata": {
  "kernelspec": {
   "display_name": "Python 3 (ipykernel)",
   "language": "python",
   "name": "python3"
  },
  "language_info": {
   "codemirror_mode": {
    "name": "ipython",
    "version": 3
   },
   "file_extension": ".py",
   "mimetype": "text/x-python",
   "name": "python",
   "nbconvert_exporter": "python",
   "pygments_lexer": "ipython3",
   "version": "3.9.13"
  },
  "widgets": {
   "application/vnd.jupyter.widget-state+json": {
    "state": {},
    "version_major": 2,
    "version_minor": 0
   }
  }
 },
 "nbformat": 4,
 "nbformat_minor": 5
}
