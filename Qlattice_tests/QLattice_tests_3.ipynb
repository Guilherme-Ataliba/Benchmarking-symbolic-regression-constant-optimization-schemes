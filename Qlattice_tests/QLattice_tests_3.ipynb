{
 "cells": [
  {
   "cell_type": "code",
   "execution_count": 103,
   "id": "cc1e4df8-84e5-4532-80bb-022863c79cf9",
   "metadata": {},
   "outputs": [],
   "source": [
    "import feyn\n",
    "\n",
    "ql = feyn.QLattice(random_seed=42)"
   ]
  },
  {
   "cell_type": "code",
   "execution_count": 104,
   "id": "fa349fb2-15fc-4b03-8912-c6278ad2a3e5",
   "metadata": {},
   "outputs": [
    {
     "data": {
      "image/png": "[encoded data removed]",
      "text/plain": [
       "<Figure size 640x480 with 1 Axes>"
      ]
     },
     "metadata": {},
     "output_type": "display_data"
    }
   ],
   "source": [
    "import numpy as np\n",
    "import matplotlib.pyplot as plt\n",
    "\n",
    "X = np.linspace(-1.5, 1.5, 1000)\n",
    "y = np.exp(X**2) - 4*X**3\n",
    "\n",
    "plt.plot(X, y, linewidth=1)\n",
    "plt.ylim(0, 10)\n",
    "plt.xlim(-2, 2)\n",
    "plt.show()"
   ]
  },
  {
   "cell_type": "code",
   "execution_count": 105,
   "id": "62e374ee-cdef-4f52-8868-71f1b986c2a8",
   "metadata": {},
   "outputs": [],
   "source": [
    "import pandas as pd\n",
    "\n",
    "data = np.c_[X, y]\n",
    "data = pd.DataFrame(data, columns=[\"x\", \"y\"])"
   ]
  },
  {
   "cell_type": "code",
   "execution_count": 106,
   "id": "54de83c5-f37a-4247-ba70-4cc90c083f5a",
   "metadata": {},
   "outputs": [
    {
     "data": {
      "text/html": [
       "<div>\n",
       "<style scoped>\n",
       "    .dataframe tbody tr th:only-of-type {\n",
       "        vertical-align: middle;\n",
       "    }\n",
       "\n",
       "    .dataframe tbody tr th {\n",
       "        vertical-align: top;\n",
       "    }\n",
       "\n",
       "    .dataframe thead th {\n",
       "        text-align: right;\n",
       "    }\n",
       "</style>\n",
       "<table border=\"1\" class=\"dataframe\">\n",
       "  <thead>\n",
       "    <tr style=\"text-align: right;\">\n",
       "      <th></th>\n",
       "      <th>x</th>\n",
       "      <th>y</th>\n",
       "    </tr>\n",
       "  </thead>\n",
       "  <tbody>\n",
       "    <tr>\n",
       "      <th>0</th>\n",
       "      <td>-1.500000</td>\n",
       "      <td>22.987736</td>\n",
       "    </tr>\n",
       "    <tr>\n",
       "      <th>1</th>\n",
       "      <td>-1.496997</td>\n",
       "      <td>22.821811</td>\n",
       "    </tr>\n",
       "    <tr>\n",
       "      <th>2</th>\n",
       "      <td>-1.493994</td>\n",
       "      <td>22.657139</td>\n",
       "    </tr>\n",
       "    <tr>\n",
       "      <th>3</th>\n",
       "      <td>-1.490991</td>\n",
       "      <td>22.493709</td>\n",
       "    </tr>\n",
       "    <tr>\n",
       "      <th>4</th>\n",
       "      <td>-1.487988</td>\n",
       "      <td>22.331509</td>\n",
       "    </tr>\n",
       "    <tr>\n",
       "      <th>...</th>\n",
       "      <td>...</td>\n",
       "      <td>...</td>\n",
       "    </tr>\n",
       "    <tr>\n",
       "      <th>995</th>\n",
       "      <td>1.487988</td>\n",
       "      <td>-4.025023</td>\n",
       "    </tr>\n",
       "    <tr>\n",
       "      <th>996</th>\n",
       "      <td>1.490991</td>\n",
       "      <td>-4.022720</td>\n",
       "    </tr>\n",
       "    <tr>\n",
       "      <th>997</th>\n",
       "      <td>1.493994</td>\n",
       "      <td>-4.019834</td>\n",
       "    </tr>\n",
       "    <tr>\n",
       "      <th>998</th>\n",
       "      <td>1.496997</td>\n",
       "      <td>-4.016352</td>\n",
       "    </tr>\n",
       "    <tr>\n",
       "      <th>999</th>\n",
       "      <td>1.500000</td>\n",
       "      <td>-4.012264</td>\n",
       "    </tr>\n",
       "  </tbody>\n",
       "</table>\n",
       "<p>1000 rows × 2 columns</p>\n",
       "</div>"
      ],
      "text/plain": [
       "            x          y\n",
       "0   -1.500000  22.987736\n",
       "1   -1.496997  22.821811\n",
       "2   -1.493994  22.657139\n",
       "3   -1.490991  22.493709\n",
       "4   -1.487988  22.331509\n",
       "..        ...        ...\n",
       "995  1.487988  -4.025023\n",
       "996  1.490991  -4.022720\n",
       "997  1.493994  -4.019834\n",
       "998  1.496997  -4.016352\n",
       "999  1.500000  -4.012264\n",
       "\n",
       "[1000 rows x 2 columns]"
      ]
     },
     "execution_count": 106,
     "metadata": {},
     "output_type": "execute_result"
    }
   ],
   "source": [
    "data"
   ]
  },
  {
   "cell_type": "code",
   "execution_count": 107,
   "id": "b28536be-3de6-4299-8950-0455c76353b3",
   "metadata": {},
   "outputs": [
    {
     "data": {
      "text/html": [
       "<?xml version=\"1.0\" encoding=\"utf-8\" ?>\n",
       "<svg baseProfile=\"full\" height=\"160.0\" preserveAspectRatio=\"none\" version=\"1.1\" viewBox=\"0 0 831 160.0\" width=\"831\" xmlns=\"http://www.w3.org/2000/svg\" xmlns:ev=\"http://www.w3.org/2001/xml-events\" xmlns:xlink=\"http://www.w3.org/1999/xlink\"><defs /><svg class=\"graph\" height=\"155.0\" width=\"831\" x=\"0\" y=\"0\"><defs /><text fill=\"#1E1E1E\" font-family=\"monospace\" font-size=\"12\" text-anchor=\"middle\" x=\"766.0\" y=\"99.0\">Loss: 1.15E-03</text><text fill=\"#1E1E1E\" font-family=\"monospace\" font-size=\"12\" text-anchor=\"start\" x=\"0\" y=\"145.0\">Epoch no. 10/10 - Tried 9740 models - Completed in 1m 13s.</text><rect class=\"node\" fill=\"#00F082\" height=\"35\" stroke=\"#1E1E1E\" stroke-width=\"1\" width=\"90\" x=\"721\" y=\"50.0\"><title>y\n",
       "linear:\n",
       "scale=13.508164\n",
       "scale offset=0.000000\n",
       "w=-0.987423\n",
       "bias=0.0735</title></rect><text fill=\"#1E1E1E\" font-family=\"monospace\" font-size=\"12\" style=\"pointer-events:none\" text-anchor=\"middle\" x=\"766.0\" y=\"71.5\">y</text><text fill=\"#1E1E1E\" font-family=\"monospace\" font-size=\"10\" style=\"pointer-events:none\" text-anchor=\"end\" x=\"809\" y=\"59.0\">0</text><text fill=\"#1E1E1E\" font-family=\"monospace\" font-size=\"10\" style=\"pointer-events:none\" text-anchor=\"start\" x=\"723\" y=\"59.0\">out</text><line stroke=\"#1E1E1E\" x1=\"691\" x2=\"721\" y1=\"67.5\" y2=\"67.5\" /><rect class=\"node\" fill=\"#FAFAFA\" height=\"35\" stroke=\"#FF1EC8\" stroke-width=\"1\" width=\"90\" x=\"601\" y=\"50.0\"><title>multiply</title></rect><text fill=\"#1E1E1E\" font-family=\"monospace\" font-size=\"12\" style=\"pointer-events:none\" text-anchor=\"middle\" x=\"646.0\" y=\"71.5\">multiply</text><text fill=\"#1E1E1E\" font-family=\"monospace\" font-size=\"10\" style=\"pointer-events:none\" text-anchor=\"end\" x=\"689\" y=\"59.0\">1</text><line stroke=\"#1E1E1E\" x1=\"571\" x2=\"601\" y1=\"37.5\" y2=\"58.5\" /><line stroke=\"#1E1E1E\" x1=\"571\" x2=\"601\" y1=\"97.5\" y2=\"76.5\" /><rect class=\"node\" fill=\"#00F082\" height=\"35\" stroke=\"#1E1E1E\" stroke-width=\"1\" width=\"90\" x=\"481\" y=\"20.0\"><title>x\n",
       "linear:\n",
       "scale=0.666667\n",
       "scale offset=-0.000000\n",
       "w=-1.281472\n",
       "bias=0.1677</title></rect><text fill=\"#1E1E1E\" font-family=\"monospace\" font-size=\"12\" style=\"pointer-events:none\" text-anchor=\"middle\" x=\"526.0\" y=\"41.5\">x</text><text fill=\"#1E1E1E\" font-family=\"monospace\" font-size=\"10\" style=\"pointer-events:none\" text-anchor=\"end\" x=\"569\" y=\"29.0\">2</text><text fill=\"#1E1E1E\" font-family=\"monospace\" font-size=\"10\" style=\"pointer-events:none\" text-anchor=\"start\" x=\"483\" y=\"29.0\">num</text><rect class=\"node\" fill=\"#FAFAFA\" height=\"35\" stroke=\"#FF1EC8\" stroke-width=\"1\" width=\"90\" x=\"481\" y=\"80.0\"><title>multiply</title></rect><text fill=\"#1E1E1E\" font-family=\"monospace\" font-size=\"12\" style=\"pointer-events:none\" text-anchor=\"middle\" x=\"526.0\" y=\"101.5\">multiply</text><text fill=\"#1E1E1E\" font-family=\"monospace\" font-size=\"10\" style=\"pointer-events:none\" text-anchor=\"end\" x=\"569\" y=\"89.0\">3</text><line stroke=\"#1E1E1E\" x1=\"451\" x2=\"481\" y1=\"37.5\" y2=\"88.5\" /><line stroke=\"#1E1E1E\" x1=\"451\" x2=\"481\" y1=\"97.5\" y2=\"106.5\" /><rect class=\"node\" fill=\"#00F082\" height=\"35\" stroke=\"#1E1E1E\" stroke-width=\"1\" width=\"90\" x=\"361\" y=\"20.0\"><title>x\n",
       "linear:\n",
       "scale=0.666667\n",
       "scale offset=-0.000000\n",
       "w=-1.407520\n",
       "bias=-0.0933</title></rect><text fill=\"#1E1E1E\" font-family=\"monospace\" font-size=\"12\" style=\"pointer-events:none\" text-anchor=\"middle\" x=\"406.0\" y=\"41.5\">x</text><text fill=\"#1E1E1E\" font-family=\"monospace\" font-size=\"10\" style=\"pointer-events:none\" text-anchor=\"end\" x=\"449\" y=\"29.0\">4</text><text fill=\"#1E1E1E\" font-family=\"monospace\" font-size=\"10\" style=\"pointer-events:none\" text-anchor=\"start\" x=\"363\" y=\"29.0\">num</text><rect class=\"node\" fill=\"#FAFAFA\" height=\"35\" stroke=\"#FF1EC8\" stroke-width=\"1\" width=\"90\" x=\"361\" y=\"80.0\"><title>multiply</title></rect><text fill=\"#1E1E1E\" font-family=\"monospace\" font-size=\"12\" style=\"pointer-events:none\" text-anchor=\"middle\" x=\"406.0\" y=\"101.5\">multiply</text><text fill=\"#1E1E1E\" font-family=\"monospace\" font-size=\"10\" style=\"pointer-events:none\" text-anchor=\"end\" x=\"449\" y=\"89.0\">5</text><line stroke=\"#1E1E1E\" x1=\"331\" x2=\"361\" y1=\"37.5\" y2=\"88.5\" /><line stroke=\"#1E1E1E\" x1=\"331\" x2=\"361\" y1=\"97.5\" y2=\"106.5\" /><rect class=\"node\" fill=\"#FAFAFA\" height=\"35\" stroke=\"#FF1EC8\" stroke-width=\"1\" width=\"90\" x=\"241\" y=\"20.0\"><title>add</title></rect><text fill=\"#1E1E1E\" font-family=\"monospace\" font-size=\"12\" style=\"pointer-events:none\" text-anchor=\"middle\" x=\"286.0\" y=\"41.5\">add</text><text fill=\"#1E1E1E\" font-family=\"monospace\" font-size=\"10\" style=\"pointer-events:none\" text-anchor=\"end\" x=\"329\" y=\"29.0\">6</text><line stroke=\"#1E1E1E\" x1=\"211\" x2=\"241\" y1=\"37.5\" y2=\"28.5\" /><line stroke=\"#1E1E1E\" x1=\"211\" x2=\"241\" y1=\"97.5\" y2=\"46.5\" /><rect class=\"node\" fill=\"#00F082\" height=\"35\" stroke=\"#1E1E1E\" stroke-width=\"1\" width=\"90\" x=\"121\" y=\"20.0\"><title>x\n",
       "linear:\n",
       "scale=0.666667\n",
       "scale offset=-0.000000\n",
       "w=-1.342840\n",
       "bias=-0.7510</title></rect><text fill=\"#1E1E1E\" font-family=\"monospace\" font-size=\"12\" style=\"pointer-events:none\" text-anchor=\"middle\" x=\"166.0\" y=\"41.5\">x</text><text fill=\"#1E1E1E\" font-family=\"monospace\" font-size=\"10\" style=\"pointer-events:none\" text-anchor=\"end\" x=\"209\" y=\"29.0\">7</text><text fill=\"#1E1E1E\" font-family=\"monospace\" font-size=\"10\" style=\"pointer-events:none\" text-anchor=\"start\" x=\"123\" y=\"29.0\">num</text><rect class=\"node\" fill=\"#FAFAFA\" height=\"35\" stroke=\"#FF1EC8\" stroke-width=\"1\" width=\"90\" x=\"121\" y=\"80.0\"><title>gaussian</title></rect><text fill=\"#1E1E1E\" font-family=\"monospace\" font-size=\"12\" style=\"pointer-events:none\" text-anchor=\"middle\" x=\"166.0\" y=\"101.5\">gaussian</text><text fill=\"#1E1E1E\" font-family=\"monospace\" font-size=\"10\" style=\"pointer-events:none\" text-anchor=\"end\" x=\"209\" y=\"89.0\">8</text><line stroke=\"#1E1E1E\" x1=\"91\" x2=\"121\" y1=\"67.5\" y2=\"97.5\" /><rect class=\"node\" fill=\"#00F082\" height=\"35\" stroke=\"#1E1E1E\" stroke-width=\"1\" width=\"90\" x=\"1\" y=\"50.0\"><title>x\n",
       "linear:\n",
       "scale=0.666667\n",
       "scale offset=-0.000000\n",
       "w=-0.723267\n",
       "bias=0.2313</title></rect><text fill=\"#1E1E1E\" font-family=\"monospace\" font-size=\"12\" style=\"pointer-events:none\" text-anchor=\"middle\" x=\"46.0\" y=\"71.5\">x</text><text fill=\"#1E1E1E\" font-family=\"monospace\" font-size=\"10\" style=\"pointer-events:none\" text-anchor=\"end\" x=\"89\" y=\"59.0\">9</text><text fill=\"#1E1E1E\" font-family=\"monospace\" font-size=\"10\" style=\"pointer-events:none\" text-anchor=\"start\" x=\"3\" y=\"59.0\">num</text><rect class=\"node\" fill=\"#00F082\" height=\"35\" stroke=\"#1E1E1E\" stroke-width=\"1\" width=\"90\" x=\"241\" y=\"80.0\"><title>x\n",
       "linear:\n",
       "scale=0.666667\n",
       "scale offset=-0.000000\n",
       "w=0.494317\n",
       "bias=-0.6506</title></rect><text fill=\"#1E1E1E\" font-family=\"monospace\" font-size=\"12\" style=\"pointer-events:none\" text-anchor=\"middle\" x=\"286.0\" y=\"101.5\">x</text><text fill=\"#1E1E1E\" font-family=\"monospace\" font-size=\"10\" style=\"pointer-events:none\" text-anchor=\"end\" x=\"329\" y=\"89.0\">10</text><text fill=\"#1E1E1E\" font-family=\"monospace\" font-size=\"10\" style=\"pointer-events:none\" text-anchor=\"start\" x=\"243\" y=\"89.0\">num</text></svg></svg>"
      ],
      "text/plain": [
       "<IPython.core.display.HTML object>"
      ]
     },
     "metadata": {},
     "output_type": "display_data"
    }
   ],
   "source": [
    "models = ql.auto_run(data, output_name='y')"
   ]
  },
  {
   "cell_type": "code",
   "execution_count": 108,
   "id": "39a50445-e57e-44d7-a0f7-47cb5e5955b3",
   "metadata": {},
   "outputs": [
    {
     "data": {
      "text/latex": [
       "$\\displaystyle - 13.3 \\cdot \\left(0.168 - 0.854 x\\right) \\left(- 0.938 x - 0.0933\\right) \\left(0.33 x - 0.651\\right) \\left(- 0.895 x - 0.751 + e^{- 0.465 \\left(0.48 - x\\right)^{2}}\\right) + 0.993$"
      ],
      "text/plain": [
       "-13.3*(0.168 - 0.854*x)*(-0.938*x - 0.0933)*(0.33*x - 0.651)*(-0.895*x - 0.751 + exp(-0.465*(0.48 - x)**2)) + 0.993"
      ]
     },
     "metadata": {},
     "output_type": "display_data"
    },
    {
     "data": {
      "text/latex": [
       "$\\displaystyle 20.0 \\cdot \\left(1.22 - 0.775 x\\right) e^{- 1.37 \\left(0.481 x + 1\\right)^{2} \\left(0.868 x - 1\\right)^{2} - 2.0 \\tanh^{2}{\\left(\\left(- 0.721 x - 1.16\\right) \\left(0.231 x + 0.241\\right) \\right)}} - 4.4$"
      ],
      "text/plain": [
       "20.0*(1.22 - 0.775*x)*exp(-1.37*(0.481*x + 1)**2*(0.868*x - 1)**2 - 2.0*tanh((-0.721*x - 1.16)*(0.231*x + 0.241))**2) - 4.4"
      ]
     },
     "metadata": {},
     "output_type": "display_data"
    },
    {
     "data": {
      "text/latex": [
       "$\\displaystyle - 26.6 \\cdot \\left(1.19 x + 1.56\\right) \\left(- 0.121 x + e^{- 2.0 e^{- 0.498 \\left(1 - 0.622 x\\right)^{2} - 2.02 \\left(x - 0.298\\right)^{2}} - 2.0 \\tanh^{2}{\\left(1.13 x + 1.91 \\right)}} + 0.271\\right) + 14.8$"
      ],
      "text/plain": [
       "-26.6*(1.19*x + 1.56)*(-0.121*x + exp(-2.0*exp(-0.498*(1 - 0.622*x)**2 - 2.02*(x - 0.298)**2) - 2.0*tanh(1.13*x + 1.91)**2) + 0.271) + 14.8"
      ]
     },
     "metadata": {},
     "output_type": "display_data"
    },
    {
     "data": {
      "text/latex": [
       "$\\displaystyle 66.0 e^{- 1.44 \\left(0.446 x + 1\\right)^{2} - 1.17 \\left(0.453 x + 1\\right)^{2} \\left(x - 0.943\\right)^{2}} - 4.62$"
      ],
      "text/plain": [
       "66.0*exp(-1.44*(0.446*x + 1)**2 - 1.17*(0.453*x + 1)**2*(x - 0.943)**2) - 4.62"
      ]
     },
     "metadata": {},
     "output_type": "display_data"
    },
    {
     "data": {
      "text/latex": [
       "$\\displaystyle -4.67 - \\frac{42.3 e^{- 1.06 \\left(- 0.465 x - 1\\right)^{2} \\left(x - 0.874\\right)^{2} - 0.994 \\left(0.447 x + 1\\right)^{2}}}{- 0.298 x - 1.24}$"
      ],
      "text/plain": [
       "-4.67 - 42.3*exp(-1.06*(-0.465*x - 1)**2*(x - 0.874)**2 - 0.994*(0.447*x + 1)**2)/(-0.298*x - 1.24)"
      ]
     },
     "metadata": {},
     "output_type": "display_data"
    },
    {
     "data": {
      "text/latex": [
       "$\\displaystyle 20.5 \\left(1 - 0.542 x\\right)^{2} e^{- 1.19 \\cdot 10^{-9} \\left(- 0.738 x - 1\\right)^{2} - 2.0 e^{- 0.296 \\left(0.68 - x\\right)^{2} \\left(0.527 x + 1\\right)^{2} - 0.936 \\left(- x - 0.604\\right)^{2}}} - 5.0$"
      ],
      "text/plain": [
       "20.5*(1 - 0.542*x)**2*exp(-1.19e-9*(-0.738*x - 1)**2 - 2.0*exp(-0.296*(0.68 - x)**2*(0.527*x + 1)**2 - 0.936*(-x - 0.604)**2)) - 5.0"
      ]
     },
     "metadata": {},
     "output_type": "display_data"
    },
    {
     "data": {
      "text/latex": [
       "$\\displaystyle 68.0 e^{- 3.57 \\left(1 - 0.794 x\\right)^{2} \\tanh^{2}{\\left(0.317 x + 0.703 \\right)} - 0.957 \\left(- 0.641 x - 1\\right)^{2}} - 6.02$"
      ],
      "text/plain": [
       "68.0*exp(-3.57*(1 - 0.794*x)**2*tanh(0.317*x + 0.703)**2 - 0.957*(-0.641*x - 1)**2) - 6.02"
      ]
     },
     "metadata": {},
     "output_type": "display_data"
    },
    {
     "data": {
      "text/latex": [
       "$\\displaystyle 53.0 e^{- 1.26 \\left(- 0.481 x - 1\\right)^{2} - 4.29 \\left(0.487 x + 1\\right)^{2} \\left(- 0.421 x + 0.0249 + \\frac{1}{0.495 x + 2.2}\\right)^{2}} - 4.71$"
      ],
      "text/plain": [
       "53.0*exp(-1.26*(-0.481*x - 1)**2 - 4.29*(0.487*x + 1)**2*(-0.421*x + 0.0249 + 1/(0.495*x + 2.2))**2) - 4.71"
      ]
     },
     "metadata": {},
     "output_type": "display_data"
    },
    {
     "data": {
      "text/latex": [
       "$\\displaystyle 77.6 e^{- 0.63 \\left(0.862 x + 1\\right)^{2} - 2.0 e^{- 0.606 \\left(- x - 0.546\\right)^{2} - 4.0 \\tanh^{2}{\\left(e^{- 6.9 \\left(- 0.368 x - 1\\right)^{2}} \\right)}}} - 6.79$"
      ],
      "text/plain": [
       "77.6*exp(-0.63*(0.862*x + 1)**2 - 2.0*exp(-0.606*(-x - 0.546)**2 - 4.0*tanh(exp(-6.9*(-0.368*x - 1)**2))**2)) - 6.79"
      ]
     },
     "metadata": {},
     "output_type": "display_data"
    },
    {
     "data": {
      "text/latex": [
       "$\\displaystyle 49.5 e^{- 0.371 \\left(0.179 - x\\right)^{2} \\left(0.655 x + 1\\right)^{2} - 3.13 \\left(0.15 x - 1 + 0.18 e^{- 0.991 x}\\right)^{2}} - 5.01$"
      ],
      "text/plain": [
       "49.5*exp(-0.371*(0.179 - x)**2*(0.655*x + 1)**2 - 3.13*(0.15*x - 1 + 0.18*exp(-0.991*x))**2) - 5.01"
      ]
     },
     "metadata": {},
     "output_type": "display_data"
    }
   ],
   "source": [
    "for model in models:\n",
    "    sympy_model = model.sympify(signif=3)\n",
    "    display(sympy_model.as_expr())"
   ]
  },
  {
   "cell_type": "code",
   "execution_count": 109,
   "id": "d2650a05-364b-484a-b369-ade576ab2c31",
   "metadata": {},
   "outputs": [],
   "source": [
    "import sympy as smp\n",
    "from sympy.utilities.lambdify import lambdify\n",
    "\n",
    "sympy_model = models[0].sympify(signif=3)\n",
    "x_symbol = smp.symbols(\"x\")\n",
    "\n",
    "f = lambdify([x_symbol], sympy_model)"
   ]
  },
  {
   "cell_type": "code",
   "execution_count": 110,
   "id": "fd8e88eb-68be-4443-8226-3db2720b475a",
   "metadata": {},
   "outputs": [
    {
     "data": {
      "image/png": "[encoded data removed]",
      "text/plain": [
       "<Figure size 640x480 with 1 Axes>"
      ]
     },
     "metadata": {},
     "output_type": "display_data"
    }
   ],
   "source": [
    "y_model = f(X)\n",
    "\n",
    "plt.plot(X, y, linewidth=1, label=\"Real\", c=\"red\")\n",
    "plt.plot(X, y_model, linewidth=1, c=\"blue\", label=\"Predicted\")\n",
    "plt.legend()\n",
    "plt.ylim(0, 10)\n",
    "plt.xlim(-2, 2)\n",
    "plt.show()"
   ]
  }
 ],
 "metadata": {
  "kernelspec": {
   "display_name": "Python 3 (ipykernel)",
   "language": "python",
   "name": "python3"
  },
  "language_info": {
   "codemirror_mode": {
    "name": "ipython",
    "version": 3
   },
   "file_extension": ".py",
   "mimetype": "text/x-python",
   "name": "python",
   "nbconvert_exporter": "python",
   "pygments_lexer": "ipython3",
   "version": "3.9.13"
  },
  "widgets": {
   "application/vnd.jupyter.widget-state+json": {
    "state": {},
    "version_major": 2,
    "version_minor": 0
   }
  }
 },
 "nbformat": 4,
 "nbformat_minor": 5
}
