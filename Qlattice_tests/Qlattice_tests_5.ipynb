{
 "cells": [
  {
   "cell_type": "code",
   "execution_count": 2,
   "id": "8d68f3c5-02b6-4b3e-8a64-1989679d995d",
   "metadata": {},
   "outputs": [
    {
     "name": "stdout",
     "output_type": "stream",
     "text": [
      "Requirement already satisfied: feyn in d:\\users\\lreis\\anaconda3\\lib\\site-packages (3.0.5)\n",
      "Requirement already satisfied: numpy>=1.19.5 in d:\\users\\lreis\\anaconda3\\lib\\site-packages (from feyn) (1.21.5)\n",
      "Requirement already satisfied: svgwrite in d:\\users\\lreis\\anaconda3\\lib\\site-packages (from feyn) (1.4.3)\n",
      "Requirement already satisfied: scikit-learn in d:\\users\\lreis\\anaconda3\\lib\\site-packages (from feyn) (1.0.2)\n",
      "Requirement already satisfied: sympy in d:\\users\\lreis\\anaconda3\\lib\\site-packages (from feyn) (1.10.1)\n",
      "Requirement already satisfied: lark in d:\\users\\lreis\\anaconda3\\lib\\site-packages (from feyn) (1.1.7)\n",
      "Requirement already satisfied: pandas in d:\\users\\lreis\\anaconda3\\lib\\site-packages (from feyn) (1.4.4)\n",
      "Requirement already satisfied: matplotlib>=3.6.0 in d:\\users\\lreis\\anaconda3\\lib\\site-packages (from feyn) (3.8.0)\n",
      "Requirement already satisfied: pynacl in d:\\users\\lreis\\anaconda3\\lib\\site-packages (from feyn) (1.5.0)\n",
      "Requirement already satisfied: typing-extensions in d:\\users\\lreis\\anaconda3\\lib\\site-packages (from feyn) (4.3.0)\n",
      "Requirement already satisfied: packaging>=20.0 in d:\\users\\lreis\\anaconda3\\lib\\site-packages (from matplotlib>=3.6.0->feyn) (21.3)\n",
      "Requirement already satisfied: pillow>=6.2.0 in d:\\users\\lreis\\anaconda3\\lib\\site-packages (from matplotlib>=3.6.0->feyn) (9.2.0)\n",
      "Requirement already satisfied: fonttools>=4.22.0 in d:\\users\\lreis\\anaconda3\\lib\\site-packages (from matplotlib>=3.6.0->feyn) (4.25.0)\n",
      "Requirement already satisfied: contourpy>=1.0.1 in d:\\users\\lreis\\anaconda3\\lib\\site-packages (from matplotlib>=3.6.0->feyn) (1.1.1)\n",
      "Requirement already satisfied: cycler>=0.10 in d:\\users\\lreis\\anaconda3\\lib\\site-packages (from matplotlib>=3.6.0->feyn) (0.11.0)\n",
      "Requirement already satisfied: kiwisolver>=1.0.1 in d:\\users\\lreis\\anaconda3\\lib\\site-packages (from matplotlib>=3.6.0->feyn) (1.4.2)\n",
      "Requirement already satisfied: python-dateutil>=2.7 in d:\\users\\lreis\\anaconda3\\lib\\site-packages (from matplotlib>=3.6.0->feyn) (2.8.2)\n",
      "Requirement already satisfied: importlib-resources>=3.2.0 in d:\\users\\lreis\\anaconda3\\lib\\site-packages (from matplotlib>=3.6.0->feyn) (6.1.0)\n",
      "Requirement already satisfied: pyparsing>=2.3.1 in d:\\users\\lreis\\anaconda3\\lib\\site-packages (from matplotlib>=3.6.0->feyn) (3.0.9)\n",
      "Requirement already satisfied: pytz>=2020.1 in d:\\users\\lreis\\anaconda3\\lib\\site-packages (from pandas->feyn) (2022.1)\n",
      "Requirement already satisfied: cffi>=1.4.1 in d:\\users\\lreis\\anaconda3\\lib\\site-packages (from pynacl->feyn) (1.15.1)\n",
      "Requirement already satisfied: scipy>=1.1.0 in d:\\users\\lreis\\anaconda3\\lib\\site-packages (from scikit-learn->feyn) (1.9.1)\n",
      "Requirement already satisfied: joblib>=0.11 in d:\\users\\lreis\\anaconda3\\lib\\site-packages (from scikit-learn->feyn) (1.3.2)\n",
      "Requirement already satisfied: threadpoolctl>=2.0.0 in d:\\users\\lreis\\anaconda3\\lib\\site-packages (from scikit-learn->feyn) (2.2.0)\n",
      "Requirement already satisfied: mpmath>=0.19 in d:\\users\\lreis\\anaconda3\\lib\\site-packages (from sympy->feyn) (1.2.1)\n",
      "Requirement already satisfied: pycparser in d:\\users\\lreis\\anaconda3\\lib\\site-packages (from cffi>=1.4.1->pynacl->feyn) (2.21)\n",
      "Requirement already satisfied: zipp>=3.1.0 in d:\\users\\lreis\\anaconda3\\lib\\site-packages (from importlib-resources>=3.2.0->matplotlib>=3.6.0->feyn) (3.8.0)\n",
      "Requirement already satisfied: six>=1.5 in d:\\users\\lreis\\anaconda3\\lib\\site-packages (from python-dateutil>=2.7->matplotlib>=3.6.0->feyn) (1.16.0)\n"
     ]
    }
   ],
   "source": [
    "# !pip install feyn"
   ]
  },
  {
   "cell_type": "code",
   "execution_count": 3,
   "id": "6ea67d31-fa7c-4834-a28e-1a4b1d85fa16",
   "metadata": {},
   "outputs": [
    {
     "name": "stdout",
     "output_type": "stream",
     "text": [
      "This version of feyn and the QLattice is available for academic, personal, and non-commercial use. By using the community version of this software you agree to the terms and conditions which can be found at `https://abzu.ai/eula`.\n"
     ]
    }
   ],
   "source": [
    "import feyn\n",
    "\n",
    "ql = feyn.QLattice(random_seed=42)"
   ]
  },
  {
   "cell_type": "code",
   "execution_count": 4,
   "id": "88c3088f-cc0d-49db-977c-35f8864b76a1",
   "metadata": {},
   "outputs": [],
   "source": [
    "import pandas as pd\n",
    "\n",
    "data = pd.read_csv(\"../Runge-Kutta-Integration/rungekutta_prepared.csv\")"
   ]
  },
  {
   "cell_type": "code",
   "execution_count": 6,
   "id": "898e9af9-bf2a-4d5d-8b6b-dad5461222fe",
   "metadata": {},
   "outputs": [
    {
     "data": {
      "text/html": [
       "<?xml version=\"1.0\" encoding=\"utf-8\" ?>\n",
       "<svg baseProfile=\"full\" height=\"160.0\" preserveAspectRatio=\"none\" version=\"1.1\" viewBox=\"0 0 711 160.0\" width=\"711\" xmlns=\"http://www.w3.org/2000/svg\" xmlns:ev=\"http://www.w3.org/2001/xml-events\" xmlns:xlink=\"http://www.w3.org/1999/xlink\"><defs /><svg class=\"graph\" height=\"155.0\" width=\"711\" x=\"0\" y=\"0\"><defs /><text fill=\"#1E1E1E\" font-family=\"monospace\" font-size=\"12\" text-anchor=\"middle\" x=\"646.0\" y=\"99.0\">Loss: 1.39E-02</text><text fill=\"#1E1E1E\" font-family=\"monospace\" font-size=\"12\" text-anchor=\"start\" x=\"0\" y=\"145.0\">Epoch no. 10/10 - Tried 11933 models - Completed in 50s.</text><rect class=\"node\" fill=\"#00F082\" height=\"35\" stroke=\"#1E1E1E\" stroke-width=\"1\" width=\"90\" x=\"601\" y=\"50.0\"><title>y\n",
       "linear:\n",
       "scale=0.174533\n",
       "scale offset=0.000000\n",
       "w=0.041640\n",
       "bias=-0.0111</title></rect><text fill=\"#1E1E1E\" font-family=\"monospace\" font-size=\"12\" style=\"pointer-events:none\" text-anchor=\"middle\" x=\"646.0\" y=\"71.5\">y</text><text fill=\"#1E1E1E\" font-family=\"monospace\" font-size=\"10\" style=\"pointer-events:none\" text-anchor=\"end\" x=\"689\" y=\"59.0\">0</text><text fill=\"#1E1E1E\" font-family=\"monospace\" font-size=\"10\" style=\"pointer-events:none\" text-anchor=\"start\" x=\"603\" y=\"59.0\">out</text><line stroke=\"#1E1E1E\" x1=\"571\" x2=\"601\" y1=\"67.5\" y2=\"67.5\" /><rect class=\"node\" fill=\"#FAFAFA\" height=\"35\" stroke=\"#FF1EC8\" stroke-width=\"1\" width=\"90\" x=\"481\" y=\"50.0\"><title>multiply</title></rect><text fill=\"#1E1E1E\" font-family=\"monospace\" font-size=\"12\" style=\"pointer-events:none\" text-anchor=\"middle\" x=\"526.0\" y=\"71.5\">multiply</text><text fill=\"#1E1E1E\" font-family=\"monospace\" font-size=\"10\" style=\"pointer-events:none\" text-anchor=\"end\" x=\"569\" y=\"59.0\">1</text><line stroke=\"#1E1E1E\" x1=\"451\" x2=\"481\" y1=\"37.5\" y2=\"58.5\" /><line stroke=\"#1E1E1E\" x1=\"451\" x2=\"481\" y1=\"97.5\" y2=\"76.5\" /><rect class=\"node\" fill=\"#FAFAFA\" height=\"35\" stroke=\"#FF1EC8\" stroke-width=\"1\" width=\"90\" x=\"361\" y=\"20.0\"><title>exp</title></rect><text fill=\"#1E1E1E\" font-family=\"monospace\" font-size=\"12\" style=\"pointer-events:none\" text-anchor=\"middle\" x=\"406.0\" y=\"41.5\">exp</text><text fill=\"#1E1E1E\" font-family=\"monospace\" font-size=\"10\" style=\"pointer-events:none\" text-anchor=\"end\" x=\"449\" y=\"29.0\">2</text><line stroke=\"#1E1E1E\" x1=\"331\" x2=\"361\" y1=\"67.5\" y2=\"37.5\" /><rect class=\"node\" fill=\"#FAFAFA\" height=\"35\" stroke=\"#FF1EC8\" stroke-width=\"1\" width=\"90\" x=\"241\" y=\"50.0\"><title>add</title></rect><text fill=\"#1E1E1E\" font-family=\"monospace\" font-size=\"12\" style=\"pointer-events:none\" text-anchor=\"middle\" x=\"286.0\" y=\"71.5\">add</text><text fill=\"#1E1E1E\" font-family=\"monospace\" font-size=\"10\" style=\"pointer-events:none\" text-anchor=\"end\" x=\"329\" y=\"59.0\">3</text><line stroke=\"#1E1E1E\" x1=\"211\" x2=\"241\" y1=\"37.5\" y2=\"58.5\" /><line stroke=\"#1E1E1E\" x1=\"211\" x2=\"241\" y1=\"97.5\" y2=\"76.5\" /><rect class=\"node\" fill=\"#FAFAFA\" height=\"35\" stroke=\"#FF1EC8\" stroke-width=\"1\" width=\"90\" x=\"121\" y=\"20.0\"><title>inverse</title></rect><text fill=\"#1E1E1E\" font-family=\"monospace\" font-size=\"12\" style=\"pointer-events:none\" text-anchor=\"middle\" x=\"166.0\" y=\"41.5\">inverse</text><text fill=\"#1E1E1E\" font-family=\"monospace\" font-size=\"10\" style=\"pointer-events:none\" text-anchor=\"end\" x=\"209\" y=\"29.0\">4</text><line stroke=\"#1E1E1E\" x1=\"91\" x2=\"121\" y1=\"37.5\" y2=\"37.5\" /><rect class=\"node\" fill=\"#00F082\" height=\"35\" stroke=\"#1E1E1E\" stroke-width=\"1\" width=\"90\" x=\"1\" y=\"20.0\"><title>x\n",
       "linear:\n",
       "scale=0.100050\n",
       "scale offset=9.995000\n",
       "w=-0.486047\n",
       "bias=0.0100</title></rect><text fill=\"#1E1E1E\" font-family=\"monospace\" font-size=\"12\" style=\"pointer-events:none\" text-anchor=\"middle\" x=\"46.0\" y=\"41.5\">x</text><text fill=\"#1E1E1E\" font-family=\"monospace\" font-size=\"10\" style=\"pointer-events:none\" text-anchor=\"end\" x=\"89\" y=\"29.0\">5</text><text fill=\"#1E1E1E\" font-family=\"monospace\" font-size=\"10\" style=\"pointer-events:none\" text-anchor=\"start\" x=\"3\" y=\"29.0\">num</text><rect class=\"node\" fill=\"#FAFAFA\" height=\"35\" stroke=\"#FF1EC8\" stroke-width=\"1\" width=\"90\" x=\"121\" y=\"80.0\"><title>log</title></rect><text fill=\"#1E1E1E\" font-family=\"monospace\" font-size=\"12\" style=\"pointer-events:none\" text-anchor=\"middle\" x=\"166.0\" y=\"101.5\">log</text><text fill=\"#1E1E1E\" font-family=\"monospace\" font-size=\"10\" style=\"pointer-events:none\" text-anchor=\"end\" x=\"209\" y=\"89.0\">6</text><line stroke=\"#1E1E1E\" x1=\"91\" x2=\"121\" y1=\"97.5\" y2=\"97.5\" /><rect class=\"node\" fill=\"#00F082\" height=\"35\" stroke=\"#1E1E1E\" stroke-width=\"1\" width=\"90\" x=\"1\" y=\"80.0\"><title>x\n",
       "linear:\n",
       "scale=0.100050\n",
       "scale offset=9.995000\n",
       "w=-1.208857\n",
       "bias=-2.1302</title></rect><text fill=\"#1E1E1E\" font-family=\"monospace\" font-size=\"12\" style=\"pointer-events:none\" text-anchor=\"middle\" x=\"46.0\" y=\"101.5\">x</text><text fill=\"#1E1E1E\" font-family=\"monospace\" font-size=\"10\" style=\"pointer-events:none\" text-anchor=\"end\" x=\"89\" y=\"89.0\">7</text><text fill=\"#1E1E1E\" font-family=\"monospace\" font-size=\"10\" style=\"pointer-events:none\" text-anchor=\"start\" x=\"3\" y=\"89.0\">num</text><rect class=\"node\" fill=\"#00F082\" height=\"35\" stroke=\"#1E1E1E\" stroke-width=\"1\" width=\"90\" x=\"361\" y=\"80.0\"><title>x\n",
       "linear:\n",
       "scale=0.100050\n",
       "scale offset=9.995000\n",
       "w=1.267452\n",
       "bias=0.0548</title></rect><text fill=\"#1E1E1E\" font-family=\"monospace\" font-size=\"12\" style=\"pointer-events:none\" text-anchor=\"middle\" x=\"406.0\" y=\"101.5\">x</text><text fill=\"#1E1E1E\" font-family=\"monospace\" font-size=\"10\" style=\"pointer-events:none\" text-anchor=\"end\" x=\"449\" y=\"89.0\">8</text><text fill=\"#1E1E1E\" font-family=\"monospace\" font-size=\"10\" style=\"pointer-events:none\" text-anchor=\"start\" x=\"363\" y=\"89.0\">num</text></svg></svg>"
      ],
      "text/plain": [
       "<IPython.core.display.HTML object>"
      ]
     },
     "metadata": {},
     "output_type": "display_data"
    }
   ],
   "source": [
    "functions = [\"add\", \"multiply\", \"exp\", \"log\", \"inverse\", \"sqrt\"]\n",
    "\n",
    "models = ql.auto_run(data, output_name='y', function_names=functions)"
   ]
  },
  {
   "cell_type": "code",
   "execution_count": null,
   "id": "27915b56-afda-4e13-8655-fc8ef8324032",
   "metadata": {},
   "outputs": [],
   "source": [
    "sympy_model = models[0].sympify(signif=3)"
   ]
  },
  {
   "cell_type": "code",
   "execution_count": null,
   "id": "3104eb2f-cae9-44c4-9a7b-0fe2b90b0ecf",
   "metadata": {},
   "outputs": [],
   "source": [
    "sympy_model.as_expr()"
   ]
  },
  {
   "cell_type": "code",
   "execution_count": null,
   "id": "d9076484-0979-46fe-8304-67c40904ab5e",
   "metadata": {},
   "outputs": [],
   "source": [
    "import sympy as smp\n",
    "from sympy.utilities.lambdify import lambdify\n",
    "\n",
    "x_symbol = smp.symbols(\"x\")\n",
    "\n",
    "f = lambdify([x_symbol], sympy_model)"
   ]
  },
  {
   "cell_type": "code",
   "execution_count": null,
   "id": "87dbecba-05a5-4770-8aa5-75532e9e5f18",
   "metadata": {},
   "outputs": [],
   "source": [
    "import numpy as np\n",
    "import matplotlib.pyplot as plt\n",
    "\n",
    "x = data.x\n",
    "y_model = f(x)\n",
    "y_real = data.y\n",
    "\n",
    "plt.plot(x, y_model, label=\"predicted\", c=\"red\", linewidth=1)\n",
    "plt.plot(x, y_real, label=\"real\", linewidth=1)\n",
    "plt.legend()\n",
    "plt.show()"
   ]
  },
  {
   "cell_type": "code",
   "execution_count": null,
   "id": "37282ff9-0730-4a72-8b52-a6b5d12b0445",
   "metadata": {},
   "outputs": [],
   "source": [
    "for model in models:\n",
    "    display(model)"
   ]
  }
 ],
 "metadata": {
  "kernelspec": {
   "display_name": "Python 3 (ipykernel)",
   "language": "python",
   "name": "python3"
  },
  "language_info": {
   "codemirror_mode": {
    "name": "ipython",
    "version": 3
   },
   "file_extension": ".py",
   "mimetype": "text/x-python",
   "name": "python",
   "nbconvert_exporter": "python",
   "pygments_lexer": "ipython3",
   "version": "3.9.13"
  },
  "widgets": {
   "application/vnd.jupyter.widget-state+json": {
    "state": {},
    "version_major": 2,
    "version_minor": 0
   }
  }
 },
 "nbformat": 4,
 "nbformat_minor": 5
}
